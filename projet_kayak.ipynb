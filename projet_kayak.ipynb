{
 "cells": [
  {
   "cell_type": "markdown",
   "metadata": {},
   "source": [
    "Imports"
   ]
  },
  {
   "cell_type": "code",
   "execution_count": 1,
   "metadata": {},
   "outputs": [],
   "source": [
    "import requests\n",
    "import json\n",
    "import pandas as pd\n",
    "import os \n",
    "\n",
    "import plotly.express as px\n",
    "\n"
   ]
  },
  {
   "cell_type": "markdown",
   "metadata": {},
   "source": [
    "### List of cities we are interested in"
   ]
  },
  {
   "cell_type": "code",
   "execution_count": 2,
   "metadata": {},
   "outputs": [],
   "source": [
    "cities = [\"Mont Saint Michel\",\n",
    "\"St Malo\",\n",
    "\"Bayeux\",\n",
    "\"Le Havre\",\n",
    "\"Rouen\",\n",
    "\"Paris\",\n",
    "\"Amiens\",\n",
    "\"Lille\",\n",
    "\"Strasbourg\",\n",
    "\"Chateau du Haut Koenigsbourg\",\n",
    "\"Colmar\",\n",
    "\"Eguisheim\",\n",
    "\"Besancon\",\n",
    "\"Dijon\",\n",
    "\"Annecy\",\n",
    "\"Grenoble\",\n",
    "\"Lyon\",\n",
    "\"Gorges du Verdon\",\n",
    "\"Bormes les Mimosas\",\n",
    "\"Cassis\",\n",
    "\"Marseille\",\n",
    "\"Aix en Provence\",\n",
    "\"Avignon\",\n",
    "\"Uzes\",\n",
    "\"Nimes\",\n",
    "\"Aigues Mortes\",\n",
    "\"Saintes Maries de la mer\",\n",
    "\"Collioure\",\n",
    "\"Carcassonne\",\n",
    "\"Ariege\",\n",
    "\"Toulouse\",\n",
    "\"Montauban\",\n",
    "\"Biarritz\",\n",
    "\"Bayonne\",\n",
    "\"La Rochelle\"]\n",
    "\n"
   ]
  },
  {
   "cell_type": "markdown",
   "metadata": {},
   "source": [
    "### We look for the cities coordinates through a get request"
   ]
  },
  {
   "cell_type": "code",
   "execution_count": 5,
   "metadata": {},
   "outputs": [
    {
     "name": "stdout",
     "output_type": "stream",
     "text": [
      "Number of cities 35\n"
     ]
    }
   ],
   "source": [
    "responses = []\n",
    "\n",
    "for city in cities:\n",
    "    response = requests.get(f'https://nominatim.openstreetmap.org/search?q={city}&format=json')\n",
    "    if response.status_code == 200:\n",
    "        city_info = response.json()\n",
    "        responses.append(city_info)\n",
    "    else:\n",
    "        print(f\"Failed to get data for {city}\")\n",
    "\n",
    "print(f'Number of cities',len(responses))       "
   ]
  },
  {
   "cell_type": "markdown",
   "metadata": {},
   "source": [
    "We look at the results of the first request"
   ]
  },
  {
   "cell_type": "code",
   "execution_count": 6,
   "metadata": {},
   "outputs": [
    {
     "data": {
      "text/plain": [
       "[[{'place_id': 247828331,\n",
       "   'licence': 'Data © OpenStreetMap contributors, ODbL 1.0. http://osm.org/copyright',\n",
       "   'osm_type': 'way',\n",
       "   'osm_id': 211285890,\n",
       "   'lat': '48.6359541',\n",
       "   'lon': '-1.511459954959514',\n",
       "   'class': 'tourism',\n",
       "   'type': 'attraction',\n",
       "   'place_rank': 30,\n",
       "   'importance': 0.45543655678157396,\n",
       "   'addresstype': 'tourism',\n",
       "   'name': 'Mont Saint-Michel',\n",
       "   'display_name': 'Mont Saint-Michel, Grand Degré, Le Mont-Saint-Michel, Avranches, Manche, Normandie, France métropolitaine, 50170, France',\n",
       "   'boundingbox': ['48.6349172', '48.6370310', '-1.5133292', '-1.5094796']},\n",
       "  {'place_id': 318698911,\n",
       "   'licence': 'Data © OpenStreetMap contributors, ODbL 1.0. http://osm.org/copyright',\n",
       "   'osm_type': 'relation',\n",
       "   'osm_id': 7360493,\n",
       "   'lat': '46.7798558',\n",
       "   'lon': '-75.336261',\n",
       "   'class': 'boundary',\n",
       "   'type': 'administrative',\n",
       "   'place_rank': 16,\n",
       "   'importance': 0.4301414688716276,\n",
       "   'addresstype': 'village',\n",
       "   'name': 'Mont-Saint-Michel',\n",
       "   'display_name': 'Mont-Saint-Michel, Antoine-Labelle, Laurentides, Québec, J0W 1P0, Canada',\n",
       "   'boundingbox': ['46.7308335', '46.9105744', '-75.4379111', '-75.1592812']},\n",
       "  {'place_id': 69531254,\n",
       "   'licence': 'Data © OpenStreetMap contributors, ODbL 1.0. http://osm.org/copyright',\n",
       "   'osm_type': 'node',\n",
       "   'osm_id': 1581196576,\n",
       "   'lat': '43.8496443',\n",
       "   'lon': '7.0938927',\n",
       "   'class': 'natural',\n",
       "   'type': 'peak',\n",
       "   'place_rank': 18,\n",
       "   'importance': 0.30000999999999994,\n",
       "   'addresstype': 'peak',\n",
       "   'name': 'Mont Saint-Michel',\n",
       "   'display_name': \"Mont Saint-Michel, Les Ferres, Grasse, Alpes-Maritimes, Provence-Alpes-Côte d'Azur, France métropolitaine, 06510, France\",\n",
       "   'boundingbox': ['43.8495943', '43.8496943', '7.0938427', '7.0939427']},\n",
       "  {'place_id': 317491496,\n",
       "   'licence': 'Data © OpenStreetMap contributors, ODbL 1.0. http://osm.org/copyright',\n",
       "   'osm_type': 'node',\n",
       "   'osm_id': 5251907729,\n",
       "   'lat': '46.0539982',\n",
       "   'lon': '-71.8872247',\n",
       "   'class': 'natural',\n",
       "   'type': 'peak',\n",
       "   'place_rank': 18,\n",
       "   'importance': 0.30000999999999994,\n",
       "   'addresstype': 'peak',\n",
       "   'name': 'Mont Saint-Michel',\n",
       "   'display_name': \"Mont Saint-Michel, Saint-Christophe-d'Arthabaska, Arthabaska, Centre-du-Québec, Québec, G6S 1J1, Canada\",\n",
       "   'boundingbox': ['46.0539482', '46.0540482', '-71.8872747', '-71.8871747']},\n",
       "  {'place_id': 247586428,\n",
       "   'licence': 'Data © OpenStreetMap contributors, ODbL 1.0. http://osm.org/copyright',\n",
       "   'osm_type': 'node',\n",
       "   'osm_id': 5972710523,\n",
       "   'lat': '48.6360211',\n",
       "   'lon': '-1.5114947',\n",
       "   'class': 'natural',\n",
       "   'type': 'peak',\n",
       "   'place_rank': 18,\n",
       "   'importance': 0.30000999999999994,\n",
       "   'addresstype': 'peak',\n",
       "   'name': 'Mont Saint-Michel',\n",
       "   'display_name': 'Mont Saint-Michel, Le Mont-Saint-Michel, Avranches, Manche, Normandie, France métropolitaine, 50170, France',\n",
       "   'boundingbox': ['48.6359711', '48.6360711', '-1.5115447', '-1.5114447']},\n",
       "  {'place_id': 69279522,\n",
       "   'licence': 'Data © OpenStreetMap contributors, ODbL 1.0. http://osm.org/copyright',\n",
       "   'osm_type': 'node',\n",
       "   'osm_id': 9581659906,\n",
       "   'lat': '43.897709',\n",
       "   'lon': '7.3644173',\n",
       "   'class': 'natural',\n",
       "   'type': 'peak',\n",
       "   'place_rank': 18,\n",
       "   'importance': 0.30000999999999994,\n",
       "   'addresstype': 'peak',\n",
       "   'name': 'Mont Saint-Michel',\n",
       "   'display_name': \"Mont Saint-Michel, Lucéram, Nice, Alpes-Maritimes, Provence-Alpes-Côte d'Azur, France métropolitaine, 06440, France\",\n",
       "   'boundingbox': ['43.8976590', '43.8977590', '7.3643673', '7.3644673']},\n",
       "  {'place_id': 317549110,\n",
       "   'licence': 'Data © OpenStreetMap contributors, ODbL 1.0. http://osm.org/copyright',\n",
       "   'osm_type': 'node',\n",
       "   'osm_id': 1872758730,\n",
       "   'lat': '46.3000984',\n",
       "   'lon': '-74.3987549',\n",
       "   'class': 'natural',\n",
       "   'type': 'peak',\n",
       "   'place_rank': 18,\n",
       "   'importance': 0.30000999999999994,\n",
       "   'addresstype': 'peak',\n",
       "   'name': 'Mont Saint-Michel',\n",
       "   'display_name': 'Mont Saint-Michel, Saint-Donat, Matawinie, Lanaudière, Québec, Canada',\n",
       "   'boundingbox': ['46.3000484', '46.3001484', '-74.3988049', '-74.3987049']},\n",
       "  {'place_id': 103304583,\n",
       "   'licence': 'Data © OpenStreetMap contributors, ODbL 1.0. http://osm.org/copyright',\n",
       "   'osm_type': 'node',\n",
       "   'osm_id': 1725899227,\n",
       "   'lat': '48.7751621',\n",
       "   'lon': '7.3628623',\n",
       "   'class': 'tourism',\n",
       "   'type': 'attraction',\n",
       "   'place_rank': 30,\n",
       "   'importance': 0.2208608703737879,\n",
       "   'addresstype': 'tourism',\n",
       "   'name': 'Mont Saint-Michel (Alsace)',\n",
       "   'display_name': \"Mont Saint-Michel (Alsace), Chemin d'Ernolsheim, Saint-Jean-Saverne, Saverne, Bas-Rhin, Grand Est, France métropolitaine, 67700, France\",\n",
       "   'boundingbox': ['48.7751121', '48.7752121', '7.3628123', '7.3629123']},\n",
       "  {'place_id': 392574841,\n",
       "   'licence': 'Data © OpenStreetMap contributors, ODbL 1.0. http://osm.org/copyright',\n",
       "   'osm_type': 'node',\n",
       "   'osm_id': 11981568929,\n",
       "   'lat': '48.690668',\n",
       "   'lon': '5.8818463',\n",
       "   'class': 'natural',\n",
       "   'type': 'peak',\n",
       "   'place_rank': 18,\n",
       "   'importance': 0.16006674219882505,\n",
       "   'addresstype': 'peak',\n",
       "   'name': 'Mont Saint-Michel',\n",
       "   'display_name': 'Mont Saint-Michel, Toul, Meurthe-et-Moselle, Grand Est, France métropolitaine, 54200, France',\n",
       "   'boundingbox': ['48.6906180', '48.6907180', '5.8817963', '5.8818963']},\n",
       "  {'place_id': 391481258,\n",
       "   'licence': 'Data © OpenStreetMap contributors, ODbL 1.0. http://osm.org/copyright',\n",
       "   'osm_type': 'node',\n",
       "   'osm_id': 11964639486,\n",
       "   'lat': '48.7747476',\n",
       "   'lon': '7.359792',\n",
       "   'class': 'natural',\n",
       "   'type': 'peak',\n",
       "   'place_rank': 18,\n",
       "   'importance': 0.16006415884641792,\n",
       "   'addresstype': 'peak',\n",
       "   'name': 'Mont Saint-Michel',\n",
       "   'display_name': 'Mont Saint-Michel, Saint-Jean-Saverne, Saverne, Bas-Rhin, Grand Est, France métropolitaine, 67700, France',\n",
       "   'boundingbox': ['48.7746976', '48.7747976', '7.3597420', '7.3598420']}],\n",
       " [{'place_id': 247779061,\n",
       "   'licence': 'Data © OpenStreetMap contributors, ODbL 1.0. http://osm.org/copyright',\n",
       "   'osm_type': 'relation',\n",
       "   'osm_id': 905534,\n",
       "   'lat': '48.649518',\n",
       "   'lon': '-2.0260409',\n",
       "   'class': 'boundary',\n",
       "   'type': 'administrative',\n",
       "   'place_rank': 16,\n",
       "   'importance': 0.6170333686756257,\n",
       "   'addresstype': 'town',\n",
       "   'name': 'Saint-Malo',\n",
       "   'display_name': 'Saint-Malo, Ille-et-Vilaine, Bretagne, France métropolitaine, 35400, France',\n",
       "   'boundingbox': ['48.5979853', '48.6949736', '-2.0765246', '-1.9367259']},\n",
       "  {'place_id': 326624641,\n",
       "   'licence': 'Data © OpenStreetMap contributors, ODbL 1.0. http://osm.org/copyright',\n",
       "   'osm_type': 'node',\n",
       "   'osm_id': 1694065713,\n",
       "   'lat': '49.314695',\n",
       "   'lon': '-96.9538228',\n",
       "   'class': 'place',\n",
       "   'type': 'village',\n",
       "   'place_rank': 19,\n",
       "   'importance': 0.2850481715152184,\n",
       "   'addresstype': 'village',\n",
       "   'name': 'St. Malo',\n",
       "   'display_name': 'St. Malo, Rural Municipality of De Salaberry, Manitoba, R0A 1T0, Canada',\n",
       "   'boundingbox': ['49.2946950', '49.3346950', '-96.9738228', '-96.9338228']},\n",
       "  {'place_id': 247178783,\n",
       "   'licence': 'Data © OpenStreetMap contributors, ODbL 1.0. http://osm.org/copyright',\n",
       "   'osm_type': 'relation',\n",
       "   'osm_id': 1653637,\n",
       "   'lat': '48.4904728',\n",
       "   'lon': '-1.7421554637978962',\n",
       "   'class': 'boundary',\n",
       "   'type': 'administrative',\n",
       "   'place_rank': 14,\n",
       "   'importance': 0.5038359135553251,\n",
       "   'addresstype': 'municipality',\n",
       "   'name': 'Saint-Malo',\n",
       "   'display_name': 'Saint-Malo, Ille-et-Vilaine, Bretagne, France métropolitaine, France',\n",
       "   'boundingbox': ['48.2669570', '48.7220079', '-2.1619838', '-1.4850797']},\n",
       "  {'place_id': 317428096,\n",
       "   'licence': 'Data © OpenStreetMap contributors, ODbL 1.0. http://osm.org/copyright',\n",
       "   'osm_type': 'relation',\n",
       "   'osm_id': 7953158,\n",
       "   'lat': '45.1997482',\n",
       "   'lon': '-71.5001662',\n",
       "   'class': 'boundary',\n",
       "   'type': 'administrative',\n",
       "   'place_rank': 16,\n",
       "   'importance': 0.40269308307498786,\n",
       "   'addresstype': 'village',\n",
       "   'name': 'Saint-Malo',\n",
       "   'display_name': 'Saint-Malo, Coaticook (MRC), Estrie, Québec, Canada',\n",
       "   'boundingbox': ['45.1594179', '45.2408624', '-71.6047721', '-71.3973478']}],\n",
       " [{'place_id': 246347430,\n",
       "   'licence': 'Data © OpenStreetMap contributors, ODbL 1.0. http://osm.org/copyright',\n",
       "   'osm_type': 'relation',\n",
       "   'osm_id': 145776,\n",
       "   'lat': '49.2764624',\n",
       "   'lon': '-0.7024738',\n",
       "   'class': 'boundary',\n",
       "   'type': 'administrative',\n",
       "   'place_rank': 16,\n",
       "   'importance': 0.5727003853621927,\n",
       "   'addresstype': 'town',\n",
       "   'name': 'Bayeux',\n",
       "   'display_name': 'Bayeux, Calvados, Normandie, France métropolitaine, 14400, France',\n",
       "   'boundingbox': ['49.2608124', '49.2934736', '-0.7275671', '-0.6757378']},\n",
       "  {'place_id': 246657444,\n",
       "   'licence': 'Data © OpenStreetMap contributors, ODbL 1.0. http://osm.org/copyright',\n",
       "   'osm_type': 'relation',\n",
       "   'osm_id': 1656892,\n",
       "   'lat': '49.2455634',\n",
       "   'lon': '-0.7916770441791112',\n",
       "   'class': 'boundary',\n",
       "   'type': 'administrative',\n",
       "   'place_rank': 14,\n",
       "   'importance': 0.37693710599680214,\n",
       "   'addresstype': 'municipality',\n",
       "   'name': 'Bayeux',\n",
       "   'display_name': 'Bayeux, Calvados, Normandie, France métropolitaine, France',\n",
       "   'boundingbox': ['49.0931773', '49.3978952', '-1.1412392', '-0.4113237']},\n",
       "  {'place_id': 396194567,\n",
       "   'licence': 'Data © OpenStreetMap contributors, ODbL 1.0. http://osm.org/copyright',\n",
       "   'osm_type': 'relation',\n",
       "   'osm_id': 301421,\n",
       "   'lat': '-7.1301631',\n",
       "   'lon': '-34.936532',\n",
       "   'class': 'boundary',\n",
       "   'type': 'administrative',\n",
       "   'place_rank': 16,\n",
       "   'importance': 0.18671666819256882,\n",
       "   'addresstype': 'municipality',\n",
       "   'name': 'Bayeux',\n",
       "   'display_name': 'Bayeux, Região Geográfica Imediata de João Pessoa, Região Metropolitana de João Pessoa, Região Geográfica Intermediária de João Pessoa, Paraíba, Região Nordeste, Brasil',\n",
       "   'boundingbox': ['-7.1710534', '-7.0796241', '-34.9570692', '-34.8912264']},\n",
       "  {'place_id': 396194569,\n",
       "   'licence': 'Data © OpenStreetMap contributors, ODbL 1.0. http://osm.org/copyright',\n",
       "   'osm_type': 'relation',\n",
       "   'osm_id': 6208943,\n",
       "   'lat': '-7.12523485',\n",
       "   'lon': '-34.922639892570515',\n",
       "   'class': 'boundary',\n",
       "   'type': 'administrative',\n",
       "   'place_rank': 18,\n",
       "   'importance': 0.16005000152590218,\n",
       "   'addresstype': 'city_district',\n",
       "   'name': 'Bayeux',\n",
       "   'display_name': 'Bayeux, Região Geográfica Imediata de João Pessoa, Região Metropolitana de João Pessoa, Região Geográfica Intermediária de João Pessoa, Paraíba, Região Nordeste, Brasil',\n",
       "   'boundingbox': ['-7.1710534', '-7.0796241', '-34.9570692', '-34.8912264']}],\n",
       " [{'place_id': 83892890,\n",
       "   'licence': 'Data © OpenStreetMap contributors, ODbL 1.0. http://osm.org/copyright',\n",
       "   'osm_type': 'relation',\n",
       "   'osm_id': 104492,\n",
       "   'lat': '49.4938975',\n",
       "   'lon': '0.1079732',\n",
       "   'class': 'boundary',\n",
       "   'type': 'administrative',\n",
       "   'place_rank': 16,\n",
       "   'importance': 0.6223325741883644,\n",
       "   'addresstype': 'city',\n",
       "   'name': 'Le Havre',\n",
       "   'display_name': 'Le Havre, Seine-Maritime, Normandie, France métropolitaine, France',\n",
       "   'boundingbox': ['49.4516697', '49.5401463', '0.0667992', '0.1955556']},\n",
       "  {'place_id': 84229919,\n",
       "   'licence': 'Data © OpenStreetMap contributors, ODbL 1.0. http://osm.org/copyright',\n",
       "   'osm_type': 'relation',\n",
       "   'osm_id': 3012370,\n",
       "   'lat': '49.627549200000004',\n",
       "   'lon': '0.3921241327294534',\n",
       "   'class': 'boundary',\n",
       "   'type': 'administrative',\n",
       "   'place_rank': 14,\n",
       "   'importance': 0.3752824455605189,\n",
       "   'addresstype': 'municipality',\n",
       "   'name': 'Le Havre',\n",
       "   'display_name': 'Le Havre, Seine-Maritime, Normandie, France métropolitaine, France',\n",
       "   'boundingbox': ['49.4287837', '49.8262540', '0.0657702', '0.6917633']},\n",
       "  {'place_id': 247406222,\n",
       "   'licence': 'Data © OpenStreetMap contributors, ODbL 1.0. http://osm.org/copyright',\n",
       "   'osm_type': 'node',\n",
       "   'osm_id': 2934385149,\n",
       "   'lat': '48.5561794',\n",
       "   'lon': '-1.8847792',\n",
       "   'class': 'place',\n",
       "   'type': 'hamlet',\n",
       "   'place_rank': 20,\n",
       "   'importance': 0.25000999999999995,\n",
       "   'addresstype': 'hamlet',\n",
       "   'name': 'Le Havre',\n",
       "   'display_name': 'Le Havre, Miniac-Morvan, Saint-Malo, Ille-et-Vilaine, Bretagne, France métropolitaine, 35540, France',\n",
       "   'boundingbox': ['48.5361794', '48.5761794', '-1.9047792', '-1.8647792']},\n",
       "  {'place_id': 246363725,\n",
       "   'licence': 'Data © OpenStreetMap contributors, ODbL 1.0. http://osm.org/copyright',\n",
       "   'osm_type': 'node',\n",
       "   'osm_id': 9445672954,\n",
       "   'lat': '49.1680287',\n",
       "   'lon': '-0.2084173',\n",
       "   'class': 'place',\n",
       "   'type': 'hamlet',\n",
       "   'place_rank': 20,\n",
       "   'importance': 0.25000999999999995,\n",
       "   'addresstype': 'hamlet',\n",
       "   'name': 'Le Havre',\n",
       "   'display_name': 'Le Havre, Banneville-la-Campagne, Caen, Calvados, Normandie, France métropolitaine, 14940, France',\n",
       "   'boundingbox': ['49.1480287', '49.1880287', '-0.2284173', '-0.1884173']}],\n",
       " [{'place_id': 84448726,\n",
       "   'licence': 'Data © OpenStreetMap contributors, ODbL 1.0. http://osm.org/copyright',\n",
       "   'osm_type': 'relation',\n",
       "   'osm_id': 75628,\n",
       "   'lat': '49.4404591',\n",
       "   'lon': '1.0939658',\n",
       "   'class': 'boundary',\n",
       "   'type': 'administrative',\n",
       "   'place_rank': 16,\n",
       "   'importance': 0.6847400787060492,\n",
       "   'addresstype': 'city',\n",
       "   'name': 'Rouen',\n",
       "   'display_name': 'Rouen, Seine-Maritime, Normandie, France métropolitaine, France',\n",
       "   'boundingbox': ['49.4172001', '49.4652601', '1.0300648', '1.1521157']},\n",
       "  {'place_id': 84156857,\n",
       "   'licence': 'Data © OpenStreetMap contributors, ODbL 1.0. http://osm.org/copyright',\n",
       "   'osm_type': 'relation',\n",
       "   'osm_id': 3018659,\n",
       "   'lat': '49.518435',\n",
       "   'lon': '1.0221643441483266',\n",
       "   'class': 'boundary',\n",
       "   'type': 'administrative',\n",
       "   'place_rank': 14,\n",
       "   'importance': 0.5447629955144754,\n",
       "   'addresstype': 'municipality',\n",
       "   'name': 'Rouen',\n",
       "   'display_name': 'Rouen, Seine-Maritime, Normandie, France métropolitaine, France',\n",
       "   'boundingbox': ['49.2506708', '49.7851695', '0.6000692', '1.4521223']}],\n",
       " [{'place_id': 82297359,\n",
       "   'licence': 'Data © OpenStreetMap contributors, ODbL 1.0. http://osm.org/copyright',\n",
       "   'osm_type': 'relation',\n",
       "   'osm_id': 71525,\n",
       "   'lat': '48.8534951',\n",
       "   'lon': '2.3483915',\n",
       "   'class': 'boundary',\n",
       "   'type': 'administrative',\n",
       "   'place_rank': 12,\n",
       "   'importance': 0.8845663630228834,\n",
       "   'addresstype': 'city',\n",
       "   'name': 'Paris',\n",
       "   'display_name': 'Paris, Île-de-France, France métropolitaine, France',\n",
       "   'boundingbox': ['48.8155755', '48.9021560', '2.2241220', '2.4697602']},\n",
       "  {'place_id': 82615589,\n",
       "   'licence': 'Data © OpenStreetMap contributors, ODbL 1.0. http://osm.org/copyright',\n",
       "   'osm_type': 'relation',\n",
       "   'osm_id': 7444,\n",
       "   'lat': '48.8588897',\n",
       "   'lon': '2.3200410217200766',\n",
       "   'class': 'boundary',\n",
       "   'type': 'administrative',\n",
       "   'place_rank': 15,\n",
       "   'importance': 0.8845663630228834,\n",
       "   'addresstype': 'suburb',\n",
       "   'name': 'Paris',\n",
       "   'display_name': 'Paris, Île-de-France, France métropolitaine, France',\n",
       "   'boundingbox': ['48.8155755', '48.9021560', '2.2241220', '2.4697602']},\n",
       "  {'place_id': 83151333,\n",
       "   'licence': 'Data © OpenStreetMap contributors, ODbL 1.0. http://osm.org/copyright',\n",
       "   'osm_type': 'relation',\n",
       "   'osm_id': 1641193,\n",
       "   'lat': '48.8588897',\n",
       "   'lon': '2.3200410217200766',\n",
       "   'class': 'boundary',\n",
       "   'type': 'administrative',\n",
       "   'place_rank': 14,\n",
       "   'importance': 0.4533770294842712,\n",
       "   'addresstype': 'city_district',\n",
       "   'name': 'Paris',\n",
       "   'display_name': 'Paris, Île-de-France, France métropolitaine, France',\n",
       "   'boundingbox': ['48.8155755', '48.9021560', '2.2241220', '2.4697602']}],\n",
       " [{'place_id': 393031265,\n",
       "   'licence': 'Data © OpenStreetMap contributors, ODbL 1.0. http://osm.org/copyright',\n",
       "   'osm_type': 'relation',\n",
       "   'osm_id': 114347,\n",
       "   'lat': '49.8941708',\n",
       "   'lon': '2.2956951',\n",
       "   'class': 'boundary',\n",
       "   'type': 'administrative',\n",
       "   'place_rank': 16,\n",
       "   'importance': 0.6648492984548688,\n",
       "   'addresstype': 'city',\n",
       "   'name': 'Amiens',\n",
       "   'display_name': 'Amiens, Somme, Hauts-de-France, France métropolitaine, France',\n",
       "   'boundingbox': ['49.8468370', '49.9505487', '2.2235574', '2.3457767']},\n",
       "  {'place_id': 84636926,\n",
       "   'licence': 'Data © OpenStreetMap contributors, ODbL 1.0. http://osm.org/copyright',\n",
       "   'osm_type': 'relation',\n",
       "   'osm_id': 3257541,\n",
       "   'lat': '49.9610783',\n",
       "   'lon': '2.2518180697364363',\n",
       "   'class': 'boundary',\n",
       "   'type': 'administrative',\n",
       "   'place_rank': 14,\n",
       "   'importance': 0.5592728543453527,\n",
       "   'addresstype': 'municipality',\n",
       "   'name': 'Amiens',\n",
       "   'display_name': 'Amiens, Somme, Hauts-de-France, France métropolitaine, France',\n",
       "   'boundingbox': ['49.6831180', '50.2390386', '1.6355161', '2.6799559']},\n",
       "  {'place_id': 22706857,\n",
       "   'licence': 'Data © OpenStreetMap contributors, ODbL 1.0. http://osm.org/copyright',\n",
       "   'osm_type': 'relation',\n",
       "   'osm_id': 11677965,\n",
       "   'lat': '-28.5993455',\n",
       "   'lon': '151.81731556974896',\n",
       "   'class': 'boundary',\n",
       "   'type': 'administrative',\n",
       "   'place_rank': 18,\n",
       "   'importance': 0.30000999999999994,\n",
       "   'addresstype': 'city_district',\n",
       "   'name': 'Amiens',\n",
       "   'display_name': 'Amiens, Southern Downs Regional, Queensland, Australia',\n",
       "   'boundingbox': ['-28.6413980',\n",
       "    '-28.5556610',\n",
       "    '151.7653570',\n",
       "    '151.8661680']},\n",
       "  {'place_id': 22794277,\n",
       "   'licence': 'Data © OpenStreetMap contributors, ODbL 1.0. http://osm.org/copyright',\n",
       "   'osm_type': 'node',\n",
       "   'osm_id': 4072833980,\n",
       "   'lat': '-28.593975',\n",
       "   'lon': '151.8121877',\n",
       "   'class': 'place',\n",
       "   'type': 'village',\n",
       "   'place_rank': 19,\n",
       "   'importance': 0.27501,\n",
       "   'addresstype': 'village',\n",
       "   'name': 'Amiens',\n",
       "   'display_name': 'Amiens, Southern Downs Regional, Queensland, Australia',\n",
       "   'boundingbox': ['-28.6139750',\n",
       "    '-28.5739750',\n",
       "    '151.7921877',\n",
       "    '151.8321877']}],\n",
       " [{'place_id': 87223586,\n",
       "   'licence': 'Data © OpenStreetMap contributors, ODbL 1.0. http://osm.org/copyright',\n",
       "   'osm_type': 'relation',\n",
       "   'osm_id': 58404,\n",
       "   'lat': '50.6365654',\n",
       "   'lon': '3.0635282',\n",
       "   'class': 'boundary',\n",
       "   'type': 'administrative',\n",
       "   'place_rank': 16,\n",
       "   'importance': 0.6961232890188663,\n",
       "   'addresstype': 'city',\n",
       "   'name': 'Lille',\n",
       "   'display_name': 'Lille, Nord, Hauts-de-France, France métropolitaine, France',\n",
       "   'boundingbox': ['50.6008264', '50.6612596', '2.9679677', '3.1257250']},\n",
       "  {'place_id': 91572942,\n",
       "   'licence': 'Data © OpenStreetMap contributors, ODbL 1.0. http://osm.org/copyright',\n",
       "   'osm_type': 'relation',\n",
       "   'osm_id': 1643919,\n",
       "   'lat': '50.61806395',\n",
       "   'lon': '3.045303691127442',\n",
       "   'class': 'boundary',\n",
       "   'type': 'administrative',\n",
       "   'place_rank': 14,\n",
       "   'importance': 0.532752395712035,\n",
       "   'addresstype': 'municipality',\n",
       "   'name': 'Lille',\n",
       "   'display_name': 'Lille, Nord, Hauts-de-France, France métropolitaine, France',\n",
       "   'boundingbox': ['50.4416259', '50.7946088', '2.7891320', '3.3291133']},\n",
       "  {'place_id': 91295404,\n",
       "   'licence': 'Data © OpenStreetMap contributors, ODbL 1.0. http://osm.org/copyright',\n",
       "   'osm_type': 'relation',\n",
       "   'osm_id': 1282972,\n",
       "   'lat': '51.238218',\n",
       "   'lon': '4.8242404',\n",
       "   'class': 'boundary',\n",
       "   'type': 'administrative',\n",
       "   'place_rank': 14,\n",
       "   'importance': 0.45528409560457633,\n",
       "   'addresstype': 'town',\n",
       "   'name': 'Lille',\n",
       "   'display_name': 'Lille, Turnhout, Antwerpen, Vlaanderen, 2275, België / Belgique / Belgien',\n",
       "   'boundingbox': ['51.2069507', '51.2989944', '4.7613106', '4.9072917']}],\n",
       " [{'place_id': 381263750,\n",
       "   'licence': 'Data © OpenStreetMap contributors, ODbL 1.0. http://osm.org/copyright',\n",
       "   'osm_type': 'relation',\n",
       "   'osm_id': 71033,\n",
       "   'lat': '48.584614',\n",
       "   'lon': '7.7507127',\n",
       "   'class': 'boundary',\n",
       "   'type': 'administrative',\n",
       "   'place_rank': 16,\n",
       "   'importance': 0.7275493034670005,\n",
       "   'addresstype': 'city',\n",
       "   'name': 'Strasbourg',\n",
       "   'display_name': 'Strasbourg, Bas-Rhin, Grand Est, France métropolitaine, France',\n",
       "   'boundingbox': ['48.4918610', '48.6461896', '7.6881371', '7.8360646']},\n",
       "  {'place_id': 381263759,\n",
       "   'licence': 'Data © OpenStreetMap contributors, ODbL 1.0. http://osm.org/copyright',\n",
       "   'osm_type': 'relation',\n",
       "   'osm_id': 4630050,\n",
       "   'lat': '48.5681009',\n",
       "   'lon': '7.688597194984311',\n",
       "   'class': 'boundary',\n",
       "   'type': 'administrative',\n",
       "   'place_rank': 14,\n",
       "   'importance': 0.5079312171976476,\n",
       "   'addresstype': 'municipality',\n",
       "   'name': 'Strasbourg',\n",
       "   'display_name': 'Strasbourg, Bas-Rhin, Grand Est, France métropolitaine, France',\n",
       "   'boundingbox': ['48.4339379', '48.7022939', '7.5377795', '7.8957138']},\n",
       "  {'place_id': 328138450,\n",
       "   'licence': 'Data © OpenStreetMap contributors, ODbL 1.0. http://osm.org/copyright',\n",
       "   'osm_type': 'relation',\n",
       "   'osm_id': 11992327,\n",
       "   'lat': '51.0704195',\n",
       "   'lon': '-104.9568557',\n",
       "   'class': 'boundary',\n",
       "   'type': 'administrative',\n",
       "   'place_rank': 16,\n",
       "   'importance': 0.3947102354752468,\n",
       "   'addresstype': 'town',\n",
       "   'name': 'Strasbourg',\n",
       "   'display_name': 'Strasbourg, Saskatchewan, S0G 4V0, Canada',\n",
       "   'boundingbox': ['51.0592065',\n",
       "    '51.0813013',\n",
       "    '-104.9729372',\n",
       "    '-104.9380941']}],\n",
       " [{'place_id': 394289090,\n",
       "   'licence': 'Data © OpenStreetMap contributors, ODbL 1.0. http://osm.org/copyright',\n",
       "   'osm_type': 'way',\n",
       "   'osm_id': 1299451538,\n",
       "   'lat': '48.249410749999996',\n",
       "   'lon': '7.344320233724503',\n",
       "   'class': 'historic',\n",
       "   'type': 'castle',\n",
       "   'place_rank': 30,\n",
       "   'importance': 0.3539550660685244,\n",
       "   'addresstype': 'historic',\n",
       "   'name': 'Château du Haut-Kœnigsbourg',\n",
       "   'display_name': 'Château du Haut-Kœnigsbourg, D 159, Château du Haut-Kœnigsbourg, Orschwiller, Sélestat-Erstein, Bas-Rhin, Grand Est, France métropolitaine, 67600, France',\n",
       "   'boundingbox': ['48.2489931', '48.2498214', '7.3425172', '7.3462060']},\n",
       "  {'place_id': 103949297,\n",
       "   'licence': 'Data © OpenStreetMap contributors, ODbL 1.0. http://osm.org/copyright',\n",
       "   'osm_type': 'node',\n",
       "   'osm_id': 4245068168,\n",
       "   'lat': '48.2495226',\n",
       "   'lon': '7.3454923',\n",
       "   'class': 'place',\n",
       "   'type': 'isolated_dwelling',\n",
       "   'place_rank': 22,\n",
       "   'importance': 0.10672799038681618,\n",
       "   'addresstype': 'isolated_dwelling',\n",
       "   'name': 'Château du Haut-Kœnigsbourg',\n",
       "   'display_name': 'Château du Haut-Kœnigsbourg, Orschwiller, Sélestat-Erstein, Bas-Rhin, Grand Est, France métropolitaine, 67600, France',\n",
       "   'boundingbox': ['48.2494726', '48.2495726', '7.3454423', '7.3455423']}],\n",
       " [{'place_id': 104313212,\n",
       "   'licence': 'Data © OpenStreetMap contributors, ODbL 1.0. http://osm.org/copyright',\n",
       "   'osm_type': 'relation',\n",
       "   'osm_id': 61423,\n",
       "   'lat': '48.0777517',\n",
       "   'lon': '7.3579641',\n",
       "   'class': 'boundary',\n",
       "   'type': 'administrative',\n",
       "   'place_rank': 16,\n",
       "   'importance': 0.6229360131840985,\n",
       "   'addresstype': 'town',\n",
       "   'name': 'Colmar',\n",
       "   'display_name': 'Colmar, Colmar-Ribeauvillé, Haut-Rhin, Grand Est, France métropolitaine, 68000, France',\n",
       "   'boundingbox': ['48.0407053', '48.1820620', '7.3154803', '7.4691670']},\n",
       "  {'place_id': 310563572,\n",
       "   'licence': 'Data © OpenStreetMap contributors, ODbL 1.0. http://osm.org/copyright',\n",
       "   'osm_type': 'node',\n",
       "   'osm_id': 158253291,\n",
       "   'lat': '40.2673286',\n",
       "   'lon': '-75.2535079',\n",
       "   'class': 'place',\n",
       "   'type': 'hamlet',\n",
       "   'place_rank': 20,\n",
       "   'importance': 0.3605739454398507,\n",
       "   'addresstype': 'hamlet',\n",
       "   'name': 'Colmar',\n",
       "   'display_name': 'Colmar, Hatfield Township, Montgomery County, Pennsylvania, 18915, United States',\n",
       "   'boundingbox': ['40.2473286', '40.2873286', '-75.2735079', '-75.2335079']},\n",
       "  {'place_id': 157127218,\n",
       "   'licence': 'Data © OpenStreetMap contributors, ODbL 1.0. http://osm.org/copyright',\n",
       "   'osm_type': 'relation',\n",
       "   'osm_id': 2858872,\n",
       "   'lat': '52.9886824',\n",
       "   'lon': '16.9159506',\n",
       "   'class': 'boundary',\n",
       "   'type': 'administrative',\n",
       "   'place_rank': 14,\n",
       "   'importance': 0.47696489530096137,\n",
       "   'addresstype': 'town',\n",
       "   'name': 'Chodzież',\n",
       "   'display_name': 'Chodzież, powiat chodzieski, województwo wielkopolskie, 64-800, Polska',\n",
       "   'boundingbox': ['52.9649584', '53.0249822', '16.8851288', '16.9463021']},\n",
       "  {'place_id': 324361709,\n",
       "   'licence': 'Data © OpenStreetMap contributors, ODbL 1.0. http://osm.org/copyright',\n",
       "   'osm_type': 'node',\n",
       "   'osm_id': 151365401,\n",
       "   'lat': '40.3453214',\n",
       "   'lon': '-90.8912451',\n",
       "   'class': 'place',\n",
       "   'type': 'hamlet',\n",
       "   'place_rank': 20,\n",
       "   'importance': 0.25000999999999995,\n",
       "   'addresstype': 'hamlet',\n",
       "   'name': 'Colmar',\n",
       "   'display_name': 'Colmar, McDonough County, Illinois, 62367, United States',\n",
       "   'boundingbox': ['40.3253214', '40.3653214', '-90.9112451', '-90.8712451']},\n",
       "  {'place_id': 29923404,\n",
       "   'licence': 'Data © OpenStreetMap contributors, ODbL 1.0. http://osm.org/copyright',\n",
       "   'osm_type': 'node',\n",
       "   'osm_id': 10593891764,\n",
       "   'lat': '-20.469325',\n",
       "   'lon': '57.5737345',\n",
       "   'class': 'place',\n",
       "   'type': 'hamlet',\n",
       "   'place_rank': 20,\n",
       "   'importance': 0.25000999999999995,\n",
       "   'addresstype': 'hamlet',\n",
       "   'name': 'Colmar',\n",
       "   'display_name': 'Colmar, Bénarès, Savanne, 51108, Mauritius / Maurice',\n",
       "   'boundingbox': ['-20.4893250', '-20.4493250', '57.5537345', '57.5937345']},\n",
       "  {'place_id': 125013076,\n",
       "   'licence': 'Data © OpenStreetMap contributors, ODbL 1.0. http://osm.org/copyright',\n",
       "   'osm_type': 'node',\n",
       "   'osm_id': 274816645,\n",
       "   'lat': '53.3359889',\n",
       "   'lon': '8.3599584',\n",
       "   'class': 'place',\n",
       "   'type': 'hamlet',\n",
       "   'place_rank': 20,\n",
       "   'importance': 0.25000999999999995,\n",
       "   'addresstype': 'hamlet',\n",
       "   'name': 'Colmar',\n",
       "   'display_name': 'Colmar, Neustadt, Ovelgönne, Landkreis Wesermarsch, Niedersachsen, 26939, Deutschland',\n",
       "   'boundingbox': ['53.3159889', '53.3559889', '8.3399584', '8.3799584']},\n",
       "  {'place_id': 297148733,\n",
       "   'licence': 'Data © OpenStreetMap contributors, ODbL 1.0. http://osm.org/copyright',\n",
       "   'osm_type': 'node',\n",
       "   'osm_id': 154070580,\n",
       "   'lat': '36.6659173',\n",
       "   'lon': '-83.6518595',\n",
       "   'class': 'place',\n",
       "   'type': 'hamlet',\n",
       "   'place_rank': 20,\n",
       "   'importance': 0.24918295042260794,\n",
       "   'addresstype': 'hamlet',\n",
       "   'name': 'Colmar',\n",
       "   'display_name': 'Colmar, Bell County, Kentucky, United States',\n",
       "   'boundingbox': ['36.6459173', '36.6859173', '-83.6718595', '-83.6318595']},\n",
       "  {'place_id': 156703009,\n",
       "   'licence': 'Data © OpenStreetMap contributors, ODbL 1.0. http://osm.org/copyright',\n",
       "   'osm_type': 'relation',\n",
       "   'osm_id': 2718274,\n",
       "   'lat': '52.994997749999996',\n",
       "   'lon': '16.919925663627275',\n",
       "   'class': 'boundary',\n",
       "   'type': 'administrative',\n",
       "   'place_rank': 16,\n",
       "   'importance': 0.43609907778808027,\n",
       "   'addresstype': 'administrative',\n",
       "   'name': 'Chodzież',\n",
       "   'display_name': 'Chodzież, powiat chodzieski, województwo wielkopolskie, 64-800, Polska',\n",
       "   'boundingbox': ['52.9649584', '53.0249822', '16.8851288', '16.9463021']}],\n",
       " [{'place_id': 105237256,\n",
       "   'licence': 'Data © OpenStreetMap contributors, ODbL 1.0. http://osm.org/copyright',\n",
       "   'osm_type': 'relation',\n",
       "   'osm_id': 79442,\n",
       "   'lat': '48.0447968',\n",
       "   'lon': '7.3079618',\n",
       "   'class': 'boundary',\n",
       "   'type': 'administrative',\n",
       "   'place_rank': 16,\n",
       "   'importance': 0.5249720206561967,\n",
       "   'addresstype': 'village',\n",
       "   'name': 'Eguisheim',\n",
       "   'display_name': 'Eguisheim, Colmar-Ribeauvillé, Haut-Rhin, Grand Est, France métropolitaine, 68420, France',\n",
       "   'boundingbox': ['48.0240327', '48.0515072', '7.2412792', '7.3518540']}],\n",
       " [{'place_id': 78119549,\n",
       "   'licence': 'Data © OpenStreetMap contributors, ODbL 1.0. http://osm.org/copyright',\n",
       "   'osm_type': 'relation',\n",
       "   'osm_id': 103599,\n",
       "   'lat': '47.2380222',\n",
       "   'lon': '6.0243622',\n",
       "   'class': 'boundary',\n",
       "   'type': 'administrative',\n",
       "   'place_rank': 16,\n",
       "   'importance': 0.6561988873354755,\n",
       "   'addresstype': 'city',\n",
       "   'name': 'Besançon',\n",
       "   'display_name': 'Besançon, Doubs, Bourgogne-Franche-Comté, France métropolitaine, 25000, France',\n",
       "   'boundingbox': ['47.2006872', '47.3200746', '5.9409668', '6.0835059']},\n",
       "  {'place_id': 77635039,\n",
       "   'licence': 'Data © OpenStreetMap contributors, ODbL 1.0. http://osm.org/copyright',\n",
       "   'osm_type': 'relation',\n",
       "   'osm_id': 1682291,\n",
       "   'lat': '47.228367899999995',\n",
       "   'lon': '6.01892310902501',\n",
       "   'class': 'boundary',\n",
       "   'type': 'administrative',\n",
       "   'place_rank': 14,\n",
       "   'importance': 0.552166598598033,\n",
       "   'addresstype': 'municipality',\n",
       "   'name': 'Besançon',\n",
       "   'display_name': 'Besançon, Doubs, Bourgogne-Franche-Comté, France métropolitaine, France',\n",
       "   'boundingbox': ['46.9342078', '47.5224481', '5.6987633', '6.5005111']}],\n",
       " [{'place_id': 80148706,\n",
       "   'licence': 'Data © OpenStreetMap contributors, ODbL 1.0. http://osm.org/copyright',\n",
       "   'osm_type': 'relation',\n",
       "   'osm_id': 74090,\n",
       "   'lat': '47.3215806',\n",
       "   'lon': '5.0414701',\n",
       "   'class': 'boundary',\n",
       "   'type': 'administrative',\n",
       "   'place_rank': 16,\n",
       "   'importance': 0.6728373050023232,\n",
       "   'addresstype': 'city',\n",
       "   'name': 'Dijon',\n",
       "   'display_name': \"Dijon, Côte-d'Or, Bourgogne-Franche-Comté, France métropolitaine, 21000, France\",\n",
       "   'boundingbox': ['47.2862467', '47.3774741', '4.9624434', '5.1020598']},\n",
       "  {'place_id': 79984703,\n",
       "   'licence': 'Data © OpenStreetMap contributors, ODbL 1.0. http://osm.org/copyright',\n",
       "   'osm_type': 'relation',\n",
       "   'osm_id': 1685958,\n",
       "   'lat': '47.4087504',\n",
       "   'lon': '5.064635891748798',\n",
       "   'class': 'boundary',\n",
       "   'type': 'administrative',\n",
       "   'place_rank': 14,\n",
       "   'importance': 0.5498047264617048,\n",
       "   'addresstype': 'municipality',\n",
       "   'name': 'Dijon',\n",
       "   'display_name': \"Dijon, Côte-d'Or, Bourgogne-Franche-Comté, France métropolitaine, France\",\n",
       "   'boundingbox': ['47.1075054', '47.7099499', '4.5687150', '5.5188651']}],\n",
       " [{'place_id': 75219496,\n",
       "   'licence': 'Data © OpenStreetMap contributors, ODbL 1.0. http://osm.org/copyright',\n",
       "   'osm_type': 'relation',\n",
       "   'osm_id': 6791758,\n",
       "   'lat': '45.8992348',\n",
       "   'lon': '6.1288847',\n",
       "   'class': 'boundary',\n",
       "   'type': 'administrative',\n",
       "   'place_rank': 16,\n",
       "   'importance': 0.6203828713594545,\n",
       "   'addresstype': 'city',\n",
       "   'name': 'Annecy',\n",
       "   'display_name': 'Annecy, Haute-Savoie, Auvergne-Rhône-Alpes, France métropolitaine, France',\n",
       "   'boundingbox': ['45.8280024', '45.9766928', '6.0484121', '6.2043932']},\n",
       "  {'place_id': 75248768,\n",
       "   'licence': 'Data © OpenStreetMap contributors, ODbL 1.0. http://osm.org/copyright',\n",
       "   'osm_type': 'relation',\n",
       "   'osm_id': 1668737,\n",
       "   'lat': '45.8782687',\n",
       "   'lon': '6.170009338578226',\n",
       "   'class': 'boundary',\n",
       "   'type': 'administrative',\n",
       "   'place_rank': 14,\n",
       "   'importance': 0.3398058423953755,\n",
       "   'addresstype': 'municipality',\n",
       "   'name': 'Annecy',\n",
       "   'display_name': 'Annecy, Haute-Savoie, Auvergne-Rhône-Alpes, France métropolitaine, France',\n",
       "   'boundingbox': ['45.6817078', '46.0702526', '5.8624243', '6.5559605']}],\n",
       " [{'place_id': 75851648,\n",
       "   'licence': 'Data © OpenStreetMap contributors, ODbL 1.0. http://osm.org/copyright',\n",
       "   'osm_type': 'relation',\n",
       "   'osm_id': 80348,\n",
       "   'lat': '45.1875602',\n",
       "   'lon': '5.7357819',\n",
       "   'class': 'boundary',\n",
       "   'type': 'administrative',\n",
       "   'place_rank': 16,\n",
       "   'importance': 0.6845788090893128,\n",
       "   'addresstype': 'city',\n",
       "   'name': 'Grenoble',\n",
       "   'display_name': 'Grenoble, Isère, Auvergne-Rhône-Alpes, France métropolitaine, France',\n",
       "   'boundingbox': ['45.1541442', '45.2140762', '5.6776059', '5.7531315']},\n",
       "  {'place_id': 75373276,\n",
       "   'licence': 'Data © OpenStreetMap contributors, ODbL 1.0. http://osm.org/copyright',\n",
       "   'osm_type': 'relation',\n",
       "   'osm_id': 1676230,\n",
       "   'lat': '45.0940786',\n",
       "   'lon': '5.697197979937964',\n",
       "   'class': 'boundary',\n",
       "   'type': 'administrative',\n",
       "   'place_rank': 14,\n",
       "   'importance': 0.562494623124448,\n",
       "   'addresstype': 'municipality',\n",
       "   'name': 'Grenoble',\n",
       "   'display_name': 'Grenoble, Isère, Auvergne-Rhône-Alpes, France métropolitaine, France',\n",
       "   'boundingbox': ['44.6958924', '45.4923349', '5.1346493', '6.3590884']}],\n",
       " [{'place_id': 394743309,\n",
       "   'licence': 'Data © OpenStreetMap contributors, ODbL 1.0. http://osm.org/copyright',\n",
       "   'osm_type': 'relation',\n",
       "   'osm_id': 120965,\n",
       "   'lat': '45.7578137',\n",
       "   'lon': '4.8320114',\n",
       "   'class': 'boundary',\n",
       "   'type': 'administrative',\n",
       "   'place_rank': 16,\n",
       "   'importance': 0.7385820546397593,\n",
       "   'addresstype': 'city',\n",
       "   'name': 'Lyon',\n",
       "   'display_name': 'Lyon, Métropole de Lyon, Rhône, Auvergne-Rhône-Alpes, France métropolitaine, France',\n",
       "   'boundingbox': ['45.7073666', '45.8082628', '4.7718134', '4.8983774']},\n",
       "  {'place_id': 294380158,\n",
       "   'licence': 'Data © OpenStreetMap contributors, ODbL 1.0. http://osm.org/copyright',\n",
       "   'osm_type': 'relation',\n",
       "   'osm_id': 1846550,\n",
       "   'lat': '36.9981232',\n",
       "   'lon': '-88.0658149',\n",
       "   'class': 'boundary',\n",
       "   'type': 'administrative',\n",
       "   'place_rank': 12,\n",
       "   'importance': 0.5305999204532719,\n",
       "   'addresstype': 'county',\n",
       "   'name': 'Lyon County',\n",
       "   'display_name': 'Lyon County, Kentucky, United States',\n",
       "   'boundingbox': ['36.8674160', '37.1796905', '-88.2402040', '-87.8769990']},\n",
       "  {'place_id': 75880620,\n",
       "   'licence': 'Data © OpenStreetMap contributors, ODbL 1.0. http://osm.org/copyright',\n",
       "   'osm_type': 'relation',\n",
       "   'osm_id': 1663048,\n",
       "   'lat': '45.6963425',\n",
       "   'lon': '4.735948029916814',\n",
       "   'class': 'boundary',\n",
       "   'type': 'administrative',\n",
       "   'place_rank': 14,\n",
       "   'importance': 0.5282123553873371,\n",
       "   'addresstype': 'municipality',\n",
       "   'name': 'Lyon',\n",
       "   'display_name': 'Lyon, Rhône, Auvergne-Rhône-Alpes, France métropolitaine, France',\n",
       "   'boundingbox': ['45.4540260', '45.9393015', '4.3480714', '5.1603205']},\n",
       "  {'place_id': 327102787,\n",
       "   'licence': 'Data © OpenStreetMap contributors, ODbL 1.0. http://osm.org/copyright',\n",
       "   'osm_type': 'relation',\n",
       "   'osm_id': 1795851,\n",
       "   'lat': '44.3880733',\n",
       "   'lon': '-95.8287296',\n",
       "   'class': 'boundary',\n",
       "   'type': 'administrative',\n",
       "   'place_rank': 12,\n",
       "   'importance': 0.5188101203575609,\n",
       "   'addresstype': 'county',\n",
       "   'name': 'Lyon County',\n",
       "   'display_name': 'Lyon County, Minnesota, United States',\n",
       "   'boundingbox': ['44.1955233', '44.6304850', '-96.0934562', '-95.5920001']},\n",
       "  {'place_id': 287537969,\n",
       "   'licence': 'Data © OpenStreetMap contributors, ODbL 1.0. http://osm.org/copyright',\n",
       "   'osm_type': 'relation',\n",
       "   'osm_id': 1070375,\n",
       "   'lat': '38.4573987',\n",
       "   'lon': '-96.1683124',\n",
       "   'class': 'boundary',\n",
       "   'type': 'administrative',\n",
       "   'place_rank': 12,\n",
       "   'importance': 0.5165076522762843,\n",
       "   'addresstype': 'county',\n",
       "   'name': 'Lyon County',\n",
       "   'display_name': 'Lyon County, Kansas, United States',\n",
       "   'boundingbox': ['38.1709390', '38.7391264', '-96.3572770', '-95.9456610']},\n",
       "  {'place_id': 287296963,\n",
       "   'licence': 'Data © OpenStreetMap contributors, ODbL 1.0. http://osm.org/copyright',\n",
       "   'osm_type': 'relation',\n",
       "   'osm_id': 1646301,\n",
       "   'lat': '43.3747071',\n",
       "   'lon': '-96.2081917',\n",
       "   'class': 'boundary',\n",
       "   'type': 'administrative',\n",
       "   'place_rank': 12,\n",
       "   'importance': 0.5122059720021661,\n",
       "   'addresstype': 'county',\n",
       "   'name': 'Lyon County',\n",
       "   'display_name': 'Lyon County, Iowa, United States',\n",
       "   'boundingbox': ['43.2573816', '43.5004261', '-96.6031978', '-95.8604685']},\n",
       "  {'place_id': 280046301,\n",
       "   'licence': 'Data © OpenStreetMap contributors, ODbL 1.0. http://osm.org/copyright',\n",
       "   'osm_type': 'relation',\n",
       "   'osm_id': 166455,\n",
       "   'lat': '38.9887898',\n",
       "   'lon': '-119.1822042',\n",
       "   'class': 'boundary',\n",
       "   'type': 'administrative',\n",
       "   'place_rank': 12,\n",
       "   'importance': 0.45815470500539485,\n",
       "   'addresstype': 'county',\n",
       "   'name': 'Lyon County',\n",
       "   'display_name': 'Lyon County, Nevada, United States',\n",
       "   'boundingbox': ['38.4126700',\n",
       "    '39.7405407',\n",
       "    '-119.7126450',\n",
       "    '-118.7548176']},\n",
       "  {'place_id': 291243007,\n",
       "   'licence': 'Data © OpenStreetMap contributors, ODbL 1.0. http://osm.org/copyright',\n",
       "   'osm_type': 'relation',\n",
       "   'osm_id': 109907,\n",
       "   'lat': '34.2178865',\n",
       "   'lon': '-90.5420429',\n",
       "   'class': 'boundary',\n",
       "   'type': 'administrative',\n",
       "   'place_rank': 16,\n",
       "   'importance': 0.3592519042250443,\n",
       "   'addresstype': 'village',\n",
       "   'name': 'Lyon',\n",
       "   'display_name': 'Lyon, Coahoma County, Mississippi, United States',\n",
       "   'boundingbox': ['34.2097753', '34.2227800', '-90.5522280', '-90.5339940']}],\n",
       " [{'place_id': 69158796,\n",
       "   'licence': 'Data © OpenStreetMap contributors, ODbL 1.0. http://osm.org/copyright',\n",
       "   'osm_type': 'node',\n",
       "   'osm_id': 7193513219,\n",
       "   'lat': '43.7496562',\n",
       "   'lon': '6.3285616',\n",
       "   'class': 'natural',\n",
       "   'type': 'gorge',\n",
       "   'place_rank': 22,\n",
       "   'importance': 0.37814958574294283,\n",
       "   'addresstype': 'gorge',\n",
       "   'name': 'Gorges du Verdon',\n",
       "   'display_name': \"Gorges du Verdon, La Palud-sur-Verdon, Castellane, Alpes-de-Haute-Provence, Provence-Alpes-Côte d'Azur, France métropolitaine, 04120, France\",\n",
       "   'boundingbox': ['43.7496062', '43.7497062', '6.3285116', '6.3286116']}],\n",
       " [{'place_id': 69637399,\n",
       "   'licence': 'Data © OpenStreetMap contributors, ODbL 1.0. http://osm.org/copyright',\n",
       "   'osm_type': 'relation',\n",
       "   'osm_id': 1118915,\n",
       "   'lat': '43.1506968',\n",
       "   'lon': '6.3419285',\n",
       "   'class': 'boundary',\n",
       "   'type': 'administrative',\n",
       "   'place_rank': 16,\n",
       "   'importance': 0.5074394725175112,\n",
       "   'addresstype': 'village',\n",
       "   'name': 'Bormes-les-Mimosas',\n",
       "   'display_name': \"Bormes-les-Mimosas, Toulon, Var, Provence-Alpes-Côte d'Azur, France métropolitaine, 83230, France\",\n",
       "   'boundingbox': ['43.0864271', '43.2278201', '6.2716142', '6.4514893']}],\n",
       " [{'place_id': 70448791,\n",
       "   'licence': 'Data © OpenStreetMap contributors, ODbL 1.0. http://osm.org/copyright',\n",
       "   'osm_type': 'relation',\n",
       "   'osm_id': 76425,\n",
       "   'lat': '43.2140359',\n",
       "   'lon': '5.5396318',\n",
       "   'class': 'boundary',\n",
       "   'type': 'administrative',\n",
       "   'place_rank': 16,\n",
       "   'importance': 0.5111791868736898,\n",
       "   'addresstype': 'village',\n",
       "   'name': 'Cassis',\n",
       "   'display_name': \"Cassis, Marseille, Bouches-du-Rhône, Provence-Alpes-Côte d'Azur, France métropolitaine, 13260, France\",\n",
       "   'boundingbox': ['43.1884732', '43.2487231', '5.5063193', '5.5945199']},\n",
       "  {'place_id': 329787597,\n",
       "   'licence': 'Data © OpenStreetMap contributors, ODbL 1.0. http://osm.org/copyright',\n",
       "   'osm_type': 'way',\n",
       "   'osm_id': 926969095,\n",
       "   'lat': '49.133904',\n",
       "   'lon': '-123.14595559722652',\n",
       "   'class': 'landuse',\n",
       "   'type': 'residential',\n",
       "   'place_rank': 22,\n",
       "   'importance': 0.2000099999999999,\n",
       "   'addresstype': 'residential',\n",
       "   'name': 'Cassis',\n",
       "   'display_name': 'Cassis, Broadmoor, Richmond, Metro Vancouver Regional District, British Columbia, Canada',\n",
       "   'boundingbox': ['49.1335993',\n",
       "    '49.1342074',\n",
       "    '-123.1472186',\n",
       "    '-123.1446880']},\n",
       "  {'place_id': 266055653,\n",
       "   'licence': 'Data © OpenStreetMap contributors, ODbL 1.0. http://osm.org/copyright',\n",
       "   'osm_type': 'way',\n",
       "   'osm_id': 48470930,\n",
       "   'lat': '18.61570955',\n",
       "   'lon': '-72.0746068431402',\n",
       "   'class': 'place',\n",
       "   'type': 'village',\n",
       "   'place_rank': 19,\n",
       "   'importance': 0.14667666666666662,\n",
       "   'addresstype': 'village',\n",
       "   'name': 'Cassis',\n",
       "   'display_name': \"Cassis, 2e Balan, Commune Ganthier, Arrondissement de Croix-des-Bouquets, Département de l'Ouest, Ayiti\",\n",
       "   'boundingbox': ['18.6125331', '18.6187228', '-72.0767049', '-72.0724316']}],\n",
       " [{'place_id': 386999106,\n",
       "   'licence': 'Data © OpenStreetMap contributors, ODbL 1.0. http://osm.org/copyright',\n",
       "   'osm_type': 'relation',\n",
       "   'osm_id': 76469,\n",
       "   'lat': '43.2961743',\n",
       "   'lon': '5.3699525',\n",
       "   'class': 'boundary',\n",
       "   'type': 'administrative',\n",
       "   'place_rank': 16,\n",
       "   'importance': 0.6813768937556641,\n",
       "   'addresstype': 'city',\n",
       "   'name': 'Marseille',\n",
       "   'display_name': \"Marseille, Bouches-du-Rhône, Provence-Alpes-Côte d'Azur, France métropolitaine, France\",\n",
       "   'boundingbox': ['43.1696228', '43.3910329', '5.2286312', '5.5324758']},\n",
       "  {'place_id': 70346052,\n",
       "   'licence': 'Data © OpenStreetMap contributors, ODbL 1.0. http://osm.org/copyright',\n",
       "   'osm_type': 'relation',\n",
       "   'osm_id': 1686370,\n",
       "   'lat': '43.301487800000004',\n",
       "   'lon': '5.548001012099657',\n",
       "   'class': 'boundary',\n",
       "   'type': 'administrative',\n",
       "   'place_rank': 14,\n",
       "   'importance': 0.49528011005275047,\n",
       "   'addresstype': 'municipality',\n",
       "   'name': 'Marseille',\n",
       "   'display_name': \"Marseille, Bouches-du-Rhône, Provence-Alpes-Côte d'Azur, France métropolitaine, France\",\n",
       "   'boundingbox': ['43.1573984', '43.4427166', '5.2286312', '5.7628627']}],\n",
       " [{'place_id': 69631975,\n",
       "   'licence': 'Data © OpenStreetMap contributors, ODbL 1.0. http://osm.org/copyright',\n",
       "   'osm_type': 'relation',\n",
       "   'osm_id': 70279,\n",
       "   'lat': '43.5298424',\n",
       "   'lon': '5.4474738',\n",
       "   'class': 'boundary',\n",
       "   'type': 'administrative',\n",
       "   'place_rank': 16,\n",
       "   'importance': 0.591084766383758,\n",
       "   'addresstype': 'city',\n",
       "   'name': 'Aix-en-Provence',\n",
       "   'display_name': \"Aix-en-Provence, Bouches-du-Rhône, Provence-Alpes-Côte d'Azur, France métropolitaine, France\",\n",
       "   'boundingbox': ['43.4461058', '43.6259224', '5.2694745', '5.5063013']},\n",
       "  {'place_id': 69356928,\n",
       "   'licence': 'Data © OpenStreetMap contributors, ODbL 1.0. http://osm.org/copyright',\n",
       "   'osm_type': 'relation',\n",
       "   'osm_id': 1686391,\n",
       "   'lat': '43.570984749999994',\n",
       "   'lon': '5.382418891915822',\n",
       "   'class': 'boundary',\n",
       "   'type': 'administrative',\n",
       "   'place_rank': 14,\n",
       "   'importance': 0.49839261675852864,\n",
       "   'addresstype': 'municipality',\n",
       "   'name': 'Aix-en-Provence',\n",
       "   'display_name': \"Aix-en-Provence, Bouches-du-Rhône, Provence-Alpes-Côte d'Azur, France métropolitaine, France\",\n",
       "   'boundingbox': ['43.3681732', '43.7721131', '4.9534171', '5.8135205']}],\n",
       " [{'place_id': 69267689,\n",
       "   'licence': 'Data © OpenStreetMap contributors, ODbL 1.0. http://osm.org/copyright',\n",
       "   'osm_type': 'relation',\n",
       "   'osm_id': 102478,\n",
       "   'lat': '43.9492493',\n",
       "   'lon': '4.8059012',\n",
       "   'class': 'boundary',\n",
       "   'type': 'administrative',\n",
       "   'place_rank': 16,\n",
       "   'importance': 0.6651388421765945,\n",
       "   'addresstype': 'city',\n",
       "   'name': 'Avignon',\n",
       "   'display_name': \"Avignon, Vaucluse, Provence-Alpes-Côte d'Azur, France métropolitaine, France\",\n",
       "   'boundingbox': ['43.8873819', '43.9967419', '4.7396309', '4.9271468']},\n",
       "  {'place_id': 69842700,\n",
       "   'licence': 'Data © OpenStreetMap contributors, ODbL 1.0. http://osm.org/copyright',\n",
       "   'osm_type': 'relation',\n",
       "   'osm_id': 1693195,\n",
       "   'lat': '43.96364775',\n",
       "   'lon': '4.942463641544419',\n",
       "   'class': 'boundary',\n",
       "   'type': 'administrative',\n",
       "   'place_rank': 14,\n",
       "   'importance': 0.48418596607996267,\n",
       "   'addresstype': 'municipality',\n",
       "   'name': 'Avignon',\n",
       "   'display_name': \"Avignon, Vaucluse, Provence-Alpes-Côte d'Azur, France métropolitaine, France\",\n",
       "   'boundingbox': ['43.8504637', '44.0766814', '4.7396309', '5.1599743']},\n",
       "  {'place_id': 327697075,\n",
       "   'licence': 'Data © OpenStreetMap contributors, ODbL 1.0. http://osm.org/copyright',\n",
       "   'osm_type': 'relation',\n",
       "   'osm_id': 7485823,\n",
       "   'lat': '48.1190641',\n",
       "   'lon': '-66.6965831',\n",
       "   'class': 'boundary',\n",
       "   'type': 'administrative',\n",
       "   'place_rank': 12,\n",
       "   'importance': 0.3955551209518804,\n",
       "   'addresstype': 'county',\n",
       "   'name': 'Avignon',\n",
       "   'display_name': 'Avignon, Gaspésie–Îles-de-la-Madeleine, Québec, Canada',\n",
       "   'boundingbox': ['47.8439573', '48.4835809', '-67.6666152', '-65.9040088']}],\n",
       " [{'place_id': 74174459,\n",
       "   'licence': 'Data © OpenStreetMap contributors, ODbL 1.0. http://osm.org/copyright',\n",
       "   'osm_type': 'relation',\n",
       "   'osm_id': 380050,\n",
       "   'lat': '44.0121279',\n",
       "   'lon': '4.4196718',\n",
       "   'class': 'boundary',\n",
       "   'type': 'administrative',\n",
       "   'place_rank': 16,\n",
       "   'importance': 0.5687024900861805,\n",
       "   'addresstype': 'village',\n",
       "   'name': 'Uzès',\n",
       "   'display_name': 'Uzès, Nîmes, Gard, Occitanie, France métropolitaine, 30700, France',\n",
       "   'boundingbox': ['43.9811093', '44.0765914', '4.3852299', '4.4467859']},\n",
       "  {'place_id': 73434431,\n",
       "   'licence': 'Data © OpenStreetMap contributors, ODbL 1.0. http://osm.org/copyright',\n",
       "   'osm_type': 'relation',\n",
       "   'osm_id': 4576126,\n",
       "   'lat': '44.020800699999995',\n",
       "   'lon': '4.417015632367233',\n",
       "   'class': 'boundary',\n",
       "   'type': 'political',\n",
       "   'place_rank': 25,\n",
       "   'importance': 0.3977523933320028,\n",
       "   'addresstype': 'political',\n",
       "   'name': 'Uzès',\n",
       "   'display_name': 'Uzès, Gard, Occitanie, France métropolitaine, France',\n",
       "   'boundingbox': ['43.8952743', '44.1467214', '4.2444543', '4.5672822']}],\n",
       " [{'place_id': 69339886,\n",
       "   'licence': 'Data © OpenStreetMap contributors, ODbL 1.0. http://osm.org/copyright',\n",
       "   'osm_type': 'relation',\n",
       "   'osm_id': 378685,\n",
       "   'lat': '43.8374249',\n",
       "   'lon': '4.3600687',\n",
       "   'class': 'boundary',\n",
       "   'type': 'administrative',\n",
       "   'place_rank': 16,\n",
       "   'importance': 0.6452661530490741,\n",
       "   'addresstype': 'city',\n",
       "   'name': 'Nîmes',\n",
       "   'display_name': 'Nîmes, Gard, Occitanie, France métropolitaine, France',\n",
       "   'boundingbox': ['43.7412659', '43.9230177', '4.2356708', '4.4496605']},\n",
       "  {'place_id': 70314781,\n",
       "   'licence': 'Data © OpenStreetMap contributors, ODbL 1.0. http://osm.org/copyright',\n",
       "   'osm_type': 'relation',\n",
       "   'osm_id': 2757959,\n",
       "   'lat': '43.9023189',\n",
       "   'lon': '4.390525733141193',\n",
       "   'class': 'boundary',\n",
       "   'type': 'administrative',\n",
       "   'place_rank': 14,\n",
       "   'importance': 0.37472087083815586,\n",
       "   'addresstype': 'municipality',\n",
       "   'name': 'Nîmes',\n",
       "   'display_name': 'Nîmes, Gard, Occitanie, France métropolitaine, France',\n",
       "   'boundingbox': ['43.4601970', '44.3443155', '4.0009632', '4.8455335']}],\n",
       " [{'place_id': 70199438,\n",
       "   'licence': 'Data © OpenStreetMap contributors, ODbL 1.0. http://osm.org/copyright',\n",
       "   'osm_type': 'relation',\n",
       "   'osm_id': 272287,\n",
       "   'lat': '43.5661521',\n",
       "   'lon': '4.19154',\n",
       "   'class': 'boundary',\n",
       "   'type': 'administrative',\n",
       "   'place_rank': 16,\n",
       "   'importance': 0.5323802893018253,\n",
       "   'addresstype': 'town',\n",
       "   'name': 'Aigues-Mortes',\n",
       "   'display_name': 'Aigues-Mortes, Nîmes, Gard, Occitanie, France métropolitaine, 30220, France',\n",
       "   'boundingbox': ['43.4958113', '43.5920372', '4.0760703', '4.2442867']},\n",
       "  {'place_id': 78813858,\n",
       "   'licence': 'Data © OpenStreetMap contributors, ODbL 1.0. http://osm.org/copyright',\n",
       "   'osm_type': 'node',\n",
       "   'osm_id': 5196911673,\n",
       "   'lat': '45.3314132',\n",
       "   'lon': '1.03014',\n",
       "   'class': 'place',\n",
       "   'type': 'hamlet',\n",
       "   'place_rank': 20,\n",
       "   'importance': 0.25000999999999995,\n",
       "   'addresstype': 'hamlet',\n",
       "   'name': 'Aigues Mortes',\n",
       "   'display_name': \"Aigues Mortes, Saint-Martial-d'Albarède, Nontron, Dordogne, Nouvelle-Aquitaine, France métropolitaine, 24160, France\",\n",
       "   'boundingbox': ['45.3114132', '45.3514132', '1.0101400', '1.0501400']}],\n",
       " [{'place_id': 70255468,\n",
       "   'licence': 'Data © OpenStreetMap contributors, ODbL 1.0. http://osm.org/copyright',\n",
       "   'osm_type': 'relation',\n",
       "   'osm_id': 414459,\n",
       "   'lat': '43.4515922',\n",
       "   'lon': '4.4277202',\n",
       "   'class': 'boundary',\n",
       "   'type': 'administrative',\n",
       "   'place_rank': 16,\n",
       "   'importance': 0.5069190731331547,\n",
       "   'addresstype': 'town',\n",
       "   'name': 'Saintes-Maries-de-la-Mer',\n",
       "   'display_name': \"Saintes-Maries-de-la-Mer, Arles, Bouches-du-Rhône, Provence-Alpes-Côte d'Azur, France métropolitaine, 13460, France\",\n",
       "   'boundingbox': ['43.4062445', '43.5858463', '4.2301364', '4.6444785']}],\n",
       " [{'place_id': 71853633,\n",
       "   'licence': 'Data © OpenStreetMap contributors, ODbL 1.0. http://osm.org/copyright',\n",
       "   'osm_type': 'relation',\n",
       "   'osm_id': 18409,\n",
       "   'lat': '42.52505',\n",
       "   'lon': '3.0831554',\n",
       "   'class': 'boundary',\n",
       "   'type': 'administrative',\n",
       "   'place_rank': 16,\n",
       "   'importance': 0.5434349459372535,\n",
       "   'addresstype': 'village',\n",
       "   'name': 'Collioure',\n",
       "   'display_name': 'Collioure, Céret, Pyrénées-Orientales, Occitanie, France métropolitaine, 66190, France',\n",
       "   'boundingbox': ['42.4832453', '42.5341084', '3.0495074', '3.0994238']},\n",
       "  {'place_id': 381193052,\n",
       "   'licence': 'Data © OpenStreetMap contributors, ODbL 1.0. http://osm.org/copyright',\n",
       "   'osm_type': 'node',\n",
       "   'osm_id': 11599618832,\n",
       "   'lat': '43.22907',\n",
       "   'lon': '1.4757997',\n",
       "   'class': 'place',\n",
       "   'type': 'hamlet',\n",
       "   'place_rank': 20,\n",
       "   'importance': 0.25000999999999995,\n",
       "   'addresstype': 'hamlet',\n",
       "   'name': 'Collioure',\n",
       "   'display_name': 'Collioure, Marliac, Muret, Haute-Garonne, Occitanie, France métropolitaine, 31550, France',\n",
       "   'boundingbox': ['43.2090700', '43.2490700', '1.4557997', '1.4957997']}],\n",
       " [{'place_id': 71584138,\n",
       "   'licence': 'Data © OpenStreetMap contributors, ODbL 1.0. http://osm.org/copyright',\n",
       "   'osm_type': 'relation',\n",
       "   'osm_id': 37774,\n",
       "   'lat': '43.2130358',\n",
       "   'lon': '2.3491069',\n",
       "   'class': 'boundary',\n",
       "   'type': 'administrative',\n",
       "   'place_rank': 16,\n",
       "   'importance': 0.5891672924570599,\n",
       "   'addresstype': 'town',\n",
       "   'name': 'Carcassonne',\n",
       "   'display_name': 'Carcassonne, Aude, Occitanie, France métropolitaine, 11000, France',\n",
       "   'boundingbox': ['43.1713069', '43.2443707', '2.2615684', '2.4362676']},\n",
       "  {'place_id': 374222537,\n",
       "   'licence': 'Data © OpenStreetMap contributors, ODbL 1.0. http://osm.org/copyright',\n",
       "   'osm_type': 'relation',\n",
       "   'osm_id': 2753432,\n",
       "   'lat': '43.24558525',\n",
       "   'lon': '2.191051094614102',\n",
       "   'class': 'boundary',\n",
       "   'type': 'administrative',\n",
       "   'place_rank': 14,\n",
       "   'importance': 0.5396988152840405,\n",
       "   'addresstype': 'municipality',\n",
       "   'name': 'Carcassonne',\n",
       "   'display_name': 'Carcassonne, Aude, Occitanie, France métropolitaine, France',\n",
       "   'boundingbox': ['43.0311477', '43.4600382', '1.6887151', '2.7118623']},\n",
       "  {'place_id': 294776788,\n",
       "   'licence': 'Data © OpenStreetMap contributors, ODbL 1.0. http://osm.org/copyright',\n",
       "   'osm_type': 'node',\n",
       "   'osm_id': 154064451,\n",
       "   'lat': '37.1750963',\n",
       "   'lon': '-82.9915513',\n",
       "   'class': 'place',\n",
       "   'type': 'hamlet',\n",
       "   'place_rank': 20,\n",
       "   'importance': 0.25000999999999995,\n",
       "   'addresstype': 'hamlet',\n",
       "   'name': 'Carcassonne',\n",
       "   'display_name': 'Carcassonne, Letcher County, Kentucky, 41804, United States',\n",
       "   'boundingbox': ['37.1550963', '37.1950963', '-83.0115513', '-82.9715513']}],\n",
       " [{'place_id': 71717209,\n",
       "   'licence': 'Data © OpenStreetMap contributors, ODbL 1.0. http://osm.org/copyright',\n",
       "   'osm_type': 'relation',\n",
       "   'osm_id': 7439,\n",
       "   'lat': '42.9455368',\n",
       "   'lon': '1.4065544156065486',\n",
       "   'class': 'boundary',\n",
       "   'type': 'administrative',\n",
       "   'place_rank': 12,\n",
       "   'importance': 0.6389788847826701,\n",
       "   'addresstype': 'county',\n",
       "   'name': 'Ariège',\n",
       "   'display_name': 'Ariège, Occitanie, France métropolitaine, France',\n",
       "   'boundingbox': ['42.5732416', '43.3162514', '0.8267506', '2.1758135']}],\n",
       " [{'place_id': 376147504,\n",
       "   'licence': 'Data © OpenStreetMap contributors, ODbL 1.0. http://osm.org/copyright',\n",
       "   'osm_type': 'relation',\n",
       "   'osm_id': 35738,\n",
       "   'lat': '43.6044622',\n",
       "   'lon': '1.4442469',\n",
       "   'class': 'boundary',\n",
       "   'type': 'administrative',\n",
       "   'place_rank': 16,\n",
       "   'importance': 0.7190266244873726,\n",
       "   'addresstype': 'city',\n",
       "   'name': 'Toulouse',\n",
       "   'display_name': 'Toulouse, Haute-Garonne, Occitanie, France métropolitaine, France',\n",
       "   'boundingbox': ['43.5326540', '43.6687080', '1.3503956', '1.5153795']},\n",
       "  {'place_id': 72904506,\n",
       "   'licence': 'Data © OpenStreetMap contributors, ODbL 1.0. http://osm.org/copyright',\n",
       "   'osm_type': 'relation',\n",
       "   'osm_id': 1649040,\n",
       "   'lat': '43.579275100000004',\n",
       "   'lon': '1.5032717763608257',\n",
       "   'class': 'boundary',\n",
       "   'type': 'administrative',\n",
       "   'place_rank': 14,\n",
       "   'importance': 0.5531459948286951,\n",
       "   'addresstype': 'municipality',\n",
       "   'name': 'Toulouse',\n",
       "   'display_name': 'Toulouse, Haute-Garonne, Occitanie, France métropolitaine, France',\n",
       "   'boundingbox': ['43.2369002', '43.9216357', '0.9523375', '2.0482851']}],\n",
       " [{'place_id': 73289829,\n",
       "   'licence': 'Data © OpenStreetMap contributors, ODbL 1.0. http://osm.org/copyright',\n",
       "   'osm_type': 'relation',\n",
       "   'osm_id': 137735,\n",
       "   'lat': '44.0175835',\n",
       "   'lon': '1.3549991',\n",
       "   'class': 'boundary',\n",
       "   'type': 'administrative',\n",
       "   'place_rank': 16,\n",
       "   'importance': 0.5942314728846864,\n",
       "   'addresstype': 'town',\n",
       "   'name': 'Montauban',\n",
       "   'display_name': 'Montauban, Tarn-et-Garonne, Occitanie, France métropolitaine, 82000, France',\n",
       "   'boundingbox': ['43.9512579', '44.0922122', '1.2865419', '1.4427914']},\n",
       "  {'place_id': 71017644,\n",
       "   'licence': 'Data © OpenStreetMap contributors, ODbL 1.0. http://osm.org/copyright',\n",
       "   'osm_type': 'relation',\n",
       "   'osm_id': 1389237,\n",
       "   'lat': '42.7917916',\n",
       "   'lon': '0.6081298',\n",
       "   'class': 'boundary',\n",
       "   'type': 'administrative',\n",
       "   'place_rank': 16,\n",
       "   'importance': 0.5453725568292895,\n",
       "   'addresstype': 'village',\n",
       "   'name': 'Montauban-de-Luchon',\n",
       "   'display_name': 'Montauban-de-Luchon, Saint-Gaudens, Haute-Garonne, Occitanie, France métropolitaine, 31110, France',\n",
       "   'boundingbox': ['42.7802897', '42.8012540', '0.5994724', '0.6522316']},\n",
       "  {'place_id': 73288656,\n",
       "   'licence': 'Data © OpenStreetMap contributors, ODbL 1.0. http://osm.org/copyright',\n",
       "   'osm_type': 'relation',\n",
       "   'osm_id': 1646846,\n",
       "   'lat': '44.0541438',\n",
       "   'lon': '1.4937961569159295',\n",
       "   'class': 'boundary',\n",
       "   'type': 'administrative',\n",
       "   'place_rank': 14,\n",
       "   'importance': 0.51312912029114,\n",
       "   'addresstype': 'municipality',\n",
       "   'name': 'Montauban',\n",
       "   'display_name': 'Montauban, Tarn-et-Garonne, Occitanie, France métropolitaine, France',\n",
       "   'boundingbox': ['43.7674288', '44.3406002', '1.0578543', '2.0008951']},\n",
       "  {'place_id': 80534720,\n",
       "   'licence': 'Data © OpenStreetMap contributors, ODbL 1.0. http://osm.org/copyright',\n",
       "   'osm_type': 'node',\n",
       "   'osm_id': 10169521638,\n",
       "   'lat': '47.2754666',\n",
       "   'lon': '0.5982411',\n",
       "   'class': 'place',\n",
       "   'type': 'hamlet',\n",
       "   'place_rank': 20,\n",
       "   'importance': 0.25000999999999995,\n",
       "   'addresstype': 'hamlet',\n",
       "   'name': 'Montauban',\n",
       "   'display_name': 'Montauban, Artannes-sur-Indre, Tours, Indre-et-Loire, Centre-Val de Loire, France métropolitaine, 37260, France',\n",
       "   'boundingbox': ['47.2554666', '47.2954666', '0.5782411', '0.6182411']},\n",
       "  {'place_id': 87413708,\n",
       "   'licence': 'Data © OpenStreetMap contributors, ODbL 1.0. http://osm.org/copyright',\n",
       "   'osm_type': 'node',\n",
       "   'osm_id': 11044019273,\n",
       "   'lat': '50.3345473',\n",
       "   'lon': '2.9311556',\n",
       "   'class': 'place',\n",
       "   'type': 'quarter',\n",
       "   'place_rank': 20,\n",
       "   'importance': 0.25000999999999995,\n",
       "   'addresstype': 'quarter',\n",
       "   'name': 'Montauban',\n",
       "   'display_name': 'Montauban, Fresnes-lès-Montauban, Arras, Pas-de-Calais, Hauts-de-France, France métropolitaine, 62490, France',\n",
       "   'boundingbox': ['50.3245473', '50.3445473', '2.9211556', '2.9411556']},\n",
       "  {'place_id': 73498725,\n",
       "   'licence': 'Data © OpenStreetMap contributors, ODbL 1.0. http://osm.org/copyright',\n",
       "   'osm_type': 'node',\n",
       "   'osm_id': 4931595563,\n",
       "   'lat': '45.0964341',\n",
       "   'lon': '0.7075103',\n",
       "   'class': 'place',\n",
       "   'type': 'hamlet',\n",
       "   'place_rank': 20,\n",
       "   'importance': 0.25000999999999995,\n",
       "   'addresstype': 'hamlet',\n",
       "   'name': 'Montauban',\n",
       "   'display_name': 'Montauban, Notre-Dame-de-Sanilhac, Sanilhac, Périgueux, Dordogne, Nouvelle-Aquitaine, France métropolitaine, 24660, France',\n",
       "   'boundingbox': ['45.0764341', '45.1164341', '0.6875103', '0.7275103']},\n",
       "  {'place_id': 248083342,\n",
       "   'licence': 'Data © OpenStreetMap contributors, ODbL 1.0. http://osm.org/copyright',\n",
       "   'osm_type': 'node',\n",
       "   'osm_id': 4575707817,\n",
       "   'lat': '48.1097629',\n",
       "   'lon': '-2.4537307',\n",
       "   'class': 'place',\n",
       "   'type': 'hamlet',\n",
       "   'place_rank': 20,\n",
       "   'importance': 0.25000999999999995,\n",
       "   'addresstype': 'hamlet',\n",
       "   'name': 'Montauban',\n",
       "   'display_name': 'Montauban, Ménéac, Pontivy, Morbihan, Bretagne, France métropolitaine, 56490, France',\n",
       "   'boundingbox': ['48.0897629', '48.1297629', '-2.4737307', '-2.4337307']},\n",
       "  {'place_id': 72901268,\n",
       "   'licence': 'Data © OpenStreetMap contributors, ODbL 1.0. http://osm.org/copyright',\n",
       "   'osm_type': 'node',\n",
       "   'osm_id': 4735046835,\n",
       "   'lat': '44.9907069',\n",
       "   'lon': '0.6135096',\n",
       "   'class': 'place',\n",
       "   'type': 'hamlet',\n",
       "   'place_rank': 20,\n",
       "   'importance': 0.25000999999999995,\n",
       "   'addresstype': 'hamlet',\n",
       "   'name': 'Montauban',\n",
       "   'display_name': 'Montauban, Beauregard-et-Bassac, Périgueux, Dordogne, Nouvelle-Aquitaine, France métropolitaine, 24140, France',\n",
       "   'boundingbox': ['44.9707069', '45.0107069', '0.5935096', '0.6335096']}],\n",
       " [{'place_id': 252865476,\n",
       "   'licence': 'Data © OpenStreetMap contributors, ODbL 1.0. http://osm.org/copyright',\n",
       "   'osm_type': 'relation',\n",
       "   'osm_id': 4615703,\n",
       "   'lat': '43.471143749999996',\n",
       "   'lon': '-1.552726590666314',\n",
       "   'class': 'boundary',\n",
       "   'type': 'political',\n",
       "   'place_rank': 25,\n",
       "   'importance': 0.5796122503321824,\n",
       "   'addresstype': 'political',\n",
       "   'name': 'Biarritz',\n",
       "   'display_name': 'Biarritz, Bayonne, Pyrénées-Atlantiques, Nouvelle-Aquitaine, France métropolitaine, 64200, France',\n",
       "   'boundingbox': ['43.4475698', '43.4945381', '-1.5773906', '-1.5343915']},\n",
       "  {'place_id': 252575406,\n",
       "   'licence': 'Data © OpenStreetMap contributors, ODbL 1.0. http://osm.org/copyright',\n",
       "   'osm_type': 'relation',\n",
       "   'osm_id': 166717,\n",
       "   'lat': '43.4832523',\n",
       "   'lon': '-1.5592776',\n",
       "   'class': 'boundary',\n",
       "   'type': 'administrative',\n",
       "   'place_rank': 16,\n",
       "   'importance': 0.5796122503321824,\n",
       "   'addresstype': 'town',\n",
       "   'name': 'Biarritz',\n",
       "   'display_name': 'Biarritz, Bayonne, Pyrénées-Atlantiques, Nouvelle-Aquitaine, France métropolitaine, 64200, France',\n",
       "   'boundingbox': ['43.4475698', '43.4945381', '-1.5773906', '-1.5343915']},\n",
       "  {'place_id': 252858518,\n",
       "   'licence': 'Data © OpenStreetMap contributors, ODbL 1.0. http://osm.org/copyright',\n",
       "   'osm_type': 'way',\n",
       "   'osm_id': 71985387,\n",
       "   'lat': '43.4593427',\n",
       "   'lon': '-1.5459159530606061',\n",
       "   'class': 'railway',\n",
       "   'type': 'station',\n",
       "   'place_rank': 30,\n",
       "   'importance': 0.3120198789366733,\n",
       "   'addresstype': 'railway',\n",
       "   'name': 'Biarritz',\n",
       "   'display_name': 'Biarritz, Allée du Moura, Lapurdi, Biarritz, Bayonne, Pyrénées-Atlantiques, Nouvelle-Aquitaine, France métropolitaine, 64200, France',\n",
       "   'boundingbox': ['43.4592622', '43.4594209', '-1.5461926', '-1.5456512']},\n",
       "  {'place_id': 13777560,\n",
       "   'licence': 'Data © OpenStreetMap contributors, ODbL 1.0. http://osm.org/copyright',\n",
       "   'osm_type': 'relation',\n",
       "   'osm_id': 2524823,\n",
       "   'lat': '-34.7919388',\n",
       "   'lon': '-55.5062984',\n",
       "   'class': 'boundary',\n",
       "   'type': 'administrative',\n",
       "   'place_rank': 16,\n",
       "   'importance': 0.26358119422996995,\n",
       "   'addresstype': 'hamlet',\n",
       "   'name': 'Biarritz',\n",
       "   'display_name': 'Biarritz, Canelones, 16401, Uruguay',\n",
       "   'boundingbox': ['-34.7977805',\n",
       "    '-34.7856964',\n",
       "    '-55.5290226',\n",
       "    '-55.5033735']},\n",
       "  {'place_id': 265498201,\n",
       "   'licence': 'Data © OpenStreetMap contributors, ODbL 1.0. http://osm.org/copyright',\n",
       "   'osm_type': 'way',\n",
       "   'osm_id': 1061463859,\n",
       "   'lat': '25.81613625',\n",
       "   'lon': '-80.3796736579067',\n",
       "   'class': 'landuse',\n",
       "   'type': 'residential',\n",
       "   'place_rank': 22,\n",
       "   'importance': 0.2000099999999999,\n",
       "   'addresstype': 'residential',\n",
       "   'name': 'Biarritz',\n",
       "   'display_name': 'Biarritz, Doral, Miami-Dade County, Florida, United States',\n",
       "   'boundingbox': ['25.8152287', '25.8170486', '-80.3815898', '-80.3777643']},\n",
       "  {'place_id': 206246652,\n",
       "   'licence': 'Data © OpenStreetMap contributors, ODbL 1.0. http://osm.org/copyright',\n",
       "   'osm_type': 'way',\n",
       "   'osm_id': 667154363,\n",
       "   'lat': '22.3653183',\n",
       "   'lon': '114.0034473617261',\n",
       "   'class': 'landuse',\n",
       "   'type': 'residential',\n",
       "   'place_rank': 22,\n",
       "   'importance': 0.2000099999999999,\n",
       "   'addresstype': 'residential',\n",
       "   'name': '逸海 Biarritz',\n",
       "   'display_name': '逸海 Biarritz, 小欖 Siu Lam, 小欖新村 Siu Lam San Tsuen, 屯門區 Tuen Mun District, 新界 New Territories, 香港 Hong Kong, 中国',\n",
       "   'boundingbox': ['22.3651450', '22.3654757', '114.0032397', '114.0036548']}],\n",
       " [{'place_id': 252689850,\n",
       "   'licence': 'Data © OpenStreetMap contributors, ODbL 1.0. http://osm.org/copyright',\n",
       "   'osm_type': 'relation',\n",
       "   'osm_id': 166713,\n",
       "   'lat': '43.4945144',\n",
       "   'lon': '-1.4736657',\n",
       "   'class': 'boundary',\n",
       "   'type': 'administrative',\n",
       "   'place_rank': 16,\n",
       "   'importance': 0.6027800210035323,\n",
       "   'addresstype': 'town',\n",
       "   'name': 'Bayonne',\n",
       "   'display_name': 'Bayonne, Pyrénées-Atlantiques, Nouvelle-Aquitaine, France métropolitaine, 64100, France',\n",
       "   'boundingbox': ['43.4498733', '43.5188846', '-1.5048438', '-1.4172610']},\n",
       "  {'place_id': 252188442,\n",
       "   'licence': 'Data © OpenStreetMap contributors, ODbL 1.0. http://osm.org/copyright',\n",
       "   'osm_type': 'relation',\n",
       "   'osm_id': 2770753,\n",
       "   'lat': '43.2775332',\n",
       "   'lon': '-1.2087111034758713',\n",
       "   'class': 'boundary',\n",
       "   'type': 'administrative',\n",
       "   'place_rank': 14,\n",
       "   'importance': 0.5363663838590128,\n",
       "   'addresstype': 'municipality',\n",
       "   'name': 'Bayonne',\n",
       "   'display_name': 'Bayonne, Pyrénées-Atlantiques, Nouvelle-Aquitaine, France métropolitaine, France',\n",
       "   'boundingbox': ['43.0076101', '43.5474276', '-1.7910227', '-0.8973720']},\n",
       "  {'place_id': 311414097,\n",
       "   'licence': 'Data © OpenStreetMap contributors, ODbL 1.0. http://osm.org/copyright',\n",
       "   'osm_type': 'relation',\n",
       "   'osm_id': 170504,\n",
       "   'lat': '40.6687141',\n",
       "   'lon': '-74.1143091',\n",
       "   'class': 'boundary',\n",
       "   'type': 'administrative',\n",
       "   'place_rank': 16,\n",
       "   'importance': 0.5288530096855645,\n",
       "   'addresstype': 'city',\n",
       "   'name': 'Bayonne',\n",
       "   'display_name': 'Bayonne, Hudson County, New Jersey, 07002, United States',\n",
       "   'boundingbox': ['40.6419890', '40.7010720', '-74.1614661', '-74.0495940']},\n",
       "  {'place_id': 73983768,\n",
       "   'licence': 'Data © OpenStreetMap contributors, ODbL 1.0. http://osm.org/copyright',\n",
       "   'osm_type': 'node',\n",
       "   'osm_id': 1846698959,\n",
       "   'lat': '44.438205',\n",
       "   'lon': '4.8883211',\n",
       "   'class': 'place',\n",
       "   'type': 'hamlet',\n",
       "   'place_rank': 20,\n",
       "   'importance': 0.25000999999999995,\n",
       "   'addresstype': 'hamlet',\n",
       "   'name': 'Bayonne',\n",
       "   'display_name': 'Bayonne, Grignan, Nyons, Drôme, Auvergne-Rhône-Alpes, France métropolitaine, 26230, France',\n",
       "   'boundingbox': ['44.4182050', '44.4582050', '4.8683211', '4.9083211']},\n",
       "  {'place_id': 285439851,\n",
       "   'licence': 'Data © OpenStreetMap contributors, ODbL 1.0. http://osm.org/copyright',\n",
       "   'osm_type': 'node',\n",
       "   'osm_id': 151892641,\n",
       "   'lat': '42.7855546',\n",
       "   'lon': '-101.9776601',\n",
       "   'class': 'place',\n",
       "   'type': 'hamlet',\n",
       "   'place_rank': 20,\n",
       "   'importance': 0.25000999999999995,\n",
       "   'addresstype': 'hamlet',\n",
       "   'name': 'Bayonne',\n",
       "   'display_name': 'Bayonne, Cherry County, Nebraska, United States',\n",
       "   'boundingbox': ['42.7655546',\n",
       "    '42.8055546',\n",
       "    '-101.9976601',\n",
       "    '-101.9576601']},\n",
       "  {'place_id': 72706104,\n",
       "   'licence': 'Data © OpenStreetMap contributors, ODbL 1.0. http://osm.org/copyright',\n",
       "   'osm_type': 'node',\n",
       "   'osm_id': 4407040041,\n",
       "   'lat': '44.6419992',\n",
       "   'lon': '0.7585094',\n",
       "   'class': 'place',\n",
       "   'type': 'hamlet',\n",
       "   'place_rank': 20,\n",
       "   'importance': 0.25000999999999995,\n",
       "   'addresstype': 'hamlet',\n",
       "   'name': 'Bayonne',\n",
       "   'display_name': 'Bayonne, Parisot, Villeréal, Villeneuve-sur-Lot, Lot-et-Garonne, Nouvelle-Aquitaine, France métropolitaine, 47210, France',\n",
       "   'boundingbox': ['44.6219992', '44.6619992', '0.7385094', '0.7785094']}],\n",
       " [{'place_id': 252542456,\n",
       "   'licence': 'Data © OpenStreetMap contributors, ODbL 1.0. http://osm.org/copyright',\n",
       "   'osm_type': 'relation',\n",
       "   'osm_id': 117858,\n",
       "   'lat': '46.1591126',\n",
       "   'lon': '-1.1520434',\n",
       "   'class': 'boundary',\n",
       "   'type': 'administrative',\n",
       "   'place_rank': 16,\n",
       "   'importance': 0.6409735277294301,\n",
       "   'addresstype': 'city',\n",
       "   'name': 'La Rochelle',\n",
       "   'display_name': 'La Rochelle, Charente-Maritime, Nouvelle-Aquitaine, France métropolitaine, 17000, France',\n",
       "   'boundingbox': ['46.1331804', '46.1908971', '-1.2419231', '-1.1110970']},\n",
       "  {'place_id': 79815967,\n",
       "   'licence': 'Data © OpenStreetMap contributors, ODbL 1.0. http://osm.org/copyright',\n",
       "   'osm_type': 'relation',\n",
       "   'osm_id': 1215878,\n",
       "   'lat': '47.7470598',\n",
       "   'lon': '5.7321403',\n",
       "   'class': 'boundary',\n",
       "   'type': 'administrative',\n",
       "   'place_rank': 16,\n",
       "   'importance': 0.5332911295153212,\n",
       "   'addresstype': 'village',\n",
       "   'name': 'La Rochelle',\n",
       "   'display_name': 'La Rochelle, Vesoul, Haute-Saône, Bourgogne-Franche-Comté, France métropolitaine, 70120, France',\n",
       "   'boundingbox': ['47.7388479', '47.7647325', '5.7060641', '5.7454734']},\n",
       "  {'place_id': 252530303,\n",
       "   'licence': 'Data © OpenStreetMap contributors, ODbL 1.0. http://osm.org/copyright',\n",
       "   'osm_type': 'relation',\n",
       "   'osm_id': 1661547,\n",
       "   'lat': '46.187679599999996',\n",
       "   'lon': '-1.064280735046797',\n",
       "   'class': 'boundary',\n",
       "   'type': 'administrative',\n",
       "   'place_rank': 14,\n",
       "   'importance': 0.5031273472972175,\n",
       "   'addresstype': 'municipality',\n",
       "   'name': 'La Rochelle',\n",
       "   'display_name': 'La Rochelle, Charente-Maritime, Nouvelle-Aquitaine, France métropolitaine, France',\n",
       "   'boundingbox': ['46.0036902', '46.3715027', '-1.5626797', '-0.6805266']},\n",
       "  {'place_id': 28724807,\n",
       "   'licence': 'Data © OpenStreetMap contributors, ODbL 1.0. http://osm.org/copyright',\n",
       "   'osm_type': 'node',\n",
       "   'osm_id': 262708424,\n",
       "   'lat': '-26.2377778',\n",
       "   'lon': '28.0569444',\n",
       "   'class': 'place',\n",
       "   'type': 'suburb',\n",
       "   'place_rank': 19,\n",
       "   'importance': 0.27501,\n",
       "   'addresstype': 'suburb',\n",
       "   'name': 'La Rochelle',\n",
       "   'display_name': 'La Rochelle, Johannesburg Ward 57, Johannesburg, City of Johannesburg Metropolitan Municipality, Gauteng, 2001, South Africa',\n",
       "   'boundingbox': ['-26.2577778', '-26.2177778', '28.0369444', '28.0769444']}]]"
      ]
     },
     "execution_count": 6,
     "metadata": {},
     "output_type": "execute_result"
    }
   ],
   "source": [
    "responses"
   ]
  },
  {
   "cell_type": "markdown",
   "metadata": {},
   "source": [
    "### We save the first responses list in a JSON file\n"
   ]
  },
  {
   "cell_type": "code",
   "execution_count": 159,
   "metadata": {},
   "outputs": [],
   "source": [
    "with open('city_data.json', 'w') as file:\n",
    "    json.dump(responses, file, indent=4)"
   ]
  },
  {
   "cell_type": "markdown",
   "metadata": {},
   "source": [
    "# Creation of a Data frame with the cities coordinates obtained from the first get request"
   ]
  },
  {
   "cell_type": "code",
   "execution_count": 8,
   "metadata": {},
   "outputs": [],
   "source": [
    "city_lat = []\n",
    "city_lon = []\n",
    "city_order = []\n",
    "\n",
    "\n",
    "responses_length = len(responses)\n",
    "\n",
    "for i in range(0, responses_length):\n",
    "    city_lat.append(responses[i][0]['lat'])\n",
    "    city_lon.append(responses[i][0]['lon'])\n",
    "    city_order.append(responses[i][0]['name'])"
   ]
  },
  {
   "cell_type": "code",
   "execution_count": 9,
   "metadata": {},
   "outputs": [],
   "source": [
    "data = {\n",
    "    'City': city_order,\n",
    "    'city_lat': city_lat,\n",
    "    'city_lon': city_lon\n",
    "}\n",
    "\n",
    "df = pd.DataFrame(data)"
   ]
  },
  {
   "cell_type": "code",
   "execution_count": 10,
   "metadata": {},
   "outputs": [
    {
     "data": {
      "text/html": [
       "<div>\n",
       "<style scoped>\n",
       "    .dataframe tbody tr th:only-of-type {\n",
       "        vertical-align: middle;\n",
       "    }\n",
       "\n",
       "    .dataframe tbody tr th {\n",
       "        vertical-align: top;\n",
       "    }\n",
       "\n",
       "    .dataframe thead th {\n",
       "        text-align: right;\n",
       "    }\n",
       "</style>\n",
       "<table border=\"1\" class=\"dataframe\">\n",
       "  <thead>\n",
       "    <tr style=\"text-align: right;\">\n",
       "      <th></th>\n",
       "      <th>City</th>\n",
       "      <th>city_lat</th>\n",
       "      <th>city_lon</th>\n",
       "    </tr>\n",
       "  </thead>\n",
       "  <tbody>\n",
       "    <tr>\n",
       "      <th>0</th>\n",
       "      <td>Mont Saint-Michel</td>\n",
       "      <td>48.6359541</td>\n",
       "      <td>-1.511459954959514</td>\n",
       "    </tr>\n",
       "    <tr>\n",
       "      <th>1</th>\n",
       "      <td>Saint-Malo</td>\n",
       "      <td>48.649518</td>\n",
       "      <td>-2.0260409</td>\n",
       "    </tr>\n",
       "  </tbody>\n",
       "</table>\n",
       "</div>"
      ],
      "text/plain": [
       "                City    city_lat            city_lon\n",
       "0  Mont Saint-Michel  48.6359541  -1.511459954959514\n",
       "1         Saint-Malo   48.649518          -2.0260409"
      ]
     },
     "execution_count": 10,
     "metadata": {},
     "output_type": "execute_result"
    }
   ],
   "source": [
    "df.head(2)"
   ]
  },
  {
   "cell_type": "markdown",
   "metadata": {},
   "source": [
    "Transform all numerical values to float and round(4) so that it can be used to look for data in openweather.org"
   ]
  },
  {
   "cell_type": "code",
   "execution_count": 13,
   "metadata": {},
   "outputs": [
    {
     "data": {
      "text/html": [
       "<div>\n",
       "<style scoped>\n",
       "    .dataframe tbody tr th:only-of-type {\n",
       "        vertical-align: middle;\n",
       "    }\n",
       "\n",
       "    .dataframe tbody tr th {\n",
       "        vertical-align: top;\n",
       "    }\n",
       "\n",
       "    .dataframe thead th {\n",
       "        text-align: right;\n",
       "    }\n",
       "</style>\n",
       "<table border=\"1\" class=\"dataframe\">\n",
       "  <thead>\n",
       "    <tr style=\"text-align: right;\">\n",
       "      <th></th>\n",
       "      <th>City</th>\n",
       "      <th>city_lat</th>\n",
       "      <th>city_lon</th>\n",
       "    </tr>\n",
       "  </thead>\n",
       "  <tbody>\n",
       "    <tr>\n",
       "      <th>0</th>\n",
       "      <td>Mont Saint-Michel</td>\n",
       "      <td>48.6360</td>\n",
       "      <td>-1.5115</td>\n",
       "    </tr>\n",
       "    <tr>\n",
       "      <th>1</th>\n",
       "      <td>Saint-Malo</td>\n",
       "      <td>48.6495</td>\n",
       "      <td>-2.0260</td>\n",
       "    </tr>\n",
       "  </tbody>\n",
       "</table>\n",
       "</div>"
      ],
      "text/plain": [
       "                City  city_lat  city_lon\n",
       "0  Mont Saint-Michel   48.6360   -1.5115\n",
       "1         Saint-Malo   48.6495   -2.0260"
      ]
     },
     "execution_count": 13,
     "metadata": {},
     "output_type": "execute_result"
    }
   ],
   "source": [
    "df['city_lat'] = df['city_lat'].astype(float)\n",
    "df['city_lat'] = df['city_lat'].round(4)\n",
    "\n",
    "df['city_lon'] = df['city_lon'].astype(float)\n",
    "df['city_lon'] = df['city_lon'].round(4)\n",
    "\n",
    "df.head(2)\n"
   ]
  },
  {
   "cell_type": "code",
   "execution_count": 14,
   "metadata": {},
   "outputs": [],
   "source": [
    "df_latitude = df['city_lat']\n",
    "df_longitude = df['city_lon']"
   ]
  },
  {
   "cell_type": "code",
   "execution_count": null,
   "metadata": {},
   "outputs": [],
   "source": [
    "df.to_csv(\"cities_coordinates.csv\")"
   ]
  },
  {
   "cell_type": "markdown",
   "metadata": {},
   "source": [
    "### We look for weather condition information of the 35 cities through the open weather API"
   ]
  },
  {
   "cell_type": "code",
   "execution_count": 15,
   "metadata": {},
   "outputs": [],
   "source": [
    "api_key = 'aee82e4eac7ca3edf808dc34b7f2c175'\n",
    "\n",
    "weather_responses = []\n",
    "\n",
    "# Loop through latitude and longitude pairs\n",
    "for lat, lon in zip(df_latitude, df_longitude):\n",
    "    params = {'lat': lat, \n",
    "              'lon': lon,\n",
    "              'appid': api_key\n",
    "    }\n",
    "    r = requests.get(f'https://api.openweathermap.org/data/2.5/weather?q',params=params)\n",
    "    if r.status_code == 200:\n",
    "        weather_info = r.json()  # Correct the variable to 'r.json()'\n",
    "        weather_responses.append(weather_info)\n",
    "    else:\n",
    "        print(f\"Failed to get data for {lat} and {lon}\")\n"
   ]
  },
  {
   "cell_type": "markdown",
   "metadata": {},
   "source": [
    "#### We save the new data in a json file"
   ]
  },
  {
   "cell_type": "code",
   "execution_count": 211,
   "metadata": {},
   "outputs": [],
   "source": [
    "# Save the responses list to a JSON file\n",
    "with open('weather_responses.json', 'w') as file:\n",
    "    json.dump(weather_responses, file, indent=4)\n"
   ]
  },
  {
   "cell_type": "code",
   "execution_count": 16,
   "metadata": {},
   "outputs": [
    {
     "data": {
      "text/plain": [
       "285.8"
      ]
     },
     "execution_count": 16,
     "metadata": {},
     "output_type": "execute_result"
    }
   ],
   "source": [
    "#Test\n",
    "weather_responses[0]['coord']['lon']\n",
    "weather_responses[1]['main']['temp']"
   ]
  },
  {
   "cell_type": "code",
   "execution_count": 17,
   "metadata": {},
   "outputs": [],
   "source": [
    "weather_length = len(weather_responses)\n",
    "\n",
    "lat_weather = []\n",
    "long_weather = []\n",
    "temperature = []\n",
    "\n",
    "\n",
    "responses_length = len(responses)\n",
    "\n",
    "for i in range(0, weather_length):\n",
    "    lat_weather.append(weather_responses[i]['coord']['lat'])\n",
    "    long_weather.append(weather_responses[i]['coord']['lon'])\n",
    "    temperature.append(weather_responses[i]['main']['temp'])"
   ]
  },
  {
   "cell_type": "code",
   "execution_count": 18,
   "metadata": {},
   "outputs": [
    {
     "data": {
      "text/html": [
       "<div>\n",
       "<style scoped>\n",
       "    .dataframe tbody tr th:only-of-type {\n",
       "        vertical-align: middle;\n",
       "    }\n",
       "\n",
       "    .dataframe tbody tr th {\n",
       "        vertical-align: top;\n",
       "    }\n",
       "\n",
       "    .dataframe thead th {\n",
       "        text-align: right;\n",
       "    }\n",
       "</style>\n",
       "<table border=\"1\" class=\"dataframe\">\n",
       "  <thead>\n",
       "    <tr style=\"text-align: right;\">\n",
       "      <th></th>\n",
       "      <th>City</th>\n",
       "      <th>city_lat</th>\n",
       "      <th>city_lon</th>\n",
       "      <th>lat_weather</th>\n",
       "      <th>long_weather</th>\n",
       "      <th>temperature</th>\n",
       "    </tr>\n",
       "  </thead>\n",
       "  <tbody>\n",
       "    <tr>\n",
       "      <th>0</th>\n",
       "      <td>Mont Saint-Michel</td>\n",
       "      <td>48.6360</td>\n",
       "      <td>-1.5115</td>\n",
       "      <td>48.6360</td>\n",
       "      <td>-1.5115</td>\n",
       "      <td>12.40</td>\n",
       "    </tr>\n",
       "    <tr>\n",
       "      <th>1</th>\n",
       "      <td>Saint-Malo</td>\n",
       "      <td>48.6495</td>\n",
       "      <td>-2.0260</td>\n",
       "      <td>48.6495</td>\n",
       "      <td>-2.0260</td>\n",
       "      <td>12.65</td>\n",
       "    </tr>\n",
       "  </tbody>\n",
       "</table>\n",
       "</div>"
      ],
      "text/plain": [
       "                City  city_lat  city_lon  lat_weather  long_weather  \\\n",
       "0  Mont Saint-Michel   48.6360   -1.5115      48.6360       -1.5115   \n",
       "1         Saint-Malo   48.6495   -2.0260      48.6495       -2.0260   \n",
       "\n",
       "   temperature  \n",
       "0        12.40  \n",
       "1        12.65  "
      ]
     },
     "metadata": {},
     "output_type": "display_data"
    }
   ],
   "source": [
    "\n",
    "df['lat_weather'] = lat_weather\n",
    "df['long_weather'] = long_weather\n",
    "\n",
    "df['temperature'] = temperature\n",
    "#From Kelvin to Celsius\n",
    "df['temperature'] = df['temperature'].apply(lambda x: x - 273.15)\n",
    "\n",
    "#We display df to be sure that the latitude and longitude values are the same\n",
    "display(df.head(2))"
   ]
  },
  {
   "cell_type": "code",
   "execution_count": 19,
   "metadata": {},
   "outputs": [],
   "source": [
    "# We drop 'lat_weather','long_weather' columns because we already checked they are exactly the same values as in 'city_lat' and 'city_lon'\n",
    "df = df.drop(['lat_weather','long_weather'], axis=1)\n"
   ]
  },
  {
   "cell_type": "markdown",
   "metadata": {},
   "source": [
    "### We obtain weather forecast for each coordinate\n"
   ]
  },
  {
   "cell_type": "code",
   "execution_count": 20,
   "metadata": {},
   "outputs": [],
   "source": [
    "\n",
    "api_key = 'aee82e4eac7ca3edf808dc34b7f2c175'\n",
    "\n",
    "weather_forecast = []\n",
    "\n",
    "# Loop through latitude and longitude pairs\n",
    "for lat, lon in zip(df_latitude, df_longitude):\n",
    "    params = {'lat': lat, \n",
    "              'lon': lon,\n",
    "              'appid': api_key\n",
    "    }\n",
    "    r = requests.get(f'https://api.openweathermap.org/data/2.5/forecast?q', params=params) \n",
    "    if r.status_code == 200:\n",
    "        weather_forecast_info = r.json()  # Correct the variable to 'r.json()'\n",
    "        weather_forecast.append(weather_forecast_info)\n",
    "    else:\n",
    "        print(f\"Failed to get data for {lat} and {lon}\")"
   ]
  },
  {
   "cell_type": "markdown",
   "metadata": {},
   "source": [
    "We save the forecast in json file"
   ]
  },
  {
   "cell_type": "code",
   "execution_count": 219,
   "metadata": {},
   "outputs": [],
   "source": [
    "weather_forecast\n",
    "# Save the responses list to a JSON file\n",
    "with open('weather_forecast.json', 'w') as file:\n",
    "    json.dump(weather_forecast, file, indent=4)"
   ]
  },
  {
   "cell_type": "markdown",
   "metadata": {},
   "source": [
    "#### We create a new dataframe with the weather forecast information"
   ]
  },
  {
   "cell_type": "code",
   "execution_count": 22,
   "metadata": {},
   "outputs": [
    {
     "data": {
      "text/html": [
       "<div>\n",
       "<style scoped>\n",
       "    .dataframe tbody tr th:only-of-type {\n",
       "        vertical-align: middle;\n",
       "    }\n",
       "\n",
       "    .dataframe tbody tr th {\n",
       "        vertical-align: top;\n",
       "    }\n",
       "\n",
       "    .dataframe thead th {\n",
       "        text-align: right;\n",
       "    }\n",
       "</style>\n",
       "<table border=\"1\" class=\"dataframe\">\n",
       "  <thead>\n",
       "    <tr style=\"text-align: right;\">\n",
       "      <th></th>\n",
       "      <th>city_lat</th>\n",
       "      <th>city_lon</th>\n",
       "      <th>POP</th>\n",
       "    </tr>\n",
       "  </thead>\n",
       "  <tbody>\n",
       "    <tr>\n",
       "      <th>0</th>\n",
       "      <td>48.636</td>\n",
       "      <td>-1.5115</td>\n",
       "      <td>0.0</td>\n",
       "    </tr>\n",
       "    <tr>\n",
       "      <th>1</th>\n",
       "      <td>48.636</td>\n",
       "      <td>-1.5115</td>\n",
       "      <td>0.2</td>\n",
       "    </tr>\n",
       "  </tbody>\n",
       "</table>\n",
       "</div>"
      ],
      "text/plain": [
       "   city_lat  city_lon  POP\n",
       "0    48.636   -1.5115  0.0\n",
       "1    48.636   -1.5115  0.2"
      ]
     },
     "execution_count": 22,
     "metadata": {},
     "output_type": "execute_result"
    }
   ],
   "source": [
    "data = []\n",
    "\n",
    "for i in range(0, 35):\n",
    "    for x in range(0, 5):\n",
    "        city_lat = weather_forecast[i]['city']['coord']['lat']\n",
    "        city_lon = weather_forecast[i]['city']['coord']['lon']\n",
    "        pop = weather_forecast[i]['list'][x]['pop']\n",
    "        data.append({'city_lat': city_lat, 'city_lon' : city_lon, 'POP': pop})\n",
    "\n",
    "# Create DataFrame\n",
    "df_weather = pd.DataFrame(data)\n",
    "\n",
    "# Display the DataFrame\n",
    "df_weather.head(2)"
   ]
  },
  {
   "cell_type": "code",
   "execution_count": null,
   "metadata": {},
   "outputs": [],
   "source": [
    "#we create a csv file with the data about POP for the next days in the 35 selected cities\n",
    "df_weather.to_csv(\"cities_pop.csv\")"
   ]
  },
  {
   "cell_type": "markdown",
   "metadata": {},
   "source": [
    "Reshape of the dataframe"
   ]
  },
  {
   "cell_type": "code",
   "execution_count": 231,
   "metadata": {},
   "outputs": [
    {
     "name": "stdout",
     "output_type": "stream",
     "text": [
      "     city_lat  city_lon  POP  pop_id\n",
      "0     48.6360   -1.5115  0.0       1\n",
      "1     48.6360   -1.5115  0.0       2\n",
      "2     48.6360   -1.5115  0.0       3\n",
      "3     48.6360   -1.5115  0.0       4\n",
      "4     48.6360   -1.5115  0.0       5\n",
      "..        ...       ...  ...     ...\n",
      "170   46.1591   -1.1520  0.0       1\n",
      "171   46.1591   -1.1520  0.0       2\n",
      "172   46.1591   -1.1520  0.0       3\n",
      "173   46.1591   -1.1520  0.0       4\n",
      "174   46.1591   -1.1520  0.0       5\n",
      "\n",
      "[175 rows x 4 columns]\n"
     ]
    }
   ],
   "source": [
    "# We create a unique identifier for the probability of precipitation (POP) for the next 5 days POP 1, 2, 3, 4, 5\n",
    "df_weather['pop_id'] = df_weather.groupby(['city_lat', 'city_lon']).cumcount() + 1\n",
    "\n",
    "print(df_weather)"
   ]
  },
  {
   "cell_type": "markdown",
   "metadata": {},
   "source": [
    "#### reshape the dataframe"
   ]
  },
  {
   "cell_type": "code",
   "execution_count": 232,
   "metadata": {},
   "outputs": [
    {
     "name": "stdout",
     "output_type": "stream",
     "text": [
      "    city_lat  city_lon  POP_1  POP_2  POP_3  POP_4  POP_5\n",
      "0    42.5250    3.0832    0.0   0.00   0.00    0.0    0.0\n",
      "1    42.9455    1.4066    0.0   0.00   0.00    0.0    0.0\n",
      "2    43.1507    6.3419    0.0   0.00   0.00    0.0    0.0\n",
      "3    43.2130    2.3491    0.0   0.00   0.00    0.0    0.0\n",
      "4    43.2140    5.5396    0.0   0.00   0.00    0.0    0.0\n",
      "5    43.2962    5.3700    0.0   0.00   0.00    0.0    0.0\n",
      "6    43.4516    4.4277    0.0   0.00   0.00    0.0    0.0\n",
      "7    43.4711   -1.5527    0.0   0.00   0.00    0.0    0.0\n",
      "8    43.4945   -1.4737    0.0   0.00   0.00    0.0    0.0\n",
      "9    43.5298    5.4475    0.0   0.00   0.00    0.0    0.0\n",
      "10   43.5662    4.1915    0.0   0.00   0.00    0.0    0.0\n",
      "11   43.6045    1.4442    0.0   0.00   0.00    0.0    0.0\n",
      "12   43.7497    6.3286    0.0   0.00   0.00    0.0    0.0\n",
      "13   43.8374    4.3601    0.0   0.00   0.00    0.0    0.0\n",
      "14   43.9492    4.8059    0.0   0.00   0.00    0.0    0.0\n",
      "15   44.0121    4.4197    0.0   0.00   0.00    0.0    0.0\n",
      "16   44.0176    1.3550    0.0   0.00   0.00    0.0    0.0\n",
      "17   45.1876    5.7358    0.0   0.00   0.00    0.0    0.0\n",
      "18   45.7578    4.8320    0.0   0.00   0.00    0.0    0.0\n",
      "19   45.8992    6.1289    0.0   0.00   0.00    0.0    0.0\n",
      "20   46.1591   -1.1520    0.0   0.00   0.00    0.0    0.0\n",
      "21   47.2380    6.0244    0.0   0.00   0.00    0.0    0.0\n",
      "22   47.3216    5.0415    0.0   0.00   0.00    0.0    0.0\n",
      "23   48.0448    7.3080    0.2   0.20   0.20    0.0    0.0\n",
      "24   48.0778    7.3580    0.2   0.20   0.20    0.0    0.0\n",
      "25   48.2494    7.3443    0.2   0.20   0.00    0.0    0.0\n",
      "26   48.5846    7.7507    0.2   0.00   0.00    0.0    0.0\n",
      "27   48.6360   -1.5115    0.0   0.00   0.00    0.0    0.0\n",
      "28   48.8589    2.3200    0.0   0.00   0.00    0.0    0.0\n",
      "29   49.2765   -0.7025    0.0   0.00   0.00    0.0    0.0\n",
      "30   49.3147  -96.9538    0.0   0.00   0.00    0.0    0.0\n",
      "31   49.4405    1.0940    0.0   0.00   0.00    0.0    0.0\n",
      "32   49.4939    0.1080    0.0   0.00   0.00    0.0    0.0\n",
      "33   49.8942    2.2957    0.2   0.37   0.20    0.0    0.0\n",
      "34   50.6366    3.0635    1.0   0.57   0.23    0.0    0.0\n"
     ]
    }
   ],
   "source": [
    "#Pivot\n",
    "# reshape the dataframe\n",
    "df_weather_pivot = df_weather.pivot(index=['city_lat', 'city_lon'], columns='pop_id', values='POP')\n",
    "\n",
    "# Flatten the MultiIndex columns\n",
    "df_weather_pivot.columns = [f'POP_{col}' for col in df_weather_pivot.columns]\n",
    "\n",
    "# Reset index to turn MultiIndex into columns\n",
    "df_weather_pivot.reset_index(inplace=True)\n",
    "\n",
    "print(df_weather_pivot)"
   ]
  },
  {
   "cell_type": "markdown",
   "metadata": {},
   "source": [
    "#### Merge with the orginal dataframe with the cities' name"
   ]
  },
  {
   "cell_type": "code",
   "execution_count": 234,
   "metadata": {},
   "outputs": [
    {
     "data": {
      "text/html": [
       "<div>\n",
       "<style scoped>\n",
       "    .dataframe tbody tr th:only-of-type {\n",
       "        vertical-align: middle;\n",
       "    }\n",
       "\n",
       "    .dataframe tbody tr th {\n",
       "        vertical-align: top;\n",
       "    }\n",
       "\n",
       "    .dataframe thead th {\n",
       "        text-align: right;\n",
       "    }\n",
       "</style>\n",
       "<table border=\"1\" class=\"dataframe\">\n",
       "  <thead>\n",
       "    <tr style=\"text-align: right;\">\n",
       "      <th></th>\n",
       "      <th>City</th>\n",
       "      <th>city_lat</th>\n",
       "      <th>city_lon</th>\n",
       "      <th>temperature</th>\n",
       "      <th>POP_1</th>\n",
       "      <th>POP_2</th>\n",
       "      <th>POP_3</th>\n",
       "      <th>POP_4</th>\n",
       "      <th>POP_5</th>\n",
       "    </tr>\n",
       "  </thead>\n",
       "  <tbody>\n",
       "    <tr>\n",
       "      <th>0</th>\n",
       "      <td>Mont Saint-Michel</td>\n",
       "      <td>48.6360</td>\n",
       "      <td>-1.5115</td>\n",
       "      <td>19.06</td>\n",
       "      <td>0.0</td>\n",
       "      <td>0.00</td>\n",
       "      <td>0.00</td>\n",
       "      <td>0.0</td>\n",
       "      <td>0.0</td>\n",
       "    </tr>\n",
       "    <tr>\n",
       "      <th>1</th>\n",
       "      <td>St. Malo</td>\n",
       "      <td>49.3147</td>\n",
       "      <td>-96.9538</td>\n",
       "      <td>9.91</td>\n",
       "      <td>0.0</td>\n",
       "      <td>0.00</td>\n",
       "      <td>0.00</td>\n",
       "      <td>0.0</td>\n",
       "      <td>0.0</td>\n",
       "    </tr>\n",
       "    <tr>\n",
       "      <th>2</th>\n",
       "      <td>Bayeux</td>\n",
       "      <td>49.2765</td>\n",
       "      <td>-0.7025</td>\n",
       "      <td>19.14</td>\n",
       "      <td>0.0</td>\n",
       "      <td>0.00</td>\n",
       "      <td>0.00</td>\n",
       "      <td>0.0</td>\n",
       "      <td>0.0</td>\n",
       "    </tr>\n",
       "    <tr>\n",
       "      <th>3</th>\n",
       "      <td>Le Havre</td>\n",
       "      <td>49.4939</td>\n",
       "      <td>0.1080</td>\n",
       "      <td>17.51</td>\n",
       "      <td>0.0</td>\n",
       "      <td>0.00</td>\n",
       "      <td>0.00</td>\n",
       "      <td>0.0</td>\n",
       "      <td>0.0</td>\n",
       "    </tr>\n",
       "    <tr>\n",
       "      <th>4</th>\n",
       "      <td>Rouen</td>\n",
       "      <td>49.4405</td>\n",
       "      <td>1.0940</td>\n",
       "      <td>19.34</td>\n",
       "      <td>0.0</td>\n",
       "      <td>0.00</td>\n",
       "      <td>0.00</td>\n",
       "      <td>0.0</td>\n",
       "      <td>0.0</td>\n",
       "    </tr>\n",
       "    <tr>\n",
       "      <th>5</th>\n",
       "      <td>Paris</td>\n",
       "      <td>48.8589</td>\n",
       "      <td>2.3200</td>\n",
       "      <td>20.84</td>\n",
       "      <td>0.0</td>\n",
       "      <td>0.00</td>\n",
       "      <td>0.00</td>\n",
       "      <td>0.0</td>\n",
       "      <td>0.0</td>\n",
       "    </tr>\n",
       "    <tr>\n",
       "      <th>6</th>\n",
       "      <td>Amiens</td>\n",
       "      <td>49.8942</td>\n",
       "      <td>2.2957</td>\n",
       "      <td>19.20</td>\n",
       "      <td>0.2</td>\n",
       "      <td>0.37</td>\n",
       "      <td>0.20</td>\n",
       "      <td>0.0</td>\n",
       "      <td>0.0</td>\n",
       "    </tr>\n",
       "    <tr>\n",
       "      <th>7</th>\n",
       "      <td>Lille</td>\n",
       "      <td>50.6366</td>\n",
       "      <td>3.0635</td>\n",
       "      <td>20.22</td>\n",
       "      <td>1.0</td>\n",
       "      <td>0.57</td>\n",
       "      <td>0.23</td>\n",
       "      <td>0.0</td>\n",
       "      <td>0.0</td>\n",
       "    </tr>\n",
       "    <tr>\n",
       "      <th>8</th>\n",
       "      <td>Strasbourg</td>\n",
       "      <td>48.5846</td>\n",
       "      <td>7.7507</td>\n",
       "      <td>22.96</td>\n",
       "      <td>0.2</td>\n",
       "      <td>0.00</td>\n",
       "      <td>0.00</td>\n",
       "      <td>0.0</td>\n",
       "      <td>0.0</td>\n",
       "    </tr>\n",
       "    <tr>\n",
       "      <th>9</th>\n",
       "      <td>Château du Haut-Kœnigsbourg</td>\n",
       "      <td>48.2494</td>\n",
       "      <td>7.3443</td>\n",
       "      <td>19.15</td>\n",
       "      <td>0.2</td>\n",
       "      <td>0.20</td>\n",
       "      <td>0.00</td>\n",
       "      <td>0.0</td>\n",
       "      <td>0.0</td>\n",
       "    </tr>\n",
       "    <tr>\n",
       "      <th>10</th>\n",
       "      <td>Colmar</td>\n",
       "      <td>48.0778</td>\n",
       "      <td>7.3580</td>\n",
       "      <td>22.60</td>\n",
       "      <td>0.2</td>\n",
       "      <td>0.20</td>\n",
       "      <td>0.20</td>\n",
       "      <td>0.0</td>\n",
       "      <td>0.0</td>\n",
       "    </tr>\n",
       "    <tr>\n",
       "      <th>11</th>\n",
       "      <td>Eguisheim</td>\n",
       "      <td>48.0448</td>\n",
       "      <td>7.3080</td>\n",
       "      <td>22.21</td>\n",
       "      <td>0.2</td>\n",
       "      <td>0.20</td>\n",
       "      <td>0.20</td>\n",
       "      <td>0.0</td>\n",
       "      <td>0.0</td>\n",
       "    </tr>\n",
       "    <tr>\n",
       "      <th>12</th>\n",
       "      <td>Besançon</td>\n",
       "      <td>47.2380</td>\n",
       "      <td>6.0244</td>\n",
       "      <td>23.57</td>\n",
       "      <td>0.0</td>\n",
       "      <td>0.00</td>\n",
       "      <td>0.00</td>\n",
       "      <td>0.0</td>\n",
       "      <td>0.0</td>\n",
       "    </tr>\n",
       "    <tr>\n",
       "      <th>13</th>\n",
       "      <td>Dijon</td>\n",
       "      <td>47.3216</td>\n",
       "      <td>5.0415</td>\n",
       "      <td>22.80</td>\n",
       "      <td>0.0</td>\n",
       "      <td>0.00</td>\n",
       "      <td>0.00</td>\n",
       "      <td>0.0</td>\n",
       "      <td>0.0</td>\n",
       "    </tr>\n",
       "    <tr>\n",
       "      <th>14</th>\n",
       "      <td>Annecy</td>\n",
       "      <td>45.8992</td>\n",
       "      <td>6.1289</td>\n",
       "      <td>22.98</td>\n",
       "      <td>0.0</td>\n",
       "      <td>0.00</td>\n",
       "      <td>0.00</td>\n",
       "      <td>0.0</td>\n",
       "      <td>0.0</td>\n",
       "    </tr>\n",
       "    <tr>\n",
       "      <th>15</th>\n",
       "      <td>Grenoble</td>\n",
       "      <td>45.1876</td>\n",
       "      <td>5.7358</td>\n",
       "      <td>23.64</td>\n",
       "      <td>0.0</td>\n",
       "      <td>0.00</td>\n",
       "      <td>0.00</td>\n",
       "      <td>0.0</td>\n",
       "      <td>0.0</td>\n",
       "    </tr>\n",
       "    <tr>\n",
       "      <th>16</th>\n",
       "      <td>Lyon</td>\n",
       "      <td>45.7578</td>\n",
       "      <td>4.8320</td>\n",
       "      <td>23.37</td>\n",
       "      <td>0.0</td>\n",
       "      <td>0.00</td>\n",
       "      <td>0.00</td>\n",
       "      <td>0.0</td>\n",
       "      <td>0.0</td>\n",
       "    </tr>\n",
       "    <tr>\n",
       "      <th>17</th>\n",
       "      <td>Gorges du Verdon</td>\n",
       "      <td>43.7497</td>\n",
       "      <td>6.3286</td>\n",
       "      <td>26.65</td>\n",
       "      <td>0.0</td>\n",
       "      <td>0.00</td>\n",
       "      <td>0.00</td>\n",
       "      <td>0.0</td>\n",
       "      <td>0.0</td>\n",
       "    </tr>\n",
       "    <tr>\n",
       "      <th>18</th>\n",
       "      <td>Bormes-les-Mimosas</td>\n",
       "      <td>43.1507</td>\n",
       "      <td>6.3419</td>\n",
       "      <td>26.52</td>\n",
       "      <td>0.0</td>\n",
       "      <td>0.00</td>\n",
       "      <td>0.00</td>\n",
       "      <td>0.0</td>\n",
       "      <td>0.0</td>\n",
       "    </tr>\n",
       "    <tr>\n",
       "      <th>19</th>\n",
       "      <td>Cassis</td>\n",
       "      <td>43.2140</td>\n",
       "      <td>5.5396</td>\n",
       "      <td>26.30</td>\n",
       "      <td>0.0</td>\n",
       "      <td>0.00</td>\n",
       "      <td>0.00</td>\n",
       "      <td>0.0</td>\n",
       "      <td>0.0</td>\n",
       "    </tr>\n",
       "    <tr>\n",
       "      <th>20</th>\n",
       "      <td>Marseille</td>\n",
       "      <td>43.2962</td>\n",
       "      <td>5.3700</td>\n",
       "      <td>26.65</td>\n",
       "      <td>0.0</td>\n",
       "      <td>0.00</td>\n",
       "      <td>0.00</td>\n",
       "      <td>0.0</td>\n",
       "      <td>0.0</td>\n",
       "    </tr>\n",
       "    <tr>\n",
       "      <th>21</th>\n",
       "      <td>Aix-en-Provence</td>\n",
       "      <td>43.5298</td>\n",
       "      <td>5.4475</td>\n",
       "      <td>25.15</td>\n",
       "      <td>0.0</td>\n",
       "      <td>0.00</td>\n",
       "      <td>0.00</td>\n",
       "      <td>0.0</td>\n",
       "      <td>0.0</td>\n",
       "    </tr>\n",
       "    <tr>\n",
       "      <th>22</th>\n",
       "      <td>Avignon</td>\n",
       "      <td>43.9492</td>\n",
       "      <td>4.8059</td>\n",
       "      <td>26.42</td>\n",
       "      <td>0.0</td>\n",
       "      <td>0.00</td>\n",
       "      <td>0.00</td>\n",
       "      <td>0.0</td>\n",
       "      <td>0.0</td>\n",
       "    </tr>\n",
       "    <tr>\n",
       "      <th>23</th>\n",
       "      <td>Uzès</td>\n",
       "      <td>44.0121</td>\n",
       "      <td>4.4197</td>\n",
       "      <td>25.68</td>\n",
       "      <td>0.0</td>\n",
       "      <td>0.00</td>\n",
       "      <td>0.00</td>\n",
       "      <td>0.0</td>\n",
       "      <td>0.0</td>\n",
       "    </tr>\n",
       "    <tr>\n",
       "      <th>24</th>\n",
       "      <td>Nîmes</td>\n",
       "      <td>43.8374</td>\n",
       "      <td>4.3601</td>\n",
       "      <td>27.22</td>\n",
       "      <td>0.0</td>\n",
       "      <td>0.00</td>\n",
       "      <td>0.00</td>\n",
       "      <td>0.0</td>\n",
       "      <td>0.0</td>\n",
       "    </tr>\n",
       "    <tr>\n",
       "      <th>25</th>\n",
       "      <td>Aigues-Mortes</td>\n",
       "      <td>43.5662</td>\n",
       "      <td>4.1915</td>\n",
       "      <td>27.95</td>\n",
       "      <td>0.0</td>\n",
       "      <td>0.00</td>\n",
       "      <td>0.00</td>\n",
       "      <td>0.0</td>\n",
       "      <td>0.0</td>\n",
       "    </tr>\n",
       "    <tr>\n",
       "      <th>26</th>\n",
       "      <td>Saintes-Maries-de-la-Mer</td>\n",
       "      <td>43.4516</td>\n",
       "      <td>4.4277</td>\n",
       "      <td>27.59</td>\n",
       "      <td>0.0</td>\n",
       "      <td>0.00</td>\n",
       "      <td>0.00</td>\n",
       "      <td>0.0</td>\n",
       "      <td>0.0</td>\n",
       "    </tr>\n",
       "    <tr>\n",
       "      <th>27</th>\n",
       "      <td>Collioure</td>\n",
       "      <td>42.5250</td>\n",
       "      <td>3.0832</td>\n",
       "      <td>27.46</td>\n",
       "      <td>0.0</td>\n",
       "      <td>0.00</td>\n",
       "      <td>0.00</td>\n",
       "      <td>0.0</td>\n",
       "      <td>0.0</td>\n",
       "    </tr>\n",
       "    <tr>\n",
       "      <th>28</th>\n",
       "      <td>Carcassonne</td>\n",
       "      <td>43.2130</td>\n",
       "      <td>2.3491</td>\n",
       "      <td>25.30</td>\n",
       "      <td>0.0</td>\n",
       "      <td>0.00</td>\n",
       "      <td>0.00</td>\n",
       "      <td>0.0</td>\n",
       "      <td>0.0</td>\n",
       "    </tr>\n",
       "    <tr>\n",
       "      <th>29</th>\n",
       "      <td>Ariège</td>\n",
       "      <td>42.9455</td>\n",
       "      <td>1.4066</td>\n",
       "      <td>18.18</td>\n",
       "      <td>0.0</td>\n",
       "      <td>0.00</td>\n",
       "      <td>0.00</td>\n",
       "      <td>0.0</td>\n",
       "      <td>0.0</td>\n",
       "    </tr>\n",
       "    <tr>\n",
       "      <th>30</th>\n",
       "      <td>Toulouse</td>\n",
       "      <td>43.6045</td>\n",
       "      <td>1.4442</td>\n",
       "      <td>21.97</td>\n",
       "      <td>0.0</td>\n",
       "      <td>0.00</td>\n",
       "      <td>0.00</td>\n",
       "      <td>0.0</td>\n",
       "      <td>0.0</td>\n",
       "    </tr>\n",
       "    <tr>\n",
       "      <th>31</th>\n",
       "      <td>Montauban</td>\n",
       "      <td>44.0176</td>\n",
       "      <td>1.3550</td>\n",
       "      <td>22.28</td>\n",
       "      <td>0.0</td>\n",
       "      <td>0.00</td>\n",
       "      <td>0.00</td>\n",
       "      <td>0.0</td>\n",
       "      <td>0.0</td>\n",
       "    </tr>\n",
       "    <tr>\n",
       "      <th>32</th>\n",
       "      <td>Biarritz</td>\n",
       "      <td>43.4711</td>\n",
       "      <td>-1.5527</td>\n",
       "      <td>21.10</td>\n",
       "      <td>0.0</td>\n",
       "      <td>0.00</td>\n",
       "      <td>0.00</td>\n",
       "      <td>0.0</td>\n",
       "      <td>0.0</td>\n",
       "    </tr>\n",
       "    <tr>\n",
       "      <th>33</th>\n",
       "      <td>Bayonne</td>\n",
       "      <td>43.4945</td>\n",
       "      <td>-1.4737</td>\n",
       "      <td>21.57</td>\n",
       "      <td>0.0</td>\n",
       "      <td>0.00</td>\n",
       "      <td>0.00</td>\n",
       "      <td>0.0</td>\n",
       "      <td>0.0</td>\n",
       "    </tr>\n",
       "    <tr>\n",
       "      <th>34</th>\n",
       "      <td>La Rochelle</td>\n",
       "      <td>46.1591</td>\n",
       "      <td>-1.1520</td>\n",
       "      <td>19.29</td>\n",
       "      <td>0.0</td>\n",
       "      <td>0.00</td>\n",
       "      <td>0.00</td>\n",
       "      <td>0.0</td>\n",
       "      <td>0.0</td>\n",
       "    </tr>\n",
       "  </tbody>\n",
       "</table>\n",
       "</div>"
      ],
      "text/plain": [
       "                           City  city_lat  city_lon  temperature  POP_1  \\\n",
       "0             Mont Saint-Michel   48.6360   -1.5115        19.06    0.0   \n",
       "1                      St. Malo   49.3147  -96.9538         9.91    0.0   \n",
       "2                        Bayeux   49.2765   -0.7025        19.14    0.0   \n",
       "3                      Le Havre   49.4939    0.1080        17.51    0.0   \n",
       "4                         Rouen   49.4405    1.0940        19.34    0.0   \n",
       "5                         Paris   48.8589    2.3200        20.84    0.0   \n",
       "6                        Amiens   49.8942    2.2957        19.20    0.2   \n",
       "7                         Lille   50.6366    3.0635        20.22    1.0   \n",
       "8                    Strasbourg   48.5846    7.7507        22.96    0.2   \n",
       "9   Château du Haut-Kœnigsbourg   48.2494    7.3443        19.15    0.2   \n",
       "10                       Colmar   48.0778    7.3580        22.60    0.2   \n",
       "11                    Eguisheim   48.0448    7.3080        22.21    0.2   \n",
       "12                     Besançon   47.2380    6.0244        23.57    0.0   \n",
       "13                        Dijon   47.3216    5.0415        22.80    0.0   \n",
       "14                       Annecy   45.8992    6.1289        22.98    0.0   \n",
       "15                     Grenoble   45.1876    5.7358        23.64    0.0   \n",
       "16                         Lyon   45.7578    4.8320        23.37    0.0   \n",
       "17             Gorges du Verdon   43.7497    6.3286        26.65    0.0   \n",
       "18           Bormes-les-Mimosas   43.1507    6.3419        26.52    0.0   \n",
       "19                       Cassis   43.2140    5.5396        26.30    0.0   \n",
       "20                    Marseille   43.2962    5.3700        26.65    0.0   \n",
       "21              Aix-en-Provence   43.5298    5.4475        25.15    0.0   \n",
       "22                      Avignon   43.9492    4.8059        26.42    0.0   \n",
       "23                         Uzès   44.0121    4.4197        25.68    0.0   \n",
       "24                        Nîmes   43.8374    4.3601        27.22    0.0   \n",
       "25                Aigues-Mortes   43.5662    4.1915        27.95    0.0   \n",
       "26     Saintes-Maries-de-la-Mer   43.4516    4.4277        27.59    0.0   \n",
       "27                    Collioure   42.5250    3.0832        27.46    0.0   \n",
       "28                  Carcassonne   43.2130    2.3491        25.30    0.0   \n",
       "29                       Ariège   42.9455    1.4066        18.18    0.0   \n",
       "30                     Toulouse   43.6045    1.4442        21.97    0.0   \n",
       "31                    Montauban   44.0176    1.3550        22.28    0.0   \n",
       "32                     Biarritz   43.4711   -1.5527        21.10    0.0   \n",
       "33                      Bayonne   43.4945   -1.4737        21.57    0.0   \n",
       "34                  La Rochelle   46.1591   -1.1520        19.29    0.0   \n",
       "\n",
       "    POP_2  POP_3  POP_4  POP_5  \n",
       "0    0.00   0.00    0.0    0.0  \n",
       "1    0.00   0.00    0.0    0.0  \n",
       "2    0.00   0.00    0.0    0.0  \n",
       "3    0.00   0.00    0.0    0.0  \n",
       "4    0.00   0.00    0.0    0.0  \n",
       "5    0.00   0.00    0.0    0.0  \n",
       "6    0.37   0.20    0.0    0.0  \n",
       "7    0.57   0.23    0.0    0.0  \n",
       "8    0.00   0.00    0.0    0.0  \n",
       "9    0.20   0.00    0.0    0.0  \n",
       "10   0.20   0.20    0.0    0.0  \n",
       "11   0.20   0.20    0.0    0.0  \n",
       "12   0.00   0.00    0.0    0.0  \n",
       "13   0.00   0.00    0.0    0.0  \n",
       "14   0.00   0.00    0.0    0.0  \n",
       "15   0.00   0.00    0.0    0.0  \n",
       "16   0.00   0.00    0.0    0.0  \n",
       "17   0.00   0.00    0.0    0.0  \n",
       "18   0.00   0.00    0.0    0.0  \n",
       "19   0.00   0.00    0.0    0.0  \n",
       "20   0.00   0.00    0.0    0.0  \n",
       "21   0.00   0.00    0.0    0.0  \n",
       "22   0.00   0.00    0.0    0.0  \n",
       "23   0.00   0.00    0.0    0.0  \n",
       "24   0.00   0.00    0.0    0.0  \n",
       "25   0.00   0.00    0.0    0.0  \n",
       "26   0.00   0.00    0.0    0.0  \n",
       "27   0.00   0.00    0.0    0.0  \n",
       "28   0.00   0.00    0.0    0.0  \n",
       "29   0.00   0.00    0.0    0.0  \n",
       "30   0.00   0.00    0.0    0.0  \n",
       "31   0.00   0.00    0.0    0.0  \n",
       "32   0.00   0.00    0.0    0.0  \n",
       "33   0.00   0.00    0.0    0.0  \n",
       "34   0.00   0.00    0.0    0.0  "
      ]
     },
     "execution_count": 234,
     "metadata": {},
     "output_type": "execute_result"
    }
   ],
   "source": [
    "forecast = pd.merge(df, df_weather_pivot, on=['city_lat', 'city_lon'], how='left')\n",
    "\n",
    "forecast"
   ]
  },
  {
   "cell_type": "markdown",
   "metadata": {},
   "source": [
    "Save the data to csv file"
   ]
  },
  {
   "cell_type": "code",
   "execution_count": 241,
   "metadata": {},
   "outputs": [
    {
     "data": {
      "text/html": [
       "<div>\n",
       "<style scoped>\n",
       "    .dataframe tbody tr th:only-of-type {\n",
       "        vertical-align: middle;\n",
       "    }\n",
       "\n",
       "    .dataframe tbody tr th {\n",
       "        vertical-align: top;\n",
       "    }\n",
       "\n",
       "    .dataframe thead th {\n",
       "        text-align: right;\n",
       "    }\n",
       "</style>\n",
       "<table border=\"1\" class=\"dataframe\">\n",
       "  <thead>\n",
       "    <tr style=\"text-align: right;\">\n",
       "      <th></th>\n",
       "      <th>city_id</th>\n",
       "      <th>City</th>\n",
       "      <th>city_lat</th>\n",
       "      <th>city_lon</th>\n",
       "      <th>temperature</th>\n",
       "      <th>POP_1</th>\n",
       "      <th>POP_2</th>\n",
       "      <th>POP_3</th>\n",
       "      <th>POP_4</th>\n",
       "      <th>POP_5</th>\n",
       "    </tr>\n",
       "  </thead>\n",
       "  <tbody>\n",
       "    <tr>\n",
       "      <th>0</th>\n",
       "      <td>1</td>\n",
       "      <td>Mont Saint-Michel</td>\n",
       "      <td>48.6360</td>\n",
       "      <td>-1.5115</td>\n",
       "      <td>19.06</td>\n",
       "      <td>0.0</td>\n",
       "      <td>0.00</td>\n",
       "      <td>0.00</td>\n",
       "      <td>0.0</td>\n",
       "      <td>0.0</td>\n",
       "    </tr>\n",
       "    <tr>\n",
       "      <th>1</th>\n",
       "      <td>2</td>\n",
       "      <td>St. Malo</td>\n",
       "      <td>49.3147</td>\n",
       "      <td>-96.9538</td>\n",
       "      <td>9.91</td>\n",
       "      <td>0.0</td>\n",
       "      <td>0.00</td>\n",
       "      <td>0.00</td>\n",
       "      <td>0.0</td>\n",
       "      <td>0.0</td>\n",
       "    </tr>\n",
       "    <tr>\n",
       "      <th>2</th>\n",
       "      <td>3</td>\n",
       "      <td>Bayeux</td>\n",
       "      <td>49.2765</td>\n",
       "      <td>-0.7025</td>\n",
       "      <td>19.14</td>\n",
       "      <td>0.0</td>\n",
       "      <td>0.00</td>\n",
       "      <td>0.00</td>\n",
       "      <td>0.0</td>\n",
       "      <td>0.0</td>\n",
       "    </tr>\n",
       "    <tr>\n",
       "      <th>3</th>\n",
       "      <td>4</td>\n",
       "      <td>Le Havre</td>\n",
       "      <td>49.4939</td>\n",
       "      <td>0.1080</td>\n",
       "      <td>17.51</td>\n",
       "      <td>0.0</td>\n",
       "      <td>0.00</td>\n",
       "      <td>0.00</td>\n",
       "      <td>0.0</td>\n",
       "      <td>0.0</td>\n",
       "    </tr>\n",
       "    <tr>\n",
       "      <th>4</th>\n",
       "      <td>5</td>\n",
       "      <td>Rouen</td>\n",
       "      <td>49.4405</td>\n",
       "      <td>1.0940</td>\n",
       "      <td>19.34</td>\n",
       "      <td>0.0</td>\n",
       "      <td>0.00</td>\n",
       "      <td>0.00</td>\n",
       "      <td>0.0</td>\n",
       "      <td>0.0</td>\n",
       "    </tr>\n",
       "    <tr>\n",
       "      <th>5</th>\n",
       "      <td>6</td>\n",
       "      <td>Paris</td>\n",
       "      <td>48.8589</td>\n",
       "      <td>2.3200</td>\n",
       "      <td>20.84</td>\n",
       "      <td>0.0</td>\n",
       "      <td>0.00</td>\n",
       "      <td>0.00</td>\n",
       "      <td>0.0</td>\n",
       "      <td>0.0</td>\n",
       "    </tr>\n",
       "    <tr>\n",
       "      <th>6</th>\n",
       "      <td>7</td>\n",
       "      <td>Amiens</td>\n",
       "      <td>49.8942</td>\n",
       "      <td>2.2957</td>\n",
       "      <td>19.20</td>\n",
       "      <td>0.2</td>\n",
       "      <td>0.37</td>\n",
       "      <td>0.20</td>\n",
       "      <td>0.0</td>\n",
       "      <td>0.0</td>\n",
       "    </tr>\n",
       "    <tr>\n",
       "      <th>7</th>\n",
       "      <td>8</td>\n",
       "      <td>Lille</td>\n",
       "      <td>50.6366</td>\n",
       "      <td>3.0635</td>\n",
       "      <td>20.22</td>\n",
       "      <td>1.0</td>\n",
       "      <td>0.57</td>\n",
       "      <td>0.23</td>\n",
       "      <td>0.0</td>\n",
       "      <td>0.0</td>\n",
       "    </tr>\n",
       "    <tr>\n",
       "      <th>8</th>\n",
       "      <td>9</td>\n",
       "      <td>Strasbourg</td>\n",
       "      <td>48.5846</td>\n",
       "      <td>7.7507</td>\n",
       "      <td>22.96</td>\n",
       "      <td>0.2</td>\n",
       "      <td>0.00</td>\n",
       "      <td>0.00</td>\n",
       "      <td>0.0</td>\n",
       "      <td>0.0</td>\n",
       "    </tr>\n",
       "    <tr>\n",
       "      <th>9</th>\n",
       "      <td>10</td>\n",
       "      <td>Château du Haut-Kœnigsbourg</td>\n",
       "      <td>48.2494</td>\n",
       "      <td>7.3443</td>\n",
       "      <td>19.15</td>\n",
       "      <td>0.2</td>\n",
       "      <td>0.20</td>\n",
       "      <td>0.00</td>\n",
       "      <td>0.0</td>\n",
       "      <td>0.0</td>\n",
       "    </tr>\n",
       "    <tr>\n",
       "      <th>10</th>\n",
       "      <td>11</td>\n",
       "      <td>Colmar</td>\n",
       "      <td>48.0778</td>\n",
       "      <td>7.3580</td>\n",
       "      <td>22.60</td>\n",
       "      <td>0.2</td>\n",
       "      <td>0.20</td>\n",
       "      <td>0.20</td>\n",
       "      <td>0.0</td>\n",
       "      <td>0.0</td>\n",
       "    </tr>\n",
       "    <tr>\n",
       "      <th>11</th>\n",
       "      <td>12</td>\n",
       "      <td>Eguisheim</td>\n",
       "      <td>48.0448</td>\n",
       "      <td>7.3080</td>\n",
       "      <td>22.21</td>\n",
       "      <td>0.2</td>\n",
       "      <td>0.20</td>\n",
       "      <td>0.20</td>\n",
       "      <td>0.0</td>\n",
       "      <td>0.0</td>\n",
       "    </tr>\n",
       "    <tr>\n",
       "      <th>12</th>\n",
       "      <td>13</td>\n",
       "      <td>Besançon</td>\n",
       "      <td>47.2380</td>\n",
       "      <td>6.0244</td>\n",
       "      <td>23.57</td>\n",
       "      <td>0.0</td>\n",
       "      <td>0.00</td>\n",
       "      <td>0.00</td>\n",
       "      <td>0.0</td>\n",
       "      <td>0.0</td>\n",
       "    </tr>\n",
       "    <tr>\n",
       "      <th>13</th>\n",
       "      <td>14</td>\n",
       "      <td>Dijon</td>\n",
       "      <td>47.3216</td>\n",
       "      <td>5.0415</td>\n",
       "      <td>22.80</td>\n",
       "      <td>0.0</td>\n",
       "      <td>0.00</td>\n",
       "      <td>0.00</td>\n",
       "      <td>0.0</td>\n",
       "      <td>0.0</td>\n",
       "    </tr>\n",
       "    <tr>\n",
       "      <th>14</th>\n",
       "      <td>15</td>\n",
       "      <td>Annecy</td>\n",
       "      <td>45.8992</td>\n",
       "      <td>6.1289</td>\n",
       "      <td>22.98</td>\n",
       "      <td>0.0</td>\n",
       "      <td>0.00</td>\n",
       "      <td>0.00</td>\n",
       "      <td>0.0</td>\n",
       "      <td>0.0</td>\n",
       "    </tr>\n",
       "    <tr>\n",
       "      <th>15</th>\n",
       "      <td>16</td>\n",
       "      <td>Grenoble</td>\n",
       "      <td>45.1876</td>\n",
       "      <td>5.7358</td>\n",
       "      <td>23.64</td>\n",
       "      <td>0.0</td>\n",
       "      <td>0.00</td>\n",
       "      <td>0.00</td>\n",
       "      <td>0.0</td>\n",
       "      <td>0.0</td>\n",
       "    </tr>\n",
       "    <tr>\n",
       "      <th>16</th>\n",
       "      <td>17</td>\n",
       "      <td>Lyon</td>\n",
       "      <td>45.7578</td>\n",
       "      <td>4.8320</td>\n",
       "      <td>23.37</td>\n",
       "      <td>0.0</td>\n",
       "      <td>0.00</td>\n",
       "      <td>0.00</td>\n",
       "      <td>0.0</td>\n",
       "      <td>0.0</td>\n",
       "    </tr>\n",
       "    <tr>\n",
       "      <th>17</th>\n",
       "      <td>18</td>\n",
       "      <td>Gorges du Verdon</td>\n",
       "      <td>43.7497</td>\n",
       "      <td>6.3286</td>\n",
       "      <td>26.65</td>\n",
       "      <td>0.0</td>\n",
       "      <td>0.00</td>\n",
       "      <td>0.00</td>\n",
       "      <td>0.0</td>\n",
       "      <td>0.0</td>\n",
       "    </tr>\n",
       "    <tr>\n",
       "      <th>18</th>\n",
       "      <td>19</td>\n",
       "      <td>Bormes-les-Mimosas</td>\n",
       "      <td>43.1507</td>\n",
       "      <td>6.3419</td>\n",
       "      <td>26.52</td>\n",
       "      <td>0.0</td>\n",
       "      <td>0.00</td>\n",
       "      <td>0.00</td>\n",
       "      <td>0.0</td>\n",
       "      <td>0.0</td>\n",
       "    </tr>\n",
       "    <tr>\n",
       "      <th>19</th>\n",
       "      <td>20</td>\n",
       "      <td>Cassis</td>\n",
       "      <td>43.2140</td>\n",
       "      <td>5.5396</td>\n",
       "      <td>26.30</td>\n",
       "      <td>0.0</td>\n",
       "      <td>0.00</td>\n",
       "      <td>0.00</td>\n",
       "      <td>0.0</td>\n",
       "      <td>0.0</td>\n",
       "    </tr>\n",
       "    <tr>\n",
       "      <th>20</th>\n",
       "      <td>21</td>\n",
       "      <td>Marseille</td>\n",
       "      <td>43.2962</td>\n",
       "      <td>5.3700</td>\n",
       "      <td>26.65</td>\n",
       "      <td>0.0</td>\n",
       "      <td>0.00</td>\n",
       "      <td>0.00</td>\n",
       "      <td>0.0</td>\n",
       "      <td>0.0</td>\n",
       "    </tr>\n",
       "    <tr>\n",
       "      <th>21</th>\n",
       "      <td>22</td>\n",
       "      <td>Aix-en-Provence</td>\n",
       "      <td>43.5298</td>\n",
       "      <td>5.4475</td>\n",
       "      <td>25.15</td>\n",
       "      <td>0.0</td>\n",
       "      <td>0.00</td>\n",
       "      <td>0.00</td>\n",
       "      <td>0.0</td>\n",
       "      <td>0.0</td>\n",
       "    </tr>\n",
       "    <tr>\n",
       "      <th>22</th>\n",
       "      <td>23</td>\n",
       "      <td>Avignon</td>\n",
       "      <td>43.9492</td>\n",
       "      <td>4.8059</td>\n",
       "      <td>26.42</td>\n",
       "      <td>0.0</td>\n",
       "      <td>0.00</td>\n",
       "      <td>0.00</td>\n",
       "      <td>0.0</td>\n",
       "      <td>0.0</td>\n",
       "    </tr>\n",
       "    <tr>\n",
       "      <th>23</th>\n",
       "      <td>24</td>\n",
       "      <td>Uzès</td>\n",
       "      <td>44.0121</td>\n",
       "      <td>4.4197</td>\n",
       "      <td>25.68</td>\n",
       "      <td>0.0</td>\n",
       "      <td>0.00</td>\n",
       "      <td>0.00</td>\n",
       "      <td>0.0</td>\n",
       "      <td>0.0</td>\n",
       "    </tr>\n",
       "    <tr>\n",
       "      <th>24</th>\n",
       "      <td>25</td>\n",
       "      <td>Nîmes</td>\n",
       "      <td>43.8374</td>\n",
       "      <td>4.3601</td>\n",
       "      <td>27.22</td>\n",
       "      <td>0.0</td>\n",
       "      <td>0.00</td>\n",
       "      <td>0.00</td>\n",
       "      <td>0.0</td>\n",
       "      <td>0.0</td>\n",
       "    </tr>\n",
       "    <tr>\n",
       "      <th>25</th>\n",
       "      <td>26</td>\n",
       "      <td>Aigues-Mortes</td>\n",
       "      <td>43.5662</td>\n",
       "      <td>4.1915</td>\n",
       "      <td>27.95</td>\n",
       "      <td>0.0</td>\n",
       "      <td>0.00</td>\n",
       "      <td>0.00</td>\n",
       "      <td>0.0</td>\n",
       "      <td>0.0</td>\n",
       "    </tr>\n",
       "    <tr>\n",
       "      <th>26</th>\n",
       "      <td>27</td>\n",
       "      <td>Saintes-Maries-de-la-Mer</td>\n",
       "      <td>43.4516</td>\n",
       "      <td>4.4277</td>\n",
       "      <td>27.59</td>\n",
       "      <td>0.0</td>\n",
       "      <td>0.00</td>\n",
       "      <td>0.00</td>\n",
       "      <td>0.0</td>\n",
       "      <td>0.0</td>\n",
       "    </tr>\n",
       "    <tr>\n",
       "      <th>27</th>\n",
       "      <td>28</td>\n",
       "      <td>Collioure</td>\n",
       "      <td>42.5250</td>\n",
       "      <td>3.0832</td>\n",
       "      <td>27.46</td>\n",
       "      <td>0.0</td>\n",
       "      <td>0.00</td>\n",
       "      <td>0.00</td>\n",
       "      <td>0.0</td>\n",
       "      <td>0.0</td>\n",
       "    </tr>\n",
       "    <tr>\n",
       "      <th>28</th>\n",
       "      <td>29</td>\n",
       "      <td>Carcassonne</td>\n",
       "      <td>43.2130</td>\n",
       "      <td>2.3491</td>\n",
       "      <td>25.30</td>\n",
       "      <td>0.0</td>\n",
       "      <td>0.00</td>\n",
       "      <td>0.00</td>\n",
       "      <td>0.0</td>\n",
       "      <td>0.0</td>\n",
       "    </tr>\n",
       "    <tr>\n",
       "      <th>29</th>\n",
       "      <td>30</td>\n",
       "      <td>Ariège</td>\n",
       "      <td>42.9455</td>\n",
       "      <td>1.4066</td>\n",
       "      <td>18.18</td>\n",
       "      <td>0.0</td>\n",
       "      <td>0.00</td>\n",
       "      <td>0.00</td>\n",
       "      <td>0.0</td>\n",
       "      <td>0.0</td>\n",
       "    </tr>\n",
       "    <tr>\n",
       "      <th>30</th>\n",
       "      <td>31</td>\n",
       "      <td>Toulouse</td>\n",
       "      <td>43.6045</td>\n",
       "      <td>1.4442</td>\n",
       "      <td>21.97</td>\n",
       "      <td>0.0</td>\n",
       "      <td>0.00</td>\n",
       "      <td>0.00</td>\n",
       "      <td>0.0</td>\n",
       "      <td>0.0</td>\n",
       "    </tr>\n",
       "    <tr>\n",
       "      <th>31</th>\n",
       "      <td>32</td>\n",
       "      <td>Montauban</td>\n",
       "      <td>44.0176</td>\n",
       "      <td>1.3550</td>\n",
       "      <td>22.28</td>\n",
       "      <td>0.0</td>\n",
       "      <td>0.00</td>\n",
       "      <td>0.00</td>\n",
       "      <td>0.0</td>\n",
       "      <td>0.0</td>\n",
       "    </tr>\n",
       "    <tr>\n",
       "      <th>32</th>\n",
       "      <td>33</td>\n",
       "      <td>Biarritz</td>\n",
       "      <td>43.4711</td>\n",
       "      <td>-1.5527</td>\n",
       "      <td>21.10</td>\n",
       "      <td>0.0</td>\n",
       "      <td>0.00</td>\n",
       "      <td>0.00</td>\n",
       "      <td>0.0</td>\n",
       "      <td>0.0</td>\n",
       "    </tr>\n",
       "    <tr>\n",
       "      <th>33</th>\n",
       "      <td>34</td>\n",
       "      <td>Bayonne</td>\n",
       "      <td>43.4945</td>\n",
       "      <td>-1.4737</td>\n",
       "      <td>21.57</td>\n",
       "      <td>0.0</td>\n",
       "      <td>0.00</td>\n",
       "      <td>0.00</td>\n",
       "      <td>0.0</td>\n",
       "      <td>0.0</td>\n",
       "    </tr>\n",
       "    <tr>\n",
       "      <th>34</th>\n",
       "      <td>35</td>\n",
       "      <td>La Rochelle</td>\n",
       "      <td>46.1591</td>\n",
       "      <td>-1.1520</td>\n",
       "      <td>19.29</td>\n",
       "      <td>0.0</td>\n",
       "      <td>0.00</td>\n",
       "      <td>0.00</td>\n",
       "      <td>0.0</td>\n",
       "      <td>0.0</td>\n",
       "    </tr>\n",
       "  </tbody>\n",
       "</table>\n",
       "</div>"
      ],
      "text/plain": [
       "    city_id                         City  city_lat  city_lon  temperature  \\\n",
       "0         1            Mont Saint-Michel   48.6360   -1.5115        19.06   \n",
       "1         2                     St. Malo   49.3147  -96.9538         9.91   \n",
       "2         3                       Bayeux   49.2765   -0.7025        19.14   \n",
       "3         4                     Le Havre   49.4939    0.1080        17.51   \n",
       "4         5                        Rouen   49.4405    1.0940        19.34   \n",
       "5         6                        Paris   48.8589    2.3200        20.84   \n",
       "6         7                       Amiens   49.8942    2.2957        19.20   \n",
       "7         8                        Lille   50.6366    3.0635        20.22   \n",
       "8         9                   Strasbourg   48.5846    7.7507        22.96   \n",
       "9        10  Château du Haut-Kœnigsbourg   48.2494    7.3443        19.15   \n",
       "10       11                       Colmar   48.0778    7.3580        22.60   \n",
       "11       12                    Eguisheim   48.0448    7.3080        22.21   \n",
       "12       13                     Besançon   47.2380    6.0244        23.57   \n",
       "13       14                        Dijon   47.3216    5.0415        22.80   \n",
       "14       15                       Annecy   45.8992    6.1289        22.98   \n",
       "15       16                     Grenoble   45.1876    5.7358        23.64   \n",
       "16       17                         Lyon   45.7578    4.8320        23.37   \n",
       "17       18             Gorges du Verdon   43.7497    6.3286        26.65   \n",
       "18       19           Bormes-les-Mimosas   43.1507    6.3419        26.52   \n",
       "19       20                       Cassis   43.2140    5.5396        26.30   \n",
       "20       21                    Marseille   43.2962    5.3700        26.65   \n",
       "21       22              Aix-en-Provence   43.5298    5.4475        25.15   \n",
       "22       23                      Avignon   43.9492    4.8059        26.42   \n",
       "23       24                         Uzès   44.0121    4.4197        25.68   \n",
       "24       25                        Nîmes   43.8374    4.3601        27.22   \n",
       "25       26                Aigues-Mortes   43.5662    4.1915        27.95   \n",
       "26       27     Saintes-Maries-de-la-Mer   43.4516    4.4277        27.59   \n",
       "27       28                    Collioure   42.5250    3.0832        27.46   \n",
       "28       29                  Carcassonne   43.2130    2.3491        25.30   \n",
       "29       30                       Ariège   42.9455    1.4066        18.18   \n",
       "30       31                     Toulouse   43.6045    1.4442        21.97   \n",
       "31       32                    Montauban   44.0176    1.3550        22.28   \n",
       "32       33                     Biarritz   43.4711   -1.5527        21.10   \n",
       "33       34                      Bayonne   43.4945   -1.4737        21.57   \n",
       "34       35                  La Rochelle   46.1591   -1.1520        19.29   \n",
       "\n",
       "    POP_1  POP_2  POP_3  POP_4  POP_5  \n",
       "0     0.0   0.00   0.00    0.0    0.0  \n",
       "1     0.0   0.00   0.00    0.0    0.0  \n",
       "2     0.0   0.00   0.00    0.0    0.0  \n",
       "3     0.0   0.00   0.00    0.0    0.0  \n",
       "4     0.0   0.00   0.00    0.0    0.0  \n",
       "5     0.0   0.00   0.00    0.0    0.0  \n",
       "6     0.2   0.37   0.20    0.0    0.0  \n",
       "7     1.0   0.57   0.23    0.0    0.0  \n",
       "8     0.2   0.00   0.00    0.0    0.0  \n",
       "9     0.2   0.20   0.00    0.0    0.0  \n",
       "10    0.2   0.20   0.20    0.0    0.0  \n",
       "11    0.2   0.20   0.20    0.0    0.0  \n",
       "12    0.0   0.00   0.00    0.0    0.0  \n",
       "13    0.0   0.00   0.00    0.0    0.0  \n",
       "14    0.0   0.00   0.00    0.0    0.0  \n",
       "15    0.0   0.00   0.00    0.0    0.0  \n",
       "16    0.0   0.00   0.00    0.0    0.0  \n",
       "17    0.0   0.00   0.00    0.0    0.0  \n",
       "18    0.0   0.00   0.00    0.0    0.0  \n",
       "19    0.0   0.00   0.00    0.0    0.0  \n",
       "20    0.0   0.00   0.00    0.0    0.0  \n",
       "21    0.0   0.00   0.00    0.0    0.0  \n",
       "22    0.0   0.00   0.00    0.0    0.0  \n",
       "23    0.0   0.00   0.00    0.0    0.0  \n",
       "24    0.0   0.00   0.00    0.0    0.0  \n",
       "25    0.0   0.00   0.00    0.0    0.0  \n",
       "26    0.0   0.00   0.00    0.0    0.0  \n",
       "27    0.0   0.00   0.00    0.0    0.0  \n",
       "28    0.0   0.00   0.00    0.0    0.0  \n",
       "29    0.0   0.00   0.00    0.0    0.0  \n",
       "30    0.0   0.00   0.00    0.0    0.0  \n",
       "31    0.0   0.00   0.00    0.0    0.0  \n",
       "32    0.0   0.00   0.00    0.0    0.0  \n",
       "33    0.0   0.00   0.00    0.0    0.0  \n",
       "34    0.0   0.00   0.00    0.0    0.0  "
      ]
     },
     "execution_count": 241,
     "metadata": {},
     "output_type": "execute_result"
    }
   ],
   "source": [
    "city_id = [i for i in range(1,36)]\n",
    "forecast.insert(loc=0, column='city_id', value=city_id)\n",
    "forecast"
   ]
  },
  {
   "cell_type": "markdown",
   "metadata": {},
   "source": [
    "We save the data in csv file"
   ]
  },
  {
   "cell_type": "code",
   "execution_count": 242,
   "metadata": {},
   "outputs": [],
   "source": [
    "forecast.to_csv(\"cities_forecast.csv\")"
   ]
  },
  {
   "cell_type": "code",
   "execution_count": 23,
   "metadata": {},
   "outputs": [],
   "source": [
    "forecast_df = pd.read_csv('/Users/agustindei/Documents/Jedha/Full_Stack/Projets/Kayak/cities_forecast.csv')"
   ]
  },
  {
   "cell_type": "code",
   "execution_count": 25,
   "metadata": {},
   "outputs": [
    {
     "data": {
      "application/vnd.plotly.v1+json": {
       "config": {
        "plotlyServerURL": "https://plot.ly"
       },
       "data": [
        {
         "hovertemplate": "City=Mont Saint-Michel<br>city_lat=%{lat}<br>city_lon=%{lon}<extra></extra>",
         "lat": [
          48.636
         ],
         "legendgroup": "Mont Saint-Michel",
         "lon": [
          -1.5115
         ],
         "marker": {
          "color": "#636efa"
         },
         "mode": "markers",
         "name": "Mont Saint-Michel",
         "showlegend": true,
         "subplot": "mapbox",
         "type": "scattermapbox"
        },
        {
         "hovertemplate": "City=St. Malo<br>city_lat=%{lat}<br>city_lon=%{lon}<extra></extra>",
         "lat": [
          49.3147
         ],
         "legendgroup": "St. Malo",
         "lon": [
          -96.9538
         ],
         "marker": {
          "color": "#EF553B"
         },
         "mode": "markers",
         "name": "St. Malo",
         "showlegend": true,
         "subplot": "mapbox",
         "type": "scattermapbox"
        },
        {
         "hovertemplate": "City=Bayeux<br>city_lat=%{lat}<br>city_lon=%{lon}<extra></extra>",
         "lat": [
          49.2765
         ],
         "legendgroup": "Bayeux",
         "lon": [
          -0.7025
         ],
         "marker": {
          "color": "#00cc96"
         },
         "mode": "markers",
         "name": "Bayeux",
         "showlegend": true,
         "subplot": "mapbox",
         "type": "scattermapbox"
        },
        {
         "hovertemplate": "City=Le Havre<br>city_lat=%{lat}<br>city_lon=%{lon}<extra></extra>",
         "lat": [
          49.4939
         ],
         "legendgroup": "Le Havre",
         "lon": [
          0.108
         ],
         "marker": {
          "color": "#ab63fa"
         },
         "mode": "markers",
         "name": "Le Havre",
         "showlegend": true,
         "subplot": "mapbox",
         "type": "scattermapbox"
        },
        {
         "hovertemplate": "City=Rouen<br>city_lat=%{lat}<br>city_lon=%{lon}<extra></extra>",
         "lat": [
          49.4405
         ],
         "legendgroup": "Rouen",
         "lon": [
          1.094
         ],
         "marker": {
          "color": "#FFA15A"
         },
         "mode": "markers",
         "name": "Rouen",
         "showlegend": true,
         "subplot": "mapbox",
         "type": "scattermapbox"
        },
        {
         "hovertemplate": "City=Paris<br>city_lat=%{lat}<br>city_lon=%{lon}<extra></extra>",
         "lat": [
          48.8589
         ],
         "legendgroup": "Paris",
         "lon": [
          2.32
         ],
         "marker": {
          "color": "#19d3f3"
         },
         "mode": "markers",
         "name": "Paris",
         "showlegend": true,
         "subplot": "mapbox",
         "type": "scattermapbox"
        },
        {
         "hovertemplate": "City=Amiens<br>city_lat=%{lat}<br>city_lon=%{lon}<extra></extra>",
         "lat": [
          49.8942
         ],
         "legendgroup": "Amiens",
         "lon": [
          2.2957
         ],
         "marker": {
          "color": "#FF6692"
         },
         "mode": "markers",
         "name": "Amiens",
         "showlegend": true,
         "subplot": "mapbox",
         "type": "scattermapbox"
        },
        {
         "hovertemplate": "City=Lille<br>city_lat=%{lat}<br>city_lon=%{lon}<extra></extra>",
         "lat": [
          50.6366
         ],
         "legendgroup": "Lille",
         "lon": [
          3.0635
         ],
         "marker": {
          "color": "#B6E880"
         },
         "mode": "markers",
         "name": "Lille",
         "showlegend": true,
         "subplot": "mapbox",
         "type": "scattermapbox"
        },
        {
         "hovertemplate": "City=Strasbourg<br>city_lat=%{lat}<br>city_lon=%{lon}<extra></extra>",
         "lat": [
          48.5846
         ],
         "legendgroup": "Strasbourg",
         "lon": [
          7.7507
         ],
         "marker": {
          "color": "#FF97FF"
         },
         "mode": "markers",
         "name": "Strasbourg",
         "showlegend": true,
         "subplot": "mapbox",
         "type": "scattermapbox"
        },
        {
         "hovertemplate": "City=Château du Haut-Kœnigsbourg<br>city_lat=%{lat}<br>city_lon=%{lon}<extra></extra>",
         "lat": [
          48.2494
         ],
         "legendgroup": "Château du Haut-Kœnigsbourg",
         "lon": [
          7.3443
         ],
         "marker": {
          "color": "#FECB52"
         },
         "mode": "markers",
         "name": "Château du Haut-Kœnigsbourg",
         "showlegend": true,
         "subplot": "mapbox",
         "type": "scattermapbox"
        },
        {
         "hovertemplate": "City=Colmar<br>city_lat=%{lat}<br>city_lon=%{lon}<extra></extra>",
         "lat": [
          48.0778
         ],
         "legendgroup": "Colmar",
         "lon": [
          7.358
         ],
         "marker": {
          "color": "#636efa"
         },
         "mode": "markers",
         "name": "Colmar",
         "showlegend": true,
         "subplot": "mapbox",
         "type": "scattermapbox"
        },
        {
         "hovertemplate": "City=Eguisheim<br>city_lat=%{lat}<br>city_lon=%{lon}<extra></extra>",
         "lat": [
          48.0448
         ],
         "legendgroup": "Eguisheim",
         "lon": [
          7.308
         ],
         "marker": {
          "color": "#EF553B"
         },
         "mode": "markers",
         "name": "Eguisheim",
         "showlegend": true,
         "subplot": "mapbox",
         "type": "scattermapbox"
        },
        {
         "hovertemplate": "City=Besançon<br>city_lat=%{lat}<br>city_lon=%{lon}<extra></extra>",
         "lat": [
          47.238
         ],
         "legendgroup": "Besançon",
         "lon": [
          6.0244
         ],
         "marker": {
          "color": "#00cc96"
         },
         "mode": "markers",
         "name": "Besançon",
         "showlegend": true,
         "subplot": "mapbox",
         "type": "scattermapbox"
        },
        {
         "hovertemplate": "City=Dijon<br>city_lat=%{lat}<br>city_lon=%{lon}<extra></extra>",
         "lat": [
          47.3216
         ],
         "legendgroup": "Dijon",
         "lon": [
          5.0415
         ],
         "marker": {
          "color": "#ab63fa"
         },
         "mode": "markers",
         "name": "Dijon",
         "showlegend": true,
         "subplot": "mapbox",
         "type": "scattermapbox"
        },
        {
         "hovertemplate": "City=Annecy<br>city_lat=%{lat}<br>city_lon=%{lon}<extra></extra>",
         "lat": [
          45.8992
         ],
         "legendgroup": "Annecy",
         "lon": [
          6.1289
         ],
         "marker": {
          "color": "#FFA15A"
         },
         "mode": "markers",
         "name": "Annecy",
         "showlegend": true,
         "subplot": "mapbox",
         "type": "scattermapbox"
        },
        {
         "hovertemplate": "City=Grenoble<br>city_lat=%{lat}<br>city_lon=%{lon}<extra></extra>",
         "lat": [
          45.1876
         ],
         "legendgroup": "Grenoble",
         "lon": [
          5.7358
         ],
         "marker": {
          "color": "#19d3f3"
         },
         "mode": "markers",
         "name": "Grenoble",
         "showlegend": true,
         "subplot": "mapbox",
         "type": "scattermapbox"
        },
        {
         "hovertemplate": "City=Lyon<br>city_lat=%{lat}<br>city_lon=%{lon}<extra></extra>",
         "lat": [
          45.7578
         ],
         "legendgroup": "Lyon",
         "lon": [
          4.832
         ],
         "marker": {
          "color": "#FF6692"
         },
         "mode": "markers",
         "name": "Lyon",
         "showlegend": true,
         "subplot": "mapbox",
         "type": "scattermapbox"
        },
        {
         "hovertemplate": "City=Gorges du Verdon<br>city_lat=%{lat}<br>city_lon=%{lon}<extra></extra>",
         "lat": [
          43.7497
         ],
         "legendgroup": "Gorges du Verdon",
         "lon": [
          6.3286
         ],
         "marker": {
          "color": "#B6E880"
         },
         "mode": "markers",
         "name": "Gorges du Verdon",
         "showlegend": true,
         "subplot": "mapbox",
         "type": "scattermapbox"
        },
        {
         "hovertemplate": "City=Bormes-les-Mimosas<br>city_lat=%{lat}<br>city_lon=%{lon}<extra></extra>",
         "lat": [
          43.1507
         ],
         "legendgroup": "Bormes-les-Mimosas",
         "lon": [
          6.3419
         ],
         "marker": {
          "color": "#FF97FF"
         },
         "mode": "markers",
         "name": "Bormes-les-Mimosas",
         "showlegend": true,
         "subplot": "mapbox",
         "type": "scattermapbox"
        },
        {
         "hovertemplate": "City=Cassis<br>city_lat=%{lat}<br>city_lon=%{lon}<extra></extra>",
         "lat": [
          43.214
         ],
         "legendgroup": "Cassis",
         "lon": [
          5.5396
         ],
         "marker": {
          "color": "#FECB52"
         },
         "mode": "markers",
         "name": "Cassis",
         "showlegend": true,
         "subplot": "mapbox",
         "type": "scattermapbox"
        },
        {
         "hovertemplate": "City=Marseille<br>city_lat=%{lat}<br>city_lon=%{lon}<extra></extra>",
         "lat": [
          43.2962
         ],
         "legendgroup": "Marseille",
         "lon": [
          5.37
         ],
         "marker": {
          "color": "#636efa"
         },
         "mode": "markers",
         "name": "Marseille",
         "showlegend": true,
         "subplot": "mapbox",
         "type": "scattermapbox"
        },
        {
         "hovertemplate": "City=Aix-en-Provence<br>city_lat=%{lat}<br>city_lon=%{lon}<extra></extra>",
         "lat": [
          43.5298
         ],
         "legendgroup": "Aix-en-Provence",
         "lon": [
          5.4475
         ],
         "marker": {
          "color": "#EF553B"
         },
         "mode": "markers",
         "name": "Aix-en-Provence",
         "showlegend": true,
         "subplot": "mapbox",
         "type": "scattermapbox"
        },
        {
         "hovertemplate": "City=Avignon<br>city_lat=%{lat}<br>city_lon=%{lon}<extra></extra>",
         "lat": [
          43.9492
         ],
         "legendgroup": "Avignon",
         "lon": [
          4.8059
         ],
         "marker": {
          "color": "#00cc96"
         },
         "mode": "markers",
         "name": "Avignon",
         "showlegend": true,
         "subplot": "mapbox",
         "type": "scattermapbox"
        },
        {
         "hovertemplate": "City=Uzès<br>city_lat=%{lat}<br>city_lon=%{lon}<extra></extra>",
         "lat": [
          44.0121
         ],
         "legendgroup": "Uzès",
         "lon": [
          4.4197
         ],
         "marker": {
          "color": "#ab63fa"
         },
         "mode": "markers",
         "name": "Uzès",
         "showlegend": true,
         "subplot": "mapbox",
         "type": "scattermapbox"
        },
        {
         "hovertemplate": "City=Nîmes<br>city_lat=%{lat}<br>city_lon=%{lon}<extra></extra>",
         "lat": [
          43.8374
         ],
         "legendgroup": "Nîmes",
         "lon": [
          4.3601
         ],
         "marker": {
          "color": "#FFA15A"
         },
         "mode": "markers",
         "name": "Nîmes",
         "showlegend": true,
         "subplot": "mapbox",
         "type": "scattermapbox"
        },
        {
         "hovertemplate": "City=Aigues-Mortes<br>city_lat=%{lat}<br>city_lon=%{lon}<extra></extra>",
         "lat": [
          43.5662
         ],
         "legendgroup": "Aigues-Mortes",
         "lon": [
          4.1915
         ],
         "marker": {
          "color": "#19d3f3"
         },
         "mode": "markers",
         "name": "Aigues-Mortes",
         "showlegend": true,
         "subplot": "mapbox",
         "type": "scattermapbox"
        },
        {
         "hovertemplate": "City=Saintes-Maries-de-la-Mer<br>city_lat=%{lat}<br>city_lon=%{lon}<extra></extra>",
         "lat": [
          43.4516
         ],
         "legendgroup": "Saintes-Maries-de-la-Mer",
         "lon": [
          4.4277
         ],
         "marker": {
          "color": "#FF6692"
         },
         "mode": "markers",
         "name": "Saintes-Maries-de-la-Mer",
         "showlegend": true,
         "subplot": "mapbox",
         "type": "scattermapbox"
        },
        {
         "hovertemplate": "City=Collioure<br>city_lat=%{lat}<br>city_lon=%{lon}<extra></extra>",
         "lat": [
          42.525
         ],
         "legendgroup": "Collioure",
         "lon": [
          3.0832
         ],
         "marker": {
          "color": "#B6E880"
         },
         "mode": "markers",
         "name": "Collioure",
         "showlegend": true,
         "subplot": "mapbox",
         "type": "scattermapbox"
        },
        {
         "hovertemplate": "City=Carcassonne<br>city_lat=%{lat}<br>city_lon=%{lon}<extra></extra>",
         "lat": [
          43.213
         ],
         "legendgroup": "Carcassonne",
         "lon": [
          2.3491
         ],
         "marker": {
          "color": "#FF97FF"
         },
         "mode": "markers",
         "name": "Carcassonne",
         "showlegend": true,
         "subplot": "mapbox",
         "type": "scattermapbox"
        },
        {
         "hovertemplate": "City=Ariège<br>city_lat=%{lat}<br>city_lon=%{lon}<extra></extra>",
         "lat": [
          42.9455
         ],
         "legendgroup": "Ariège",
         "lon": [
          1.4066
         ],
         "marker": {
          "color": "#FECB52"
         },
         "mode": "markers",
         "name": "Ariège",
         "showlegend": true,
         "subplot": "mapbox",
         "type": "scattermapbox"
        },
        {
         "hovertemplate": "City=Toulouse<br>city_lat=%{lat}<br>city_lon=%{lon}<extra></extra>",
         "lat": [
          43.6045
         ],
         "legendgroup": "Toulouse",
         "lon": [
          1.4442
         ],
         "marker": {
          "color": "#636efa"
         },
         "mode": "markers",
         "name": "Toulouse",
         "showlegend": true,
         "subplot": "mapbox",
         "type": "scattermapbox"
        },
        {
         "hovertemplate": "City=Montauban<br>city_lat=%{lat}<br>city_lon=%{lon}<extra></extra>",
         "lat": [
          44.0176
         ],
         "legendgroup": "Montauban",
         "lon": [
          1.355
         ],
         "marker": {
          "color": "#EF553B"
         },
         "mode": "markers",
         "name": "Montauban",
         "showlegend": true,
         "subplot": "mapbox",
         "type": "scattermapbox"
        },
        {
         "hovertemplate": "City=Biarritz<br>city_lat=%{lat}<br>city_lon=%{lon}<extra></extra>",
         "lat": [
          43.4711
         ],
         "legendgroup": "Biarritz",
         "lon": [
          -1.5527
         ],
         "marker": {
          "color": "#00cc96"
         },
         "mode": "markers",
         "name": "Biarritz",
         "showlegend": true,
         "subplot": "mapbox",
         "type": "scattermapbox"
        },
        {
         "hovertemplate": "City=Bayonne<br>city_lat=%{lat}<br>city_lon=%{lon}<extra></extra>",
         "lat": [
          43.4945
         ],
         "legendgroup": "Bayonne",
         "lon": [
          -1.4737
         ],
         "marker": {
          "color": "#ab63fa"
         },
         "mode": "markers",
         "name": "Bayonne",
         "showlegend": true,
         "subplot": "mapbox",
         "type": "scattermapbox"
        },
        {
         "hovertemplate": "City=La Rochelle<br>city_lat=%{lat}<br>city_lon=%{lon}<extra></extra>",
         "lat": [
          46.1591
         ],
         "legendgroup": "La Rochelle",
         "lon": [
          -1.152
         ],
         "marker": {
          "color": "#FFA15A"
         },
         "mode": "markers",
         "name": "La Rochelle",
         "showlegend": true,
         "subplot": "mapbox",
         "type": "scattermapbox"
        }
       ],
       "layout": {
        "legend": {
         "title": {
          "text": "City"
         },
         "tracegroupgap": 0
        },
        "mapbox": {
         "center": {
          "lat": 45.85998,
          "lon": 0.6836914285714286
         },
         "domain": {
          "x": [
           0,
           1
          ],
          "y": [
           0,
           1
          ]
         },
         "style": "carto-positron",
         "zoom": 4
        },
        "margin": {
         "t": 60
        },
        "template": {
         "data": {
          "bar": [
           {
            "error_x": {
             "color": "#2a3f5f"
            },
            "error_y": {
             "color": "#2a3f5f"
            },
            "marker": {
             "line": {
              "color": "#E5ECF6",
              "width": 0.5
             },
             "pattern": {
              "fillmode": "overlay",
              "size": 10,
              "solidity": 0.2
             }
            },
            "type": "bar"
           }
          ],
          "barpolar": [
           {
            "marker": {
             "line": {
              "color": "#E5ECF6",
              "width": 0.5
             },
             "pattern": {
              "fillmode": "overlay",
              "size": 10,
              "solidity": 0.2
             }
            },
            "type": "barpolar"
           }
          ],
          "carpet": [
           {
            "aaxis": {
             "endlinecolor": "#2a3f5f",
             "gridcolor": "white",
             "linecolor": "white",
             "minorgridcolor": "white",
             "startlinecolor": "#2a3f5f"
            },
            "baxis": {
             "endlinecolor": "#2a3f5f",
             "gridcolor": "white",
             "linecolor": "white",
             "minorgridcolor": "white",
             "startlinecolor": "#2a3f5f"
            },
            "type": "carpet"
           }
          ],
          "choropleth": [
           {
            "colorbar": {
             "outlinewidth": 0,
             "ticks": ""
            },
            "type": "choropleth"
           }
          ],
          "contour": [
           {
            "colorbar": {
             "outlinewidth": 0,
             "ticks": ""
            },
            "colorscale": [
             [
              0,
              "#0d0887"
             ],
             [
              0.1111111111111111,
              "#46039f"
             ],
             [
              0.2222222222222222,
              "#7201a8"
             ],
             [
              0.3333333333333333,
              "#9c179e"
             ],
             [
              0.4444444444444444,
              "#bd3786"
             ],
             [
              0.5555555555555556,
              "#d8576b"
             ],
             [
              0.6666666666666666,
              "#ed7953"
             ],
             [
              0.7777777777777778,
              "#fb9f3a"
             ],
             [
              0.8888888888888888,
              "#fdca26"
             ],
             [
              1,
              "#f0f921"
             ]
            ],
            "type": "contour"
           }
          ],
          "contourcarpet": [
           {
            "colorbar": {
             "outlinewidth": 0,
             "ticks": ""
            },
            "type": "contourcarpet"
           }
          ],
          "heatmap": [
           {
            "colorbar": {
             "outlinewidth": 0,
             "ticks": ""
            },
            "colorscale": [
             [
              0,
              "#0d0887"
             ],
             [
              0.1111111111111111,
              "#46039f"
             ],
             [
              0.2222222222222222,
              "#7201a8"
             ],
             [
              0.3333333333333333,
              "#9c179e"
             ],
             [
              0.4444444444444444,
              "#bd3786"
             ],
             [
              0.5555555555555556,
              "#d8576b"
             ],
             [
              0.6666666666666666,
              "#ed7953"
             ],
             [
              0.7777777777777778,
              "#fb9f3a"
             ],
             [
              0.8888888888888888,
              "#fdca26"
             ],
             [
              1,
              "#f0f921"
             ]
            ],
            "type": "heatmap"
           }
          ],
          "heatmapgl": [
           {
            "colorbar": {
             "outlinewidth": 0,
             "ticks": ""
            },
            "colorscale": [
             [
              0,
              "#0d0887"
             ],
             [
              0.1111111111111111,
              "#46039f"
             ],
             [
              0.2222222222222222,
              "#7201a8"
             ],
             [
              0.3333333333333333,
              "#9c179e"
             ],
             [
              0.4444444444444444,
              "#bd3786"
             ],
             [
              0.5555555555555556,
              "#d8576b"
             ],
             [
              0.6666666666666666,
              "#ed7953"
             ],
             [
              0.7777777777777778,
              "#fb9f3a"
             ],
             [
              0.8888888888888888,
              "#fdca26"
             ],
             [
              1,
              "#f0f921"
             ]
            ],
            "type": "heatmapgl"
           }
          ],
          "histogram": [
           {
            "marker": {
             "pattern": {
              "fillmode": "overlay",
              "size": 10,
              "solidity": 0.2
             }
            },
            "type": "histogram"
           }
          ],
          "histogram2d": [
           {
            "colorbar": {
             "outlinewidth": 0,
             "ticks": ""
            },
            "colorscale": [
             [
              0,
              "#0d0887"
             ],
             [
              0.1111111111111111,
              "#46039f"
             ],
             [
              0.2222222222222222,
              "#7201a8"
             ],
             [
              0.3333333333333333,
              "#9c179e"
             ],
             [
              0.4444444444444444,
              "#bd3786"
             ],
             [
              0.5555555555555556,
              "#d8576b"
             ],
             [
              0.6666666666666666,
              "#ed7953"
             ],
             [
              0.7777777777777778,
              "#fb9f3a"
             ],
             [
              0.8888888888888888,
              "#fdca26"
             ],
             [
              1,
              "#f0f921"
             ]
            ],
            "type": "histogram2d"
           }
          ],
          "histogram2dcontour": [
           {
            "colorbar": {
             "outlinewidth": 0,
             "ticks": ""
            },
            "colorscale": [
             [
              0,
              "#0d0887"
             ],
             [
              0.1111111111111111,
              "#46039f"
             ],
             [
              0.2222222222222222,
              "#7201a8"
             ],
             [
              0.3333333333333333,
              "#9c179e"
             ],
             [
              0.4444444444444444,
              "#bd3786"
             ],
             [
              0.5555555555555556,
              "#d8576b"
             ],
             [
              0.6666666666666666,
              "#ed7953"
             ],
             [
              0.7777777777777778,
              "#fb9f3a"
             ],
             [
              0.8888888888888888,
              "#fdca26"
             ],
             [
              1,
              "#f0f921"
             ]
            ],
            "type": "histogram2dcontour"
           }
          ],
          "mesh3d": [
           {
            "colorbar": {
             "outlinewidth": 0,
             "ticks": ""
            },
            "type": "mesh3d"
           }
          ],
          "parcoords": [
           {
            "line": {
             "colorbar": {
              "outlinewidth": 0,
              "ticks": ""
             }
            },
            "type": "parcoords"
           }
          ],
          "pie": [
           {
            "automargin": true,
            "type": "pie"
           }
          ],
          "scatter": [
           {
            "fillpattern": {
             "fillmode": "overlay",
             "size": 10,
             "solidity": 0.2
            },
            "type": "scatter"
           }
          ],
          "scatter3d": [
           {
            "line": {
             "colorbar": {
              "outlinewidth": 0,
              "ticks": ""
             }
            },
            "marker": {
             "colorbar": {
              "outlinewidth": 0,
              "ticks": ""
             }
            },
            "type": "scatter3d"
           }
          ],
          "scattercarpet": [
           {
            "marker": {
             "colorbar": {
              "outlinewidth": 0,
              "ticks": ""
             }
            },
            "type": "scattercarpet"
           }
          ],
          "scattergeo": [
           {
            "marker": {
             "colorbar": {
              "outlinewidth": 0,
              "ticks": ""
             }
            },
            "type": "scattergeo"
           }
          ],
          "scattergl": [
           {
            "marker": {
             "colorbar": {
              "outlinewidth": 0,
              "ticks": ""
             }
            },
            "type": "scattergl"
           }
          ],
          "scattermapbox": [
           {
            "marker": {
             "colorbar": {
              "outlinewidth": 0,
              "ticks": ""
             }
            },
            "type": "scattermapbox"
           }
          ],
          "scatterpolar": [
           {
            "marker": {
             "colorbar": {
              "outlinewidth": 0,
              "ticks": ""
             }
            },
            "type": "scatterpolar"
           }
          ],
          "scatterpolargl": [
           {
            "marker": {
             "colorbar": {
              "outlinewidth": 0,
              "ticks": ""
             }
            },
            "type": "scatterpolargl"
           }
          ],
          "scatterternary": [
           {
            "marker": {
             "colorbar": {
              "outlinewidth": 0,
              "ticks": ""
             }
            },
            "type": "scatterternary"
           }
          ],
          "surface": [
           {
            "colorbar": {
             "outlinewidth": 0,
             "ticks": ""
            },
            "colorscale": [
             [
              0,
              "#0d0887"
             ],
             [
              0.1111111111111111,
              "#46039f"
             ],
             [
              0.2222222222222222,
              "#7201a8"
             ],
             [
              0.3333333333333333,
              "#9c179e"
             ],
             [
              0.4444444444444444,
              "#bd3786"
             ],
             [
              0.5555555555555556,
              "#d8576b"
             ],
             [
              0.6666666666666666,
              "#ed7953"
             ],
             [
              0.7777777777777778,
              "#fb9f3a"
             ],
             [
              0.8888888888888888,
              "#fdca26"
             ],
             [
              1,
              "#f0f921"
             ]
            ],
            "type": "surface"
           }
          ],
          "table": [
           {
            "cells": {
             "fill": {
              "color": "#EBF0F8"
             },
             "line": {
              "color": "white"
             }
            },
            "header": {
             "fill": {
              "color": "#C8D4E3"
             },
             "line": {
              "color": "white"
             }
            },
            "type": "table"
           }
          ]
         },
         "layout": {
          "annotationdefaults": {
           "arrowcolor": "#2a3f5f",
           "arrowhead": 0,
           "arrowwidth": 1
          },
          "autotypenumbers": "strict",
          "coloraxis": {
           "colorbar": {
            "outlinewidth": 0,
            "ticks": ""
           }
          },
          "colorscale": {
           "diverging": [
            [
             0,
             "#8e0152"
            ],
            [
             0.1,
             "#c51b7d"
            ],
            [
             0.2,
             "#de77ae"
            ],
            [
             0.3,
             "#f1b6da"
            ],
            [
             0.4,
             "#fde0ef"
            ],
            [
             0.5,
             "#f7f7f7"
            ],
            [
             0.6,
             "#e6f5d0"
            ],
            [
             0.7,
             "#b8e186"
            ],
            [
             0.8,
             "#7fbc41"
            ],
            [
             0.9,
             "#4d9221"
            ],
            [
             1,
             "#276419"
            ]
           ],
           "sequential": [
            [
             0,
             "#0d0887"
            ],
            [
             0.1111111111111111,
             "#46039f"
            ],
            [
             0.2222222222222222,
             "#7201a8"
            ],
            [
             0.3333333333333333,
             "#9c179e"
            ],
            [
             0.4444444444444444,
             "#bd3786"
            ],
            [
             0.5555555555555556,
             "#d8576b"
            ],
            [
             0.6666666666666666,
             "#ed7953"
            ],
            [
             0.7777777777777778,
             "#fb9f3a"
            ],
            [
             0.8888888888888888,
             "#fdca26"
            ],
            [
             1,
             "#f0f921"
            ]
           ],
           "sequentialminus": [
            [
             0,
             "#0d0887"
            ],
            [
             0.1111111111111111,
             "#46039f"
            ],
            [
             0.2222222222222222,
             "#7201a8"
            ],
            [
             0.3333333333333333,
             "#9c179e"
            ],
            [
             0.4444444444444444,
             "#bd3786"
            ],
            [
             0.5555555555555556,
             "#d8576b"
            ],
            [
             0.6666666666666666,
             "#ed7953"
            ],
            [
             0.7777777777777778,
             "#fb9f3a"
            ],
            [
             0.8888888888888888,
             "#fdca26"
            ],
            [
             1,
             "#f0f921"
            ]
           ]
          },
          "colorway": [
           "#636efa",
           "#EF553B",
           "#00cc96",
           "#ab63fa",
           "#FFA15A",
           "#19d3f3",
           "#FF6692",
           "#B6E880",
           "#FF97FF",
           "#FECB52"
          ],
          "font": {
           "color": "#2a3f5f"
          },
          "geo": {
           "bgcolor": "white",
           "lakecolor": "white",
           "landcolor": "#E5ECF6",
           "showlakes": true,
           "showland": true,
           "subunitcolor": "white"
          },
          "hoverlabel": {
           "align": "left"
          },
          "hovermode": "closest",
          "mapbox": {
           "style": "light"
          },
          "paper_bgcolor": "white",
          "plot_bgcolor": "#E5ECF6",
          "polar": {
           "angularaxis": {
            "gridcolor": "white",
            "linecolor": "white",
            "ticks": ""
           },
           "bgcolor": "#E5ECF6",
           "radialaxis": {
            "gridcolor": "white",
            "linecolor": "white",
            "ticks": ""
           }
          },
          "scene": {
           "xaxis": {
            "backgroundcolor": "#E5ECF6",
            "gridcolor": "white",
            "gridwidth": 2,
            "linecolor": "white",
            "showbackground": true,
            "ticks": "",
            "zerolinecolor": "white"
           },
           "yaxis": {
            "backgroundcolor": "#E5ECF6",
            "gridcolor": "white",
            "gridwidth": 2,
            "linecolor": "white",
            "showbackground": true,
            "ticks": "",
            "zerolinecolor": "white"
           },
           "zaxis": {
            "backgroundcolor": "#E5ECF6",
            "gridcolor": "white",
            "gridwidth": 2,
            "linecolor": "white",
            "showbackground": true,
            "ticks": "",
            "zerolinecolor": "white"
           }
          },
          "shapedefaults": {
           "line": {
            "color": "#2a3f5f"
           }
          },
          "ternary": {
           "aaxis": {
            "gridcolor": "white",
            "linecolor": "white",
            "ticks": ""
           },
           "baxis": {
            "gridcolor": "white",
            "linecolor": "white",
            "ticks": ""
           },
           "bgcolor": "#E5ECF6",
           "caxis": {
            "gridcolor": "white",
            "linecolor": "white",
            "ticks": ""
           }
          },
          "title": {
           "x": 0.05
          },
          "xaxis": {
           "automargin": true,
           "gridcolor": "white",
           "linecolor": "white",
           "ticks": "",
           "title": {
            "standoff": 15
           },
           "zerolinecolor": "white",
           "zerolinewidth": 2
          },
          "yaxis": {
           "automargin": true,
           "gridcolor": "white",
           "linecolor": "white",
           "ticks": "",
           "title": {
            "standoff": 15
           },
           "zerolinecolor": "white",
           "zerolinewidth": 2
          }
         }
        }
       }
      }
     },
     "metadata": {},
     "output_type": "display_data"
    }
   ],
   "source": [
    "fig = px.scatter_mapbox(forecast_df, lat=\"city_lat\", lon=\"city_lon\", color=\"City\",\n",
    "                        zoom=4, mapbox_style=\"carto-positron\")# color_discrete_sequence=True)\n",
    "fig.show()"
   ]
  },
  {
   "cell_type": "code",
   "execution_count": 26,
   "metadata": {},
   "outputs": [
    {
     "data": {
      "text/html": [
       "<div>\n",
       "<style scoped>\n",
       "    .dataframe tbody tr th:only-of-type {\n",
       "        vertical-align: middle;\n",
       "    }\n",
       "\n",
       "    .dataframe tbody tr th {\n",
       "        vertical-align: top;\n",
       "    }\n",
       "\n",
       "    .dataframe thead th {\n",
       "        text-align: right;\n",
       "    }\n",
       "</style>\n",
       "<table border=\"1\" class=\"dataframe\">\n",
       "  <thead>\n",
       "    <tr style=\"text-align: right;\">\n",
       "      <th></th>\n",
       "      <th>Unnamed: 0</th>\n",
       "      <th>city_id</th>\n",
       "      <th>City</th>\n",
       "      <th>city_lat</th>\n",
       "      <th>city_lon</th>\n",
       "      <th>temperature</th>\n",
       "      <th>POP_1</th>\n",
       "      <th>POP_2</th>\n",
       "      <th>POP_3</th>\n",
       "      <th>POP_4</th>\n",
       "      <th>POP_5</th>\n",
       "    </tr>\n",
       "  </thead>\n",
       "  <tbody>\n",
       "    <tr>\n",
       "      <th>0</th>\n",
       "      <td>0</td>\n",
       "      <td>1</td>\n",
       "      <td>Mont Saint-Michel</td>\n",
       "      <td>48.6360</td>\n",
       "      <td>-1.5115</td>\n",
       "      <td>19.06</td>\n",
       "      <td>0.0</td>\n",
       "      <td>0.0</td>\n",
       "      <td>0.0</td>\n",
       "      <td>0.0</td>\n",
       "      <td>0.0</td>\n",
       "    </tr>\n",
       "    <tr>\n",
       "      <th>1</th>\n",
       "      <td>1</td>\n",
       "      <td>2</td>\n",
       "      <td>St. Malo</td>\n",
       "      <td>49.3147</td>\n",
       "      <td>-96.9538</td>\n",
       "      <td>9.91</td>\n",
       "      <td>0.0</td>\n",
       "      <td>0.0</td>\n",
       "      <td>0.0</td>\n",
       "      <td>0.0</td>\n",
       "      <td>0.0</td>\n",
       "    </tr>\n",
       "  </tbody>\n",
       "</table>\n",
       "</div>"
      ],
      "text/plain": [
       "   Unnamed: 0  city_id               City  city_lat  city_lon  temperature  \\\n",
       "0           0        1  Mont Saint-Michel   48.6360   -1.5115        19.06   \n",
       "1           1        2           St. Malo   49.3147  -96.9538         9.91   \n",
       "\n",
       "   POP_1  POP_2  POP_3  POP_4  POP_5  \n",
       "0    0.0    0.0    0.0    0.0    0.0  \n",
       "1    0.0    0.0    0.0    0.0    0.0  "
      ]
     },
     "execution_count": 26,
     "metadata": {},
     "output_type": "execute_result"
    }
   ],
   "source": [
    "forecast_df.head(2)"
   ]
  },
  {
   "cell_type": "markdown",
   "metadata": {},
   "source": [
    "### TOP 5 Cities by weather and top 20 hotels within those cities"
   ]
  },
  {
   "cell_type": "code",
   "execution_count": 28,
   "metadata": {},
   "outputs": [
    {
     "data": {
      "text/html": [
       "<div>\n",
       "<style scoped>\n",
       "    .dataframe tbody tr th:only-of-type {\n",
       "        vertical-align: middle;\n",
       "    }\n",
       "\n",
       "    .dataframe tbody tr th {\n",
       "        vertical-align: top;\n",
       "    }\n",
       "\n",
       "    .dataframe thead th {\n",
       "        text-align: right;\n",
       "    }\n",
       "</style>\n",
       "<table border=\"1\" class=\"dataframe\">\n",
       "  <thead>\n",
       "    <tr style=\"text-align: right;\">\n",
       "      <th></th>\n",
       "      <th>Unnamed: 0</th>\n",
       "      <th>city_id</th>\n",
       "      <th>City</th>\n",
       "      <th>city_lat</th>\n",
       "      <th>city_lon</th>\n",
       "      <th>temperature</th>\n",
       "      <th>POP_1</th>\n",
       "      <th>POP_2</th>\n",
       "      <th>POP_3</th>\n",
       "      <th>POP_4</th>\n",
       "      <th>POP_5</th>\n",
       "    </tr>\n",
       "  </thead>\n",
       "  <tbody>\n",
       "    <tr>\n",
       "      <th>25</th>\n",
       "      <td>25</td>\n",
       "      <td>26</td>\n",
       "      <td>Aigues-Mortes</td>\n",
       "      <td>43.5662</td>\n",
       "      <td>4.1915</td>\n",
       "      <td>27.95</td>\n",
       "      <td>0.0</td>\n",
       "      <td>0.0</td>\n",
       "      <td>0.0</td>\n",
       "      <td>0.0</td>\n",
       "      <td>0.0</td>\n",
       "    </tr>\n",
       "    <tr>\n",
       "      <th>26</th>\n",
       "      <td>26</td>\n",
       "      <td>27</td>\n",
       "      <td>Saintes-Maries-de-la-Mer</td>\n",
       "      <td>43.4516</td>\n",
       "      <td>4.4277</td>\n",
       "      <td>27.59</td>\n",
       "      <td>0.0</td>\n",
       "      <td>0.0</td>\n",
       "      <td>0.0</td>\n",
       "      <td>0.0</td>\n",
       "      <td>0.0</td>\n",
       "    </tr>\n",
       "    <tr>\n",
       "      <th>27</th>\n",
       "      <td>27</td>\n",
       "      <td>28</td>\n",
       "      <td>Collioure</td>\n",
       "      <td>42.5250</td>\n",
       "      <td>3.0832</td>\n",
       "      <td>27.46</td>\n",
       "      <td>0.0</td>\n",
       "      <td>0.0</td>\n",
       "      <td>0.0</td>\n",
       "      <td>0.0</td>\n",
       "      <td>0.0</td>\n",
       "    </tr>\n",
       "    <tr>\n",
       "      <th>24</th>\n",
       "      <td>24</td>\n",
       "      <td>25</td>\n",
       "      <td>Nîmes</td>\n",
       "      <td>43.8374</td>\n",
       "      <td>4.3601</td>\n",
       "      <td>27.22</td>\n",
       "      <td>0.0</td>\n",
       "      <td>0.0</td>\n",
       "      <td>0.0</td>\n",
       "      <td>0.0</td>\n",
       "      <td>0.0</td>\n",
       "    </tr>\n",
       "    <tr>\n",
       "      <th>20</th>\n",
       "      <td>20</td>\n",
       "      <td>21</td>\n",
       "      <td>Marseille</td>\n",
       "      <td>43.2962</td>\n",
       "      <td>5.3700</td>\n",
       "      <td>26.65</td>\n",
       "      <td>0.0</td>\n",
       "      <td>0.0</td>\n",
       "      <td>0.0</td>\n",
       "      <td>0.0</td>\n",
       "      <td>0.0</td>\n",
       "    </tr>\n",
       "  </tbody>\n",
       "</table>\n",
       "</div>"
      ],
      "text/plain": [
       "    Unnamed: 0  city_id                      City  city_lat  city_lon  \\\n",
       "25          25       26             Aigues-Mortes   43.5662    4.1915   \n",
       "26          26       27  Saintes-Maries-de-la-Mer   43.4516    4.4277   \n",
       "27          27       28                 Collioure   42.5250    3.0832   \n",
       "24          24       25                     Nîmes   43.8374    4.3601   \n",
       "20          20       21                 Marseille   43.2962    5.3700   \n",
       "\n",
       "    temperature  POP_1  POP_2  POP_3  POP_4  POP_5  \n",
       "25        27.95    0.0    0.0    0.0    0.0    0.0  \n",
       "26        27.59    0.0    0.0    0.0    0.0    0.0  \n",
       "27        27.46    0.0    0.0    0.0    0.0    0.0  \n",
       "24        27.22    0.0    0.0    0.0    0.0    0.0  \n",
       "20        26.65    0.0    0.0    0.0    0.0    0.0  "
      ]
     },
     "execution_count": 28,
     "metadata": {},
     "output_type": "execute_result"
    }
   ],
   "source": [
    "top_cities = forecast_df.sort_values(by='temperature', ascending=False).head(5)\n",
    "top_cities"
   ]
  },
  {
   "cell_type": "code",
   "execution_count": 30,
   "metadata": {},
   "outputs": [
    {
     "data": {
      "application/vnd.plotly.v1+json": {
       "config": {
        "plotlyServerURL": "https://plot.ly"
       },
       "data": [
        {
         "hovertemplate": "city_lat=%{lat}<br>city_lon=%{lon}<br>POP_1=%{marker.color}<extra></extra>",
         "lat": [
          48.636,
          49.3147,
          49.2765,
          49.4939,
          49.4405,
          48.8589,
          49.8942,
          50.6366,
          48.5846,
          48.2494,
          48.0778,
          48.0448,
          47.238,
          47.3216,
          45.8992,
          45.1876,
          45.7578,
          43.7497,
          43.1507,
          43.214,
          43.2962,
          43.5298,
          43.9492,
          44.0121,
          43.8374,
          43.5662,
          43.4516,
          42.525,
          43.213,
          42.9455,
          43.6045,
          44.0176,
          43.4711,
          43.4945,
          46.1591
         ],
         "legendgroup": "",
         "lon": [
          -1.5115,
          -96.9538,
          -0.7025,
          0.108,
          1.094,
          2.32,
          2.2957,
          3.0635,
          7.7507,
          7.3443,
          7.358,
          7.308,
          6.0244,
          5.0415,
          6.1289,
          5.7358,
          4.832,
          6.3286,
          6.3419,
          5.5396,
          5.37,
          5.4475,
          4.8059,
          4.4197,
          4.3601,
          4.1915,
          4.4277,
          3.0832,
          2.3491,
          1.4066,
          1.4442,
          1.355,
          -1.5527,
          -1.4737,
          -1.152
         ],
         "marker": {
          "color": [
           0,
           0,
           0,
           0,
           0,
           0,
           0.2,
           1,
           0.2,
           0.2,
           0.2,
           0.2,
           0,
           0,
           0,
           0,
           0,
           0,
           0,
           0,
           0,
           0,
           0,
           0,
           0,
           0,
           0,
           0,
           0,
           0,
           0,
           0,
           0,
           0,
           0
          ],
          "coloraxis": "coloraxis"
         },
         "mode": "markers",
         "name": "",
         "showlegend": false,
         "subplot": "mapbox",
         "type": "scattermapbox"
        }
       ],
       "layout": {
        "coloraxis": {
         "colorbar": {
          "title": {
           "text": "POP_1"
          }
         },
         "colorscale": [
          [
           0,
           "#0d0887"
          ],
          [
           0.1111111111111111,
           "#46039f"
          ],
          [
           0.2222222222222222,
           "#7201a8"
          ],
          [
           0.3333333333333333,
           "#9c179e"
          ],
          [
           0.4444444444444444,
           "#bd3786"
          ],
          [
           0.5555555555555556,
           "#d8576b"
          ],
          [
           0.6666666666666666,
           "#ed7953"
          ],
          [
           0.7777777777777778,
           "#fb9f3a"
          ],
          [
           0.8888888888888888,
           "#fdca26"
          ],
          [
           1,
           "#f0f921"
          ]
         ]
        },
        "height": 600,
        "legend": {
         "tracegroupgap": 0
        },
        "mapbox": {
         "center": {
          "lat": 45.85998,
          "lon": 0.6836914285714286
         },
         "domain": {
          "x": [
           0,
           1
          ],
          "y": [
           0,
           1
          ]
         },
         "style": "carto-positron",
         "zoom": 4
        },
        "template": {
         "data": {
          "bar": [
           {
            "error_x": {
             "color": "#2a3f5f"
            },
            "error_y": {
             "color": "#2a3f5f"
            },
            "marker": {
             "line": {
              "color": "#E5ECF6",
              "width": 0.5
             },
             "pattern": {
              "fillmode": "overlay",
              "size": 10,
              "solidity": 0.2
             }
            },
            "type": "bar"
           }
          ],
          "barpolar": [
           {
            "marker": {
             "line": {
              "color": "#E5ECF6",
              "width": 0.5
             },
             "pattern": {
              "fillmode": "overlay",
              "size": 10,
              "solidity": 0.2
             }
            },
            "type": "barpolar"
           }
          ],
          "carpet": [
           {
            "aaxis": {
             "endlinecolor": "#2a3f5f",
             "gridcolor": "white",
             "linecolor": "white",
             "minorgridcolor": "white",
             "startlinecolor": "#2a3f5f"
            },
            "baxis": {
             "endlinecolor": "#2a3f5f",
             "gridcolor": "white",
             "linecolor": "white",
             "minorgridcolor": "white",
             "startlinecolor": "#2a3f5f"
            },
            "type": "carpet"
           }
          ],
          "choropleth": [
           {
            "colorbar": {
             "outlinewidth": 0,
             "ticks": ""
            },
            "type": "choropleth"
           }
          ],
          "contour": [
           {
            "colorbar": {
             "outlinewidth": 0,
             "ticks": ""
            },
            "colorscale": [
             [
              0,
              "#0d0887"
             ],
             [
              0.1111111111111111,
              "#46039f"
             ],
             [
              0.2222222222222222,
              "#7201a8"
             ],
             [
              0.3333333333333333,
              "#9c179e"
             ],
             [
              0.4444444444444444,
              "#bd3786"
             ],
             [
              0.5555555555555556,
              "#d8576b"
             ],
             [
              0.6666666666666666,
              "#ed7953"
             ],
             [
              0.7777777777777778,
              "#fb9f3a"
             ],
             [
              0.8888888888888888,
              "#fdca26"
             ],
             [
              1,
              "#f0f921"
             ]
            ],
            "type": "contour"
           }
          ],
          "contourcarpet": [
           {
            "colorbar": {
             "outlinewidth": 0,
             "ticks": ""
            },
            "type": "contourcarpet"
           }
          ],
          "heatmap": [
           {
            "colorbar": {
             "outlinewidth": 0,
             "ticks": ""
            },
            "colorscale": [
             [
              0,
              "#0d0887"
             ],
             [
              0.1111111111111111,
              "#46039f"
             ],
             [
              0.2222222222222222,
              "#7201a8"
             ],
             [
              0.3333333333333333,
              "#9c179e"
             ],
             [
              0.4444444444444444,
              "#bd3786"
             ],
             [
              0.5555555555555556,
              "#d8576b"
             ],
             [
              0.6666666666666666,
              "#ed7953"
             ],
             [
              0.7777777777777778,
              "#fb9f3a"
             ],
             [
              0.8888888888888888,
              "#fdca26"
             ],
             [
              1,
              "#f0f921"
             ]
            ],
            "type": "heatmap"
           }
          ],
          "heatmapgl": [
           {
            "colorbar": {
             "outlinewidth": 0,
             "ticks": ""
            },
            "colorscale": [
             [
              0,
              "#0d0887"
             ],
             [
              0.1111111111111111,
              "#46039f"
             ],
             [
              0.2222222222222222,
              "#7201a8"
             ],
             [
              0.3333333333333333,
              "#9c179e"
             ],
             [
              0.4444444444444444,
              "#bd3786"
             ],
             [
              0.5555555555555556,
              "#d8576b"
             ],
             [
              0.6666666666666666,
              "#ed7953"
             ],
             [
              0.7777777777777778,
              "#fb9f3a"
             ],
             [
              0.8888888888888888,
              "#fdca26"
             ],
             [
              1,
              "#f0f921"
             ]
            ],
            "type": "heatmapgl"
           }
          ],
          "histogram": [
           {
            "marker": {
             "pattern": {
              "fillmode": "overlay",
              "size": 10,
              "solidity": 0.2
             }
            },
            "type": "histogram"
           }
          ],
          "histogram2d": [
           {
            "colorbar": {
             "outlinewidth": 0,
             "ticks": ""
            },
            "colorscale": [
             [
              0,
              "#0d0887"
             ],
             [
              0.1111111111111111,
              "#46039f"
             ],
             [
              0.2222222222222222,
              "#7201a8"
             ],
             [
              0.3333333333333333,
              "#9c179e"
             ],
             [
              0.4444444444444444,
              "#bd3786"
             ],
             [
              0.5555555555555556,
              "#d8576b"
             ],
             [
              0.6666666666666666,
              "#ed7953"
             ],
             [
              0.7777777777777778,
              "#fb9f3a"
             ],
             [
              0.8888888888888888,
              "#fdca26"
             ],
             [
              1,
              "#f0f921"
             ]
            ],
            "type": "histogram2d"
           }
          ],
          "histogram2dcontour": [
           {
            "colorbar": {
             "outlinewidth": 0,
             "ticks": ""
            },
            "colorscale": [
             [
              0,
              "#0d0887"
             ],
             [
              0.1111111111111111,
              "#46039f"
             ],
             [
              0.2222222222222222,
              "#7201a8"
             ],
             [
              0.3333333333333333,
              "#9c179e"
             ],
             [
              0.4444444444444444,
              "#bd3786"
             ],
             [
              0.5555555555555556,
              "#d8576b"
             ],
             [
              0.6666666666666666,
              "#ed7953"
             ],
             [
              0.7777777777777778,
              "#fb9f3a"
             ],
             [
              0.8888888888888888,
              "#fdca26"
             ],
             [
              1,
              "#f0f921"
             ]
            ],
            "type": "histogram2dcontour"
           }
          ],
          "mesh3d": [
           {
            "colorbar": {
             "outlinewidth": 0,
             "ticks": ""
            },
            "type": "mesh3d"
           }
          ],
          "parcoords": [
           {
            "line": {
             "colorbar": {
              "outlinewidth": 0,
              "ticks": ""
             }
            },
            "type": "parcoords"
           }
          ],
          "pie": [
           {
            "automargin": true,
            "type": "pie"
           }
          ],
          "scatter": [
           {
            "fillpattern": {
             "fillmode": "overlay",
             "size": 10,
             "solidity": 0.2
            },
            "type": "scatter"
           }
          ],
          "scatter3d": [
           {
            "line": {
             "colorbar": {
              "outlinewidth": 0,
              "ticks": ""
             }
            },
            "marker": {
             "colorbar": {
              "outlinewidth": 0,
              "ticks": ""
             }
            },
            "type": "scatter3d"
           }
          ],
          "scattercarpet": [
           {
            "marker": {
             "colorbar": {
              "outlinewidth": 0,
              "ticks": ""
             }
            },
            "type": "scattercarpet"
           }
          ],
          "scattergeo": [
           {
            "marker": {
             "colorbar": {
              "outlinewidth": 0,
              "ticks": ""
             }
            },
            "type": "scattergeo"
           }
          ],
          "scattergl": [
           {
            "marker": {
             "colorbar": {
              "outlinewidth": 0,
              "ticks": ""
             }
            },
            "type": "scattergl"
           }
          ],
          "scattermapbox": [
           {
            "marker": {
             "colorbar": {
              "outlinewidth": 0,
              "ticks": ""
             }
            },
            "type": "scattermapbox"
           }
          ],
          "scatterpolar": [
           {
            "marker": {
             "colorbar": {
              "outlinewidth": 0,
              "ticks": ""
             }
            },
            "type": "scatterpolar"
           }
          ],
          "scatterpolargl": [
           {
            "marker": {
             "colorbar": {
              "outlinewidth": 0,
              "ticks": ""
             }
            },
            "type": "scatterpolargl"
           }
          ],
          "scatterternary": [
           {
            "marker": {
             "colorbar": {
              "outlinewidth": 0,
              "ticks": ""
             }
            },
            "type": "scatterternary"
           }
          ],
          "surface": [
           {
            "colorbar": {
             "outlinewidth": 0,
             "ticks": ""
            },
            "colorscale": [
             [
              0,
              "#0d0887"
             ],
             [
              0.1111111111111111,
              "#46039f"
             ],
             [
              0.2222222222222222,
              "#7201a8"
             ],
             [
              0.3333333333333333,
              "#9c179e"
             ],
             [
              0.4444444444444444,
              "#bd3786"
             ],
             [
              0.5555555555555556,
              "#d8576b"
             ],
             [
              0.6666666666666666,
              "#ed7953"
             ],
             [
              0.7777777777777778,
              "#fb9f3a"
             ],
             [
              0.8888888888888888,
              "#fdca26"
             ],
             [
              1,
              "#f0f921"
             ]
            ],
            "type": "surface"
           }
          ],
          "table": [
           {
            "cells": {
             "fill": {
              "color": "#EBF0F8"
             },
             "line": {
              "color": "white"
             }
            },
            "header": {
             "fill": {
              "color": "#C8D4E3"
             },
             "line": {
              "color": "white"
             }
            },
            "type": "table"
           }
          ]
         },
         "layout": {
          "annotationdefaults": {
           "arrowcolor": "#2a3f5f",
           "arrowhead": 0,
           "arrowwidth": 1
          },
          "autotypenumbers": "strict",
          "coloraxis": {
           "colorbar": {
            "outlinewidth": 0,
            "ticks": ""
           }
          },
          "colorscale": {
           "diverging": [
            [
             0,
             "#8e0152"
            ],
            [
             0.1,
             "#c51b7d"
            ],
            [
             0.2,
             "#de77ae"
            ],
            [
             0.3,
             "#f1b6da"
            ],
            [
             0.4,
             "#fde0ef"
            ],
            [
             0.5,
             "#f7f7f7"
            ],
            [
             0.6,
             "#e6f5d0"
            ],
            [
             0.7,
             "#b8e186"
            ],
            [
             0.8,
             "#7fbc41"
            ],
            [
             0.9,
             "#4d9221"
            ],
            [
             1,
             "#276419"
            ]
           ],
           "sequential": [
            [
             0,
             "#0d0887"
            ],
            [
             0.1111111111111111,
             "#46039f"
            ],
            [
             0.2222222222222222,
             "#7201a8"
            ],
            [
             0.3333333333333333,
             "#9c179e"
            ],
            [
             0.4444444444444444,
             "#bd3786"
            ],
            [
             0.5555555555555556,
             "#d8576b"
            ],
            [
             0.6666666666666666,
             "#ed7953"
            ],
            [
             0.7777777777777778,
             "#fb9f3a"
            ],
            [
             0.8888888888888888,
             "#fdca26"
            ],
            [
             1,
             "#f0f921"
            ]
           ],
           "sequentialminus": [
            [
             0,
             "#0d0887"
            ],
            [
             0.1111111111111111,
             "#46039f"
            ],
            [
             0.2222222222222222,
             "#7201a8"
            ],
            [
             0.3333333333333333,
             "#9c179e"
            ],
            [
             0.4444444444444444,
             "#bd3786"
            ],
            [
             0.5555555555555556,
             "#d8576b"
            ],
            [
             0.6666666666666666,
             "#ed7953"
            ],
            [
             0.7777777777777778,
             "#fb9f3a"
            ],
            [
             0.8888888888888888,
             "#fdca26"
            ],
            [
             1,
             "#f0f921"
            ]
           ]
          },
          "colorway": [
           "#636efa",
           "#EF553B",
           "#00cc96",
           "#ab63fa",
           "#FFA15A",
           "#19d3f3",
           "#FF6692",
           "#B6E880",
           "#FF97FF",
           "#FECB52"
          ],
          "font": {
           "color": "#2a3f5f"
          },
          "geo": {
           "bgcolor": "white",
           "lakecolor": "white",
           "landcolor": "#E5ECF6",
           "showlakes": true,
           "showland": true,
           "subunitcolor": "white"
          },
          "hoverlabel": {
           "align": "left"
          },
          "hovermode": "closest",
          "mapbox": {
           "style": "light"
          },
          "paper_bgcolor": "white",
          "plot_bgcolor": "#E5ECF6",
          "polar": {
           "angularaxis": {
            "gridcolor": "white",
            "linecolor": "white",
            "ticks": ""
           },
           "bgcolor": "#E5ECF6",
           "radialaxis": {
            "gridcolor": "white",
            "linecolor": "white",
            "ticks": ""
           }
          },
          "scene": {
           "xaxis": {
            "backgroundcolor": "#E5ECF6",
            "gridcolor": "white",
            "gridwidth": 2,
            "linecolor": "white",
            "showbackground": true,
            "ticks": "",
            "zerolinecolor": "white"
           },
           "yaxis": {
            "backgroundcolor": "#E5ECF6",
            "gridcolor": "white",
            "gridwidth": 2,
            "linecolor": "white",
            "showbackground": true,
            "ticks": "",
            "zerolinecolor": "white"
           },
           "zaxis": {
            "backgroundcolor": "#E5ECF6",
            "gridcolor": "white",
            "gridwidth": 2,
            "linecolor": "white",
            "showbackground": true,
            "ticks": "",
            "zerolinecolor": "white"
           }
          },
          "shapedefaults": {
           "line": {
            "color": "#2a3f5f"
           }
          },
          "ternary": {
           "aaxis": {
            "gridcolor": "white",
            "linecolor": "white",
            "ticks": ""
           },
           "baxis": {
            "gridcolor": "white",
            "linecolor": "white",
            "ticks": ""
           },
           "bgcolor": "#E5ECF6",
           "caxis": {
            "gridcolor": "white",
            "linecolor": "white",
            "ticks": ""
           }
          },
          "title": {
           "x": 0.05
          },
          "xaxis": {
           "automargin": true,
           "gridcolor": "white",
           "linecolor": "white",
           "ticks": "",
           "title": {
            "standoff": 15
           },
           "zerolinecolor": "white",
           "zerolinewidth": 2
          },
          "yaxis": {
           "automargin": true,
           "gridcolor": "white",
           "linecolor": "white",
           "ticks": "",
           "title": {
            "standoff": 15
           },
           "zerolinecolor": "white",
           "zerolinewidth": 2
          }
         }
        },
        "title": {
         "text": "Precipitation probability from 0 to 1 for all the cities"
        },
        "width": 550
       }
      }
     },
     "metadata": {},
     "output_type": "display_data"
    },
    {
     "data": {
      "application/vnd.plotly.v1+json": {
       "config": {
        "plotlyServerURL": "https://plot.ly"
       },
       "data": [
        {
         "hovertemplate": "city_lat=%{lat}<br>city_lon=%{lon}<br>POP_1=%{marker.color}<extra></extra>",
         "lat": [
          43.5662,
          43.4516,
          42.525,
          43.8374,
          43.2962
         ],
         "legendgroup": "",
         "lon": [
          4.1915,
          4.4277,
          3.0832,
          4.3601,
          5.37
         ],
         "marker": {
          "color": [
           0,
           0,
           0,
           0,
           0
          ],
          "coloraxis": "coloraxis"
         },
         "mode": "markers",
         "name": "",
         "showlegend": false,
         "subplot": "mapbox",
         "type": "scattermapbox"
        }
       ],
       "layout": {
        "coloraxis": {
         "colorbar": {
          "title": {
           "text": "POP_1"
          }
         },
         "colorscale": [
          [
           0,
           "#0d0887"
          ],
          [
           0.1111111111111111,
           "#46039f"
          ],
          [
           0.2222222222222222,
           "#7201a8"
          ],
          [
           0.3333333333333333,
           "#9c179e"
          ],
          [
           0.4444444444444444,
           "#bd3786"
          ],
          [
           0.5555555555555556,
           "#d8576b"
          ],
          [
           0.6666666666666666,
           "#ed7953"
          ],
          [
           0.7777777777777778,
           "#fb9f3a"
          ],
          [
           0.8888888888888888,
           "#fdca26"
          ],
          [
           1,
           "#f0f921"
          ]
         ]
        },
        "height": 500,
        "legend": {
         "tracegroupgap": 0
        },
        "mapbox": {
         "center": {
          "lat": 43.33528,
          "lon": 4.2865
         },
         "domain": {
          "x": [
           0,
           1
          ],
          "y": [
           0,
           1
          ]
         },
         "style": "carto-positron",
         "zoom": 4
        },
        "template": {
         "data": {
          "bar": [
           {
            "error_x": {
             "color": "#2a3f5f"
            },
            "error_y": {
             "color": "#2a3f5f"
            },
            "marker": {
             "line": {
              "color": "#E5ECF6",
              "width": 0.5
             },
             "pattern": {
              "fillmode": "overlay",
              "size": 10,
              "solidity": 0.2
             }
            },
            "type": "bar"
           }
          ],
          "barpolar": [
           {
            "marker": {
             "line": {
              "color": "#E5ECF6",
              "width": 0.5
             },
             "pattern": {
              "fillmode": "overlay",
              "size": 10,
              "solidity": 0.2
             }
            },
            "type": "barpolar"
           }
          ],
          "carpet": [
           {
            "aaxis": {
             "endlinecolor": "#2a3f5f",
             "gridcolor": "white",
             "linecolor": "white",
             "minorgridcolor": "white",
             "startlinecolor": "#2a3f5f"
            },
            "baxis": {
             "endlinecolor": "#2a3f5f",
             "gridcolor": "white",
             "linecolor": "white",
             "minorgridcolor": "white",
             "startlinecolor": "#2a3f5f"
            },
            "type": "carpet"
           }
          ],
          "choropleth": [
           {
            "colorbar": {
             "outlinewidth": 0,
             "ticks": ""
            },
            "type": "choropleth"
           }
          ],
          "contour": [
           {
            "colorbar": {
             "outlinewidth": 0,
             "ticks": ""
            },
            "colorscale": [
             [
              0,
              "#0d0887"
             ],
             [
              0.1111111111111111,
              "#46039f"
             ],
             [
              0.2222222222222222,
              "#7201a8"
             ],
             [
              0.3333333333333333,
              "#9c179e"
             ],
             [
              0.4444444444444444,
              "#bd3786"
             ],
             [
              0.5555555555555556,
              "#d8576b"
             ],
             [
              0.6666666666666666,
              "#ed7953"
             ],
             [
              0.7777777777777778,
              "#fb9f3a"
             ],
             [
              0.8888888888888888,
              "#fdca26"
             ],
             [
              1,
              "#f0f921"
             ]
            ],
            "type": "contour"
           }
          ],
          "contourcarpet": [
           {
            "colorbar": {
             "outlinewidth": 0,
             "ticks": ""
            },
            "type": "contourcarpet"
           }
          ],
          "heatmap": [
           {
            "colorbar": {
             "outlinewidth": 0,
             "ticks": ""
            },
            "colorscale": [
             [
              0,
              "#0d0887"
             ],
             [
              0.1111111111111111,
              "#46039f"
             ],
             [
              0.2222222222222222,
              "#7201a8"
             ],
             [
              0.3333333333333333,
              "#9c179e"
             ],
             [
              0.4444444444444444,
              "#bd3786"
             ],
             [
              0.5555555555555556,
              "#d8576b"
             ],
             [
              0.6666666666666666,
              "#ed7953"
             ],
             [
              0.7777777777777778,
              "#fb9f3a"
             ],
             [
              0.8888888888888888,
              "#fdca26"
             ],
             [
              1,
              "#f0f921"
             ]
            ],
            "type": "heatmap"
           }
          ],
          "heatmapgl": [
           {
            "colorbar": {
             "outlinewidth": 0,
             "ticks": ""
            },
            "colorscale": [
             [
              0,
              "#0d0887"
             ],
             [
              0.1111111111111111,
              "#46039f"
             ],
             [
              0.2222222222222222,
              "#7201a8"
             ],
             [
              0.3333333333333333,
              "#9c179e"
             ],
             [
              0.4444444444444444,
              "#bd3786"
             ],
             [
              0.5555555555555556,
              "#d8576b"
             ],
             [
              0.6666666666666666,
              "#ed7953"
             ],
             [
              0.7777777777777778,
              "#fb9f3a"
             ],
             [
              0.8888888888888888,
              "#fdca26"
             ],
             [
              1,
              "#f0f921"
             ]
            ],
            "type": "heatmapgl"
           }
          ],
          "histogram": [
           {
            "marker": {
             "pattern": {
              "fillmode": "overlay",
              "size": 10,
              "solidity": 0.2
             }
            },
            "type": "histogram"
           }
          ],
          "histogram2d": [
           {
            "colorbar": {
             "outlinewidth": 0,
             "ticks": ""
            },
            "colorscale": [
             [
              0,
              "#0d0887"
             ],
             [
              0.1111111111111111,
              "#46039f"
             ],
             [
              0.2222222222222222,
              "#7201a8"
             ],
             [
              0.3333333333333333,
              "#9c179e"
             ],
             [
              0.4444444444444444,
              "#bd3786"
             ],
             [
              0.5555555555555556,
              "#d8576b"
             ],
             [
              0.6666666666666666,
              "#ed7953"
             ],
             [
              0.7777777777777778,
              "#fb9f3a"
             ],
             [
              0.8888888888888888,
              "#fdca26"
             ],
             [
              1,
              "#f0f921"
             ]
            ],
            "type": "histogram2d"
           }
          ],
          "histogram2dcontour": [
           {
            "colorbar": {
             "outlinewidth": 0,
             "ticks": ""
            },
            "colorscale": [
             [
              0,
              "#0d0887"
             ],
             [
              0.1111111111111111,
              "#46039f"
             ],
             [
              0.2222222222222222,
              "#7201a8"
             ],
             [
              0.3333333333333333,
              "#9c179e"
             ],
             [
              0.4444444444444444,
              "#bd3786"
             ],
             [
              0.5555555555555556,
              "#d8576b"
             ],
             [
              0.6666666666666666,
              "#ed7953"
             ],
             [
              0.7777777777777778,
              "#fb9f3a"
             ],
             [
              0.8888888888888888,
              "#fdca26"
             ],
             [
              1,
              "#f0f921"
             ]
            ],
            "type": "histogram2dcontour"
           }
          ],
          "mesh3d": [
           {
            "colorbar": {
             "outlinewidth": 0,
             "ticks": ""
            },
            "type": "mesh3d"
           }
          ],
          "parcoords": [
           {
            "line": {
             "colorbar": {
              "outlinewidth": 0,
              "ticks": ""
             }
            },
            "type": "parcoords"
           }
          ],
          "pie": [
           {
            "automargin": true,
            "type": "pie"
           }
          ],
          "scatter": [
           {
            "fillpattern": {
             "fillmode": "overlay",
             "size": 10,
             "solidity": 0.2
            },
            "type": "scatter"
           }
          ],
          "scatter3d": [
           {
            "line": {
             "colorbar": {
              "outlinewidth": 0,
              "ticks": ""
             }
            },
            "marker": {
             "colorbar": {
              "outlinewidth": 0,
              "ticks": ""
             }
            },
            "type": "scatter3d"
           }
          ],
          "scattercarpet": [
           {
            "marker": {
             "colorbar": {
              "outlinewidth": 0,
              "ticks": ""
             }
            },
            "type": "scattercarpet"
           }
          ],
          "scattergeo": [
           {
            "marker": {
             "colorbar": {
              "outlinewidth": 0,
              "ticks": ""
             }
            },
            "type": "scattergeo"
           }
          ],
          "scattergl": [
           {
            "marker": {
             "colorbar": {
              "outlinewidth": 0,
              "ticks": ""
             }
            },
            "type": "scattergl"
           }
          ],
          "scattermapbox": [
           {
            "marker": {
             "colorbar": {
              "outlinewidth": 0,
              "ticks": ""
             }
            },
            "type": "scattermapbox"
           }
          ],
          "scatterpolar": [
           {
            "marker": {
             "colorbar": {
              "outlinewidth": 0,
              "ticks": ""
             }
            },
            "type": "scatterpolar"
           }
          ],
          "scatterpolargl": [
           {
            "marker": {
             "colorbar": {
              "outlinewidth": 0,
              "ticks": ""
             }
            },
            "type": "scatterpolargl"
           }
          ],
          "scatterternary": [
           {
            "marker": {
             "colorbar": {
              "outlinewidth": 0,
              "ticks": ""
             }
            },
            "type": "scatterternary"
           }
          ],
          "surface": [
           {
            "colorbar": {
             "outlinewidth": 0,
             "ticks": ""
            },
            "colorscale": [
             [
              0,
              "#0d0887"
             ],
             [
              0.1111111111111111,
              "#46039f"
             ],
             [
              0.2222222222222222,
              "#7201a8"
             ],
             [
              0.3333333333333333,
              "#9c179e"
             ],
             [
              0.4444444444444444,
              "#bd3786"
             ],
             [
              0.5555555555555556,
              "#d8576b"
             ],
             [
              0.6666666666666666,
              "#ed7953"
             ],
             [
              0.7777777777777778,
              "#fb9f3a"
             ],
             [
              0.8888888888888888,
              "#fdca26"
             ],
             [
              1,
              "#f0f921"
             ]
            ],
            "type": "surface"
           }
          ],
          "table": [
           {
            "cells": {
             "fill": {
              "color": "#EBF0F8"
             },
             "line": {
              "color": "white"
             }
            },
            "header": {
             "fill": {
              "color": "#C8D4E3"
             },
             "line": {
              "color": "white"
             }
            },
            "type": "table"
           }
          ]
         },
         "layout": {
          "annotationdefaults": {
           "arrowcolor": "#2a3f5f",
           "arrowhead": 0,
           "arrowwidth": 1
          },
          "autotypenumbers": "strict",
          "coloraxis": {
           "colorbar": {
            "outlinewidth": 0,
            "ticks": ""
           }
          },
          "colorscale": {
           "diverging": [
            [
             0,
             "#8e0152"
            ],
            [
             0.1,
             "#c51b7d"
            ],
            [
             0.2,
             "#de77ae"
            ],
            [
             0.3,
             "#f1b6da"
            ],
            [
             0.4,
             "#fde0ef"
            ],
            [
             0.5,
             "#f7f7f7"
            ],
            [
             0.6,
             "#e6f5d0"
            ],
            [
             0.7,
             "#b8e186"
            ],
            [
             0.8,
             "#7fbc41"
            ],
            [
             0.9,
             "#4d9221"
            ],
            [
             1,
             "#276419"
            ]
           ],
           "sequential": [
            [
             0,
             "#0d0887"
            ],
            [
             0.1111111111111111,
             "#46039f"
            ],
            [
             0.2222222222222222,
             "#7201a8"
            ],
            [
             0.3333333333333333,
             "#9c179e"
            ],
            [
             0.4444444444444444,
             "#bd3786"
            ],
            [
             0.5555555555555556,
             "#d8576b"
            ],
            [
             0.6666666666666666,
             "#ed7953"
            ],
            [
             0.7777777777777778,
             "#fb9f3a"
            ],
            [
             0.8888888888888888,
             "#fdca26"
            ],
            [
             1,
             "#f0f921"
            ]
           ],
           "sequentialminus": [
            [
             0,
             "#0d0887"
            ],
            [
             0.1111111111111111,
             "#46039f"
            ],
            [
             0.2222222222222222,
             "#7201a8"
            ],
            [
             0.3333333333333333,
             "#9c179e"
            ],
            [
             0.4444444444444444,
             "#bd3786"
            ],
            [
             0.5555555555555556,
             "#d8576b"
            ],
            [
             0.6666666666666666,
             "#ed7953"
            ],
            [
             0.7777777777777778,
             "#fb9f3a"
            ],
            [
             0.8888888888888888,
             "#fdca26"
            ],
            [
             1,
             "#f0f921"
            ]
           ]
          },
          "colorway": [
           "#636efa",
           "#EF553B",
           "#00cc96",
           "#ab63fa",
           "#FFA15A",
           "#19d3f3",
           "#FF6692",
           "#B6E880",
           "#FF97FF",
           "#FECB52"
          ],
          "font": {
           "color": "#2a3f5f"
          },
          "geo": {
           "bgcolor": "white",
           "lakecolor": "white",
           "landcolor": "#E5ECF6",
           "showlakes": true,
           "showland": true,
           "subunitcolor": "white"
          },
          "hoverlabel": {
           "align": "left"
          },
          "hovermode": "closest",
          "mapbox": {
           "style": "light"
          },
          "paper_bgcolor": "white",
          "plot_bgcolor": "#E5ECF6",
          "polar": {
           "angularaxis": {
            "gridcolor": "white",
            "linecolor": "white",
            "ticks": ""
           },
           "bgcolor": "#E5ECF6",
           "radialaxis": {
            "gridcolor": "white",
            "linecolor": "white",
            "ticks": ""
           }
          },
          "scene": {
           "xaxis": {
            "backgroundcolor": "#E5ECF6",
            "gridcolor": "white",
            "gridwidth": 2,
            "linecolor": "white",
            "showbackground": true,
            "ticks": "",
            "zerolinecolor": "white"
           },
           "yaxis": {
            "backgroundcolor": "#E5ECF6",
            "gridcolor": "white",
            "gridwidth": 2,
            "linecolor": "white",
            "showbackground": true,
            "ticks": "",
            "zerolinecolor": "white"
           },
           "zaxis": {
            "backgroundcolor": "#E5ECF6",
            "gridcolor": "white",
            "gridwidth": 2,
            "linecolor": "white",
            "showbackground": true,
            "ticks": "",
            "zerolinecolor": "white"
           }
          },
          "shapedefaults": {
           "line": {
            "color": "#2a3f5f"
           }
          },
          "ternary": {
           "aaxis": {
            "gridcolor": "white",
            "linecolor": "white",
            "ticks": ""
           },
           "baxis": {
            "gridcolor": "white",
            "linecolor": "white",
            "ticks": ""
           },
           "bgcolor": "#E5ECF6",
           "caxis": {
            "gridcolor": "white",
            "linecolor": "white",
            "ticks": ""
           }
          },
          "title": {
           "x": 0.05
          },
          "xaxis": {
           "automargin": true,
           "gridcolor": "white",
           "linecolor": "white",
           "ticks": "",
           "title": {
            "standoff": 15
           },
           "zerolinecolor": "white",
           "zerolinewidth": 2
          },
          "yaxis": {
           "automargin": true,
           "gridcolor": "white",
           "linecolor": "white",
           "ticks": "",
           "title": {
            "standoff": 15
           },
           "zerolinecolor": "white",
           "zerolinewidth": 2
          }
         }
        },
        "title": {
         "text": "Precipitation probability from 0 to 1 of top 5 warmest cities in France"
        },
        "width": 700
       }
      }
     },
     "metadata": {},
     "output_type": "display_data"
    }
   ],
   "source": [
    "fig = px.scatter_mapbox(forecast_df, lat=\"city_lat\", lon=\"city_lon\", color=\"POP_1\",\n",
    "                        zoom=4, mapbox_style=\"carto-positron\",title='Precipitation probability from 0 to 1 for all the cities', color_discrete_sequence=True)\n",
    "\n",
    "fig.update_layout(width=550, height=600)\n",
    "fig.show()\n",
    "\n",
    "fig = px.scatter_mapbox(top_cities, lat=\"city_lat\", lon=\"city_lon\", color=\"POP_1\",\n",
    "                        zoom=4, mapbox_style=\"carto-positron\",title='Precipitation probability from 0 to 1 of top 5 warmest cities in France', color_discrete_sequence=True)\n",
    "\n",
    "fig.update_layout(width=700, height=500)\n",
    "fig.show()"
   ]
  },
  {
   "cell_type": "markdown",
   "metadata": {},
   "source": [
    "Only cities in the nord and east of France are expected to be under raining weather conditions.\n",
    "\n",
    "The five top warmest cities at the moment are expected also to have no precipitation. They are the top 5 destionations: Aigues-Mortes, Saintes-Maries-de-la-Mer, Collioure, Nîmes and Marseille"
   ]
  },
  {
   "cell_type": "markdown",
   "metadata": {},
   "source": [
    "### We use the data obtained from boooking website that we have saved in json file to create a new Dataframe about hotels in these cities"
   ]
  },
  {
   "cell_type": "code",
   "execution_count": 31,
   "metadata": {},
   "outputs": [
    {
     "data": {
      "text/html": [
       "<div>\n",
       "<style scoped>\n",
       "    .dataframe tbody tr th:only-of-type {\n",
       "        vertical-align: middle;\n",
       "    }\n",
       "\n",
       "    .dataframe tbody tr th {\n",
       "        vertical-align: top;\n",
       "    }\n",
       "\n",
       "    .dataframe thead th {\n",
       "        text-align: right;\n",
       "    }\n",
       "</style>\n",
       "<table border=\"1\" class=\"dataframe\">\n",
       "  <thead>\n",
       "    <tr style=\"text-align: right;\">\n",
       "      <th></th>\n",
       "      <th>city</th>\n",
       "      <th>hotel</th>\n",
       "      <th>url</th>\n",
       "      <th>note</th>\n",
       "      <th>coordinates</th>\n",
       "      <th>description</th>\n",
       "    </tr>\n",
       "  </thead>\n",
       "  <tbody>\n",
       "    <tr>\n",
       "      <th>0</th>\n",
       "      <td>Paris</td>\n",
       "      <td>Hôtel Diva Opera</td>\n",
       "      <td>https://www.booking.com/hotel/fr/gotty-opera.f...</td>\n",
       "      <td>8,0</td>\n",
       "      <td>48.87327211,2.34507881</td>\n",
       "      <td>L'Hotel Diva Opéra est situé dans le 9ème arro...</td>\n",
       "    </tr>\n",
       "    <tr>\n",
       "      <th>1</th>\n",
       "      <td>Paris</td>\n",
       "      <td>Tipi</td>\n",
       "      <td>https://www.booking.com/hotel/fr/tipi.fr.html?...</td>\n",
       "      <td>7,1</td>\n",
       "      <td>48.83548585,2.32537396</td>\n",
       "      <td>Situé dans le centre de Paris, cet hôtel est i...</td>\n",
       "    </tr>\n",
       "    <tr>\n",
       "      <th>2</th>\n",
       "      <td>Paris</td>\n",
       "      <td>Hôtel Du Mont Dore Batignolles</td>\n",
       "      <td>https://www.booking.com/hotel/fr/hotel-du-mont...</td>\n",
       "      <td>8,0</td>\n",
       "      <td>48.88370912,2.32275814</td>\n",
       "      <td>L'Hôtel Du Mont Dore Batignolles se trouve à 1...</td>\n",
       "    </tr>\n",
       "    <tr>\n",
       "      <th>3</th>\n",
       "      <td>Paris</td>\n",
       "      <td>Hôtel de Genève</td>\n",
       "      <td>https://www.booking.com/hotel/fr/de-geneve.fr....</td>\n",
       "      <td>7,5</td>\n",
       "      <td>48.87774274,2.32753918</td>\n",
       "      <td>Situé à 300 mètres de la gare Saint-Lazare et ...</td>\n",
       "    </tr>\n",
       "    <tr>\n",
       "      <th>4</th>\n",
       "      <td>Paris</td>\n",
       "      <td>B&amp;B HOTEL Paris 17 Batignolles</td>\n",
       "      <td>https://www.booking.com/hotel/fr/parisboulevar...</td>\n",
       "      <td>8,0</td>\n",
       "      <td>48.89431407,2.31234401</td>\n",
       "      <td>Le B&amp;B Hôtel Paris 17 Batignolles est situé da...</td>\n",
       "    </tr>\n",
       "  </tbody>\n",
       "</table>\n",
       "</div>"
      ],
      "text/plain": [
       "    city                           hotel  \\\n",
       "0  Paris                Hôtel Diva Opera   \n",
       "1  Paris                            Tipi   \n",
       "2  Paris  Hôtel Du Mont Dore Batignolles   \n",
       "3  Paris                 Hôtel de Genève   \n",
       "4  Paris  B&B HOTEL Paris 17 Batignolles   \n",
       "\n",
       "                                                 url note  \\\n",
       "0  https://www.booking.com/hotel/fr/gotty-opera.f...  8,0   \n",
       "1  https://www.booking.com/hotel/fr/tipi.fr.html?...  7,1   \n",
       "2  https://www.booking.com/hotel/fr/hotel-du-mont...  8,0   \n",
       "3  https://www.booking.com/hotel/fr/de-geneve.fr....  7,5   \n",
       "4  https://www.booking.com/hotel/fr/parisboulevar...  8,0   \n",
       "\n",
       "              coordinates                                        description  \n",
       "0  48.87327211,2.34507881  L'Hotel Diva Opéra est situé dans le 9ème arro...  \n",
       "1  48.83548585,2.32537396  Situé dans le centre de Paris, cet hôtel est i...  \n",
       "2  48.88370912,2.32275814  L'Hôtel Du Mont Dore Batignolles se trouve à 1...  \n",
       "3  48.87774274,2.32753918  Situé à 300 mètres de la gare Saint-Lazare et ...  \n",
       "4  48.89431407,2.31234401  Le B&B Hôtel Paris 17 Batignolles est situé da...  "
      ]
     },
     "execution_count": 31,
     "metadata": {},
     "output_type": "execute_result"
    }
   ],
   "source": [
    "path_json_hotels = '/Users/agustindei/Documents/Jedha/Full_Stack/Projets/Kayak/booking_scraping/booking5.json'\n",
    "\n",
    "df_hotels = pd.read_json(path_json_hotels)\n",
    "df_hotels.head()\n"
   ]
  },
  {
   "cell_type": "markdown",
   "metadata": {},
   "source": [
    "We create the latitude and longitude columns by splitting the coordinates column"
   ]
  },
  {
   "cell_type": "code",
   "execution_count": 32,
   "metadata": {},
   "outputs": [
    {
     "data": {
      "text/html": [
       "<div>\n",
       "<style scoped>\n",
       "    .dataframe tbody tr th:only-of-type {\n",
       "        vertical-align: middle;\n",
       "    }\n",
       "\n",
       "    .dataframe tbody tr th {\n",
       "        vertical-align: top;\n",
       "    }\n",
       "\n",
       "    .dataframe thead th {\n",
       "        text-align: right;\n",
       "    }\n",
       "</style>\n",
       "<table border=\"1\" class=\"dataframe\">\n",
       "  <thead>\n",
       "    <tr style=\"text-align: right;\">\n",
       "      <th></th>\n",
       "      <th>city</th>\n",
       "      <th>hotel</th>\n",
       "      <th>url</th>\n",
       "      <th>note</th>\n",
       "      <th>coordinates</th>\n",
       "      <th>description</th>\n",
       "      <th>hotel_latitude</th>\n",
       "      <th>hotel_longitude</th>\n",
       "    </tr>\n",
       "  </thead>\n",
       "  <tbody>\n",
       "    <tr>\n",
       "      <th>0</th>\n",
       "      <td>Paris</td>\n",
       "      <td>Hôtel Diva Opera</td>\n",
       "      <td>https://www.booking.com/hotel/fr/gotty-opera.f...</td>\n",
       "      <td>8,0</td>\n",
       "      <td>48.87327211,2.34507881</td>\n",
       "      <td>L'Hotel Diva Opéra est situé dans le 9ème arro...</td>\n",
       "      <td>48.873272</td>\n",
       "      <td>2.345079</td>\n",
       "    </tr>\n",
       "    <tr>\n",
       "      <th>1</th>\n",
       "      <td>Paris</td>\n",
       "      <td>Tipi</td>\n",
       "      <td>https://www.booking.com/hotel/fr/tipi.fr.html?...</td>\n",
       "      <td>7,1</td>\n",
       "      <td>48.83548585,2.32537396</td>\n",
       "      <td>Situé dans le centre de Paris, cet hôtel est i...</td>\n",
       "      <td>48.835486</td>\n",
       "      <td>2.325374</td>\n",
       "    </tr>\n",
       "    <tr>\n",
       "      <th>2</th>\n",
       "      <td>Paris</td>\n",
       "      <td>Hôtel Du Mont Dore Batignolles</td>\n",
       "      <td>https://www.booking.com/hotel/fr/hotel-du-mont...</td>\n",
       "      <td>8,0</td>\n",
       "      <td>48.88370912,2.32275814</td>\n",
       "      <td>L'Hôtel Du Mont Dore Batignolles se trouve à 1...</td>\n",
       "      <td>48.883709</td>\n",
       "      <td>2.322758</td>\n",
       "    </tr>\n",
       "    <tr>\n",
       "      <th>3</th>\n",
       "      <td>Paris</td>\n",
       "      <td>Hôtel de Genève</td>\n",
       "      <td>https://www.booking.com/hotel/fr/de-geneve.fr....</td>\n",
       "      <td>7,5</td>\n",
       "      <td>48.87774274,2.32753918</td>\n",
       "      <td>Situé à 300 mètres de la gare Saint-Lazare et ...</td>\n",
       "      <td>48.877743</td>\n",
       "      <td>2.327539</td>\n",
       "    </tr>\n",
       "    <tr>\n",
       "      <th>4</th>\n",
       "      <td>Paris</td>\n",
       "      <td>B&amp;B HOTEL Paris 17 Batignolles</td>\n",
       "      <td>https://www.booking.com/hotel/fr/parisboulevar...</td>\n",
       "      <td>8,0</td>\n",
       "      <td>48.89431407,2.31234401</td>\n",
       "      <td>Le B&amp;B Hôtel Paris 17 Batignolles est situé da...</td>\n",
       "      <td>48.894314</td>\n",
       "      <td>2.312344</td>\n",
       "    </tr>\n",
       "  </tbody>\n",
       "</table>\n",
       "</div>"
      ],
      "text/plain": [
       "    city                           hotel  \\\n",
       "0  Paris                Hôtel Diva Opera   \n",
       "1  Paris                            Tipi   \n",
       "2  Paris  Hôtel Du Mont Dore Batignolles   \n",
       "3  Paris                 Hôtel de Genève   \n",
       "4  Paris  B&B HOTEL Paris 17 Batignolles   \n",
       "\n",
       "                                                 url note  \\\n",
       "0  https://www.booking.com/hotel/fr/gotty-opera.f...  8,0   \n",
       "1  https://www.booking.com/hotel/fr/tipi.fr.html?...  7,1   \n",
       "2  https://www.booking.com/hotel/fr/hotel-du-mont...  8,0   \n",
       "3  https://www.booking.com/hotel/fr/de-geneve.fr....  7,5   \n",
       "4  https://www.booking.com/hotel/fr/parisboulevar...  8,0   \n",
       "\n",
       "              coordinates                                        description  \\\n",
       "0  48.87327211,2.34507881  L'Hotel Diva Opéra est situé dans le 9ème arro...   \n",
       "1  48.83548585,2.32537396  Situé dans le centre de Paris, cet hôtel est i...   \n",
       "2  48.88370912,2.32275814  L'Hôtel Du Mont Dore Batignolles se trouve à 1...   \n",
       "3  48.87774274,2.32753918  Situé à 300 mètres de la gare Saint-Lazare et ...   \n",
       "4  48.89431407,2.31234401  Le B&B Hôtel Paris 17 Batignolles est situé da...   \n",
       "\n",
       "   hotel_latitude  hotel_longitude  \n",
       "0       48.873272         2.345079  \n",
       "1       48.835486         2.325374  \n",
       "2       48.883709         2.322758  \n",
       "3       48.877743         2.327539  \n",
       "4       48.894314         2.312344  "
      ]
     },
     "execution_count": 32,
     "metadata": {},
     "output_type": "execute_result"
    }
   ],
   "source": [
    "df_hotels[['hotel_latitude', 'hotel_longitude']] = df_hotels['coordinates'].str.split(',', expand=True)\n",
    "\n",
    "# Convert the latitude and longitude to float\n",
    "df_hotels['hotel_latitude'] = df_hotels['hotel_latitude'].astype(float)\n",
    "df_hotels['hotel_longitude'] = df_hotels['hotel_longitude'].astype(float)\n",
    "df_hotels.drop(columns='coordinates', axis=1) \n",
    "df_hotels.head()"
   ]
  },
  {
   "cell_type": "markdown",
   "metadata": {},
   "source": [
    "# Final DataFrame : merging of the forecaste dataframe and the hotels dataframe\n",
    "\n",
    "### Before merging the forecast dataframe and the hotels dataframe we check if there are any difference between the cities names "
   ]
  },
  {
   "cell_type": "code",
   "execution_count": 123,
   "metadata": {},
   "outputs": [
    {
     "name": "stdout",
     "output_type": "stream",
     "text": [
      "Cities only in forecast_df: {'Ariège', 'St. Malo', 'Uzès', 'Mont Saint-Michel', 'Besançon', 'Aigues-Mortes', 'Bormes-les-Mimosas', 'Château du Haut-Kœnigsbourg', 'Aix-en-Provence'}\n",
      "Cities only in df_hotels: {'Ariege', 'Bormes les Mimosas', 'Aigues Mortes', 'Aix en Provence', 'Besancon', 'Uzes', 'Chateau du Haut Koenigsbourg', 'Mont Saint Michel', 'St Malo'}\n"
     ]
    }
   ],
   "source": [
    "# Get unique cities from both DataFrames\n",
    "cities_in_forecast_df = set(forecast_df['city'].unique())\n",
    "cities_in_df_hotels = set(df_hotels['city'].unique())\n",
    "\n",
    "# Find differences\n",
    "cities_only_in_forecast_df = cities_in_forecast_df - cities_in_df_hotels\n",
    "cities_only_in_df_hotels = cities_in_df_hotels - cities_in_forecast_df\n",
    "\n",
    "# Display the differences\n",
    "print(\"Cities only in forecast_df:\", cities_only_in_forecast_df)\n",
    "print(\"Cities only in df_hotels:\", cities_only_in_df_hotels)"
   ]
  },
  {
   "cell_type": "markdown",
   "metadata": {},
   "source": [
    "### We correct the differences before merging"
   ]
  },
  {
   "cell_type": "code",
   "execution_count": 124,
   "metadata": {},
   "outputs": [],
   "source": [
    "#Changes in forecast_df\n",
    "\n",
    "forecast_df = forecast_df.loc[:, ~forecast_df.columns.str.contains('^Unnamed')]\n",
    "forecast_df = forecast_df.rename(columns={'City': 'city'})\n",
    "forecast_df['city'] = forecast_df['city'].replace({'Saintes-Maries-de-la-Mer': 'Les Saintes-Maries-de-la-Mer'})\n",
    "\n",
    "#Changes in df_hotels\n",
    "\n",
    "# Create a dictionary to map city names from df_hotels to forecast_df\n",
    "city_replacements = {\n",
    "    'Ariege': 'Ariège',\n",
    "    'Bormes les Mimosas': 'Bormes-les-Mimosas',\n",
    "    'Aigues Mortes': 'Aigues-Mortes',\n",
    "    'Aix en Provence': 'Aix-en-Provence',\n",
    "    'Besancon': 'Besançon',\n",
    "    'Uzes': 'Uzès',\n",
    "    'Chateau du Haut Koenigsbourg': 'Château du Haut-Kœnigsbourg',\n",
    "    'Mont Saint Michel': 'Mont Saint-Michel',\n",
    "    'St Malo': 'St. Malo'\n",
    "}\n",
    "\n",
    "# Replace city names in df_hotels\n",
    "df_hotels['city'] = df_hotels['city'].replace(city_replacements)\n"
   ]
  },
  {
   "cell_type": "markdown",
   "metadata": {},
   "source": [
    "# We obtain our final dataframe"
   ]
  },
  {
   "cell_type": "code",
   "execution_count": 125,
   "metadata": {},
   "outputs": [
    {
     "data": {
      "text/html": [
       "<div>\n",
       "<style scoped>\n",
       "    .dataframe tbody tr th:only-of-type {\n",
       "        vertical-align: middle;\n",
       "    }\n",
       "\n",
       "    .dataframe tbody tr th {\n",
       "        vertical-align: top;\n",
       "    }\n",
       "\n",
       "    .dataframe thead th {\n",
       "        text-align: right;\n",
       "    }\n",
       "</style>\n",
       "<table border=\"1\" class=\"dataframe\">\n",
       "  <thead>\n",
       "    <tr style=\"text-align: right;\">\n",
       "      <th></th>\n",
       "      <th>city</th>\n",
       "      <th>hotel</th>\n",
       "      <th>url</th>\n",
       "      <th>note</th>\n",
       "      <th>coordinates</th>\n",
       "      <th>description</th>\n",
       "      <th>hotel_latitude</th>\n",
       "      <th>hotel_longitude</th>\n",
       "      <th>city_id</th>\n",
       "      <th>city_lat</th>\n",
       "      <th>city_lon</th>\n",
       "      <th>temperature</th>\n",
       "      <th>POP_1</th>\n",
       "      <th>POP_2</th>\n",
       "      <th>POP_3</th>\n",
       "      <th>POP_4</th>\n",
       "      <th>POP_5</th>\n",
       "    </tr>\n",
       "  </thead>\n",
       "  <tbody>\n",
       "    <tr>\n",
       "      <th>0</th>\n",
       "      <td>Paris</td>\n",
       "      <td>Hôtel Diva Opera</td>\n",
       "      <td>https://www.booking.com/hotel/fr/gotty-opera.f...</td>\n",
       "      <td>8,0</td>\n",
       "      <td>48.87327211,2.34507881</td>\n",
       "      <td>L'Hotel Diva Opéra est situé dans le 9ème arro...</td>\n",
       "      <td>48.873272</td>\n",
       "      <td>2.345079</td>\n",
       "      <td>6</td>\n",
       "      <td>48.8589</td>\n",
       "      <td>2.32</td>\n",
       "      <td>20.84</td>\n",
       "      <td>0.0</td>\n",
       "      <td>0.0</td>\n",
       "      <td>0.0</td>\n",
       "      <td>0.0</td>\n",
       "      <td>0.0</td>\n",
       "    </tr>\n",
       "    <tr>\n",
       "      <th>1</th>\n",
       "      <td>Paris</td>\n",
       "      <td>Tipi</td>\n",
       "      <td>https://www.booking.com/hotel/fr/tipi.fr.html?...</td>\n",
       "      <td>7,1</td>\n",
       "      <td>48.83548585,2.32537396</td>\n",
       "      <td>Situé dans le centre de Paris, cet hôtel est i...</td>\n",
       "      <td>48.835486</td>\n",
       "      <td>2.325374</td>\n",
       "      <td>6</td>\n",
       "      <td>48.8589</td>\n",
       "      <td>2.32</td>\n",
       "      <td>20.84</td>\n",
       "      <td>0.0</td>\n",
       "      <td>0.0</td>\n",
       "      <td>0.0</td>\n",
       "      <td>0.0</td>\n",
       "      <td>0.0</td>\n",
       "    </tr>\n",
       "    <tr>\n",
       "      <th>2</th>\n",
       "      <td>Paris</td>\n",
       "      <td>Hôtel Du Mont Dore Batignolles</td>\n",
       "      <td>https://www.booking.com/hotel/fr/hotel-du-mont...</td>\n",
       "      <td>8,0</td>\n",
       "      <td>48.88370912,2.32275814</td>\n",
       "      <td>L'Hôtel Du Mont Dore Batignolles se trouve à 1...</td>\n",
       "      <td>48.883709</td>\n",
       "      <td>2.322758</td>\n",
       "      <td>6</td>\n",
       "      <td>48.8589</td>\n",
       "      <td>2.32</td>\n",
       "      <td>20.84</td>\n",
       "      <td>0.0</td>\n",
       "      <td>0.0</td>\n",
       "      <td>0.0</td>\n",
       "      <td>0.0</td>\n",
       "      <td>0.0</td>\n",
       "    </tr>\n",
       "    <tr>\n",
       "      <th>3</th>\n",
       "      <td>Paris</td>\n",
       "      <td>Hôtel de Genève</td>\n",
       "      <td>https://www.booking.com/hotel/fr/de-geneve.fr....</td>\n",
       "      <td>7,5</td>\n",
       "      <td>48.87774274,2.32753918</td>\n",
       "      <td>Situé à 300 mètres de la gare Saint-Lazare et ...</td>\n",
       "      <td>48.877743</td>\n",
       "      <td>2.327539</td>\n",
       "      <td>6</td>\n",
       "      <td>48.8589</td>\n",
       "      <td>2.32</td>\n",
       "      <td>20.84</td>\n",
       "      <td>0.0</td>\n",
       "      <td>0.0</td>\n",
       "      <td>0.0</td>\n",
       "      <td>0.0</td>\n",
       "      <td>0.0</td>\n",
       "    </tr>\n",
       "    <tr>\n",
       "      <th>4</th>\n",
       "      <td>Paris</td>\n",
       "      <td>B&amp;B HOTEL Paris 17 Batignolles</td>\n",
       "      <td>https://www.booking.com/hotel/fr/parisboulevar...</td>\n",
       "      <td>8,0</td>\n",
       "      <td>48.89431407,2.31234401</td>\n",
       "      <td>Le B&amp;B Hôtel Paris 17 Batignolles est situé da...</td>\n",
       "      <td>48.894314</td>\n",
       "      <td>2.312344</td>\n",
       "      <td>6</td>\n",
       "      <td>48.8589</td>\n",
       "      <td>2.32</td>\n",
       "      <td>20.84</td>\n",
       "      <td>0.0</td>\n",
       "      <td>0.0</td>\n",
       "      <td>0.0</td>\n",
       "      <td>0.0</td>\n",
       "      <td>0.0</td>\n",
       "    </tr>\n",
       "  </tbody>\n",
       "</table>\n",
       "</div>"
      ],
      "text/plain": [
       "    city                           hotel  \\\n",
       "0  Paris                Hôtel Diva Opera   \n",
       "1  Paris                            Tipi   \n",
       "2  Paris  Hôtel Du Mont Dore Batignolles   \n",
       "3  Paris                 Hôtel de Genève   \n",
       "4  Paris  B&B HOTEL Paris 17 Batignolles   \n",
       "\n",
       "                                                 url note  \\\n",
       "0  https://www.booking.com/hotel/fr/gotty-opera.f...  8,0   \n",
       "1  https://www.booking.com/hotel/fr/tipi.fr.html?...  7,1   \n",
       "2  https://www.booking.com/hotel/fr/hotel-du-mont...  8,0   \n",
       "3  https://www.booking.com/hotel/fr/de-geneve.fr....  7,5   \n",
       "4  https://www.booking.com/hotel/fr/parisboulevar...  8,0   \n",
       "\n",
       "              coordinates                                        description  \\\n",
       "0  48.87327211,2.34507881  L'Hotel Diva Opéra est situé dans le 9ème arro...   \n",
       "1  48.83548585,2.32537396  Situé dans le centre de Paris, cet hôtel est i...   \n",
       "2  48.88370912,2.32275814  L'Hôtel Du Mont Dore Batignolles se trouve à 1...   \n",
       "3  48.87774274,2.32753918  Situé à 300 mètres de la gare Saint-Lazare et ...   \n",
       "4  48.89431407,2.31234401  Le B&B Hôtel Paris 17 Batignolles est situé da...   \n",
       "\n",
       "   hotel_latitude  hotel_longitude  city_id  city_lat  city_lon  temperature  \\\n",
       "0       48.873272         2.345079        6   48.8589      2.32        20.84   \n",
       "1       48.835486         2.325374        6   48.8589      2.32        20.84   \n",
       "2       48.883709         2.322758        6   48.8589      2.32        20.84   \n",
       "3       48.877743         2.327539        6   48.8589      2.32        20.84   \n",
       "4       48.894314         2.312344        6   48.8589      2.32        20.84   \n",
       "\n",
       "   POP_1  POP_2  POP_3  POP_4  POP_5  \n",
       "0    0.0    0.0    0.0    0.0    0.0  \n",
       "1    0.0    0.0    0.0    0.0    0.0  \n",
       "2    0.0    0.0    0.0    0.0    0.0  \n",
       "3    0.0    0.0    0.0    0.0    0.0  \n",
       "4    0.0    0.0    0.0    0.0    0.0  "
      ]
     },
     "execution_count": 125,
     "metadata": {},
     "output_type": "execute_result"
    }
   ],
   "source": [
    "df_final = pd.merge(df_hotels, forecast_df, on='city', how='left')\n",
    "\n",
    "df_final.head()"
   ]
  },
  {
   "cell_type": "markdown",
   "metadata": {},
   "source": [
    "we check the shape"
   ]
  },
  {
   "cell_type": "code",
   "execution_count": 126,
   "metadata": {},
   "outputs": [
    {
     "data": {
      "text/plain": [
       "(35, 10)"
      ]
     },
     "execution_count": 126,
     "metadata": {},
     "output_type": "execute_result"
    }
   ],
   "source": [
    "forecast_df.shape"
   ]
  },
  {
   "cell_type": "markdown",
   "metadata": {},
   "source": [
    "Final adjustments"
   ]
  },
  {
   "cell_type": "code",
   "execution_count": 87,
   "metadata": {},
   "outputs": [
    {
     "data": {
      "text/html": [
       "<div>\n",
       "<style scoped>\n",
       "    .dataframe tbody tr th:only-of-type {\n",
       "        vertical-align: middle;\n",
       "    }\n",
       "\n",
       "    .dataframe tbody tr th {\n",
       "        vertical-align: top;\n",
       "    }\n",
       "\n",
       "    .dataframe thead th {\n",
       "        text-align: right;\n",
       "    }\n",
       "</style>\n",
       "<table border=\"1\" class=\"dataframe\">\n",
       "  <thead>\n",
       "    <tr style=\"text-align: right;\">\n",
       "      <th></th>\n",
       "      <th>city_id</th>\n",
       "      <th>city</th>\n",
       "      <th>hotel</th>\n",
       "      <th>url</th>\n",
       "      <th>note</th>\n",
       "      <th>coordinates</th>\n",
       "      <th>description</th>\n",
       "      <th>hotel_latitude</th>\n",
       "      <th>hotel_longitude</th>\n",
       "      <th>city_lat</th>\n",
       "      <th>city_lon</th>\n",
       "      <th>temperature</th>\n",
       "      <th>POP_1</th>\n",
       "      <th>POP_2</th>\n",
       "      <th>POP_3</th>\n",
       "      <th>POP_4</th>\n",
       "      <th>POP_5</th>\n",
       "    </tr>\n",
       "  </thead>\n",
       "  <tbody>\n",
       "    <tr>\n",
       "      <th>0</th>\n",
       "      <td>6.0</td>\n",
       "      <td>Paris</td>\n",
       "      <td>Hôtel Diva Opera</td>\n",
       "      <td>https://www.booking.com/hotel/fr/gotty-opera.f...</td>\n",
       "      <td>8,0</td>\n",
       "      <td>48.87327211,2.34507881</td>\n",
       "      <td>L'Hotel Diva Opéra est situé dans le 9ème arro...</td>\n",
       "      <td>48.873272</td>\n",
       "      <td>2.345079</td>\n",
       "      <td>48.8589</td>\n",
       "      <td>2.32</td>\n",
       "      <td>20.84</td>\n",
       "      <td>0.0</td>\n",
       "      <td>0.0</td>\n",
       "      <td>0.0</td>\n",
       "      <td>0.0</td>\n",
       "      <td>0.0</td>\n",
       "    </tr>\n",
       "    <tr>\n",
       "      <th>1</th>\n",
       "      <td>6.0</td>\n",
       "      <td>Paris</td>\n",
       "      <td>Tipi</td>\n",
       "      <td>https://www.booking.com/hotel/fr/tipi.fr.html?...</td>\n",
       "      <td>7,1</td>\n",
       "      <td>48.83548585,2.32537396</td>\n",
       "      <td>Situé dans le centre de Paris, cet hôtel est i...</td>\n",
       "      <td>48.835486</td>\n",
       "      <td>2.325374</td>\n",
       "      <td>48.8589</td>\n",
       "      <td>2.32</td>\n",
       "      <td>20.84</td>\n",
       "      <td>0.0</td>\n",
       "      <td>0.0</td>\n",
       "      <td>0.0</td>\n",
       "      <td>0.0</td>\n",
       "      <td>0.0</td>\n",
       "    </tr>\n",
       "    <tr>\n",
       "      <th>2</th>\n",
       "      <td>6.0</td>\n",
       "      <td>Paris</td>\n",
       "      <td>Hôtel Du Mont Dore Batignolles</td>\n",
       "      <td>https://www.booking.com/hotel/fr/hotel-du-mont...</td>\n",
       "      <td>8,0</td>\n",
       "      <td>48.88370912,2.32275814</td>\n",
       "      <td>L'Hôtel Du Mont Dore Batignolles se trouve à 1...</td>\n",
       "      <td>48.883709</td>\n",
       "      <td>2.322758</td>\n",
       "      <td>48.8589</td>\n",
       "      <td>2.32</td>\n",
       "      <td>20.84</td>\n",
       "      <td>0.0</td>\n",
       "      <td>0.0</td>\n",
       "      <td>0.0</td>\n",
       "      <td>0.0</td>\n",
       "      <td>0.0</td>\n",
       "    </tr>\n",
       "    <tr>\n",
       "      <th>3</th>\n",
       "      <td>6.0</td>\n",
       "      <td>Paris</td>\n",
       "      <td>Hôtel de Genève</td>\n",
       "      <td>https://www.booking.com/hotel/fr/de-geneve.fr....</td>\n",
       "      <td>7,5</td>\n",
       "      <td>48.87774274,2.32753918</td>\n",
       "      <td>Situé à 300 mètres de la gare Saint-Lazare et ...</td>\n",
       "      <td>48.877743</td>\n",
       "      <td>2.327539</td>\n",
       "      <td>48.8589</td>\n",
       "      <td>2.32</td>\n",
       "      <td>20.84</td>\n",
       "      <td>0.0</td>\n",
       "      <td>0.0</td>\n",
       "      <td>0.0</td>\n",
       "      <td>0.0</td>\n",
       "      <td>0.0</td>\n",
       "    </tr>\n",
       "    <tr>\n",
       "      <th>4</th>\n",
       "      <td>6.0</td>\n",
       "      <td>Paris</td>\n",
       "      <td>B&amp;B HOTEL Paris 17 Batignolles</td>\n",
       "      <td>https://www.booking.com/hotel/fr/parisboulevar...</td>\n",
       "      <td>8,0</td>\n",
       "      <td>48.89431407,2.31234401</td>\n",
       "      <td>Le B&amp;B Hôtel Paris 17 Batignolles est situé da...</td>\n",
       "      <td>48.894314</td>\n",
       "      <td>2.312344</td>\n",
       "      <td>48.8589</td>\n",
       "      <td>2.32</td>\n",
       "      <td>20.84</td>\n",
       "      <td>0.0</td>\n",
       "      <td>0.0</td>\n",
       "      <td>0.0</td>\n",
       "      <td>0.0</td>\n",
       "      <td>0.0</td>\n",
       "    </tr>\n",
       "  </tbody>\n",
       "</table>\n",
       "</div>"
      ],
      "text/plain": [
       "   city_id   city                           hotel  \\\n",
       "0      6.0  Paris                Hôtel Diva Opera   \n",
       "1      6.0  Paris                            Tipi   \n",
       "2      6.0  Paris  Hôtel Du Mont Dore Batignolles   \n",
       "3      6.0  Paris                 Hôtel de Genève   \n",
       "4      6.0  Paris  B&B HOTEL Paris 17 Batignolles   \n",
       "\n",
       "                                                 url note  \\\n",
       "0  https://www.booking.com/hotel/fr/gotty-opera.f...  8,0   \n",
       "1  https://www.booking.com/hotel/fr/tipi.fr.html?...  7,1   \n",
       "2  https://www.booking.com/hotel/fr/hotel-du-mont...  8,0   \n",
       "3  https://www.booking.com/hotel/fr/de-geneve.fr....  7,5   \n",
       "4  https://www.booking.com/hotel/fr/parisboulevar...  8,0   \n",
       "\n",
       "              coordinates                                        description  \\\n",
       "0  48.87327211,2.34507881  L'Hotel Diva Opéra est situé dans le 9ème arro...   \n",
       "1  48.83548585,2.32537396  Situé dans le centre de Paris, cet hôtel est i...   \n",
       "2  48.88370912,2.32275814  L'Hôtel Du Mont Dore Batignolles se trouve à 1...   \n",
       "3  48.87774274,2.32753918  Situé à 300 mètres de la gare Saint-Lazare et ...   \n",
       "4  48.89431407,2.31234401  Le B&B Hôtel Paris 17 Batignolles est situé da...   \n",
       "\n",
       "   hotel_latitude  hotel_longitude  city_lat  city_lon  temperature  POP_1  \\\n",
       "0       48.873272         2.345079   48.8589      2.32        20.84    0.0   \n",
       "1       48.835486         2.325374   48.8589      2.32        20.84    0.0   \n",
       "2       48.883709         2.322758   48.8589      2.32        20.84    0.0   \n",
       "3       48.877743         2.327539   48.8589      2.32        20.84    0.0   \n",
       "4       48.894314         2.312344   48.8589      2.32        20.84    0.0   \n",
       "\n",
       "   POP_2  POP_3  POP_4  POP_5  \n",
       "0    0.0    0.0    0.0    0.0  \n",
       "1    0.0    0.0    0.0    0.0  \n",
       "2    0.0    0.0    0.0    0.0  \n",
       "3    0.0    0.0    0.0    0.0  \n",
       "4    0.0    0.0    0.0    0.0  "
      ]
     },
     "execution_count": 87,
     "metadata": {},
     "output_type": "execute_result"
    }
   ],
   "source": [
    "# Move 'city_id' to the first position\n",
    "cols = ['city_id'] + [col for col in df_final.columns if col != 'city_id']\n",
    "\n",
    "# Reassign the dataframe with the new column order\n",
    "df_final = df_final[cols]\n",
    "df_final.head()"
   ]
  },
  {
   "cell_type": "markdown",
   "metadata": {},
   "source": [
    "### We save all the data in the final df in a csv file"
   ]
  },
  {
   "cell_type": "code",
   "execution_count": 140,
   "metadata": {},
   "outputs": [],
   "source": [
    "df_final.to_csv(\"df_final_kayak_project.csv\")"
   ]
  }
 ],
 "metadata": {
  "kernelspec": {
   "display_name": "base",
   "language": "python",
   "name": "python3"
  },
  "language_info": {
   "codemirror_mode": {
    "name": "ipython",
    "version": 3
   },
   "file_extension": ".py",
   "mimetype": "text/x-python",
   "name": "python",
   "nbconvert_exporter": "python",
   "pygments_lexer": "ipython3",
   "version": "3.11.8"
  }
 },
 "nbformat": 4,
 "nbformat_minor": 2
}
