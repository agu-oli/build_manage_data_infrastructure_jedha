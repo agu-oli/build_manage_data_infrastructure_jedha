{
 "cells": [
  {
   "cell_type": "markdown",
   "metadata": {},
   "source": [
    "Imports"
   ]
  },
  {
   "cell_type": "code",
   "execution_count": 1,
   "metadata": {},
   "outputs": [],
   "source": [
    "import pandas as pd\n",
    "from sqlalchemy.ext.declarative import declarative_base\n",
    "from sqlalchemy import Column, Integer, String, Float\n",
    "from sqlalchemy.orm import sessionmaker\n",
    "from sqlalchemy.sql import text\n",
    "\n"
   ]
  },
  {
   "cell_type": "markdown",
   "metadata": {},
   "source": [
    "## Create a SQL DATABASE with our dataset.\n",
    "\n",
    "### 1. we connect to my PostgreSQL database in aws rds using SQLAlchemy\n",
    "\n",
    "### 2. we push our pandas dataframe to the sql database using df.to_sql() method. It is not necessary to explicitely define the table structure in SQLAlchemy."
   ]
  },
  {
   "cell_type": "code",
   "execution_count": 2,
   "metadata": {},
   "outputs": [],
   "source": [
    "df_final = pd.read_csv('s3://projet-kayak-jedha/df_final_kayak_project.csv')\n",
    "\n",
    "# Drop the unnecessary columns\n",
    "\n",
    "df_final = df_final.drop(columns=['coordinates'])\n"
   ]
  },
  {
   "cell_type": "code",
   "execution_count": 3,
   "metadata": {},
   "outputs": [],
   "source": [
    "from sqlalchemy import create_engine\n",
    "\n",
    "# Replace with actual values\n",
    "username = \"postgres\"\n",
    "password = \"jedhapassword\"\n",
    "endpoint = \"jedha-db-adei.clcggo264zgf.eu-west-3.rds.amazonaws.com\"\n",
    "dbname = \"postgres\"\n",
    "port = \"5432\"  # This should be a valid integer\n",
    "\n",
    "#jedha-db-adei.clcggo264zgf.eu-west-3.rds.amazonaws.com\n",
    "# Create the connection string\n",
    "connection_string = f\"postgresql+psycopg2://{username}:{password}@{endpoint}:{port}/{dbname}\"\n",
    "\n",
    "# Create the engine\n",
    "engine = create_engine(connection_string)"
   ]
  },
  {
   "cell_type": "markdown",
   "metadata": {},
   "source": [
    "Push df to the sql database"
   ]
  },
  {
   "cell_type": "code",
   "execution_count": 4,
   "metadata": {},
   "outputs": [
    {
     "name": "stderr",
     "output_type": "stream",
     "text": [
      "/var/folders/sp/y1prs_xd6c5dq9mttys340t40000gn/T/ipykernel_59867/2152229356.py:4: MovedIn20Warning: The ``declarative_base()`` function is now available as sqlalchemy.orm.declarative_base(). (deprecated since: 2.0) (Background on SQLAlchemy 2.0 at: https://sqlalche.me/e/b8d9)\n",
      "  Base = declarative_base()\n"
     ]
    }
   ],
   "source": [
    "df_final.to_sql('hotel_info', con=engine, if_exists='replace', index=False)\n",
    "\n",
    "\n",
    "Base = declarative_base()\n",
    "\n",
    "class HotelInfo(Base):\n",
    "    __tablename__ = 'hotel_info'\n",
    "\n",
    "    # Define columns based on your DataFrame's schema\n",
    "    city_id = Column(Integer, primary_key=True)  # Assuming city_id is your primary key\n",
    "    city = Column(String)\n",
    "    hotel = Column(String)\n",
    "    url = Column(String)\n",
    "    note = Column(String)\n",
    "    description = Column(String)\n",
    "    hotel_latitude = Column(Float)\n",
    "    hotel_longitude = Column(Float)\n",
    "    city_lat = Column(Float)\n",
    "    city_lon = Column(Float)\n",
    "    temperature = Column(Float)\n",
    "    POP_1 = Column(Float)  # Change to appropriate type if needed\n",
    "    POP_2 = Column(Float)\n",
    "    POP_3 = Column(Float)\n",
    "    POP_4 = Column(Float)\n",
    "    POP_5 = Column(Float)\n",
    "    \n",
    "    def __repr__(self):\n",
    "        return (f\"HotelInfo:\\n\"\n",
    "                f\"  City: {self.city}\\n\"\n",
    "                f\"  Hotel: {self.hotel}\\n\"\n",
    "                f\"  URL: {self.url}\\n\"\n",
    "                f\"  Note: {self.note}\\n\"\n",
    "                f\"  Description: {self.description}...  # Preview description\\n\"\n",
    "                f\"  Latitude: {self.hotel_latitude}\\n\"\n",
    "                f\"  Longitude: {self.hotel_longitude}\\n\"\n",
    "                f\"  City Latitude: {self.city_lat}\\n\"\n",
    "                f\"  City Longitude: {self.city_lon}\\n\"\n",
    "                f\"  Temperature: {self.temperature}\\n\"\n",
    "                f\"  POP 1: {self.POP_1}\\n\"\n",
    "                f\"  POP 2: {self.POP_2}\\n\"\n",
    "                f\"  POP 3: {self.POP_3}\\n\"\n",
    "                f\"  POP 4: {self.POP_4}\\n\"\n",
    "                f\"  POP 5: {self.POP_5}\\n\")    \n",
    "\n"
   ]
  },
  {
   "cell_type": "markdown",
   "metadata": {},
   "source": [
    "# Query Examples on our database"
   ]
  },
  {
   "cell_type": "markdown",
   "metadata": {},
   "source": [
    "Query with text"
   ]
  },
  {
   "cell_type": "code",
   "execution_count": 5,
   "metadata": {},
   "outputs": [
    {
     "name": "stdout",
     "output_type": "stream",
     "text": [
      "('Paris', 'Hôtel Diva Opera', 20.840000000000032)\n",
      "('Paris', 'Tipi', 20.840000000000032)\n",
      "('Paris', 'Hôtel Du Mont Dore Batignolles', 20.840000000000032)\n",
      "('Paris', 'Hôtel de Genève', 20.840000000000032)\n",
      "('Paris', 'B&B HOTEL Paris 17 Batignolles', 20.840000000000032)\n",
      "('Paris', 'ibis Paris Gare du Nord Château Landon 10ème', 20.840000000000032)\n",
      "('Paris', 'GREEN PARK HOTEL PARIS', 20.840000000000032)\n",
      "('Paris', 'Hôtel Avenir Jonquière', 20.840000000000032)\n",
      "('Paris', 'Hipotel Paris Père-Lachaise République', 20.840000000000032)\n",
      "('Paris', 'Hotel Viator - Gare de Lyon', 20.840000000000032)\n",
      "('Paris', 'Hôtel Paris Vaugirard', 20.840000000000032)\n",
      "('Paris', 'Color Design Hotel', 20.840000000000032)\n",
      "('Paris', 'Hotel Paris Italie', 20.840000000000032)\n",
      "('Paris', 'Kyriad Hotel XIII Italie Gobelins', 20.840000000000032)\n",
      "('Paris', 'Arcadie Montparnasse', 20.840000000000032)\n",
      "('Paris', 'citizenM Paris Gare de Lyon', 20.840000000000032)\n",
      "('Paris', 'Hotel CIS Paris Maurice Ravel', 20.840000000000032)\n",
      "('Paris', 'Pavillon Nation', 20.840000000000032)\n",
      "('Paris', \"Appart'City Classic Paris La Villette\", 20.840000000000032)\n",
      "('Paris', 'Amadeus Hotel', 20.840000000000032)\n",
      "('Paris', 'Courcelles Etoile', 20.840000000000032)\n",
      "('Paris', 'ibis Styles Paris Bercy', 20.840000000000032)\n",
      "('Paris', 'HOTEL LOUVAIN', 20.840000000000032)\n",
      "('Paris', 'WS Louvre - Casanova', 20.840000000000032)\n",
      "('Paris', 'Grand Hôtel De Paris', 20.840000000000032)\n"
     ]
    }
   ],
   "source": [
    "username = \"postgres\"\n",
    "password = \"jedhapassword\"\n",
    "endpoint = \"jedha-db-adei.clcggo264zgf.eu-west-3.rds.amazonaws.com\"\n",
    "dbname = \"postgres\"\n",
    "port = \"5432\"  # This should be a valid integer\n",
    "\n",
    "\n",
    "# connection string \n",
    "DATABASE_URI = f\"postgresql+psycopg2://{username}:{password}@{endpoint}:{port}/{dbname}\"\n",
    "\n",
    "# Create an engine to connect to the database\n",
    "engine = create_engine(DATABASE_URI)\n",
    "\n",
    "# query using text()\n",
    "stmt = text(\"SELECT city, hotel, temperature FROM hotel_info WHERE city = :city_name\")\n",
    "\n",
    "# Connection and query execution\n",
    "with engine.connect() as conn:\n",
    "    result = conn.execute(stmt, {\"city_name\": \"Paris\"})  \n",
    "    \n",
    "    for row in result:\n",
    "        print(row)"
   ]
  },
  {
   "cell_type": "code",
   "execution_count": 6,
   "metadata": {},
   "outputs": [
    {
     "name": "stdout",
     "output_type": "stream",
     "text": [
      "City: Paris, Hotel: Hôtel Diva Opera, Temperature: 20.840000000000032\n",
      "City: Paris, Hotel: Tipi, Temperature: 20.840000000000032\n",
      "City: Paris, Hotel: Hôtel Du Mont Dore Batignolles, Temperature: 20.840000000000032\n",
      "City: Paris, Hotel: Hôtel de Genève, Temperature: 20.840000000000032\n",
      "City: Paris, Hotel: B&B HOTEL Paris 17 Batignolles, Temperature: 20.840000000000032\n",
      "City: Paris, Hotel: ibis Paris Gare du Nord Château Landon 10ème, Temperature: 20.840000000000032\n",
      "City: Rouen, Hotel: Eaux Spa, Temperature: 19.340000000000032\n",
      "City: Rouen, Hotel: The Originals City, Hôtel Notre Dame, Rouen, Temperature: 19.340000000000032\n",
      "City: Besançon, Hotel: Hôtel Restaurant Spa Le Sauvage, Temperature: 23.57000000000005\n",
      "City: Strasbourg, Hotel: grand appartement 7 personnes Neudorf, Strasbourg, Temperature: 22.960000000000036\n"
     ]
    }
   ],
   "source": [
    "engine = create_engine(DATABASE_URI)\n",
    "\n",
    "\n",
    "query = text(\"SELECT city, hotel, temperature FROM hotel_info LIMIT 10\")\n",
    "\n",
    "# Open a connection and execute the query\n",
    "with engine.connect() as conn:\n",
    "    result = conn.execute(query)\n",
    "    \n",
    "    # Fetch the results and print them\n",
    "    for row in result:\n",
    "        print(f\"City: {row.city}, Hotel: {row.hotel}, Temperature: {row.temperature}\")"
   ]
  }
 ],
 "metadata": {
  "kernelspec": {
   "display_name": "base",
   "language": "python",
   "name": "python3"
  },
  "language_info": {
   "codemirror_mode": {
    "name": "ipython",
    "version": 3
   },
   "file_extension": ".py",
   "mimetype": "text/x-python",
   "name": "python",
   "nbconvert_exporter": "python",
   "pygments_lexer": "ipython3",
   "version": "3.11.8"
  }
 },
 "nbformat": 4,
 "nbformat_minor": 2
}
