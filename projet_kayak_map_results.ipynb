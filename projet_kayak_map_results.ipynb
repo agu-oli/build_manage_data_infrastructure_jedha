{
 "cells": [
  {
   "cell_type": "markdown",
   "metadata": {},
   "source": [
    "## Imports"
   ]
  },
  {
   "cell_type": "code",
   "execution_count": 1,
   "metadata": {},
   "outputs": [],
   "source": [
    "import pandas as pd\n",
    "import plotly.express as px\n"
   ]
  },
  {
   "cell_type": "markdown",
   "metadata": {},
   "source": [
    "## Top 5 cities in France according to weather forecasts and top 20 hotels within these destinations\n",
    "\n",
    "#### Data sources: Booking and OpenWeather API\n",
    "#### The dataset was stored in a csv file in s3"
   ]
  },
  {
   "cell_type": "markdown",
   "metadata": {},
   "source": [
    "### 1. Top 5 cities "
   ]
  },
  {
   "cell_type": "markdown",
   "metadata": {},
   "source": [
    "We create a df by uploading the dataset from s3:"
   ]
  },
  {
   "cell_type": "code",
   "execution_count": 2,
   "metadata": {},
   "outputs": [],
   "source": [
    "df = pd.read_csv('s3://projet-kayak-jedha/df_final_kayak_project.csv')"
   ]
  },
  {
   "cell_type": "markdown",
   "metadata": {},
   "source": [
    "We obtain the top 5 cities by temperature which are also the one wtih less probability of precipitation for the next days"
   ]
  },
  {
   "cell_type": "code",
   "execution_count": 3,
   "metadata": {},
   "outputs": [
    {
     "data": {
      "text/html": [
       "<div>\n",
       "<style scoped>\n",
       "    .dataframe tbody tr th:only-of-type {\n",
       "        vertical-align: middle;\n",
       "    }\n",
       "\n",
       "    .dataframe tbody tr th {\n",
       "        vertical-align: top;\n",
       "    }\n",
       "\n",
       "    .dataframe thead th {\n",
       "        text-align: right;\n",
       "    }\n",
       "</style>\n",
       "<table border=\"1\" class=\"dataframe\">\n",
       "  <thead>\n",
       "    <tr style=\"text-align: right;\">\n",
       "      <th></th>\n",
       "      <th>Unnamed: 0</th>\n",
       "      <th>city</th>\n",
       "      <th>hotel</th>\n",
       "      <th>url</th>\n",
       "      <th>note</th>\n",
       "      <th>coordinates</th>\n",
       "      <th>description</th>\n",
       "      <th>hotel_latitude</th>\n",
       "      <th>hotel_longitude</th>\n",
       "      <th>city_id</th>\n",
       "      <th>city_lat</th>\n",
       "      <th>city_lon</th>\n",
       "      <th>temperature</th>\n",
       "      <th>POP_1</th>\n",
       "      <th>POP_2</th>\n",
       "      <th>POP_3</th>\n",
       "      <th>POP_4</th>\n",
       "      <th>POP_5</th>\n",
       "    </tr>\n",
       "  </thead>\n",
       "  <tbody>\n",
       "    <tr>\n",
       "      <th>648</th>\n",
       "      <td>648</td>\n",
       "      <td>Aigues-Mortes</td>\n",
       "      <td>Hôtel Le Médiéval</td>\n",
       "      <td>https://www.booking.com/hotel/fr/le-medieval.f...</td>\n",
       "      <td>8,7</td>\n",
       "      <td>43.57186625,4.19366169</td>\n",
       "      <td>L'Hôtel Le Médiéval est situé sur les rives du...</td>\n",
       "      <td>43.571866</td>\n",
       "      <td>4.193662</td>\n",
       "      <td>26</td>\n",
       "      <td>43.5662</td>\n",
       "      <td>4.1915</td>\n",
       "      <td>27.95</td>\n",
       "      <td>0.0</td>\n",
       "      <td>0.0</td>\n",
       "      <td>0.0</td>\n",
       "      <td>0.0</td>\n",
       "      <td>0.0</td>\n",
       "    </tr>\n",
       "    <tr>\n",
       "      <th>700</th>\n",
       "      <td>700</td>\n",
       "      <td>Les Saintes-Maries-de-la-Mer</td>\n",
       "      <td>Hôtel Casa Marina</td>\n",
       "      <td>https://www.booking.com/hotel/fr/casa-marina-s...</td>\n",
       "      <td>8,9</td>\n",
       "      <td>43.45113300,4.43095300</td>\n",
       "      <td>L'Hôtel Casa Marina est situé sur le front de ...</td>\n",
       "      <td>43.451133</td>\n",
       "      <td>4.430953</td>\n",
       "      <td>27</td>\n",
       "      <td>43.4516</td>\n",
       "      <td>4.4277</td>\n",
       "      <td>27.59</td>\n",
       "      <td>0.0</td>\n",
       "      <td>0.0</td>\n",
       "      <td>0.0</td>\n",
       "      <td>0.0</td>\n",
       "      <td>0.0</td>\n",
       "    </tr>\n",
       "    <tr>\n",
       "      <th>624</th>\n",
       "      <td>624</td>\n",
       "      <td>Collioure</td>\n",
       "      <td>Résidence du Soleil</td>\n",
       "      <td>https://www.booking.com/hotel/fr/residence-du-...</td>\n",
       "      <td>8,1</td>\n",
       "      <td>42.52311754,3.08542530</td>\n",
       "      <td>Situé dans le centre-ville de Collioure, à 400...</td>\n",
       "      <td>42.523118</td>\n",
       "      <td>3.085425</td>\n",
       "      <td>28</td>\n",
       "      <td>42.5250</td>\n",
       "      <td>3.0832</td>\n",
       "      <td>27.46</td>\n",
       "      <td>0.0</td>\n",
       "      <td>0.0</td>\n",
       "      <td>0.0</td>\n",
       "      <td>0.0</td>\n",
       "      <td>0.0</td>\n",
       "    </tr>\n",
       "    <tr>\n",
       "      <th>712</th>\n",
       "      <td>712</td>\n",
       "      <td>Nîmes</td>\n",
       "      <td>HÔTEL C SUITES chambres spacieuses</td>\n",
       "      <td>https://www.booking.com/hotel/fr/c-suites.fr.h...</td>\n",
       "      <td>7,6</td>\n",
       "      <td>43.81537700,4.34590500</td>\n",
       "      <td>Le complexe hôtelier urbain C Suites se situe ...</td>\n",
       "      <td>43.815377</td>\n",
       "      <td>4.345905</td>\n",
       "      <td>25</td>\n",
       "      <td>43.8374</td>\n",
       "      <td>4.3601</td>\n",
       "      <td>27.22</td>\n",
       "      <td>0.0</td>\n",
       "      <td>0.0</td>\n",
       "      <td>0.0</td>\n",
       "      <td>0.0</td>\n",
       "      <td>0.0</td>\n",
       "    </tr>\n",
       "    <tr>\n",
       "      <th>66</th>\n",
       "      <td>66</td>\n",
       "      <td>Gorges du Verdon</td>\n",
       "      <td>Résidence Lou Cigaloun - ANA LOCATION</td>\n",
       "      <td>https://www.booking.com/hotel/fr/residence-lou...</td>\n",
       "      <td>9,0</td>\n",
       "      <td>43.75629560,5.88050060</td>\n",
       "      <td>Située à Gréoux-les-Bains, à seulement 23 km d...</td>\n",
       "      <td>43.756296</td>\n",
       "      <td>5.880501</td>\n",
       "      <td>18</td>\n",
       "      <td>43.7497</td>\n",
       "      <td>6.3286</td>\n",
       "      <td>26.65</td>\n",
       "      <td>0.0</td>\n",
       "      <td>0.0</td>\n",
       "      <td>0.0</td>\n",
       "      <td>0.0</td>\n",
       "      <td>0.0</td>\n",
       "    </tr>\n",
       "  </tbody>\n",
       "</table>\n",
       "</div>"
      ],
      "text/plain": [
       "     Unnamed: 0                          city  \\\n",
       "648         648                 Aigues-Mortes   \n",
       "700         700  Les Saintes-Maries-de-la-Mer   \n",
       "624         624                     Collioure   \n",
       "712         712                         Nîmes   \n",
       "66           66              Gorges du Verdon   \n",
       "\n",
       "                                     hotel  \\\n",
       "648                      Hôtel Le Médiéval   \n",
       "700                      Hôtel Casa Marina   \n",
       "624                    Résidence du Soleil   \n",
       "712     HÔTEL C SUITES chambres spacieuses   \n",
       "66   Résidence Lou Cigaloun - ANA LOCATION   \n",
       "\n",
       "                                                   url note  \\\n",
       "648  https://www.booking.com/hotel/fr/le-medieval.f...  8,7   \n",
       "700  https://www.booking.com/hotel/fr/casa-marina-s...  8,9   \n",
       "624  https://www.booking.com/hotel/fr/residence-du-...  8,1   \n",
       "712  https://www.booking.com/hotel/fr/c-suites.fr.h...  7,6   \n",
       "66   https://www.booking.com/hotel/fr/residence-lou...  9,0   \n",
       "\n",
       "                coordinates  \\\n",
       "648  43.57186625,4.19366169   \n",
       "700  43.45113300,4.43095300   \n",
       "624  42.52311754,3.08542530   \n",
       "712  43.81537700,4.34590500   \n",
       "66   43.75629560,5.88050060   \n",
       "\n",
       "                                           description  hotel_latitude  \\\n",
       "648  L'Hôtel Le Médiéval est situé sur les rives du...       43.571866   \n",
       "700  L'Hôtel Casa Marina est situé sur le front de ...       43.451133   \n",
       "624  Situé dans le centre-ville de Collioure, à 400...       42.523118   \n",
       "712  Le complexe hôtelier urbain C Suites se situe ...       43.815377   \n",
       "66   Située à Gréoux-les-Bains, à seulement 23 km d...       43.756296   \n",
       "\n",
       "     hotel_longitude  city_id  city_lat  city_lon  temperature  POP_1  POP_2  \\\n",
       "648         4.193662       26   43.5662    4.1915        27.95    0.0    0.0   \n",
       "700         4.430953       27   43.4516    4.4277        27.59    0.0    0.0   \n",
       "624         3.085425       28   42.5250    3.0832        27.46    0.0    0.0   \n",
       "712         4.345905       25   43.8374    4.3601        27.22    0.0    0.0   \n",
       "66          5.880501       18   43.7497    6.3286        26.65    0.0    0.0   \n",
       "\n",
       "     POP_3  POP_4  POP_5  \n",
       "648    0.0    0.0    0.0  \n",
       "700    0.0    0.0    0.0  \n",
       "624    0.0    0.0    0.0  \n",
       "712    0.0    0.0    0.0  \n",
       "66     0.0    0.0    0.0  "
      ]
     },
     "execution_count": 3,
     "metadata": {},
     "output_type": "execute_result"
    }
   ],
   "source": [
    "df_sorted = df.sort_values(by='temperature', ascending=False)\n",
    "df_top_cities = df_sorted.drop_duplicates(subset='city_id', keep='first').head(5)\n",
    "df_top_cities"
   ]
  },
  {
   "cell_type": "markdown",
   "metadata": {},
   "source": [
    "We create a list of the top 5 cities that we will use later "
   ]
  },
  {
   "cell_type": "code",
   "execution_count": 4,
   "metadata": {},
   "outputs": [
    {
     "name": "stdout",
     "output_type": "stream",
     "text": [
      "['Aigues-Mortes', 'Les Saintes-Maries-de-la-Mer', 'Collioure', 'Nîmes', 'Gorges du Verdon']\n"
     ]
    }
   ],
   "source": [
    "top_city_names = df_top_cities['city'].tolist()\n",
    "print(top_city_names)\n"
   ]
  },
  {
   "cell_type": "markdown",
   "metadata": {},
   "source": [
    "### Visualisations : Temperature in France, Precipitation probability (POP) in France and top 5 cities by temperature and POP"
   ]
  },
  {
   "cell_type": "code",
   "execution_count": 76,
   "metadata": {},
   "outputs": [
    {
     "data": {
      "application/vnd.plotly.v1+json": {
       "config": {
        "plotlyServerURL": "https://plot.ly"
       },
       "data": [
        {
         "hovertemplate": "<b>%{hovertext}</b><br><br>temperature=%{marker.color}<br>city_lat=%{lat}<br>city_lon=%{lon}<extra></extra>",
         "hovertext": [
          "Paris",
          "Paris",
          "Paris",
          "Paris",
          "Paris",
          "Paris",
          "Rouen",
          "Rouen",
          "Besançon",
          "Besançon",
          "Eguisheim",
          "Besançon",
          "Rouen",
          "Besançon",
          "Strasbourg",
          "Gorges du Verdon",
          "Lyon",
          "Lyon",
          "Lyon",
          "Lyon",
          "Lyon",
          "Lyon",
          "Lyon",
          "Lyon",
          "Lyon",
          "Lyon",
          "Lyon",
          "Lyon",
          "Lyon",
          "Lyon",
          "Lyon",
          "Lyon",
          "Lyon",
          "Lyon",
          "Lyon",
          "Lyon",
          "Lyon",
          "Lyon",
          "Lyon",
          "Lyon",
          "Lyon",
          "Gorges du Verdon",
          "Gorges du Verdon",
          "Gorges du Verdon",
          "Gorges du Verdon",
          "Gorges du Verdon",
          "Gorges du Verdon",
          "Gorges du Verdon",
          "Gorges du Verdon",
          "Gorges du Verdon",
          "Gorges du Verdon",
          "Gorges du Verdon",
          "Gorges du Verdon",
          "Gorges du Verdon",
          "Gorges du Verdon",
          "Gorges du Verdon",
          "Gorges du Verdon",
          "Gorges du Verdon",
          "Gorges du Verdon",
          "Gorges du Verdon",
          "Gorges du Verdon",
          "Gorges du Verdon",
          "Gorges du Verdon",
          "Gorges du Verdon",
          "Strasbourg",
          "Strasbourg",
          "Gorges du Verdon",
          "Strasbourg",
          "Strasbourg",
          "Strasbourg",
          "Strasbourg",
          "Strasbourg",
          "Strasbourg",
          "Strasbourg",
          "Strasbourg",
          "Strasbourg",
          "Strasbourg",
          "Strasbourg",
          "Strasbourg",
          "Strasbourg",
          "Strasbourg",
          "Strasbourg",
          "Strasbourg",
          "Strasbourg",
          "Strasbourg",
          "Strasbourg",
          "Strasbourg",
          "Strasbourg",
          "Strasbourg",
          "Grenoble",
          "Grenoble",
          "Grenoble",
          "Grenoble",
          "Grenoble",
          "Grenoble",
          "Grenoble",
          "Grenoble",
          "Grenoble",
          "Grenoble",
          "Grenoble",
          "Grenoble",
          "Grenoble",
          "Grenoble",
          "Grenoble",
          "Grenoble",
          "Grenoble",
          "Grenoble",
          "Grenoble",
          "Grenoble",
          "Grenoble",
          "Grenoble",
          "Grenoble",
          "Grenoble",
          "Dijon",
          "Dijon",
          "Dijon",
          "Dijon",
          "Dijon",
          "Dijon",
          "Dijon",
          "Dijon",
          "Dijon",
          "Dijon",
          "Dijon",
          "Dijon",
          "Dijon",
          "Dijon",
          "Dijon",
          "Dijon",
          "Dijon",
          "Dijon",
          "Dijon",
          "Dijon",
          "Dijon",
          "Dijon",
          "Dijon",
          "Dijon",
          "Grenoble",
          "Eguisheim",
          "Eguisheim",
          "Eguisheim",
          "Dijon",
          "Eguisheim",
          "Eguisheim",
          "Eguisheim",
          "Eguisheim",
          "Eguisheim",
          "Eguisheim",
          "Eguisheim",
          "Eguisheim",
          "Eguisheim",
          "Eguisheim",
          "Eguisheim",
          "Eguisheim",
          "Eguisheim",
          "Eguisheim",
          "Eguisheim",
          "Eguisheim",
          "Eguisheim",
          "Eguisheim",
          "Eguisheim",
          "Eguisheim",
          "Besançon",
          "Eguisheim",
          "Besançon",
          "Besançon",
          "Besançon",
          "Besançon",
          "Besançon",
          "Besançon",
          "Besançon",
          "Besançon",
          "Besançon",
          "Besançon",
          "Besançon",
          "Besançon",
          "Besançon",
          "Besançon",
          "Besançon",
          "Besançon",
          "Besançon",
          "Besançon",
          "Besançon",
          "Annecy",
          "Besançon",
          "Annecy",
          "Annecy",
          "Annecy",
          "Annecy",
          "Annecy",
          "Annecy",
          "Annecy",
          "Annecy",
          "Annecy",
          "Annecy",
          "Annecy",
          "Annecy",
          "Annecy",
          "Annecy",
          "Annecy",
          "Annecy",
          "Annecy",
          "Annecy",
          "Annecy",
          "Annecy",
          "Annecy",
          "Annecy",
          "Annecy",
          "Château du Haut-Kœnigsbourg",
          "Château du Haut-Kœnigsbourg",
          "Château du Haut-Kœnigsbourg",
          "Château du Haut-Kœnigsbourg",
          "Château du Haut-Kœnigsbourg",
          "Château du Haut-Kœnigsbourg",
          "Château du Haut-Kœnigsbourg",
          "Château du Haut-Kœnigsbourg",
          "Château du Haut-Kœnigsbourg",
          "Château du Haut-Kœnigsbourg",
          "Château du Haut-Kœnigsbourg",
          "Château du Haut-Kœnigsbourg",
          "Château du Haut-Kœnigsbourg",
          "Château du Haut-Kœnigsbourg",
          "Château du Haut-Kœnigsbourg",
          "Château du Haut-Kœnigsbourg",
          "Château du Haut-Kœnigsbourg",
          "Château du Haut-Kœnigsbourg",
          "Château du Haut-Kœnigsbourg",
          "Château du Haut-Kœnigsbourg",
          "Château du Haut-Kœnigsbourg",
          "Château du Haut-Kœnigsbourg",
          "Château du Haut-Kœnigsbourg",
          "Château du Haut-Kœnigsbourg",
          "Annecy",
          "Château du Haut-Kœnigsbourg",
          "Colmar",
          "Colmar",
          "Colmar",
          "Colmar",
          "Colmar",
          "Colmar",
          "Colmar",
          "Colmar",
          "Colmar",
          "Colmar",
          "Colmar",
          "Colmar",
          "Colmar",
          "Colmar",
          "Colmar",
          "Colmar",
          "Colmar",
          "Colmar",
          "Colmar",
          "Colmar",
          "Colmar",
          "Colmar",
          "Colmar",
          "Colmar",
          "Colmar",
          "Rouen",
          "Rouen",
          "Rouen",
          "Rouen",
          "Rouen",
          "Rouen",
          "Rouen",
          "Rouen",
          "Rouen",
          "Rouen",
          "Rouen",
          "Rouen",
          "Rouen",
          "Rouen",
          "Rouen",
          "Rouen",
          "Rouen",
          "Rouen",
          "Rouen",
          "Le Havre",
          "Rouen",
          "Rouen",
          "Le Havre",
          "Rouen",
          "Le Havre",
          "Le Havre",
          "Le Havre",
          "Le Havre",
          "Le Havre",
          "Le Havre",
          "Le Havre",
          "Le Havre",
          "Le Havre",
          "Le Havre",
          "Le Havre",
          "Le Havre",
          "Le Havre",
          "Le Havre",
          "Le Havre",
          "Le Havre",
          "Le Havre",
          "Le Havre",
          "Le Havre",
          "Le Havre",
          "Le Havre",
          "Le Havre",
          "Paris",
          "Paris",
          "Paris",
          "Paris",
          "Paris",
          "Paris",
          "Paris",
          "Paris",
          "Paris",
          "Paris",
          "Paris",
          "Paris",
          "Paris",
          "Paris",
          "Paris",
          "Paris",
          "Paris",
          "Paris",
          "Mont Saint-Michel",
          "Mont Saint-Michel",
          "Mont Saint-Michel",
          "Mont Saint-Michel",
          "Mont Saint-Michel",
          "Mont Saint-Michel",
          "Mont Saint-Michel",
          "Mont Saint-Michel",
          "Mont Saint-Michel",
          "Mont Saint-Michel",
          "Mont Saint-Michel",
          "Mont Saint-Michel",
          "Mont Saint-Michel",
          "Mont Saint-Michel",
          "Mont Saint-Michel",
          "Mont Saint-Michel",
          "Mont Saint-Michel",
          "Mont Saint-Michel",
          "Mont Saint-Michel",
          "Mont Saint-Michel",
          "Mont Saint-Michel",
          "Mont Saint-Michel",
          "Mont Saint-Michel",
          "Mont Saint-Michel",
          "Paris",
          "Le Havre",
          "St. Malo",
          "Mont Saint-Michel",
          "St. Malo",
          "St. Malo",
          "St. Malo",
          "St. Malo",
          "St. Malo",
          "St. Malo",
          "St. Malo",
          "St. Malo",
          "St. Malo",
          "St. Malo",
          "St. Malo",
          "St. Malo",
          "St. Malo",
          "St. Malo",
          "St. Malo",
          "St. Malo",
          "St. Malo",
          "St. Malo",
          "St. Malo",
          "St. Malo",
          "St. Malo",
          "St. Malo",
          "Amiens",
          "St. Malo",
          "Amiens",
          "Amiens",
          "Amiens",
          "Amiens",
          "Amiens",
          "Amiens",
          "Amiens",
          "Amiens",
          "Amiens",
          "Amiens",
          "Amiens",
          "Amiens",
          "Amiens",
          "Amiens",
          "Amiens",
          "Amiens",
          "Amiens",
          "Amiens",
          "Amiens",
          "Amiens",
          "Amiens",
          "Amiens",
          "Amiens",
          "St. Malo",
          "Amiens",
          "Lille",
          "Lille",
          "Lille",
          "Lille",
          "Lille",
          "Lille",
          "Lille",
          "Lille",
          "Lille",
          "Lille",
          "Lille",
          "Lille",
          "Lille",
          "Lille",
          "Lille",
          "Lille",
          "Lille",
          "Lille",
          "Lille",
          "Lille",
          "Lille",
          "Lille",
          "Lille",
          "Lille",
          "Bayeux",
          "Bayeux",
          "Lille",
          "Bayeux",
          "Bayeux",
          "Bayeux",
          "Bayeux",
          "Bayeux",
          "Bayeux",
          "Bayeux",
          "Bayeux",
          "Bayeux",
          "Bayeux",
          "Bayeux",
          "Bayeux",
          "Bayeux",
          "Bayeux",
          "Bayeux",
          "Bayeux",
          "Bayeux",
          "Bayeux",
          "Bayeux",
          "Bayeux",
          "Bayeux",
          "Bayeux",
          "Bayeux",
          "Bormes-les-Mimosas",
          "Bormes-les-Mimosas",
          "Cassis",
          "Cassis",
          "Cassis",
          "Aix-en-Provence",
          "Aix-en-Provence",
          "Aix-en-Provence",
          "Les Saintes-Maries-de-la-Mer",
          "Ariège",
          "Collioure",
          "Collioure",
          "Aigues-Mortes",
          "Ariège",
          "Toulouse",
          "Montauban",
          "Carcassonne",
          "Montauban",
          "Montauban",
          "Montauban",
          "Montauban",
          "Montauban",
          "Montauban",
          "Montauban",
          "Montauban",
          "Montauban",
          "Montauban",
          "Montauban",
          "Montauban",
          "Montauban",
          "Montauban",
          "Montauban",
          "Montauban",
          "Montauban",
          "Montauban",
          "Montauban",
          "Montauban",
          "Montauban",
          "Montauban",
          "Montauban",
          "Biarritz",
          "Montauban",
          "Biarritz",
          "Biarritz",
          "Biarritz",
          "Biarritz",
          "Biarritz",
          "Biarritz",
          "Biarritz",
          "Biarritz",
          "Biarritz",
          "Biarritz",
          "Biarritz",
          "Biarritz",
          "Biarritz",
          "Biarritz",
          "Biarritz",
          "Biarritz",
          "Biarritz",
          "Biarritz",
          "Biarritz",
          "Biarritz",
          "Biarritz",
          "Biarritz",
          "Biarritz",
          "Biarritz",
          "Toulouse",
          "Toulouse",
          "Toulouse",
          "Toulouse",
          "Toulouse",
          "Toulouse",
          "Toulouse",
          "Toulouse",
          "Toulouse",
          "Toulouse",
          "Toulouse",
          "Toulouse",
          "Toulouse",
          "Toulouse",
          "Toulouse",
          "Toulouse",
          "Toulouse",
          "Toulouse",
          "Toulouse",
          "Toulouse",
          "Toulouse",
          "Toulouse",
          "Toulouse",
          "Bayonne",
          "Toulouse",
          "Bayonne",
          "Bayonne",
          "Bayonne",
          "Bayonne",
          "Bayonne",
          "Bayonne",
          "Bayonne",
          "Bayonne",
          "Bayonne",
          "Bayonne",
          "Bayonne",
          "Bayonne",
          "Bayonne",
          "Bayonne",
          "Bayonne",
          "Bayonne",
          "Bayonne",
          "Bayonne",
          "Bayonne",
          "Bayonne",
          "Bayonne",
          "Bayonne",
          "Bayonne",
          "Bayonne",
          "Carcassonne",
          "Carcassonne",
          "Carcassonne",
          "Carcassonne",
          "Carcassonne",
          "Carcassonne",
          "Carcassonne",
          "Carcassonne",
          "Carcassonne",
          "Carcassonne",
          "Carcassonne",
          "Carcassonne",
          "Carcassonne",
          "Carcassonne",
          "Carcassonne",
          "Carcassonne",
          "Carcassonne",
          "Carcassonne",
          "Carcassonne",
          "Carcassonne",
          "Carcassonne",
          "Carcassonne",
          "Carcassonne",
          "Carcassonne",
          "Ariège",
          "Ariège",
          "Ariège",
          "Ariège",
          "Ariège",
          "Ariège",
          "Ariège",
          "Ariège",
          "Ariège",
          "Ariège",
          "Ariège",
          "Ariège",
          "Ariège",
          "Ariège",
          "Ariège",
          "Ariège",
          "Ariège",
          "Ariège",
          "Ariège",
          "Ariège",
          "Ariège",
          "Ariège",
          "Ariège",
          "Collioure",
          "Collioure",
          "Collioure",
          "Collioure",
          "Collioure",
          "Collioure",
          "Collioure",
          "Collioure",
          "Collioure",
          "Collioure",
          "Collioure",
          "Collioure",
          "Collioure",
          "Collioure",
          "Collioure",
          "Collioure",
          "Collioure",
          "Collioure",
          "Collioure",
          "Collioure",
          "Collioure",
          "Collioure",
          "Aigues-Mortes",
          "Collioure",
          "Aigues-Mortes",
          "Aigues-Mortes",
          "Aigues-Mortes",
          "Aigues-Mortes",
          "Aigues-Mortes",
          "Aigues-Mortes",
          "Aigues-Mortes",
          "Aigues-Mortes",
          "Aigues-Mortes",
          "Aigues-Mortes",
          "Aigues-Mortes",
          "Aigues-Mortes",
          "Aigues-Mortes",
          "Aigues-Mortes",
          "Aigues-Mortes",
          "Aigues-Mortes",
          "Aigues-Mortes",
          "Aigues-Mortes",
          "Aigues-Mortes",
          "Aigues-Mortes",
          "Aigues-Mortes",
          "Aigues-Mortes",
          "Avignon",
          "Avignon",
          "Avignon",
          "Avignon",
          "Avignon",
          "Avignon",
          "Avignon",
          "Avignon",
          "Avignon",
          "Avignon",
          "Avignon",
          "Avignon",
          "Avignon",
          "Avignon",
          "Avignon",
          "Avignon",
          "Avignon",
          "Avignon",
          "Avignon",
          "Avignon",
          "Avignon",
          "Avignon",
          "Avignon",
          "Avignon",
          "Les Saintes-Maries-de-la-Mer",
          "Les Saintes-Maries-de-la-Mer",
          "Les Saintes-Maries-de-la-Mer",
          "Les Saintes-Maries-de-la-Mer",
          "Les Saintes-Maries-de-la-Mer",
          "Les Saintes-Maries-de-la-Mer",
          "Les Saintes-Maries-de-la-Mer",
          "Les Saintes-Maries-de-la-Mer",
          "Les Saintes-Maries-de-la-Mer",
          "Les Saintes-Maries-de-la-Mer",
          "Les Saintes-Maries-de-la-Mer",
          "Les Saintes-Maries-de-la-Mer",
          "Les Saintes-Maries-de-la-Mer",
          "Les Saintes-Maries-de-la-Mer",
          "Les Saintes-Maries-de-la-Mer",
          "Les Saintes-Maries-de-la-Mer",
          "Les Saintes-Maries-de-la-Mer",
          "Les Saintes-Maries-de-la-Mer",
          "Les Saintes-Maries-de-la-Mer",
          "Les Saintes-Maries-de-la-Mer",
          "Les Saintes-Maries-de-la-Mer",
          "Les Saintes-Maries-de-la-Mer",
          "Les Saintes-Maries-de-la-Mer",
          "Aigues-Mortes",
          "Avignon",
          "Nîmes",
          "Nîmes",
          "Nîmes",
          "Nîmes",
          "Nîmes",
          "Nîmes",
          "Nîmes",
          "Nîmes",
          "Nîmes",
          "Nîmes",
          "Nîmes",
          "Nîmes",
          "Nîmes",
          "Nîmes",
          "Nîmes",
          "Nîmes",
          "Nîmes",
          "Nîmes",
          "Nîmes",
          "Nîmes",
          "Nîmes",
          "Nîmes",
          "Nîmes",
          "Les Saintes-Maries-de-la-Mer",
          "Nîmes",
          "Aix-en-Provence",
          "Nîmes",
          "Aix-en-Provence",
          "Aix-en-Provence",
          "Aix-en-Provence",
          "Aix-en-Provence",
          "Aix-en-Provence",
          "Aix-en-Provence",
          "Aix-en-Provence",
          "Aix-en-Provence",
          "Aix-en-Provence",
          "Aix-en-Provence",
          "Aix-en-Provence",
          "Aix-en-Provence",
          "Aix-en-Provence",
          "Aix-en-Provence",
          "Aix-en-Provence",
          "Aix-en-Provence",
          "Aix-en-Provence",
          "Aix-en-Provence",
          "Aix-en-Provence",
          "Aix-en-Provence",
          "Marseille",
          "Marseille",
          "Marseille",
          "Aix-en-Provence",
          "Marseille",
          "Marseille",
          "Marseille",
          "Marseille",
          "Marseille",
          "Marseille",
          "Marseille",
          "Marseille",
          "Marseille",
          "Marseille",
          "Marseille",
          "Marseille",
          "Marseille",
          "Marseille",
          "Marseille",
          "Marseille",
          "Marseille",
          "Marseille",
          "Marseille",
          "Marseille",
          "Marseille",
          "Marseille",
          "Uzès",
          "Uzès",
          "Uzès",
          "Uzès",
          "Uzès",
          "Uzès",
          "Uzès",
          "Uzès",
          "Uzès",
          "Uzès",
          "Uzès",
          "Uzès",
          "Uzès",
          "Uzès",
          "Uzès",
          "Uzès",
          "Uzès",
          "Uzès",
          "Uzès",
          "Uzès",
          "Uzès",
          "Uzès",
          "Uzès",
          "Uzès",
          "Uzès",
          "Cassis",
          "Cassis",
          "Cassis",
          "Cassis",
          "Cassis",
          "Cassis",
          "Cassis",
          "Cassis",
          "Cassis",
          "Cassis",
          "Cassis",
          "Cassis",
          "Cassis",
          "Cassis",
          "Cassis",
          "Cassis",
          "Cassis",
          "Cassis",
          "Cassis",
          "Cassis",
          "Cassis",
          "Cassis",
          "Bormes-les-Mimosas",
          "Bormes-les-Mimosas",
          "Bormes-les-Mimosas",
          "Bormes-les-Mimosas",
          "Bormes-les-Mimosas",
          "Bormes-les-Mimosas",
          "Bormes-les-Mimosas",
          "Bormes-les-Mimosas",
          "Bormes-les-Mimosas",
          "Bormes-les-Mimosas",
          "Bormes-les-Mimosas",
          "Bormes-les-Mimosas",
          "Bormes-les-Mimosas",
          "Bormes-les-Mimosas",
          "Bormes-les-Mimosas",
          "Bormes-les-Mimosas",
          "Bormes-les-Mimosas",
          "Bormes-les-Mimosas",
          "Bormes-les-Mimosas",
          "Bormes-les-Mimosas",
          "Bormes-les-Mimosas",
          "Bormes-les-Mimosas",
          "Bormes-les-Mimosas",
          "La Rochelle",
          "La Rochelle",
          "La Rochelle",
          "La Rochelle",
          "La Rochelle",
          "La Rochelle",
          "La Rochelle",
          "La Rochelle",
          "La Rochelle",
          "La Rochelle",
          "La Rochelle",
          "La Rochelle",
          "La Rochelle",
          "La Rochelle",
          "La Rochelle",
          "La Rochelle",
          "La Rochelle",
          "La Rochelle",
          "La Rochelle",
          "La Rochelle",
          "La Rochelle",
          "La Rochelle",
          "La Rochelle",
          "La Rochelle",
          "La Rochelle"
         ],
         "lat": [
          48.8589,
          48.8589,
          48.8589,
          48.8589,
          48.8589,
          48.8589,
          49.4405,
          49.4405,
          47.238,
          47.238,
          48.0448,
          47.238,
          49.4405,
          47.238,
          48.5846,
          43.7497,
          45.7578,
          45.7578,
          45.7578,
          45.7578,
          45.7578,
          45.7578,
          45.7578,
          45.7578,
          45.7578,
          45.7578,
          45.7578,
          45.7578,
          45.7578,
          45.7578,
          45.7578,
          45.7578,
          45.7578,
          45.7578,
          45.7578,
          45.7578,
          45.7578,
          45.7578,
          45.7578,
          45.7578,
          45.7578,
          43.7497,
          43.7497,
          43.7497,
          43.7497,
          43.7497,
          43.7497,
          43.7497,
          43.7497,
          43.7497,
          43.7497,
          43.7497,
          43.7497,
          43.7497,
          43.7497,
          43.7497,
          43.7497,
          43.7497,
          43.7497,
          43.7497,
          43.7497,
          43.7497,
          43.7497,
          43.7497,
          48.5846,
          48.5846,
          43.7497,
          48.5846,
          48.5846,
          48.5846,
          48.5846,
          48.5846,
          48.5846,
          48.5846,
          48.5846,
          48.5846,
          48.5846,
          48.5846,
          48.5846,
          48.5846,
          48.5846,
          48.5846,
          48.5846,
          48.5846,
          48.5846,
          48.5846,
          48.5846,
          48.5846,
          48.5846,
          45.1876,
          45.1876,
          45.1876,
          45.1876,
          45.1876,
          45.1876,
          45.1876,
          45.1876,
          45.1876,
          45.1876,
          45.1876,
          45.1876,
          45.1876,
          45.1876,
          45.1876,
          45.1876,
          45.1876,
          45.1876,
          45.1876,
          45.1876,
          45.1876,
          45.1876,
          45.1876,
          45.1876,
          47.3216,
          47.3216,
          47.3216,
          47.3216,
          47.3216,
          47.3216,
          47.3216,
          47.3216,
          47.3216,
          47.3216,
          47.3216,
          47.3216,
          47.3216,
          47.3216,
          47.3216,
          47.3216,
          47.3216,
          47.3216,
          47.3216,
          47.3216,
          47.3216,
          47.3216,
          47.3216,
          47.3216,
          45.1876,
          48.0448,
          48.0448,
          48.0448,
          47.3216,
          48.0448,
          48.0448,
          48.0448,
          48.0448,
          48.0448,
          48.0448,
          48.0448,
          48.0448,
          48.0448,
          48.0448,
          48.0448,
          48.0448,
          48.0448,
          48.0448,
          48.0448,
          48.0448,
          48.0448,
          48.0448,
          48.0448,
          48.0448,
          47.238,
          48.0448,
          47.238,
          47.238,
          47.238,
          47.238,
          47.238,
          47.238,
          47.238,
          47.238,
          47.238,
          47.238,
          47.238,
          47.238,
          47.238,
          47.238,
          47.238,
          47.238,
          47.238,
          47.238,
          47.238,
          45.8992,
          47.238,
          45.8992,
          45.8992,
          45.8992,
          45.8992,
          45.8992,
          45.8992,
          45.8992,
          45.8992,
          45.8992,
          45.8992,
          45.8992,
          45.8992,
          45.8992,
          45.8992,
          45.8992,
          45.8992,
          45.8992,
          45.8992,
          45.8992,
          45.8992,
          45.8992,
          45.8992,
          45.8992,
          48.2494,
          48.2494,
          48.2494,
          48.2494,
          48.2494,
          48.2494,
          48.2494,
          48.2494,
          48.2494,
          48.2494,
          48.2494,
          48.2494,
          48.2494,
          48.2494,
          48.2494,
          48.2494,
          48.2494,
          48.2494,
          48.2494,
          48.2494,
          48.2494,
          48.2494,
          48.2494,
          48.2494,
          45.8992,
          48.2494,
          48.0778,
          48.0778,
          48.0778,
          48.0778,
          48.0778,
          48.0778,
          48.0778,
          48.0778,
          48.0778,
          48.0778,
          48.0778,
          48.0778,
          48.0778,
          48.0778,
          48.0778,
          48.0778,
          48.0778,
          48.0778,
          48.0778,
          48.0778,
          48.0778,
          48.0778,
          48.0778,
          48.0778,
          48.0778,
          49.4405,
          49.4405,
          49.4405,
          49.4405,
          49.4405,
          49.4405,
          49.4405,
          49.4405,
          49.4405,
          49.4405,
          49.4405,
          49.4405,
          49.4405,
          49.4405,
          49.4405,
          49.4405,
          49.4405,
          49.4405,
          49.4405,
          49.4939,
          49.4405,
          49.4405,
          49.4939,
          49.4405,
          49.4939,
          49.4939,
          49.4939,
          49.4939,
          49.4939,
          49.4939,
          49.4939,
          49.4939,
          49.4939,
          49.4939,
          49.4939,
          49.4939,
          49.4939,
          49.4939,
          49.4939,
          49.4939,
          49.4939,
          49.4939,
          49.4939,
          49.4939,
          49.4939,
          49.4939,
          48.8589,
          48.8589,
          48.8589,
          48.8589,
          48.8589,
          48.8589,
          48.8589,
          48.8589,
          48.8589,
          48.8589,
          48.8589,
          48.8589,
          48.8589,
          48.8589,
          48.8589,
          48.8589,
          48.8589,
          48.8589,
          48.636,
          48.636,
          48.636,
          48.636,
          48.636,
          48.636,
          48.636,
          48.636,
          48.636,
          48.636,
          48.636,
          48.636,
          48.636,
          48.636,
          48.636,
          48.636,
          48.636,
          48.636,
          48.636,
          48.636,
          48.636,
          48.636,
          48.636,
          48.636,
          48.8589,
          49.4939,
          49.3147,
          48.636,
          49.3147,
          49.3147,
          49.3147,
          49.3147,
          49.3147,
          49.3147,
          49.3147,
          49.3147,
          49.3147,
          49.3147,
          49.3147,
          49.3147,
          49.3147,
          49.3147,
          49.3147,
          49.3147,
          49.3147,
          49.3147,
          49.3147,
          49.3147,
          49.3147,
          49.3147,
          49.8942,
          49.3147,
          49.8942,
          49.8942,
          49.8942,
          49.8942,
          49.8942,
          49.8942,
          49.8942,
          49.8942,
          49.8942,
          49.8942,
          49.8942,
          49.8942,
          49.8942,
          49.8942,
          49.8942,
          49.8942,
          49.8942,
          49.8942,
          49.8942,
          49.8942,
          49.8942,
          49.8942,
          49.8942,
          49.3147,
          49.8942,
          50.6366,
          50.6366,
          50.6366,
          50.6366,
          50.6366,
          50.6366,
          50.6366,
          50.6366,
          50.6366,
          50.6366,
          50.6366,
          50.6366,
          50.6366,
          50.6366,
          50.6366,
          50.6366,
          50.6366,
          50.6366,
          50.6366,
          50.6366,
          50.6366,
          50.6366,
          50.6366,
          50.6366,
          49.2765,
          49.2765,
          50.6366,
          49.2765,
          49.2765,
          49.2765,
          49.2765,
          49.2765,
          49.2765,
          49.2765,
          49.2765,
          49.2765,
          49.2765,
          49.2765,
          49.2765,
          49.2765,
          49.2765,
          49.2765,
          49.2765,
          49.2765,
          49.2765,
          49.2765,
          49.2765,
          49.2765,
          49.2765,
          49.2765,
          43.1507,
          43.1507,
          43.214,
          43.214,
          43.214,
          43.5298,
          43.5298,
          43.5298,
          43.4516,
          42.9455,
          42.525,
          42.525,
          43.5662,
          42.9455,
          43.6045,
          44.0176,
          43.213,
          44.0176,
          44.0176,
          44.0176,
          44.0176,
          44.0176,
          44.0176,
          44.0176,
          44.0176,
          44.0176,
          44.0176,
          44.0176,
          44.0176,
          44.0176,
          44.0176,
          44.0176,
          44.0176,
          44.0176,
          44.0176,
          44.0176,
          44.0176,
          44.0176,
          44.0176,
          44.0176,
          43.4711,
          44.0176,
          43.4711,
          43.4711,
          43.4711,
          43.4711,
          43.4711,
          43.4711,
          43.4711,
          43.4711,
          43.4711,
          43.4711,
          43.4711,
          43.4711,
          43.4711,
          43.4711,
          43.4711,
          43.4711,
          43.4711,
          43.4711,
          43.4711,
          43.4711,
          43.4711,
          43.4711,
          43.4711,
          43.4711,
          43.6045,
          43.6045,
          43.6045,
          43.6045,
          43.6045,
          43.6045,
          43.6045,
          43.6045,
          43.6045,
          43.6045,
          43.6045,
          43.6045,
          43.6045,
          43.6045,
          43.6045,
          43.6045,
          43.6045,
          43.6045,
          43.6045,
          43.6045,
          43.6045,
          43.6045,
          43.6045,
          43.4945,
          43.6045,
          43.4945,
          43.4945,
          43.4945,
          43.4945,
          43.4945,
          43.4945,
          43.4945,
          43.4945,
          43.4945,
          43.4945,
          43.4945,
          43.4945,
          43.4945,
          43.4945,
          43.4945,
          43.4945,
          43.4945,
          43.4945,
          43.4945,
          43.4945,
          43.4945,
          43.4945,
          43.4945,
          43.4945,
          43.213,
          43.213,
          43.213,
          43.213,
          43.213,
          43.213,
          43.213,
          43.213,
          43.213,
          43.213,
          43.213,
          43.213,
          43.213,
          43.213,
          43.213,
          43.213,
          43.213,
          43.213,
          43.213,
          43.213,
          43.213,
          43.213,
          43.213,
          43.213,
          42.9455,
          42.9455,
          42.9455,
          42.9455,
          42.9455,
          42.9455,
          42.9455,
          42.9455,
          42.9455,
          42.9455,
          42.9455,
          42.9455,
          42.9455,
          42.9455,
          42.9455,
          42.9455,
          42.9455,
          42.9455,
          42.9455,
          42.9455,
          42.9455,
          42.9455,
          42.9455,
          42.525,
          42.525,
          42.525,
          42.525,
          42.525,
          42.525,
          42.525,
          42.525,
          42.525,
          42.525,
          42.525,
          42.525,
          42.525,
          42.525,
          42.525,
          42.525,
          42.525,
          42.525,
          42.525,
          42.525,
          42.525,
          42.525,
          43.5662,
          42.525,
          43.5662,
          43.5662,
          43.5662,
          43.5662,
          43.5662,
          43.5662,
          43.5662,
          43.5662,
          43.5662,
          43.5662,
          43.5662,
          43.5662,
          43.5662,
          43.5662,
          43.5662,
          43.5662,
          43.5662,
          43.5662,
          43.5662,
          43.5662,
          43.5662,
          43.5662,
          43.9492,
          43.9492,
          43.9492,
          43.9492,
          43.9492,
          43.9492,
          43.9492,
          43.9492,
          43.9492,
          43.9492,
          43.9492,
          43.9492,
          43.9492,
          43.9492,
          43.9492,
          43.9492,
          43.9492,
          43.9492,
          43.9492,
          43.9492,
          43.9492,
          43.9492,
          43.9492,
          43.9492,
          43.4516,
          43.4516,
          43.4516,
          43.4516,
          43.4516,
          43.4516,
          43.4516,
          43.4516,
          43.4516,
          43.4516,
          43.4516,
          43.4516,
          43.4516,
          43.4516,
          43.4516,
          43.4516,
          43.4516,
          43.4516,
          43.4516,
          43.4516,
          43.4516,
          43.4516,
          43.4516,
          43.5662,
          43.9492,
          43.8374,
          43.8374,
          43.8374,
          43.8374,
          43.8374,
          43.8374,
          43.8374,
          43.8374,
          43.8374,
          43.8374,
          43.8374,
          43.8374,
          43.8374,
          43.8374,
          43.8374,
          43.8374,
          43.8374,
          43.8374,
          43.8374,
          43.8374,
          43.8374,
          43.8374,
          43.8374,
          43.4516,
          43.8374,
          43.5298,
          43.8374,
          43.5298,
          43.5298,
          43.5298,
          43.5298,
          43.5298,
          43.5298,
          43.5298,
          43.5298,
          43.5298,
          43.5298,
          43.5298,
          43.5298,
          43.5298,
          43.5298,
          43.5298,
          43.5298,
          43.5298,
          43.5298,
          43.5298,
          43.5298,
          43.2962,
          43.2962,
          43.2962,
          43.5298,
          43.2962,
          43.2962,
          43.2962,
          43.2962,
          43.2962,
          43.2962,
          43.2962,
          43.2962,
          43.2962,
          43.2962,
          43.2962,
          43.2962,
          43.2962,
          43.2962,
          43.2962,
          43.2962,
          43.2962,
          43.2962,
          43.2962,
          43.2962,
          43.2962,
          43.2962,
          44.0121,
          44.0121,
          44.0121,
          44.0121,
          44.0121,
          44.0121,
          44.0121,
          44.0121,
          44.0121,
          44.0121,
          44.0121,
          44.0121,
          44.0121,
          44.0121,
          44.0121,
          44.0121,
          44.0121,
          44.0121,
          44.0121,
          44.0121,
          44.0121,
          44.0121,
          44.0121,
          44.0121,
          44.0121,
          43.214,
          43.214,
          43.214,
          43.214,
          43.214,
          43.214,
          43.214,
          43.214,
          43.214,
          43.214,
          43.214,
          43.214,
          43.214,
          43.214,
          43.214,
          43.214,
          43.214,
          43.214,
          43.214,
          43.214,
          43.214,
          43.214,
          43.1507,
          43.1507,
          43.1507,
          43.1507,
          43.1507,
          43.1507,
          43.1507,
          43.1507,
          43.1507,
          43.1507,
          43.1507,
          43.1507,
          43.1507,
          43.1507,
          43.1507,
          43.1507,
          43.1507,
          43.1507,
          43.1507,
          43.1507,
          43.1507,
          43.1507,
          43.1507,
          46.1591,
          46.1591,
          46.1591,
          46.1591,
          46.1591,
          46.1591,
          46.1591,
          46.1591,
          46.1591,
          46.1591,
          46.1591,
          46.1591,
          46.1591,
          46.1591,
          46.1591,
          46.1591,
          46.1591,
          46.1591,
          46.1591,
          46.1591,
          46.1591,
          46.1591,
          46.1591,
          46.1591,
          46.1591
         ],
         "legendgroup": "",
         "lon": [
          2.32,
          2.32,
          2.32,
          2.32,
          2.32,
          2.32,
          1.094,
          1.094,
          6.0244,
          6.0244,
          7.308,
          6.0244,
          1.094,
          6.0244,
          7.7507,
          6.3286,
          4.832,
          4.832,
          4.832,
          4.832,
          4.832,
          4.832,
          4.832,
          4.832,
          4.832,
          4.832,
          4.832,
          4.832,
          4.832,
          4.832,
          4.832,
          4.832,
          4.832,
          4.832,
          4.832,
          4.832,
          4.832,
          4.832,
          4.832,
          4.832,
          4.832,
          6.3286,
          6.3286,
          6.3286,
          6.3286,
          6.3286,
          6.3286,
          6.3286,
          6.3286,
          6.3286,
          6.3286,
          6.3286,
          6.3286,
          6.3286,
          6.3286,
          6.3286,
          6.3286,
          6.3286,
          6.3286,
          6.3286,
          6.3286,
          6.3286,
          6.3286,
          6.3286,
          7.7507,
          7.7507,
          6.3286,
          7.7507,
          7.7507,
          7.7507,
          7.7507,
          7.7507,
          7.7507,
          7.7507,
          7.7507,
          7.7507,
          7.7507,
          7.7507,
          7.7507,
          7.7507,
          7.7507,
          7.7507,
          7.7507,
          7.7507,
          7.7507,
          7.7507,
          7.7507,
          7.7507,
          7.7507,
          5.7358,
          5.7358,
          5.7358,
          5.7358,
          5.7358,
          5.7358,
          5.7358,
          5.7358,
          5.7358,
          5.7358,
          5.7358,
          5.7358,
          5.7358,
          5.7358,
          5.7358,
          5.7358,
          5.7358,
          5.7358,
          5.7358,
          5.7358,
          5.7358,
          5.7358,
          5.7358,
          5.7358,
          5.0415,
          5.0415,
          5.0415,
          5.0415,
          5.0415,
          5.0415,
          5.0415,
          5.0415,
          5.0415,
          5.0415,
          5.0415,
          5.0415,
          5.0415,
          5.0415,
          5.0415,
          5.0415,
          5.0415,
          5.0415,
          5.0415,
          5.0415,
          5.0415,
          5.0415,
          5.0415,
          5.0415,
          5.7358,
          7.308,
          7.308,
          7.308,
          5.0415,
          7.308,
          7.308,
          7.308,
          7.308,
          7.308,
          7.308,
          7.308,
          7.308,
          7.308,
          7.308,
          7.308,
          7.308,
          7.308,
          7.308,
          7.308,
          7.308,
          7.308,
          7.308,
          7.308,
          7.308,
          6.0244,
          7.308,
          6.0244,
          6.0244,
          6.0244,
          6.0244,
          6.0244,
          6.0244,
          6.0244,
          6.0244,
          6.0244,
          6.0244,
          6.0244,
          6.0244,
          6.0244,
          6.0244,
          6.0244,
          6.0244,
          6.0244,
          6.0244,
          6.0244,
          6.1289,
          6.0244,
          6.1289,
          6.1289,
          6.1289,
          6.1289,
          6.1289,
          6.1289,
          6.1289,
          6.1289,
          6.1289,
          6.1289,
          6.1289,
          6.1289,
          6.1289,
          6.1289,
          6.1289,
          6.1289,
          6.1289,
          6.1289,
          6.1289,
          6.1289,
          6.1289,
          6.1289,
          6.1289,
          7.3443,
          7.3443,
          7.3443,
          7.3443,
          7.3443,
          7.3443,
          7.3443,
          7.3443,
          7.3443,
          7.3443,
          7.3443,
          7.3443,
          7.3443,
          7.3443,
          7.3443,
          7.3443,
          7.3443,
          7.3443,
          7.3443,
          7.3443,
          7.3443,
          7.3443,
          7.3443,
          7.3443,
          6.1289,
          7.3443,
          7.358,
          7.358,
          7.358,
          7.358,
          7.358,
          7.358,
          7.358,
          7.358,
          7.358,
          7.358,
          7.358,
          7.358,
          7.358,
          7.358,
          7.358,
          7.358,
          7.358,
          7.358,
          7.358,
          7.358,
          7.358,
          7.358,
          7.358,
          7.358,
          7.358,
          1.094,
          1.094,
          1.094,
          1.094,
          1.094,
          1.094,
          1.094,
          1.094,
          1.094,
          1.094,
          1.094,
          1.094,
          1.094,
          1.094,
          1.094,
          1.094,
          1.094,
          1.094,
          1.094,
          0.108,
          1.094,
          1.094,
          0.108,
          1.094,
          0.108,
          0.108,
          0.108,
          0.108,
          0.108,
          0.108,
          0.108,
          0.108,
          0.108,
          0.108,
          0.108,
          0.108,
          0.108,
          0.108,
          0.108,
          0.108,
          0.108,
          0.108,
          0.108,
          0.108,
          0.108,
          0.108,
          2.32,
          2.32,
          2.32,
          2.32,
          2.32,
          2.32,
          2.32,
          2.32,
          2.32,
          2.32,
          2.32,
          2.32,
          2.32,
          2.32,
          2.32,
          2.32,
          2.32,
          2.32,
          -1.5115,
          -1.5115,
          -1.5115,
          -1.5115,
          -1.5115,
          -1.5115,
          -1.5115,
          -1.5115,
          -1.5115,
          -1.5115,
          -1.5115,
          -1.5115,
          -1.5115,
          -1.5115,
          -1.5115,
          -1.5115,
          -1.5115,
          -1.5115,
          -1.5115,
          -1.5115,
          -1.5115,
          -1.5115,
          -1.5115,
          -1.5115,
          2.32,
          0.108,
          -96.9538,
          -1.5115,
          -96.9538,
          -96.9538,
          -96.9538,
          -96.9538,
          -96.9538,
          -96.9538,
          -96.9538,
          -96.9538,
          -96.9538,
          -96.9538,
          -96.9538,
          -96.9538,
          -96.9538,
          -96.9538,
          -96.9538,
          -96.9538,
          -96.9538,
          -96.9538,
          -96.9538,
          -96.9538,
          -96.9538,
          -96.9538,
          2.2957,
          -96.9538,
          2.2957,
          2.2957,
          2.2957,
          2.2957,
          2.2957,
          2.2957,
          2.2957,
          2.2957,
          2.2957,
          2.2957,
          2.2957,
          2.2957,
          2.2957,
          2.2957,
          2.2957,
          2.2957,
          2.2957,
          2.2957,
          2.2957,
          2.2957,
          2.2957,
          2.2957,
          2.2957,
          -96.9538,
          2.2957,
          3.0635,
          3.0635,
          3.0635,
          3.0635,
          3.0635,
          3.0635,
          3.0635,
          3.0635,
          3.0635,
          3.0635,
          3.0635,
          3.0635,
          3.0635,
          3.0635,
          3.0635,
          3.0635,
          3.0635,
          3.0635,
          3.0635,
          3.0635,
          3.0635,
          3.0635,
          3.0635,
          3.0635,
          -0.7025,
          -0.7025,
          3.0635,
          -0.7025,
          -0.7025,
          -0.7025,
          -0.7025,
          -0.7025,
          -0.7025,
          -0.7025,
          -0.7025,
          -0.7025,
          -0.7025,
          -0.7025,
          -0.7025,
          -0.7025,
          -0.7025,
          -0.7025,
          -0.7025,
          -0.7025,
          -0.7025,
          -0.7025,
          -0.7025,
          -0.7025,
          -0.7025,
          -0.7025,
          6.3419,
          6.3419,
          5.5396,
          5.5396,
          5.5396,
          5.4475,
          5.4475,
          5.4475,
          4.4277,
          1.4066,
          3.0832,
          3.0832,
          4.1915,
          1.4066,
          1.4442,
          1.355,
          2.3491,
          1.355,
          1.355,
          1.355,
          1.355,
          1.355,
          1.355,
          1.355,
          1.355,
          1.355,
          1.355,
          1.355,
          1.355,
          1.355,
          1.355,
          1.355,
          1.355,
          1.355,
          1.355,
          1.355,
          1.355,
          1.355,
          1.355,
          1.355,
          -1.5527,
          1.355,
          -1.5527,
          -1.5527,
          -1.5527,
          -1.5527,
          -1.5527,
          -1.5527,
          -1.5527,
          -1.5527,
          -1.5527,
          -1.5527,
          -1.5527,
          -1.5527,
          -1.5527,
          -1.5527,
          -1.5527,
          -1.5527,
          -1.5527,
          -1.5527,
          -1.5527,
          -1.5527,
          -1.5527,
          -1.5527,
          -1.5527,
          -1.5527,
          1.4442,
          1.4442,
          1.4442,
          1.4442,
          1.4442,
          1.4442,
          1.4442,
          1.4442,
          1.4442,
          1.4442,
          1.4442,
          1.4442,
          1.4442,
          1.4442,
          1.4442,
          1.4442,
          1.4442,
          1.4442,
          1.4442,
          1.4442,
          1.4442,
          1.4442,
          1.4442,
          -1.4737,
          1.4442,
          -1.4737,
          -1.4737,
          -1.4737,
          -1.4737,
          -1.4737,
          -1.4737,
          -1.4737,
          -1.4737,
          -1.4737,
          -1.4737,
          -1.4737,
          -1.4737,
          -1.4737,
          -1.4737,
          -1.4737,
          -1.4737,
          -1.4737,
          -1.4737,
          -1.4737,
          -1.4737,
          -1.4737,
          -1.4737,
          -1.4737,
          -1.4737,
          2.3491,
          2.3491,
          2.3491,
          2.3491,
          2.3491,
          2.3491,
          2.3491,
          2.3491,
          2.3491,
          2.3491,
          2.3491,
          2.3491,
          2.3491,
          2.3491,
          2.3491,
          2.3491,
          2.3491,
          2.3491,
          2.3491,
          2.3491,
          2.3491,
          2.3491,
          2.3491,
          2.3491,
          1.4066,
          1.4066,
          1.4066,
          1.4066,
          1.4066,
          1.4066,
          1.4066,
          1.4066,
          1.4066,
          1.4066,
          1.4066,
          1.4066,
          1.4066,
          1.4066,
          1.4066,
          1.4066,
          1.4066,
          1.4066,
          1.4066,
          1.4066,
          1.4066,
          1.4066,
          1.4066,
          3.0832,
          3.0832,
          3.0832,
          3.0832,
          3.0832,
          3.0832,
          3.0832,
          3.0832,
          3.0832,
          3.0832,
          3.0832,
          3.0832,
          3.0832,
          3.0832,
          3.0832,
          3.0832,
          3.0832,
          3.0832,
          3.0832,
          3.0832,
          3.0832,
          3.0832,
          4.1915,
          3.0832,
          4.1915,
          4.1915,
          4.1915,
          4.1915,
          4.1915,
          4.1915,
          4.1915,
          4.1915,
          4.1915,
          4.1915,
          4.1915,
          4.1915,
          4.1915,
          4.1915,
          4.1915,
          4.1915,
          4.1915,
          4.1915,
          4.1915,
          4.1915,
          4.1915,
          4.1915,
          4.8059,
          4.8059,
          4.8059,
          4.8059,
          4.8059,
          4.8059,
          4.8059,
          4.8059,
          4.8059,
          4.8059,
          4.8059,
          4.8059,
          4.8059,
          4.8059,
          4.8059,
          4.8059,
          4.8059,
          4.8059,
          4.8059,
          4.8059,
          4.8059,
          4.8059,
          4.8059,
          4.8059,
          4.4277,
          4.4277,
          4.4277,
          4.4277,
          4.4277,
          4.4277,
          4.4277,
          4.4277,
          4.4277,
          4.4277,
          4.4277,
          4.4277,
          4.4277,
          4.4277,
          4.4277,
          4.4277,
          4.4277,
          4.4277,
          4.4277,
          4.4277,
          4.4277,
          4.4277,
          4.4277,
          4.1915,
          4.8059,
          4.3601,
          4.3601,
          4.3601,
          4.3601,
          4.3601,
          4.3601,
          4.3601,
          4.3601,
          4.3601,
          4.3601,
          4.3601,
          4.3601,
          4.3601,
          4.3601,
          4.3601,
          4.3601,
          4.3601,
          4.3601,
          4.3601,
          4.3601,
          4.3601,
          4.3601,
          4.3601,
          4.4277,
          4.3601,
          5.4475,
          4.3601,
          5.4475,
          5.4475,
          5.4475,
          5.4475,
          5.4475,
          5.4475,
          5.4475,
          5.4475,
          5.4475,
          5.4475,
          5.4475,
          5.4475,
          5.4475,
          5.4475,
          5.4475,
          5.4475,
          5.4475,
          5.4475,
          5.4475,
          5.4475,
          5.37,
          5.37,
          5.37,
          5.4475,
          5.37,
          5.37,
          5.37,
          5.37,
          5.37,
          5.37,
          5.37,
          5.37,
          5.37,
          5.37,
          5.37,
          5.37,
          5.37,
          5.37,
          5.37,
          5.37,
          5.37,
          5.37,
          5.37,
          5.37,
          5.37,
          5.37,
          4.4197,
          4.4197,
          4.4197,
          4.4197,
          4.4197,
          4.4197,
          4.4197,
          4.4197,
          4.4197,
          4.4197,
          4.4197,
          4.4197,
          4.4197,
          4.4197,
          4.4197,
          4.4197,
          4.4197,
          4.4197,
          4.4197,
          4.4197,
          4.4197,
          4.4197,
          4.4197,
          4.4197,
          4.4197,
          5.5396,
          5.5396,
          5.5396,
          5.5396,
          5.5396,
          5.5396,
          5.5396,
          5.5396,
          5.5396,
          5.5396,
          5.5396,
          5.5396,
          5.5396,
          5.5396,
          5.5396,
          5.5396,
          5.5396,
          5.5396,
          5.5396,
          5.5396,
          5.5396,
          5.5396,
          6.3419,
          6.3419,
          6.3419,
          6.3419,
          6.3419,
          6.3419,
          6.3419,
          6.3419,
          6.3419,
          6.3419,
          6.3419,
          6.3419,
          6.3419,
          6.3419,
          6.3419,
          6.3419,
          6.3419,
          6.3419,
          6.3419,
          6.3419,
          6.3419,
          6.3419,
          6.3419,
          -1.152,
          -1.152,
          -1.152,
          -1.152,
          -1.152,
          -1.152,
          -1.152,
          -1.152,
          -1.152,
          -1.152,
          -1.152,
          -1.152,
          -1.152,
          -1.152,
          -1.152,
          -1.152,
          -1.152,
          -1.152,
          -1.152,
          -1.152,
          -1.152,
          -1.152,
          -1.152,
          -1.152,
          -1.152
         ],
         "marker": {
          "color": [
           20.840000000000032,
           20.840000000000032,
           20.840000000000032,
           20.840000000000032,
           20.840000000000032,
           20.840000000000032,
           19.340000000000032,
           19.340000000000032,
           23.57000000000005,
           23.57000000000005,
           22.210000000000036,
           23.57000000000005,
           19.340000000000032,
           23.57000000000005,
           22.960000000000036,
           26.65000000000003,
           23.370000000000005,
           23.370000000000005,
           23.370000000000005,
           23.370000000000005,
           23.370000000000005,
           23.370000000000005,
           23.370000000000005,
           23.370000000000005,
           23.370000000000005,
           23.370000000000005,
           23.370000000000005,
           23.370000000000005,
           23.370000000000005,
           23.370000000000005,
           23.370000000000005,
           23.370000000000005,
           23.370000000000005,
           23.370000000000005,
           23.370000000000005,
           23.370000000000005,
           23.370000000000005,
           23.370000000000005,
           23.370000000000005,
           23.370000000000005,
           23.370000000000005,
           26.65000000000003,
           26.65000000000003,
           26.65000000000003,
           26.65000000000003,
           26.65000000000003,
           26.65000000000003,
           26.65000000000003,
           26.65000000000003,
           26.65000000000003,
           26.65000000000003,
           26.65000000000003,
           26.65000000000003,
           26.65000000000003,
           26.65000000000003,
           26.65000000000003,
           26.65000000000003,
           26.65000000000003,
           26.65000000000003,
           26.65000000000003,
           26.65000000000003,
           26.65000000000003,
           26.65000000000003,
           26.65000000000003,
           22.960000000000036,
           22.960000000000036,
           26.65000000000003,
           22.960000000000036,
           22.960000000000036,
           22.960000000000036,
           22.960000000000036,
           22.960000000000036,
           22.960000000000036,
           22.960000000000036,
           22.960000000000036,
           22.960000000000036,
           22.960000000000036,
           22.960000000000036,
           22.960000000000036,
           22.960000000000036,
           22.960000000000036,
           22.960000000000036,
           22.960000000000036,
           22.960000000000036,
           22.960000000000036,
           22.960000000000036,
           22.960000000000036,
           22.960000000000036,
           22.960000000000036,
           23.640000000000043,
           23.640000000000043,
           23.640000000000043,
           23.640000000000043,
           23.640000000000043,
           23.640000000000043,
           23.640000000000043,
           23.640000000000043,
           23.640000000000043,
           23.640000000000043,
           23.640000000000043,
           23.640000000000043,
           23.640000000000043,
           23.640000000000043,
           23.640000000000043,
           23.640000000000043,
           23.640000000000043,
           23.640000000000043,
           23.640000000000043,
           23.640000000000043,
           23.640000000000043,
           23.640000000000043,
           23.640000000000043,
           23.640000000000043,
           22.80000000000001,
           22.80000000000001,
           22.80000000000001,
           22.80000000000001,
           22.80000000000001,
           22.80000000000001,
           22.80000000000001,
           22.80000000000001,
           22.80000000000001,
           22.80000000000001,
           22.80000000000001,
           22.80000000000001,
           22.80000000000001,
           22.80000000000001,
           22.80000000000001,
           22.80000000000001,
           22.80000000000001,
           22.80000000000001,
           22.80000000000001,
           22.80000000000001,
           22.80000000000001,
           22.80000000000001,
           22.80000000000001,
           22.80000000000001,
           23.640000000000043,
           22.210000000000036,
           22.210000000000036,
           22.210000000000036,
           22.80000000000001,
           22.210000000000036,
           22.210000000000036,
           22.210000000000036,
           22.210000000000036,
           22.210000000000036,
           22.210000000000036,
           22.210000000000036,
           22.210000000000036,
           22.210000000000036,
           22.210000000000036,
           22.210000000000036,
           22.210000000000036,
           22.210000000000036,
           22.210000000000036,
           22.210000000000036,
           22.210000000000036,
           22.210000000000036,
           22.210000000000036,
           22.210000000000036,
           22.210000000000036,
           23.57000000000005,
           22.210000000000036,
           23.57000000000005,
           23.57000000000005,
           23.57000000000005,
           23.57000000000005,
           23.57000000000005,
           23.57000000000005,
           23.57000000000005,
           23.57000000000005,
           23.57000000000005,
           23.57000000000005,
           23.57000000000005,
           23.57000000000005,
           23.57000000000005,
           23.57000000000005,
           23.57000000000005,
           23.57000000000005,
           23.57000000000005,
           23.57000000000005,
           23.57000000000005,
           22.980000000000015,
           23.57000000000005,
           22.980000000000015,
           22.980000000000015,
           22.980000000000015,
           22.980000000000015,
           22.980000000000015,
           22.980000000000015,
           22.980000000000015,
           22.980000000000015,
           22.980000000000015,
           22.980000000000015,
           22.980000000000015,
           22.980000000000015,
           22.980000000000015,
           22.980000000000015,
           22.980000000000015,
           22.980000000000015,
           22.980000000000015,
           22.980000000000015,
           22.980000000000015,
           22.980000000000015,
           22.980000000000015,
           22.980000000000015,
           22.980000000000015,
           19.15000000000003,
           19.15000000000003,
           19.15000000000003,
           19.15000000000003,
           19.15000000000003,
           19.15000000000003,
           19.15000000000003,
           19.15000000000003,
           19.15000000000003,
           19.15000000000003,
           19.15000000000003,
           19.15000000000003,
           19.15000000000003,
           19.15000000000003,
           19.15000000000003,
           19.15000000000003,
           19.15000000000003,
           19.15000000000003,
           19.15000000000003,
           19.15000000000003,
           19.15000000000003,
           19.15000000000003,
           19.15000000000003,
           19.15000000000003,
           22.980000000000015,
           19.15000000000003,
           22.600000000000023,
           22.600000000000023,
           22.600000000000023,
           22.600000000000023,
           22.600000000000023,
           22.600000000000023,
           22.600000000000023,
           22.600000000000023,
           22.600000000000023,
           22.600000000000023,
           22.600000000000023,
           22.600000000000023,
           22.600000000000023,
           22.600000000000023,
           22.600000000000023,
           22.600000000000023,
           22.600000000000023,
           22.600000000000023,
           22.600000000000023,
           22.600000000000023,
           22.600000000000023,
           22.600000000000023,
           22.600000000000023,
           22.600000000000023,
           22.600000000000023,
           19.340000000000032,
           19.340000000000032,
           19.340000000000032,
           19.340000000000032,
           19.340000000000032,
           19.340000000000032,
           19.340000000000032,
           19.340000000000032,
           19.340000000000032,
           19.340000000000032,
           19.340000000000032,
           19.340000000000032,
           19.340000000000032,
           19.340000000000032,
           19.340000000000032,
           19.340000000000032,
           19.340000000000032,
           19.340000000000032,
           19.340000000000032,
           17.510000000000048,
           19.340000000000032,
           19.340000000000032,
           17.510000000000048,
           19.340000000000032,
           17.510000000000048,
           17.510000000000048,
           17.510000000000048,
           17.510000000000048,
           17.510000000000048,
           17.510000000000048,
           17.510000000000048,
           17.510000000000048,
           17.510000000000048,
           17.510000000000048,
           17.510000000000048,
           17.510000000000048,
           17.510000000000048,
           17.510000000000048,
           17.510000000000048,
           17.510000000000048,
           17.510000000000048,
           17.510000000000048,
           17.510000000000048,
           17.510000000000048,
           17.510000000000048,
           17.510000000000048,
           20.840000000000032,
           20.840000000000032,
           20.840000000000032,
           20.840000000000032,
           20.840000000000032,
           20.840000000000032,
           20.840000000000032,
           20.840000000000032,
           20.840000000000032,
           20.840000000000032,
           20.840000000000032,
           20.840000000000032,
           20.840000000000032,
           20.840000000000032,
           20.840000000000032,
           20.840000000000032,
           20.840000000000032,
           20.840000000000032,
           19.06,
           19.06,
           19.06,
           19.06,
           19.06,
           19.06,
           19.06,
           19.06,
           19.06,
           19.06,
           19.06,
           19.06,
           19.06,
           19.06,
           19.06,
           19.06,
           19.06,
           19.06,
           19.06,
           19.06,
           19.06,
           19.06,
           19.06,
           19.06,
           20.840000000000032,
           17.510000000000048,
           9.910000000000023,
           19.06,
           9.910000000000023,
           9.910000000000023,
           9.910000000000023,
           9.910000000000023,
           9.910000000000023,
           9.910000000000023,
           9.910000000000023,
           9.910000000000023,
           9.910000000000023,
           9.910000000000023,
           9.910000000000023,
           9.910000000000023,
           9.910000000000023,
           9.910000000000023,
           9.910000000000023,
           9.910000000000023,
           9.910000000000023,
           9.910000000000023,
           9.910000000000023,
           9.910000000000023,
           9.910000000000023,
           9.910000000000023,
           19.200000000000045,
           9.910000000000023,
           19.200000000000045,
           19.200000000000045,
           19.200000000000045,
           19.200000000000045,
           19.200000000000045,
           19.200000000000045,
           19.200000000000045,
           19.200000000000045,
           19.200000000000045,
           19.200000000000045,
           19.200000000000045,
           19.200000000000045,
           19.200000000000045,
           19.200000000000045,
           19.200000000000045,
           19.200000000000045,
           19.200000000000045,
           19.200000000000045,
           19.200000000000045,
           19.200000000000045,
           19.200000000000045,
           19.200000000000045,
           19.200000000000045,
           9.910000000000023,
           19.200000000000045,
           20.220000000000027,
           20.220000000000027,
           20.220000000000027,
           20.220000000000027,
           20.220000000000027,
           20.220000000000027,
           20.220000000000027,
           20.220000000000027,
           20.220000000000027,
           20.220000000000027,
           20.220000000000027,
           20.220000000000027,
           20.220000000000027,
           20.220000000000027,
           20.220000000000027,
           20.220000000000027,
           20.220000000000027,
           20.220000000000027,
           20.220000000000027,
           20.220000000000027,
           20.220000000000027,
           20.220000000000027,
           20.220000000000027,
           20.220000000000027,
           19.140000000000043,
           19.140000000000043,
           20.220000000000027,
           19.140000000000043,
           19.140000000000043,
           19.140000000000043,
           19.140000000000043,
           19.140000000000043,
           19.140000000000043,
           19.140000000000043,
           19.140000000000043,
           19.140000000000043,
           19.140000000000043,
           19.140000000000043,
           19.140000000000043,
           19.140000000000043,
           19.140000000000043,
           19.140000000000043,
           19.140000000000043,
           19.140000000000043,
           19.140000000000043,
           19.140000000000043,
           19.140000000000043,
           19.140000000000043,
           19.140000000000043,
           19.140000000000043,
           26.52000000000004,
           26.52000000000004,
           26.30000000000001,
           26.30000000000001,
           26.30000000000001,
           25.15000000000003,
           25.15000000000003,
           25.15000000000003,
           27.590000000000032,
           18.180000000000007,
           27.460000000000036,
           27.460000000000036,
           27.950000000000045,
           18.180000000000007,
           21.970000000000027,
           22.28000000000003,
           25.30000000000001,
           22.28000000000003,
           22.28000000000003,
           22.28000000000003,
           22.28000000000003,
           22.28000000000003,
           22.28000000000003,
           22.28000000000003,
           22.28000000000003,
           22.28000000000003,
           22.28000000000003,
           22.28000000000003,
           22.28000000000003,
           22.28000000000003,
           22.28000000000003,
           22.28000000000003,
           22.28000000000003,
           22.28000000000003,
           22.28000000000003,
           22.28000000000003,
           22.28000000000003,
           22.28000000000003,
           22.28000000000003,
           22.28000000000003,
           21.100000000000023,
           22.28000000000003,
           21.100000000000023,
           21.100000000000023,
           21.100000000000023,
           21.100000000000023,
           21.100000000000023,
           21.100000000000023,
           21.100000000000023,
           21.100000000000023,
           21.100000000000023,
           21.100000000000023,
           21.100000000000023,
           21.100000000000023,
           21.100000000000023,
           21.100000000000023,
           21.100000000000023,
           21.100000000000023,
           21.100000000000023,
           21.100000000000023,
           21.100000000000023,
           21.100000000000023,
           21.100000000000023,
           21.100000000000023,
           21.100000000000023,
           21.100000000000023,
           21.970000000000027,
           21.970000000000027,
           21.970000000000027,
           21.970000000000027,
           21.970000000000027,
           21.970000000000027,
           21.970000000000027,
           21.970000000000027,
           21.970000000000027,
           21.970000000000027,
           21.970000000000027,
           21.970000000000027,
           21.970000000000027,
           21.970000000000027,
           21.970000000000027,
           21.970000000000027,
           21.970000000000027,
           21.970000000000027,
           21.970000000000027,
           21.970000000000027,
           21.970000000000027,
           21.970000000000027,
           21.970000000000027,
           21.57000000000005,
           21.970000000000027,
           21.57000000000005,
           21.57000000000005,
           21.57000000000005,
           21.57000000000005,
           21.57000000000005,
           21.57000000000005,
           21.57000000000005,
           21.57000000000005,
           21.57000000000005,
           21.57000000000005,
           21.57000000000005,
           21.57000000000005,
           21.57000000000005,
           21.57000000000005,
           21.57000000000005,
           21.57000000000005,
           21.57000000000005,
           21.57000000000005,
           21.57000000000005,
           21.57000000000005,
           21.57000000000005,
           21.57000000000005,
           21.57000000000005,
           21.57000000000005,
           25.30000000000001,
           25.30000000000001,
           25.30000000000001,
           25.30000000000001,
           25.30000000000001,
           25.30000000000001,
           25.30000000000001,
           25.30000000000001,
           25.30000000000001,
           25.30000000000001,
           25.30000000000001,
           25.30000000000001,
           25.30000000000001,
           25.30000000000001,
           25.30000000000001,
           25.30000000000001,
           25.30000000000001,
           25.30000000000001,
           25.30000000000001,
           25.30000000000001,
           25.30000000000001,
           25.30000000000001,
           25.30000000000001,
           25.30000000000001,
           18.180000000000007,
           18.180000000000007,
           18.180000000000007,
           18.180000000000007,
           18.180000000000007,
           18.180000000000007,
           18.180000000000007,
           18.180000000000007,
           18.180000000000007,
           18.180000000000007,
           18.180000000000007,
           18.180000000000007,
           18.180000000000007,
           18.180000000000007,
           18.180000000000007,
           18.180000000000007,
           18.180000000000007,
           18.180000000000007,
           18.180000000000007,
           18.180000000000007,
           18.180000000000007,
           18.180000000000007,
           18.180000000000007,
           27.460000000000036,
           27.460000000000036,
           27.460000000000036,
           27.460000000000036,
           27.460000000000036,
           27.460000000000036,
           27.460000000000036,
           27.460000000000036,
           27.460000000000036,
           27.460000000000036,
           27.460000000000036,
           27.460000000000036,
           27.460000000000036,
           27.460000000000036,
           27.460000000000036,
           27.460000000000036,
           27.460000000000036,
           27.460000000000036,
           27.460000000000036,
           27.460000000000036,
           27.460000000000036,
           27.460000000000036,
           27.950000000000045,
           27.460000000000036,
           27.950000000000045,
           27.950000000000045,
           27.950000000000045,
           27.950000000000045,
           27.950000000000045,
           27.950000000000045,
           27.950000000000045,
           27.950000000000045,
           27.950000000000045,
           27.950000000000045,
           27.950000000000045,
           27.950000000000045,
           27.950000000000045,
           27.950000000000045,
           27.950000000000045,
           27.950000000000045,
           27.950000000000045,
           27.950000000000045,
           27.950000000000045,
           27.950000000000045,
           27.950000000000045,
           27.950000000000045,
           26.420000000000016,
           26.420000000000016,
           26.420000000000016,
           26.420000000000016,
           26.420000000000016,
           26.420000000000016,
           26.420000000000016,
           26.420000000000016,
           26.420000000000016,
           26.420000000000016,
           26.420000000000016,
           26.420000000000016,
           26.420000000000016,
           26.420000000000016,
           26.420000000000016,
           26.420000000000016,
           26.420000000000016,
           26.420000000000016,
           26.420000000000016,
           26.420000000000016,
           26.420000000000016,
           26.420000000000016,
           26.420000000000016,
           26.420000000000016,
           27.590000000000032,
           27.590000000000032,
           27.590000000000032,
           27.590000000000032,
           27.590000000000032,
           27.590000000000032,
           27.590000000000032,
           27.590000000000032,
           27.590000000000032,
           27.590000000000032,
           27.590000000000032,
           27.590000000000032,
           27.590000000000032,
           27.590000000000032,
           27.590000000000032,
           27.590000000000032,
           27.590000000000032,
           27.590000000000032,
           27.590000000000032,
           27.590000000000032,
           27.590000000000032,
           27.590000000000032,
           27.590000000000032,
           27.950000000000045,
           26.420000000000016,
           27.220000000000027,
           27.220000000000027,
           27.220000000000027,
           27.220000000000027,
           27.220000000000027,
           27.220000000000027,
           27.220000000000027,
           27.220000000000027,
           27.220000000000027,
           27.220000000000027,
           27.220000000000027,
           27.220000000000027,
           27.220000000000027,
           27.220000000000027,
           27.220000000000027,
           27.220000000000027,
           27.220000000000027,
           27.220000000000027,
           27.220000000000027,
           27.220000000000027,
           27.220000000000027,
           27.220000000000027,
           27.220000000000027,
           27.590000000000032,
           27.220000000000027,
           25.15000000000003,
           27.220000000000027,
           25.15000000000003,
           25.15000000000003,
           25.15000000000003,
           25.15000000000003,
           25.15000000000003,
           25.15000000000003,
           25.15000000000003,
           25.15000000000003,
           25.15000000000003,
           25.15000000000003,
           25.15000000000003,
           25.15000000000003,
           25.15000000000003,
           25.15000000000003,
           25.15000000000003,
           25.15000000000003,
           25.15000000000003,
           25.15000000000003,
           25.15000000000003,
           25.15000000000003,
           26.65000000000003,
           26.65000000000003,
           26.65000000000003,
           25.15000000000003,
           26.65000000000003,
           26.65000000000003,
           26.65000000000003,
           26.65000000000003,
           26.65000000000003,
           26.65000000000003,
           26.65000000000003,
           26.65000000000003,
           26.65000000000003,
           26.65000000000003,
           26.65000000000003,
           26.65000000000003,
           26.65000000000003,
           26.65000000000003,
           26.65000000000003,
           26.65000000000003,
           26.65000000000003,
           26.65000000000003,
           26.65000000000003,
           26.65000000000003,
           26.65000000000003,
           26.65000000000003,
           25.680000000000007,
           25.680000000000007,
           25.680000000000007,
           25.680000000000007,
           25.680000000000007,
           25.680000000000007,
           25.680000000000007,
           25.680000000000007,
           25.680000000000007,
           25.680000000000007,
           25.680000000000007,
           25.680000000000007,
           25.680000000000007,
           25.680000000000007,
           25.680000000000007,
           25.680000000000007,
           25.680000000000007,
           25.680000000000007,
           25.680000000000007,
           25.680000000000007,
           25.680000000000007,
           25.680000000000007,
           25.680000000000007,
           25.680000000000007,
           25.680000000000007,
           26.30000000000001,
           26.30000000000001,
           26.30000000000001,
           26.30000000000001,
           26.30000000000001,
           26.30000000000001,
           26.30000000000001,
           26.30000000000001,
           26.30000000000001,
           26.30000000000001,
           26.30000000000001,
           26.30000000000001,
           26.30000000000001,
           26.30000000000001,
           26.30000000000001,
           26.30000000000001,
           26.30000000000001,
           26.30000000000001,
           26.30000000000001,
           26.30000000000001,
           26.30000000000001,
           26.30000000000001,
           26.52000000000004,
           26.52000000000004,
           26.52000000000004,
           26.52000000000004,
           26.52000000000004,
           26.52000000000004,
           26.52000000000004,
           26.52000000000004,
           26.52000000000004,
           26.52000000000004,
           26.52000000000004,
           26.52000000000004,
           26.52000000000004,
           26.52000000000004,
           26.52000000000004,
           26.52000000000004,
           26.52000000000004,
           26.52000000000004,
           26.52000000000004,
           26.52000000000004,
           26.52000000000004,
           26.52000000000004,
           26.52000000000004,
           19.29000000000002,
           19.29000000000002,
           19.29000000000002,
           19.29000000000002,
           19.29000000000002,
           19.29000000000002,
           19.29000000000002,
           19.29000000000002,
           19.29000000000002,
           19.29000000000002,
           19.29000000000002,
           19.29000000000002,
           19.29000000000002,
           19.29000000000002,
           19.29000000000002,
           19.29000000000002,
           19.29000000000002,
           19.29000000000002,
           19.29000000000002,
           19.29000000000002,
           19.29000000000002,
           19.29000000000002,
           19.29000000000002,
           19.29000000000002,
           19.29000000000002
          ],
          "coloraxis": "coloraxis",
          "size": [
           20.840000000000032,
           20.840000000000032,
           20.840000000000032,
           20.840000000000032,
           20.840000000000032,
           20.840000000000032,
           19.340000000000032,
           19.340000000000032,
           23.57000000000005,
           23.57000000000005,
           22.210000000000036,
           23.57000000000005,
           19.340000000000032,
           23.57000000000005,
           22.960000000000036,
           26.65000000000003,
           23.370000000000005,
           23.370000000000005,
           23.370000000000005,
           23.370000000000005,
           23.370000000000005,
           23.370000000000005,
           23.370000000000005,
           23.370000000000005,
           23.370000000000005,
           23.370000000000005,
           23.370000000000005,
           23.370000000000005,
           23.370000000000005,
           23.370000000000005,
           23.370000000000005,
           23.370000000000005,
           23.370000000000005,
           23.370000000000005,
           23.370000000000005,
           23.370000000000005,
           23.370000000000005,
           23.370000000000005,
           23.370000000000005,
           23.370000000000005,
           23.370000000000005,
           26.65000000000003,
           26.65000000000003,
           26.65000000000003,
           26.65000000000003,
           26.65000000000003,
           26.65000000000003,
           26.65000000000003,
           26.65000000000003,
           26.65000000000003,
           26.65000000000003,
           26.65000000000003,
           26.65000000000003,
           26.65000000000003,
           26.65000000000003,
           26.65000000000003,
           26.65000000000003,
           26.65000000000003,
           26.65000000000003,
           26.65000000000003,
           26.65000000000003,
           26.65000000000003,
           26.65000000000003,
           26.65000000000003,
           22.960000000000036,
           22.960000000000036,
           26.65000000000003,
           22.960000000000036,
           22.960000000000036,
           22.960000000000036,
           22.960000000000036,
           22.960000000000036,
           22.960000000000036,
           22.960000000000036,
           22.960000000000036,
           22.960000000000036,
           22.960000000000036,
           22.960000000000036,
           22.960000000000036,
           22.960000000000036,
           22.960000000000036,
           22.960000000000036,
           22.960000000000036,
           22.960000000000036,
           22.960000000000036,
           22.960000000000036,
           22.960000000000036,
           22.960000000000036,
           22.960000000000036,
           23.640000000000043,
           23.640000000000043,
           23.640000000000043,
           23.640000000000043,
           23.640000000000043,
           23.640000000000043,
           23.640000000000043,
           23.640000000000043,
           23.640000000000043,
           23.640000000000043,
           23.640000000000043,
           23.640000000000043,
           23.640000000000043,
           23.640000000000043,
           23.640000000000043,
           23.640000000000043,
           23.640000000000043,
           23.640000000000043,
           23.640000000000043,
           23.640000000000043,
           23.640000000000043,
           23.640000000000043,
           23.640000000000043,
           23.640000000000043,
           22.80000000000001,
           22.80000000000001,
           22.80000000000001,
           22.80000000000001,
           22.80000000000001,
           22.80000000000001,
           22.80000000000001,
           22.80000000000001,
           22.80000000000001,
           22.80000000000001,
           22.80000000000001,
           22.80000000000001,
           22.80000000000001,
           22.80000000000001,
           22.80000000000001,
           22.80000000000001,
           22.80000000000001,
           22.80000000000001,
           22.80000000000001,
           22.80000000000001,
           22.80000000000001,
           22.80000000000001,
           22.80000000000001,
           22.80000000000001,
           23.640000000000043,
           22.210000000000036,
           22.210000000000036,
           22.210000000000036,
           22.80000000000001,
           22.210000000000036,
           22.210000000000036,
           22.210000000000036,
           22.210000000000036,
           22.210000000000036,
           22.210000000000036,
           22.210000000000036,
           22.210000000000036,
           22.210000000000036,
           22.210000000000036,
           22.210000000000036,
           22.210000000000036,
           22.210000000000036,
           22.210000000000036,
           22.210000000000036,
           22.210000000000036,
           22.210000000000036,
           22.210000000000036,
           22.210000000000036,
           22.210000000000036,
           23.57000000000005,
           22.210000000000036,
           23.57000000000005,
           23.57000000000005,
           23.57000000000005,
           23.57000000000005,
           23.57000000000005,
           23.57000000000005,
           23.57000000000005,
           23.57000000000005,
           23.57000000000005,
           23.57000000000005,
           23.57000000000005,
           23.57000000000005,
           23.57000000000005,
           23.57000000000005,
           23.57000000000005,
           23.57000000000005,
           23.57000000000005,
           23.57000000000005,
           23.57000000000005,
           22.980000000000015,
           23.57000000000005,
           22.980000000000015,
           22.980000000000015,
           22.980000000000015,
           22.980000000000015,
           22.980000000000015,
           22.980000000000015,
           22.980000000000015,
           22.980000000000015,
           22.980000000000015,
           22.980000000000015,
           22.980000000000015,
           22.980000000000015,
           22.980000000000015,
           22.980000000000015,
           22.980000000000015,
           22.980000000000015,
           22.980000000000015,
           22.980000000000015,
           22.980000000000015,
           22.980000000000015,
           22.980000000000015,
           22.980000000000015,
           22.980000000000015,
           19.15000000000003,
           19.15000000000003,
           19.15000000000003,
           19.15000000000003,
           19.15000000000003,
           19.15000000000003,
           19.15000000000003,
           19.15000000000003,
           19.15000000000003,
           19.15000000000003,
           19.15000000000003,
           19.15000000000003,
           19.15000000000003,
           19.15000000000003,
           19.15000000000003,
           19.15000000000003,
           19.15000000000003,
           19.15000000000003,
           19.15000000000003,
           19.15000000000003,
           19.15000000000003,
           19.15000000000003,
           19.15000000000003,
           19.15000000000003,
           22.980000000000015,
           19.15000000000003,
           22.600000000000023,
           22.600000000000023,
           22.600000000000023,
           22.600000000000023,
           22.600000000000023,
           22.600000000000023,
           22.600000000000023,
           22.600000000000023,
           22.600000000000023,
           22.600000000000023,
           22.600000000000023,
           22.600000000000023,
           22.600000000000023,
           22.600000000000023,
           22.600000000000023,
           22.600000000000023,
           22.600000000000023,
           22.600000000000023,
           22.600000000000023,
           22.600000000000023,
           22.600000000000023,
           22.600000000000023,
           22.600000000000023,
           22.600000000000023,
           22.600000000000023,
           19.340000000000032,
           19.340000000000032,
           19.340000000000032,
           19.340000000000032,
           19.340000000000032,
           19.340000000000032,
           19.340000000000032,
           19.340000000000032,
           19.340000000000032,
           19.340000000000032,
           19.340000000000032,
           19.340000000000032,
           19.340000000000032,
           19.340000000000032,
           19.340000000000032,
           19.340000000000032,
           19.340000000000032,
           19.340000000000032,
           19.340000000000032,
           17.510000000000048,
           19.340000000000032,
           19.340000000000032,
           17.510000000000048,
           19.340000000000032,
           17.510000000000048,
           17.510000000000048,
           17.510000000000048,
           17.510000000000048,
           17.510000000000048,
           17.510000000000048,
           17.510000000000048,
           17.510000000000048,
           17.510000000000048,
           17.510000000000048,
           17.510000000000048,
           17.510000000000048,
           17.510000000000048,
           17.510000000000048,
           17.510000000000048,
           17.510000000000048,
           17.510000000000048,
           17.510000000000048,
           17.510000000000048,
           17.510000000000048,
           17.510000000000048,
           17.510000000000048,
           20.840000000000032,
           20.840000000000032,
           20.840000000000032,
           20.840000000000032,
           20.840000000000032,
           20.840000000000032,
           20.840000000000032,
           20.840000000000032,
           20.840000000000032,
           20.840000000000032,
           20.840000000000032,
           20.840000000000032,
           20.840000000000032,
           20.840000000000032,
           20.840000000000032,
           20.840000000000032,
           20.840000000000032,
           20.840000000000032,
           19.06,
           19.06,
           19.06,
           19.06,
           19.06,
           19.06,
           19.06,
           19.06,
           19.06,
           19.06,
           19.06,
           19.06,
           19.06,
           19.06,
           19.06,
           19.06,
           19.06,
           19.06,
           19.06,
           19.06,
           19.06,
           19.06,
           19.06,
           19.06,
           20.840000000000032,
           17.510000000000048,
           9.910000000000023,
           19.06,
           9.910000000000023,
           9.910000000000023,
           9.910000000000023,
           9.910000000000023,
           9.910000000000023,
           9.910000000000023,
           9.910000000000023,
           9.910000000000023,
           9.910000000000023,
           9.910000000000023,
           9.910000000000023,
           9.910000000000023,
           9.910000000000023,
           9.910000000000023,
           9.910000000000023,
           9.910000000000023,
           9.910000000000023,
           9.910000000000023,
           9.910000000000023,
           9.910000000000023,
           9.910000000000023,
           9.910000000000023,
           19.200000000000045,
           9.910000000000023,
           19.200000000000045,
           19.200000000000045,
           19.200000000000045,
           19.200000000000045,
           19.200000000000045,
           19.200000000000045,
           19.200000000000045,
           19.200000000000045,
           19.200000000000045,
           19.200000000000045,
           19.200000000000045,
           19.200000000000045,
           19.200000000000045,
           19.200000000000045,
           19.200000000000045,
           19.200000000000045,
           19.200000000000045,
           19.200000000000045,
           19.200000000000045,
           19.200000000000045,
           19.200000000000045,
           19.200000000000045,
           19.200000000000045,
           9.910000000000023,
           19.200000000000045,
           20.220000000000027,
           20.220000000000027,
           20.220000000000027,
           20.220000000000027,
           20.220000000000027,
           20.220000000000027,
           20.220000000000027,
           20.220000000000027,
           20.220000000000027,
           20.220000000000027,
           20.220000000000027,
           20.220000000000027,
           20.220000000000027,
           20.220000000000027,
           20.220000000000027,
           20.220000000000027,
           20.220000000000027,
           20.220000000000027,
           20.220000000000027,
           20.220000000000027,
           20.220000000000027,
           20.220000000000027,
           20.220000000000027,
           20.220000000000027,
           19.140000000000043,
           19.140000000000043,
           20.220000000000027,
           19.140000000000043,
           19.140000000000043,
           19.140000000000043,
           19.140000000000043,
           19.140000000000043,
           19.140000000000043,
           19.140000000000043,
           19.140000000000043,
           19.140000000000043,
           19.140000000000043,
           19.140000000000043,
           19.140000000000043,
           19.140000000000043,
           19.140000000000043,
           19.140000000000043,
           19.140000000000043,
           19.140000000000043,
           19.140000000000043,
           19.140000000000043,
           19.140000000000043,
           19.140000000000043,
           19.140000000000043,
           19.140000000000043,
           26.52000000000004,
           26.52000000000004,
           26.30000000000001,
           26.30000000000001,
           26.30000000000001,
           25.15000000000003,
           25.15000000000003,
           25.15000000000003,
           27.590000000000032,
           18.180000000000007,
           27.460000000000036,
           27.460000000000036,
           27.950000000000045,
           18.180000000000007,
           21.970000000000027,
           22.28000000000003,
           25.30000000000001,
           22.28000000000003,
           22.28000000000003,
           22.28000000000003,
           22.28000000000003,
           22.28000000000003,
           22.28000000000003,
           22.28000000000003,
           22.28000000000003,
           22.28000000000003,
           22.28000000000003,
           22.28000000000003,
           22.28000000000003,
           22.28000000000003,
           22.28000000000003,
           22.28000000000003,
           22.28000000000003,
           22.28000000000003,
           22.28000000000003,
           22.28000000000003,
           22.28000000000003,
           22.28000000000003,
           22.28000000000003,
           22.28000000000003,
           21.100000000000023,
           22.28000000000003,
           21.100000000000023,
           21.100000000000023,
           21.100000000000023,
           21.100000000000023,
           21.100000000000023,
           21.100000000000023,
           21.100000000000023,
           21.100000000000023,
           21.100000000000023,
           21.100000000000023,
           21.100000000000023,
           21.100000000000023,
           21.100000000000023,
           21.100000000000023,
           21.100000000000023,
           21.100000000000023,
           21.100000000000023,
           21.100000000000023,
           21.100000000000023,
           21.100000000000023,
           21.100000000000023,
           21.100000000000023,
           21.100000000000023,
           21.100000000000023,
           21.970000000000027,
           21.970000000000027,
           21.970000000000027,
           21.970000000000027,
           21.970000000000027,
           21.970000000000027,
           21.970000000000027,
           21.970000000000027,
           21.970000000000027,
           21.970000000000027,
           21.970000000000027,
           21.970000000000027,
           21.970000000000027,
           21.970000000000027,
           21.970000000000027,
           21.970000000000027,
           21.970000000000027,
           21.970000000000027,
           21.970000000000027,
           21.970000000000027,
           21.970000000000027,
           21.970000000000027,
           21.970000000000027,
           21.57000000000005,
           21.970000000000027,
           21.57000000000005,
           21.57000000000005,
           21.57000000000005,
           21.57000000000005,
           21.57000000000005,
           21.57000000000005,
           21.57000000000005,
           21.57000000000005,
           21.57000000000005,
           21.57000000000005,
           21.57000000000005,
           21.57000000000005,
           21.57000000000005,
           21.57000000000005,
           21.57000000000005,
           21.57000000000005,
           21.57000000000005,
           21.57000000000005,
           21.57000000000005,
           21.57000000000005,
           21.57000000000005,
           21.57000000000005,
           21.57000000000005,
           21.57000000000005,
           25.30000000000001,
           25.30000000000001,
           25.30000000000001,
           25.30000000000001,
           25.30000000000001,
           25.30000000000001,
           25.30000000000001,
           25.30000000000001,
           25.30000000000001,
           25.30000000000001,
           25.30000000000001,
           25.30000000000001,
           25.30000000000001,
           25.30000000000001,
           25.30000000000001,
           25.30000000000001,
           25.30000000000001,
           25.30000000000001,
           25.30000000000001,
           25.30000000000001,
           25.30000000000001,
           25.30000000000001,
           25.30000000000001,
           25.30000000000001,
           18.180000000000007,
           18.180000000000007,
           18.180000000000007,
           18.180000000000007,
           18.180000000000007,
           18.180000000000007,
           18.180000000000007,
           18.180000000000007,
           18.180000000000007,
           18.180000000000007,
           18.180000000000007,
           18.180000000000007,
           18.180000000000007,
           18.180000000000007,
           18.180000000000007,
           18.180000000000007,
           18.180000000000007,
           18.180000000000007,
           18.180000000000007,
           18.180000000000007,
           18.180000000000007,
           18.180000000000007,
           18.180000000000007,
           27.460000000000036,
           27.460000000000036,
           27.460000000000036,
           27.460000000000036,
           27.460000000000036,
           27.460000000000036,
           27.460000000000036,
           27.460000000000036,
           27.460000000000036,
           27.460000000000036,
           27.460000000000036,
           27.460000000000036,
           27.460000000000036,
           27.460000000000036,
           27.460000000000036,
           27.460000000000036,
           27.460000000000036,
           27.460000000000036,
           27.460000000000036,
           27.460000000000036,
           27.460000000000036,
           27.460000000000036,
           27.950000000000045,
           27.460000000000036,
           27.950000000000045,
           27.950000000000045,
           27.950000000000045,
           27.950000000000045,
           27.950000000000045,
           27.950000000000045,
           27.950000000000045,
           27.950000000000045,
           27.950000000000045,
           27.950000000000045,
           27.950000000000045,
           27.950000000000045,
           27.950000000000045,
           27.950000000000045,
           27.950000000000045,
           27.950000000000045,
           27.950000000000045,
           27.950000000000045,
           27.950000000000045,
           27.950000000000045,
           27.950000000000045,
           27.950000000000045,
           26.420000000000016,
           26.420000000000016,
           26.420000000000016,
           26.420000000000016,
           26.420000000000016,
           26.420000000000016,
           26.420000000000016,
           26.420000000000016,
           26.420000000000016,
           26.420000000000016,
           26.420000000000016,
           26.420000000000016,
           26.420000000000016,
           26.420000000000016,
           26.420000000000016,
           26.420000000000016,
           26.420000000000016,
           26.420000000000016,
           26.420000000000016,
           26.420000000000016,
           26.420000000000016,
           26.420000000000016,
           26.420000000000016,
           26.420000000000016,
           27.590000000000032,
           27.590000000000032,
           27.590000000000032,
           27.590000000000032,
           27.590000000000032,
           27.590000000000032,
           27.590000000000032,
           27.590000000000032,
           27.590000000000032,
           27.590000000000032,
           27.590000000000032,
           27.590000000000032,
           27.590000000000032,
           27.590000000000032,
           27.590000000000032,
           27.590000000000032,
           27.590000000000032,
           27.590000000000032,
           27.590000000000032,
           27.590000000000032,
           27.590000000000032,
           27.590000000000032,
           27.590000000000032,
           27.950000000000045,
           26.420000000000016,
           27.220000000000027,
           27.220000000000027,
           27.220000000000027,
           27.220000000000027,
           27.220000000000027,
           27.220000000000027,
           27.220000000000027,
           27.220000000000027,
           27.220000000000027,
           27.220000000000027,
           27.220000000000027,
           27.220000000000027,
           27.220000000000027,
           27.220000000000027,
           27.220000000000027,
           27.220000000000027,
           27.220000000000027,
           27.220000000000027,
           27.220000000000027,
           27.220000000000027,
           27.220000000000027,
           27.220000000000027,
           27.220000000000027,
           27.590000000000032,
           27.220000000000027,
           25.15000000000003,
           27.220000000000027,
           25.15000000000003,
           25.15000000000003,
           25.15000000000003,
           25.15000000000003,
           25.15000000000003,
           25.15000000000003,
           25.15000000000003,
           25.15000000000003,
           25.15000000000003,
           25.15000000000003,
           25.15000000000003,
           25.15000000000003,
           25.15000000000003,
           25.15000000000003,
           25.15000000000003,
           25.15000000000003,
           25.15000000000003,
           25.15000000000003,
           25.15000000000003,
           25.15000000000003,
           26.65000000000003,
           26.65000000000003,
           26.65000000000003,
           25.15000000000003,
           26.65000000000003,
           26.65000000000003,
           26.65000000000003,
           26.65000000000003,
           26.65000000000003,
           26.65000000000003,
           26.65000000000003,
           26.65000000000003,
           26.65000000000003,
           26.65000000000003,
           26.65000000000003,
           26.65000000000003,
           26.65000000000003,
           26.65000000000003,
           26.65000000000003,
           26.65000000000003,
           26.65000000000003,
           26.65000000000003,
           26.65000000000003,
           26.65000000000003,
           26.65000000000003,
           26.65000000000003,
           25.680000000000007,
           25.680000000000007,
           25.680000000000007,
           25.680000000000007,
           25.680000000000007,
           25.680000000000007,
           25.680000000000007,
           25.680000000000007,
           25.680000000000007,
           25.680000000000007,
           25.680000000000007,
           25.680000000000007,
           25.680000000000007,
           25.680000000000007,
           25.680000000000007,
           25.680000000000007,
           25.680000000000007,
           25.680000000000007,
           25.680000000000007,
           25.680000000000007,
           25.680000000000007,
           25.680000000000007,
           25.680000000000007,
           25.680000000000007,
           25.680000000000007,
           26.30000000000001,
           26.30000000000001,
           26.30000000000001,
           26.30000000000001,
           26.30000000000001,
           26.30000000000001,
           26.30000000000001,
           26.30000000000001,
           26.30000000000001,
           26.30000000000001,
           26.30000000000001,
           26.30000000000001,
           26.30000000000001,
           26.30000000000001,
           26.30000000000001,
           26.30000000000001,
           26.30000000000001,
           26.30000000000001,
           26.30000000000001,
           26.30000000000001,
           26.30000000000001,
           26.30000000000001,
           26.52000000000004,
           26.52000000000004,
           26.52000000000004,
           26.52000000000004,
           26.52000000000004,
           26.52000000000004,
           26.52000000000004,
           26.52000000000004,
           26.52000000000004,
           26.52000000000004,
           26.52000000000004,
           26.52000000000004,
           26.52000000000004,
           26.52000000000004,
           26.52000000000004,
           26.52000000000004,
           26.52000000000004,
           26.52000000000004,
           26.52000000000004,
           26.52000000000004,
           26.52000000000004,
           26.52000000000004,
           26.52000000000004,
           19.29000000000002,
           19.29000000000002,
           19.29000000000002,
           19.29000000000002,
           19.29000000000002,
           19.29000000000002,
           19.29000000000002,
           19.29000000000002,
           19.29000000000002,
           19.29000000000002,
           19.29000000000002,
           19.29000000000002,
           19.29000000000002,
           19.29000000000002,
           19.29000000000002,
           19.29000000000002,
           19.29000000000002,
           19.29000000000002,
           19.29000000000002,
           19.29000000000002,
           19.29000000000002,
           19.29000000000002,
           19.29000000000002,
           19.29000000000002,
           19.29000000000002
          ],
          "sizemode": "area",
          "sizeref": 0.06987500000000012
         },
         "mode": "markers",
         "name": "",
         "showlegend": false,
         "subplot": "mapbox",
         "type": "scattermapbox"
        }
       ],
       "layout": {
        "coloraxis": {
         "colorbar": {
          "title": {
           "text": "temperature"
          }
         },
         "colorscale": [
          [
           0,
           "#0d0887"
          ],
          [
           0.1111111111111111,
           "#46039f"
          ],
          [
           0.2222222222222222,
           "#7201a8"
          ],
          [
           0.3333333333333333,
           "#9c179e"
          ],
          [
           0.4444444444444444,
           "#bd3786"
          ],
          [
           0.5555555555555556,
           "#d8576b"
          ],
          [
           0.6666666666666666,
           "#ed7953"
          ],
          [
           0.7777777777777778,
           "#fb9f3a"
          ],
          [
           0.8888888888888888,
           "#fdca26"
          ],
          [
           1,
           "#f0f921"
          ]
         ]
        },
        "height": 500,
        "legend": {
         "itemsizing": "constant",
         "tracegroupgap": 0
        },
        "mapbox": {
         "center": {
          "lat": 45.85998,
          "lon": 0.6836914285714286
         },
         "domain": {
          "x": [
           0,
           1
          ],
          "y": [
           0,
           1
          ]
         },
         "style": "carto-positron",
         "zoom": 4
        },
        "template": {
         "data": {
          "bar": [
           {
            "error_x": {
             "color": "#2a3f5f"
            },
            "error_y": {
             "color": "#2a3f5f"
            },
            "marker": {
             "line": {
              "color": "#E5ECF6",
              "width": 0.5
             },
             "pattern": {
              "fillmode": "overlay",
              "size": 10,
              "solidity": 0.2
             }
            },
            "type": "bar"
           }
          ],
          "barpolar": [
           {
            "marker": {
             "line": {
              "color": "#E5ECF6",
              "width": 0.5
             },
             "pattern": {
              "fillmode": "overlay",
              "size": 10,
              "solidity": 0.2
             }
            },
            "type": "barpolar"
           }
          ],
          "carpet": [
           {
            "aaxis": {
             "endlinecolor": "#2a3f5f",
             "gridcolor": "white",
             "linecolor": "white",
             "minorgridcolor": "white",
             "startlinecolor": "#2a3f5f"
            },
            "baxis": {
             "endlinecolor": "#2a3f5f",
             "gridcolor": "white",
             "linecolor": "white",
             "minorgridcolor": "white",
             "startlinecolor": "#2a3f5f"
            },
            "type": "carpet"
           }
          ],
          "choropleth": [
           {
            "colorbar": {
             "outlinewidth": 0,
             "ticks": ""
            },
            "type": "choropleth"
           }
          ],
          "contour": [
           {
            "colorbar": {
             "outlinewidth": 0,
             "ticks": ""
            },
            "colorscale": [
             [
              0,
              "#0d0887"
             ],
             [
              0.1111111111111111,
              "#46039f"
             ],
             [
              0.2222222222222222,
              "#7201a8"
             ],
             [
              0.3333333333333333,
              "#9c179e"
             ],
             [
              0.4444444444444444,
              "#bd3786"
             ],
             [
              0.5555555555555556,
              "#d8576b"
             ],
             [
              0.6666666666666666,
              "#ed7953"
             ],
             [
              0.7777777777777778,
              "#fb9f3a"
             ],
             [
              0.8888888888888888,
              "#fdca26"
             ],
             [
              1,
              "#f0f921"
             ]
            ],
            "type": "contour"
           }
          ],
          "contourcarpet": [
           {
            "colorbar": {
             "outlinewidth": 0,
             "ticks": ""
            },
            "type": "contourcarpet"
           }
          ],
          "heatmap": [
           {
            "colorbar": {
             "outlinewidth": 0,
             "ticks": ""
            },
            "colorscale": [
             [
              0,
              "#0d0887"
             ],
             [
              0.1111111111111111,
              "#46039f"
             ],
             [
              0.2222222222222222,
              "#7201a8"
             ],
             [
              0.3333333333333333,
              "#9c179e"
             ],
             [
              0.4444444444444444,
              "#bd3786"
             ],
             [
              0.5555555555555556,
              "#d8576b"
             ],
             [
              0.6666666666666666,
              "#ed7953"
             ],
             [
              0.7777777777777778,
              "#fb9f3a"
             ],
             [
              0.8888888888888888,
              "#fdca26"
             ],
             [
              1,
              "#f0f921"
             ]
            ],
            "type": "heatmap"
           }
          ],
          "heatmapgl": [
           {
            "colorbar": {
             "outlinewidth": 0,
             "ticks": ""
            },
            "colorscale": [
             [
              0,
              "#0d0887"
             ],
             [
              0.1111111111111111,
              "#46039f"
             ],
             [
              0.2222222222222222,
              "#7201a8"
             ],
             [
              0.3333333333333333,
              "#9c179e"
             ],
             [
              0.4444444444444444,
              "#bd3786"
             ],
             [
              0.5555555555555556,
              "#d8576b"
             ],
             [
              0.6666666666666666,
              "#ed7953"
             ],
             [
              0.7777777777777778,
              "#fb9f3a"
             ],
             [
              0.8888888888888888,
              "#fdca26"
             ],
             [
              1,
              "#f0f921"
             ]
            ],
            "type": "heatmapgl"
           }
          ],
          "histogram": [
           {
            "marker": {
             "pattern": {
              "fillmode": "overlay",
              "size": 10,
              "solidity": 0.2
             }
            },
            "type": "histogram"
           }
          ],
          "histogram2d": [
           {
            "colorbar": {
             "outlinewidth": 0,
             "ticks": ""
            },
            "colorscale": [
             [
              0,
              "#0d0887"
             ],
             [
              0.1111111111111111,
              "#46039f"
             ],
             [
              0.2222222222222222,
              "#7201a8"
             ],
             [
              0.3333333333333333,
              "#9c179e"
             ],
             [
              0.4444444444444444,
              "#bd3786"
             ],
             [
              0.5555555555555556,
              "#d8576b"
             ],
             [
              0.6666666666666666,
              "#ed7953"
             ],
             [
              0.7777777777777778,
              "#fb9f3a"
             ],
             [
              0.8888888888888888,
              "#fdca26"
             ],
             [
              1,
              "#f0f921"
             ]
            ],
            "type": "histogram2d"
           }
          ],
          "histogram2dcontour": [
           {
            "colorbar": {
             "outlinewidth": 0,
             "ticks": ""
            },
            "colorscale": [
             [
              0,
              "#0d0887"
             ],
             [
              0.1111111111111111,
              "#46039f"
             ],
             [
              0.2222222222222222,
              "#7201a8"
             ],
             [
              0.3333333333333333,
              "#9c179e"
             ],
             [
              0.4444444444444444,
              "#bd3786"
             ],
             [
              0.5555555555555556,
              "#d8576b"
             ],
             [
              0.6666666666666666,
              "#ed7953"
             ],
             [
              0.7777777777777778,
              "#fb9f3a"
             ],
             [
              0.8888888888888888,
              "#fdca26"
             ],
             [
              1,
              "#f0f921"
             ]
            ],
            "type": "histogram2dcontour"
           }
          ],
          "mesh3d": [
           {
            "colorbar": {
             "outlinewidth": 0,
             "ticks": ""
            },
            "type": "mesh3d"
           }
          ],
          "parcoords": [
           {
            "line": {
             "colorbar": {
              "outlinewidth": 0,
              "ticks": ""
             }
            },
            "type": "parcoords"
           }
          ],
          "pie": [
           {
            "automargin": true,
            "type": "pie"
           }
          ],
          "scatter": [
           {
            "fillpattern": {
             "fillmode": "overlay",
             "size": 10,
             "solidity": 0.2
            },
            "type": "scatter"
           }
          ],
          "scatter3d": [
           {
            "line": {
             "colorbar": {
              "outlinewidth": 0,
              "ticks": ""
             }
            },
            "marker": {
             "colorbar": {
              "outlinewidth": 0,
              "ticks": ""
             }
            },
            "type": "scatter3d"
           }
          ],
          "scattercarpet": [
           {
            "marker": {
             "colorbar": {
              "outlinewidth": 0,
              "ticks": ""
             }
            },
            "type": "scattercarpet"
           }
          ],
          "scattergeo": [
           {
            "marker": {
             "colorbar": {
              "outlinewidth": 0,
              "ticks": ""
             }
            },
            "type": "scattergeo"
           }
          ],
          "scattergl": [
           {
            "marker": {
             "colorbar": {
              "outlinewidth": 0,
              "ticks": ""
             }
            },
            "type": "scattergl"
           }
          ],
          "scattermapbox": [
           {
            "marker": {
             "colorbar": {
              "outlinewidth": 0,
              "ticks": ""
             }
            },
            "type": "scattermapbox"
           }
          ],
          "scatterpolar": [
           {
            "marker": {
             "colorbar": {
              "outlinewidth": 0,
              "ticks": ""
             }
            },
            "type": "scatterpolar"
           }
          ],
          "scatterpolargl": [
           {
            "marker": {
             "colorbar": {
              "outlinewidth": 0,
              "ticks": ""
             }
            },
            "type": "scatterpolargl"
           }
          ],
          "scatterternary": [
           {
            "marker": {
             "colorbar": {
              "outlinewidth": 0,
              "ticks": ""
             }
            },
            "type": "scatterternary"
           }
          ],
          "surface": [
           {
            "colorbar": {
             "outlinewidth": 0,
             "ticks": ""
            },
            "colorscale": [
             [
              0,
              "#0d0887"
             ],
             [
              0.1111111111111111,
              "#46039f"
             ],
             [
              0.2222222222222222,
              "#7201a8"
             ],
             [
              0.3333333333333333,
              "#9c179e"
             ],
             [
              0.4444444444444444,
              "#bd3786"
             ],
             [
              0.5555555555555556,
              "#d8576b"
             ],
             [
              0.6666666666666666,
              "#ed7953"
             ],
             [
              0.7777777777777778,
              "#fb9f3a"
             ],
             [
              0.8888888888888888,
              "#fdca26"
             ],
             [
              1,
              "#f0f921"
             ]
            ],
            "type": "surface"
           }
          ],
          "table": [
           {
            "cells": {
             "fill": {
              "color": "#EBF0F8"
             },
             "line": {
              "color": "white"
             }
            },
            "header": {
             "fill": {
              "color": "#C8D4E3"
             },
             "line": {
              "color": "white"
             }
            },
            "type": "table"
           }
          ]
         },
         "layout": {
          "annotationdefaults": {
           "arrowcolor": "#2a3f5f",
           "arrowhead": 0,
           "arrowwidth": 1
          },
          "autotypenumbers": "strict",
          "coloraxis": {
           "colorbar": {
            "outlinewidth": 0,
            "ticks": ""
           }
          },
          "colorscale": {
           "diverging": [
            [
             0,
             "#8e0152"
            ],
            [
             0.1,
             "#c51b7d"
            ],
            [
             0.2,
             "#de77ae"
            ],
            [
             0.3,
             "#f1b6da"
            ],
            [
             0.4,
             "#fde0ef"
            ],
            [
             0.5,
             "#f7f7f7"
            ],
            [
             0.6,
             "#e6f5d0"
            ],
            [
             0.7,
             "#b8e186"
            ],
            [
             0.8,
             "#7fbc41"
            ],
            [
             0.9,
             "#4d9221"
            ],
            [
             1,
             "#276419"
            ]
           ],
           "sequential": [
            [
             0,
             "#0d0887"
            ],
            [
             0.1111111111111111,
             "#46039f"
            ],
            [
             0.2222222222222222,
             "#7201a8"
            ],
            [
             0.3333333333333333,
             "#9c179e"
            ],
            [
             0.4444444444444444,
             "#bd3786"
            ],
            [
             0.5555555555555556,
             "#d8576b"
            ],
            [
             0.6666666666666666,
             "#ed7953"
            ],
            [
             0.7777777777777778,
             "#fb9f3a"
            ],
            [
             0.8888888888888888,
             "#fdca26"
            ],
            [
             1,
             "#f0f921"
            ]
           ],
           "sequentialminus": [
            [
             0,
             "#0d0887"
            ],
            [
             0.1111111111111111,
             "#46039f"
            ],
            [
             0.2222222222222222,
             "#7201a8"
            ],
            [
             0.3333333333333333,
             "#9c179e"
            ],
            [
             0.4444444444444444,
             "#bd3786"
            ],
            [
             0.5555555555555556,
             "#d8576b"
            ],
            [
             0.6666666666666666,
             "#ed7953"
            ],
            [
             0.7777777777777778,
             "#fb9f3a"
            ],
            [
             0.8888888888888888,
             "#fdca26"
            ],
            [
             1,
             "#f0f921"
            ]
           ]
          },
          "colorway": [
           "#636efa",
           "#EF553B",
           "#00cc96",
           "#ab63fa",
           "#FFA15A",
           "#19d3f3",
           "#FF6692",
           "#B6E880",
           "#FF97FF",
           "#FECB52"
          ],
          "font": {
           "color": "#2a3f5f"
          },
          "geo": {
           "bgcolor": "white",
           "lakecolor": "white",
           "landcolor": "#E5ECF6",
           "showlakes": true,
           "showland": true,
           "subunitcolor": "white"
          },
          "hoverlabel": {
           "align": "left"
          },
          "hovermode": "closest",
          "mapbox": {
           "style": "light"
          },
          "paper_bgcolor": "white",
          "plot_bgcolor": "#E5ECF6",
          "polar": {
           "angularaxis": {
            "gridcolor": "white",
            "linecolor": "white",
            "ticks": ""
           },
           "bgcolor": "#E5ECF6",
           "radialaxis": {
            "gridcolor": "white",
            "linecolor": "white",
            "ticks": ""
           }
          },
          "scene": {
           "xaxis": {
            "backgroundcolor": "#E5ECF6",
            "gridcolor": "white",
            "gridwidth": 2,
            "linecolor": "white",
            "showbackground": true,
            "ticks": "",
            "zerolinecolor": "white"
           },
           "yaxis": {
            "backgroundcolor": "#E5ECF6",
            "gridcolor": "white",
            "gridwidth": 2,
            "linecolor": "white",
            "showbackground": true,
            "ticks": "",
            "zerolinecolor": "white"
           },
           "zaxis": {
            "backgroundcolor": "#E5ECF6",
            "gridcolor": "white",
            "gridwidth": 2,
            "linecolor": "white",
            "showbackground": true,
            "ticks": "",
            "zerolinecolor": "white"
           }
          },
          "shapedefaults": {
           "line": {
            "color": "#2a3f5f"
           }
          },
          "ternary": {
           "aaxis": {
            "gridcolor": "white",
            "linecolor": "white",
            "ticks": ""
           },
           "baxis": {
            "gridcolor": "white",
            "linecolor": "white",
            "ticks": ""
           },
           "bgcolor": "#E5ECF6",
           "caxis": {
            "gridcolor": "white",
            "linecolor": "white",
            "ticks": ""
           }
          },
          "title": {
           "x": 0.05
          },
          "xaxis": {
           "automargin": true,
           "gridcolor": "white",
           "linecolor": "white",
           "ticks": "",
           "title": {
            "standoff": 15
           },
           "zerolinecolor": "white",
           "zerolinewidth": 2
          },
          "yaxis": {
           "automargin": true,
           "gridcolor": "white",
           "linecolor": "white",
           "ticks": "",
           "title": {
            "standoff": 15
           },
           "zerolinecolor": "white",
           "zerolinewidth": 2
          }
         }
        },
        "title": {
         "text": "Temperature in France"
        },
        "width": 700
       }
      }
     },
     "metadata": {},
     "output_type": "display_data"
    }
   ],
   "source": [
    "fig = px.scatter_mapbox(df, lat=\"city_lat\", lon=\"city_lon\", color=\"temperature\", size=\"temperature\",hover_name=\"city\",\n",
    "                        zoom=4, mapbox_style=\"carto-positron\",title='Temperature in France')\n",
    "fig.update_layout(width=700, height=500)\n",
    "fig.show()"
   ]
  },
  {
   "cell_type": "code",
   "execution_count": 75,
   "metadata": {},
   "outputs": [
    {
     "data": {
      "application/vnd.plotly.v1+json": {
       "config": {
        "plotlyServerURL": "https://plot.ly"
       },
       "data": [
        {
         "hovertemplate": "temperature=%{marker.color}<br>city=%{text}<br>city_lat=%{lat}<br>city_lon=%{lon}<extra></extra>",
         "lat": [
          43.5662,
          43.4516,
          42.525,
          43.8374,
          43.7497
         ],
         "legendgroup": "",
         "lon": [
          4.1915,
          4.4277,
          3.0832,
          4.3601,
          6.3286
         ],
         "marker": {
          "color": [
           27.950000000000045,
           27.590000000000032,
           27.460000000000036,
           27.220000000000027,
           26.65000000000003
          ],
          "coloraxis": "coloraxis",
          "size": [
           27.950000000000045,
           27.590000000000032,
           27.460000000000036,
           27.220000000000027,
           26.65000000000003
          ],
          "sizemode": "area",
          "sizeref": 0.06987500000000012
         },
         "mode": "markers+text",
         "name": "",
         "showlegend": false,
         "subplot": "mapbox",
         "text": [
          "Aigues-Mortes",
          "Les Saintes-Maries-de-la-Mer",
          "Collioure",
          "Nîmes",
          "Gorges du Verdon"
         ],
         "textfont": {
          "size": 8.5
         },
         "textposition": "top center",
         "type": "scattermapbox"
        }
       ],
       "layout": {
        "coloraxis": {
         "colorbar": {
          "title": {
           "text": "temperature"
          }
         },
         "colorscale": [
          [
           0,
           "#0d0887"
          ],
          [
           0.1111111111111111,
           "#46039f"
          ],
          [
           0.2222222222222222,
           "#7201a8"
          ],
          [
           0.3333333333333333,
           "#9c179e"
          ],
          [
           0.4444444444444444,
           "#bd3786"
          ],
          [
           0.5555555555555556,
           "#d8576b"
          ],
          [
           0.6666666666666666,
           "#ed7953"
          ],
          [
           0.7777777777777778,
           "#fb9f3a"
          ],
          [
           0.8888888888888888,
           "#fdca26"
          ],
          [
           1,
           "#f0f921"
          ]
         ]
        },
        "height": 500,
        "legend": {
         "itemsizing": "constant",
         "tracegroupgap": 0
        },
        "mapbox": {
         "center": {
          "lat": 43.425979999999996,
          "lon": 4.47822
         },
         "domain": {
          "x": [
           0,
           1
          ],
          "y": [
           0,
           1
          ]
         },
         "style": "carto-positron",
         "zoom": 6
        },
        "template": {
         "data": {
          "bar": [
           {
            "error_x": {
             "color": "#2a3f5f"
            },
            "error_y": {
             "color": "#2a3f5f"
            },
            "marker": {
             "line": {
              "color": "#E5ECF6",
              "width": 0.5
             },
             "pattern": {
              "fillmode": "overlay",
              "size": 10,
              "solidity": 0.2
             }
            },
            "type": "bar"
           }
          ],
          "barpolar": [
           {
            "marker": {
             "line": {
              "color": "#E5ECF6",
              "width": 0.5
             },
             "pattern": {
              "fillmode": "overlay",
              "size": 10,
              "solidity": 0.2
             }
            },
            "type": "barpolar"
           }
          ],
          "carpet": [
           {
            "aaxis": {
             "endlinecolor": "#2a3f5f",
             "gridcolor": "white",
             "linecolor": "white",
             "minorgridcolor": "white",
             "startlinecolor": "#2a3f5f"
            },
            "baxis": {
             "endlinecolor": "#2a3f5f",
             "gridcolor": "white",
             "linecolor": "white",
             "minorgridcolor": "white",
             "startlinecolor": "#2a3f5f"
            },
            "type": "carpet"
           }
          ],
          "choropleth": [
           {
            "colorbar": {
             "outlinewidth": 0,
             "ticks": ""
            },
            "type": "choropleth"
           }
          ],
          "contour": [
           {
            "colorbar": {
             "outlinewidth": 0,
             "ticks": ""
            },
            "colorscale": [
             [
              0,
              "#0d0887"
             ],
             [
              0.1111111111111111,
              "#46039f"
             ],
             [
              0.2222222222222222,
              "#7201a8"
             ],
             [
              0.3333333333333333,
              "#9c179e"
             ],
             [
              0.4444444444444444,
              "#bd3786"
             ],
             [
              0.5555555555555556,
              "#d8576b"
             ],
             [
              0.6666666666666666,
              "#ed7953"
             ],
             [
              0.7777777777777778,
              "#fb9f3a"
             ],
             [
              0.8888888888888888,
              "#fdca26"
             ],
             [
              1,
              "#f0f921"
             ]
            ],
            "type": "contour"
           }
          ],
          "contourcarpet": [
           {
            "colorbar": {
             "outlinewidth": 0,
             "ticks": ""
            },
            "type": "contourcarpet"
           }
          ],
          "heatmap": [
           {
            "colorbar": {
             "outlinewidth": 0,
             "ticks": ""
            },
            "colorscale": [
             [
              0,
              "#0d0887"
             ],
             [
              0.1111111111111111,
              "#46039f"
             ],
             [
              0.2222222222222222,
              "#7201a8"
             ],
             [
              0.3333333333333333,
              "#9c179e"
             ],
             [
              0.4444444444444444,
              "#bd3786"
             ],
             [
              0.5555555555555556,
              "#d8576b"
             ],
             [
              0.6666666666666666,
              "#ed7953"
             ],
             [
              0.7777777777777778,
              "#fb9f3a"
             ],
             [
              0.8888888888888888,
              "#fdca26"
             ],
             [
              1,
              "#f0f921"
             ]
            ],
            "type": "heatmap"
           }
          ],
          "heatmapgl": [
           {
            "colorbar": {
             "outlinewidth": 0,
             "ticks": ""
            },
            "colorscale": [
             [
              0,
              "#0d0887"
             ],
             [
              0.1111111111111111,
              "#46039f"
             ],
             [
              0.2222222222222222,
              "#7201a8"
             ],
             [
              0.3333333333333333,
              "#9c179e"
             ],
             [
              0.4444444444444444,
              "#bd3786"
             ],
             [
              0.5555555555555556,
              "#d8576b"
             ],
             [
              0.6666666666666666,
              "#ed7953"
             ],
             [
              0.7777777777777778,
              "#fb9f3a"
             ],
             [
              0.8888888888888888,
              "#fdca26"
             ],
             [
              1,
              "#f0f921"
             ]
            ],
            "type": "heatmapgl"
           }
          ],
          "histogram": [
           {
            "marker": {
             "pattern": {
              "fillmode": "overlay",
              "size": 10,
              "solidity": 0.2
             }
            },
            "type": "histogram"
           }
          ],
          "histogram2d": [
           {
            "colorbar": {
             "outlinewidth": 0,
             "ticks": ""
            },
            "colorscale": [
             [
              0,
              "#0d0887"
             ],
             [
              0.1111111111111111,
              "#46039f"
             ],
             [
              0.2222222222222222,
              "#7201a8"
             ],
             [
              0.3333333333333333,
              "#9c179e"
             ],
             [
              0.4444444444444444,
              "#bd3786"
             ],
             [
              0.5555555555555556,
              "#d8576b"
             ],
             [
              0.6666666666666666,
              "#ed7953"
             ],
             [
              0.7777777777777778,
              "#fb9f3a"
             ],
             [
              0.8888888888888888,
              "#fdca26"
             ],
             [
              1,
              "#f0f921"
             ]
            ],
            "type": "histogram2d"
           }
          ],
          "histogram2dcontour": [
           {
            "colorbar": {
             "outlinewidth": 0,
             "ticks": ""
            },
            "colorscale": [
             [
              0,
              "#0d0887"
             ],
             [
              0.1111111111111111,
              "#46039f"
             ],
             [
              0.2222222222222222,
              "#7201a8"
             ],
             [
              0.3333333333333333,
              "#9c179e"
             ],
             [
              0.4444444444444444,
              "#bd3786"
             ],
             [
              0.5555555555555556,
              "#d8576b"
             ],
             [
              0.6666666666666666,
              "#ed7953"
             ],
             [
              0.7777777777777778,
              "#fb9f3a"
             ],
             [
              0.8888888888888888,
              "#fdca26"
             ],
             [
              1,
              "#f0f921"
             ]
            ],
            "type": "histogram2dcontour"
           }
          ],
          "mesh3d": [
           {
            "colorbar": {
             "outlinewidth": 0,
             "ticks": ""
            },
            "type": "mesh3d"
           }
          ],
          "parcoords": [
           {
            "line": {
             "colorbar": {
              "outlinewidth": 0,
              "ticks": ""
             }
            },
            "type": "parcoords"
           }
          ],
          "pie": [
           {
            "automargin": true,
            "type": "pie"
           }
          ],
          "scatter": [
           {
            "fillpattern": {
             "fillmode": "overlay",
             "size": 10,
             "solidity": 0.2
            },
            "type": "scatter"
           }
          ],
          "scatter3d": [
           {
            "line": {
             "colorbar": {
              "outlinewidth": 0,
              "ticks": ""
             }
            },
            "marker": {
             "colorbar": {
              "outlinewidth": 0,
              "ticks": ""
             }
            },
            "type": "scatter3d"
           }
          ],
          "scattercarpet": [
           {
            "marker": {
             "colorbar": {
              "outlinewidth": 0,
              "ticks": ""
             }
            },
            "type": "scattercarpet"
           }
          ],
          "scattergeo": [
           {
            "marker": {
             "colorbar": {
              "outlinewidth": 0,
              "ticks": ""
             }
            },
            "type": "scattergeo"
           }
          ],
          "scattergl": [
           {
            "marker": {
             "colorbar": {
              "outlinewidth": 0,
              "ticks": ""
             }
            },
            "type": "scattergl"
           }
          ],
          "scattermapbox": [
           {
            "marker": {
             "colorbar": {
              "outlinewidth": 0,
              "ticks": ""
             }
            },
            "type": "scattermapbox"
           }
          ],
          "scatterpolar": [
           {
            "marker": {
             "colorbar": {
              "outlinewidth": 0,
              "ticks": ""
             }
            },
            "type": "scatterpolar"
           }
          ],
          "scatterpolargl": [
           {
            "marker": {
             "colorbar": {
              "outlinewidth": 0,
              "ticks": ""
             }
            },
            "type": "scatterpolargl"
           }
          ],
          "scatterternary": [
           {
            "marker": {
             "colorbar": {
              "outlinewidth": 0,
              "ticks": ""
             }
            },
            "type": "scatterternary"
           }
          ],
          "surface": [
           {
            "colorbar": {
             "outlinewidth": 0,
             "ticks": ""
            },
            "colorscale": [
             [
              0,
              "#0d0887"
             ],
             [
              0.1111111111111111,
              "#46039f"
             ],
             [
              0.2222222222222222,
              "#7201a8"
             ],
             [
              0.3333333333333333,
              "#9c179e"
             ],
             [
              0.4444444444444444,
              "#bd3786"
             ],
             [
              0.5555555555555556,
              "#d8576b"
             ],
             [
              0.6666666666666666,
              "#ed7953"
             ],
             [
              0.7777777777777778,
              "#fb9f3a"
             ],
             [
              0.8888888888888888,
              "#fdca26"
             ],
             [
              1,
              "#f0f921"
             ]
            ],
            "type": "surface"
           }
          ],
          "table": [
           {
            "cells": {
             "fill": {
              "color": "#EBF0F8"
             },
             "line": {
              "color": "white"
             }
            },
            "header": {
             "fill": {
              "color": "#C8D4E3"
             },
             "line": {
              "color": "white"
             }
            },
            "type": "table"
           }
          ]
         },
         "layout": {
          "annotationdefaults": {
           "arrowcolor": "#2a3f5f",
           "arrowhead": 0,
           "arrowwidth": 1
          },
          "autotypenumbers": "strict",
          "coloraxis": {
           "colorbar": {
            "outlinewidth": 0,
            "ticks": ""
           }
          },
          "colorscale": {
           "diverging": [
            [
             0,
             "#8e0152"
            ],
            [
             0.1,
             "#c51b7d"
            ],
            [
             0.2,
             "#de77ae"
            ],
            [
             0.3,
             "#f1b6da"
            ],
            [
             0.4,
             "#fde0ef"
            ],
            [
             0.5,
             "#f7f7f7"
            ],
            [
             0.6,
             "#e6f5d0"
            ],
            [
             0.7,
             "#b8e186"
            ],
            [
             0.8,
             "#7fbc41"
            ],
            [
             0.9,
             "#4d9221"
            ],
            [
             1,
             "#276419"
            ]
           ],
           "sequential": [
            [
             0,
             "#0d0887"
            ],
            [
             0.1111111111111111,
             "#46039f"
            ],
            [
             0.2222222222222222,
             "#7201a8"
            ],
            [
             0.3333333333333333,
             "#9c179e"
            ],
            [
             0.4444444444444444,
             "#bd3786"
            ],
            [
             0.5555555555555556,
             "#d8576b"
            ],
            [
             0.6666666666666666,
             "#ed7953"
            ],
            [
             0.7777777777777778,
             "#fb9f3a"
            ],
            [
             0.8888888888888888,
             "#fdca26"
            ],
            [
             1,
             "#f0f921"
            ]
           ],
           "sequentialminus": [
            [
             0,
             "#0d0887"
            ],
            [
             0.1111111111111111,
             "#46039f"
            ],
            [
             0.2222222222222222,
             "#7201a8"
            ],
            [
             0.3333333333333333,
             "#9c179e"
            ],
            [
             0.4444444444444444,
             "#bd3786"
            ],
            [
             0.5555555555555556,
             "#d8576b"
            ],
            [
             0.6666666666666666,
             "#ed7953"
            ],
            [
             0.7777777777777778,
             "#fb9f3a"
            ],
            [
             0.8888888888888888,
             "#fdca26"
            ],
            [
             1,
             "#f0f921"
            ]
           ]
          },
          "colorway": [
           "#636efa",
           "#EF553B",
           "#00cc96",
           "#ab63fa",
           "#FFA15A",
           "#19d3f3",
           "#FF6692",
           "#B6E880",
           "#FF97FF",
           "#FECB52"
          ],
          "font": {
           "color": "#2a3f5f"
          },
          "geo": {
           "bgcolor": "white",
           "lakecolor": "white",
           "landcolor": "#E5ECF6",
           "showlakes": true,
           "showland": true,
           "subunitcolor": "white"
          },
          "hoverlabel": {
           "align": "left"
          },
          "hovermode": "closest",
          "mapbox": {
           "style": "light"
          },
          "paper_bgcolor": "white",
          "plot_bgcolor": "#E5ECF6",
          "polar": {
           "angularaxis": {
            "gridcolor": "white",
            "linecolor": "white",
            "ticks": ""
           },
           "bgcolor": "#E5ECF6",
           "radialaxis": {
            "gridcolor": "white",
            "linecolor": "white",
            "ticks": ""
           }
          },
          "scene": {
           "xaxis": {
            "backgroundcolor": "#E5ECF6",
            "gridcolor": "white",
            "gridwidth": 2,
            "linecolor": "white",
            "showbackground": true,
            "ticks": "",
            "zerolinecolor": "white"
           },
           "yaxis": {
            "backgroundcolor": "#E5ECF6",
            "gridcolor": "white",
            "gridwidth": 2,
            "linecolor": "white",
            "showbackground": true,
            "ticks": "",
            "zerolinecolor": "white"
           },
           "zaxis": {
            "backgroundcolor": "#E5ECF6",
            "gridcolor": "white",
            "gridwidth": 2,
            "linecolor": "white",
            "showbackground": true,
            "ticks": "",
            "zerolinecolor": "white"
           }
          },
          "shapedefaults": {
           "line": {
            "color": "#2a3f5f"
           }
          },
          "ternary": {
           "aaxis": {
            "gridcolor": "white",
            "linecolor": "white",
            "ticks": ""
           },
           "baxis": {
            "gridcolor": "white",
            "linecolor": "white",
            "ticks": ""
           },
           "bgcolor": "#E5ECF6",
           "caxis": {
            "gridcolor": "white",
            "linecolor": "white",
            "ticks": ""
           }
          },
          "title": {
           "x": 0.05
          },
          "xaxis": {
           "automargin": true,
           "gridcolor": "white",
           "linecolor": "white",
           "ticks": "",
           "title": {
            "standoff": 15
           },
           "zerolinecolor": "white",
           "zerolinewidth": 2
          },
          "yaxis": {
           "automargin": true,
           "gridcolor": "white",
           "linecolor": "white",
           "ticks": "",
           "title": {
            "standoff": 15
           },
           "zerolinecolor": "white",
           "zerolinewidth": 2
          }
         }
        },
        "title": {
         "text": "Top cities in France this week by temperature and lowest chance of precipitation"
        },
        "width": 800
       }
      }
     },
     "metadata": {},
     "output_type": "display_data"
    }
   ],
   "source": [
    "fig = px.scatter_mapbox(df_top_cities, lat=\"city_lat\", lon=\"city_lon\", color=\"temperature\",size=\"temperature\", text=\"city\",\n",
    "                        zoom=6, mapbox_style=\"carto-positron\",title='Top cities in France this week by temperature and lowest chance of precipitation')\n",
    "\n",
    "fig.update_layout(width=800, height=500)\n",
    "fig.update_traces(textposition='top center', textfont=dict(size=8.5))  # Reduce font size so that all the city names are displayed\n",
    "\n",
    "fig.show()"
   ]
  },
  {
   "cell_type": "code",
   "execution_count": 77,
   "metadata": {},
   "outputs": [
    {
     "data": {
      "application/vnd.plotly.v1+json": {
       "config": {
        "plotlyServerURL": "https://plot.ly"
       },
       "data": [
        {
         "hovertemplate": "city_lat=%{lat}<br>city_lon=%{lon}<br>POP_1=%{marker.color}<extra></extra>",
         "lat": [
          48.8589,
          48.8589,
          48.8589,
          48.8589,
          48.8589,
          48.8589,
          49.4405,
          49.4405,
          47.238,
          47.238,
          48.0448,
          47.238,
          49.4405,
          47.238,
          48.5846,
          43.7497,
          45.7578,
          45.7578,
          45.7578,
          45.7578,
          45.7578,
          45.7578,
          45.7578,
          45.7578,
          45.7578,
          45.7578,
          45.7578,
          45.7578,
          45.7578,
          45.7578,
          45.7578,
          45.7578,
          45.7578,
          45.7578,
          45.7578,
          45.7578,
          45.7578,
          45.7578,
          45.7578,
          45.7578,
          45.7578,
          43.7497,
          43.7497,
          43.7497,
          43.7497,
          43.7497,
          43.7497,
          43.7497,
          43.7497,
          43.7497,
          43.7497,
          43.7497,
          43.7497,
          43.7497,
          43.7497,
          43.7497,
          43.7497,
          43.7497,
          43.7497,
          43.7497,
          43.7497,
          43.7497,
          43.7497,
          43.7497,
          48.5846,
          48.5846,
          43.7497,
          48.5846,
          48.5846,
          48.5846,
          48.5846,
          48.5846,
          48.5846,
          48.5846,
          48.5846,
          48.5846,
          48.5846,
          48.5846,
          48.5846,
          48.5846,
          48.5846,
          48.5846,
          48.5846,
          48.5846,
          48.5846,
          48.5846,
          48.5846,
          48.5846,
          48.5846,
          45.1876,
          45.1876,
          45.1876,
          45.1876,
          45.1876,
          45.1876,
          45.1876,
          45.1876,
          45.1876,
          45.1876,
          45.1876,
          45.1876,
          45.1876,
          45.1876,
          45.1876,
          45.1876,
          45.1876,
          45.1876,
          45.1876,
          45.1876,
          45.1876,
          45.1876,
          45.1876,
          45.1876,
          47.3216,
          47.3216,
          47.3216,
          47.3216,
          47.3216,
          47.3216,
          47.3216,
          47.3216,
          47.3216,
          47.3216,
          47.3216,
          47.3216,
          47.3216,
          47.3216,
          47.3216,
          47.3216,
          47.3216,
          47.3216,
          47.3216,
          47.3216,
          47.3216,
          47.3216,
          47.3216,
          47.3216,
          45.1876,
          48.0448,
          48.0448,
          48.0448,
          47.3216,
          48.0448,
          48.0448,
          48.0448,
          48.0448,
          48.0448,
          48.0448,
          48.0448,
          48.0448,
          48.0448,
          48.0448,
          48.0448,
          48.0448,
          48.0448,
          48.0448,
          48.0448,
          48.0448,
          48.0448,
          48.0448,
          48.0448,
          48.0448,
          47.238,
          48.0448,
          47.238,
          47.238,
          47.238,
          47.238,
          47.238,
          47.238,
          47.238,
          47.238,
          47.238,
          47.238,
          47.238,
          47.238,
          47.238,
          47.238,
          47.238,
          47.238,
          47.238,
          47.238,
          47.238,
          45.8992,
          47.238,
          45.8992,
          45.8992,
          45.8992,
          45.8992,
          45.8992,
          45.8992,
          45.8992,
          45.8992,
          45.8992,
          45.8992,
          45.8992,
          45.8992,
          45.8992,
          45.8992,
          45.8992,
          45.8992,
          45.8992,
          45.8992,
          45.8992,
          45.8992,
          45.8992,
          45.8992,
          45.8992,
          48.2494,
          48.2494,
          48.2494,
          48.2494,
          48.2494,
          48.2494,
          48.2494,
          48.2494,
          48.2494,
          48.2494,
          48.2494,
          48.2494,
          48.2494,
          48.2494,
          48.2494,
          48.2494,
          48.2494,
          48.2494,
          48.2494,
          48.2494,
          48.2494,
          48.2494,
          48.2494,
          48.2494,
          45.8992,
          48.2494,
          48.0778,
          48.0778,
          48.0778,
          48.0778,
          48.0778,
          48.0778,
          48.0778,
          48.0778,
          48.0778,
          48.0778,
          48.0778,
          48.0778,
          48.0778,
          48.0778,
          48.0778,
          48.0778,
          48.0778,
          48.0778,
          48.0778,
          48.0778,
          48.0778,
          48.0778,
          48.0778,
          48.0778,
          48.0778,
          49.4405,
          49.4405,
          49.4405,
          49.4405,
          49.4405,
          49.4405,
          49.4405,
          49.4405,
          49.4405,
          49.4405,
          49.4405,
          49.4405,
          49.4405,
          49.4405,
          49.4405,
          49.4405,
          49.4405,
          49.4405,
          49.4405,
          49.4939,
          49.4405,
          49.4405,
          49.4939,
          49.4405,
          49.4939,
          49.4939,
          49.4939,
          49.4939,
          49.4939,
          49.4939,
          49.4939,
          49.4939,
          49.4939,
          49.4939,
          49.4939,
          49.4939,
          49.4939,
          49.4939,
          49.4939,
          49.4939,
          49.4939,
          49.4939,
          49.4939,
          49.4939,
          49.4939,
          49.4939,
          48.8589,
          48.8589,
          48.8589,
          48.8589,
          48.8589,
          48.8589,
          48.8589,
          48.8589,
          48.8589,
          48.8589,
          48.8589,
          48.8589,
          48.8589,
          48.8589,
          48.8589,
          48.8589,
          48.8589,
          48.8589,
          48.636,
          48.636,
          48.636,
          48.636,
          48.636,
          48.636,
          48.636,
          48.636,
          48.636,
          48.636,
          48.636,
          48.636,
          48.636,
          48.636,
          48.636,
          48.636,
          48.636,
          48.636,
          48.636,
          48.636,
          48.636,
          48.636,
          48.636,
          48.636,
          48.8589,
          49.4939,
          49.3147,
          48.636,
          49.3147,
          49.3147,
          49.3147,
          49.3147,
          49.3147,
          49.3147,
          49.3147,
          49.3147,
          49.3147,
          49.3147,
          49.3147,
          49.3147,
          49.3147,
          49.3147,
          49.3147,
          49.3147,
          49.3147,
          49.3147,
          49.3147,
          49.3147,
          49.3147,
          49.3147,
          49.8942,
          49.3147,
          49.8942,
          49.8942,
          49.8942,
          49.8942,
          49.8942,
          49.8942,
          49.8942,
          49.8942,
          49.8942,
          49.8942,
          49.8942,
          49.8942,
          49.8942,
          49.8942,
          49.8942,
          49.8942,
          49.8942,
          49.8942,
          49.8942,
          49.8942,
          49.8942,
          49.8942,
          49.8942,
          49.3147,
          49.8942,
          50.6366,
          50.6366,
          50.6366,
          50.6366,
          50.6366,
          50.6366,
          50.6366,
          50.6366,
          50.6366,
          50.6366,
          50.6366,
          50.6366,
          50.6366,
          50.6366,
          50.6366,
          50.6366,
          50.6366,
          50.6366,
          50.6366,
          50.6366,
          50.6366,
          50.6366,
          50.6366,
          50.6366,
          49.2765,
          49.2765,
          50.6366,
          49.2765,
          49.2765,
          49.2765,
          49.2765,
          49.2765,
          49.2765,
          49.2765,
          49.2765,
          49.2765,
          49.2765,
          49.2765,
          49.2765,
          49.2765,
          49.2765,
          49.2765,
          49.2765,
          49.2765,
          49.2765,
          49.2765,
          49.2765,
          49.2765,
          49.2765,
          49.2765,
          43.1507,
          43.1507,
          43.214,
          43.214,
          43.214,
          43.5298,
          43.5298,
          43.5298,
          43.4516,
          42.9455,
          42.525,
          42.525,
          43.5662,
          42.9455,
          43.6045,
          44.0176,
          43.213,
          44.0176,
          44.0176,
          44.0176,
          44.0176,
          44.0176,
          44.0176,
          44.0176,
          44.0176,
          44.0176,
          44.0176,
          44.0176,
          44.0176,
          44.0176,
          44.0176,
          44.0176,
          44.0176,
          44.0176,
          44.0176,
          44.0176,
          44.0176,
          44.0176,
          44.0176,
          44.0176,
          43.4711,
          44.0176,
          43.4711,
          43.4711,
          43.4711,
          43.4711,
          43.4711,
          43.4711,
          43.4711,
          43.4711,
          43.4711,
          43.4711,
          43.4711,
          43.4711,
          43.4711,
          43.4711,
          43.4711,
          43.4711,
          43.4711,
          43.4711,
          43.4711,
          43.4711,
          43.4711,
          43.4711,
          43.4711,
          43.4711,
          43.6045,
          43.6045,
          43.6045,
          43.6045,
          43.6045,
          43.6045,
          43.6045,
          43.6045,
          43.6045,
          43.6045,
          43.6045,
          43.6045,
          43.6045,
          43.6045,
          43.6045,
          43.6045,
          43.6045,
          43.6045,
          43.6045,
          43.6045,
          43.6045,
          43.6045,
          43.6045,
          43.4945,
          43.6045,
          43.4945,
          43.4945,
          43.4945,
          43.4945,
          43.4945,
          43.4945,
          43.4945,
          43.4945,
          43.4945,
          43.4945,
          43.4945,
          43.4945,
          43.4945,
          43.4945,
          43.4945,
          43.4945,
          43.4945,
          43.4945,
          43.4945,
          43.4945,
          43.4945,
          43.4945,
          43.4945,
          43.4945,
          43.213,
          43.213,
          43.213,
          43.213,
          43.213,
          43.213,
          43.213,
          43.213,
          43.213,
          43.213,
          43.213,
          43.213,
          43.213,
          43.213,
          43.213,
          43.213,
          43.213,
          43.213,
          43.213,
          43.213,
          43.213,
          43.213,
          43.213,
          43.213,
          42.9455,
          42.9455,
          42.9455,
          42.9455,
          42.9455,
          42.9455,
          42.9455,
          42.9455,
          42.9455,
          42.9455,
          42.9455,
          42.9455,
          42.9455,
          42.9455,
          42.9455,
          42.9455,
          42.9455,
          42.9455,
          42.9455,
          42.9455,
          42.9455,
          42.9455,
          42.9455,
          42.525,
          42.525,
          42.525,
          42.525,
          42.525,
          42.525,
          42.525,
          42.525,
          42.525,
          42.525,
          42.525,
          42.525,
          42.525,
          42.525,
          42.525,
          42.525,
          42.525,
          42.525,
          42.525,
          42.525,
          42.525,
          42.525,
          43.5662,
          42.525,
          43.5662,
          43.5662,
          43.5662,
          43.5662,
          43.5662,
          43.5662,
          43.5662,
          43.5662,
          43.5662,
          43.5662,
          43.5662,
          43.5662,
          43.5662,
          43.5662,
          43.5662,
          43.5662,
          43.5662,
          43.5662,
          43.5662,
          43.5662,
          43.5662,
          43.5662,
          43.9492,
          43.9492,
          43.9492,
          43.9492,
          43.9492,
          43.9492,
          43.9492,
          43.9492,
          43.9492,
          43.9492,
          43.9492,
          43.9492,
          43.9492,
          43.9492,
          43.9492,
          43.9492,
          43.9492,
          43.9492,
          43.9492,
          43.9492,
          43.9492,
          43.9492,
          43.9492,
          43.9492,
          43.4516,
          43.4516,
          43.4516,
          43.4516,
          43.4516,
          43.4516,
          43.4516,
          43.4516,
          43.4516,
          43.4516,
          43.4516,
          43.4516,
          43.4516,
          43.4516,
          43.4516,
          43.4516,
          43.4516,
          43.4516,
          43.4516,
          43.4516,
          43.4516,
          43.4516,
          43.4516,
          43.5662,
          43.9492,
          43.8374,
          43.8374,
          43.8374,
          43.8374,
          43.8374,
          43.8374,
          43.8374,
          43.8374,
          43.8374,
          43.8374,
          43.8374,
          43.8374,
          43.8374,
          43.8374,
          43.8374,
          43.8374,
          43.8374,
          43.8374,
          43.8374,
          43.8374,
          43.8374,
          43.8374,
          43.8374,
          43.4516,
          43.8374,
          43.5298,
          43.8374,
          43.5298,
          43.5298,
          43.5298,
          43.5298,
          43.5298,
          43.5298,
          43.5298,
          43.5298,
          43.5298,
          43.5298,
          43.5298,
          43.5298,
          43.5298,
          43.5298,
          43.5298,
          43.5298,
          43.5298,
          43.5298,
          43.5298,
          43.5298,
          43.2962,
          43.2962,
          43.2962,
          43.5298,
          43.2962,
          43.2962,
          43.2962,
          43.2962,
          43.2962,
          43.2962,
          43.2962,
          43.2962,
          43.2962,
          43.2962,
          43.2962,
          43.2962,
          43.2962,
          43.2962,
          43.2962,
          43.2962,
          43.2962,
          43.2962,
          43.2962,
          43.2962,
          43.2962,
          43.2962,
          44.0121,
          44.0121,
          44.0121,
          44.0121,
          44.0121,
          44.0121,
          44.0121,
          44.0121,
          44.0121,
          44.0121,
          44.0121,
          44.0121,
          44.0121,
          44.0121,
          44.0121,
          44.0121,
          44.0121,
          44.0121,
          44.0121,
          44.0121,
          44.0121,
          44.0121,
          44.0121,
          44.0121,
          44.0121,
          43.214,
          43.214,
          43.214,
          43.214,
          43.214,
          43.214,
          43.214,
          43.214,
          43.214,
          43.214,
          43.214,
          43.214,
          43.214,
          43.214,
          43.214,
          43.214,
          43.214,
          43.214,
          43.214,
          43.214,
          43.214,
          43.214,
          43.1507,
          43.1507,
          43.1507,
          43.1507,
          43.1507,
          43.1507,
          43.1507,
          43.1507,
          43.1507,
          43.1507,
          43.1507,
          43.1507,
          43.1507,
          43.1507,
          43.1507,
          43.1507,
          43.1507,
          43.1507,
          43.1507,
          43.1507,
          43.1507,
          43.1507,
          43.1507,
          46.1591,
          46.1591,
          46.1591,
          46.1591,
          46.1591,
          46.1591,
          46.1591,
          46.1591,
          46.1591,
          46.1591,
          46.1591,
          46.1591,
          46.1591,
          46.1591,
          46.1591,
          46.1591,
          46.1591,
          46.1591,
          46.1591,
          46.1591,
          46.1591,
          46.1591,
          46.1591,
          46.1591,
          46.1591
         ],
         "legendgroup": "",
         "lon": [
          2.32,
          2.32,
          2.32,
          2.32,
          2.32,
          2.32,
          1.094,
          1.094,
          6.0244,
          6.0244,
          7.308,
          6.0244,
          1.094,
          6.0244,
          7.7507,
          6.3286,
          4.832,
          4.832,
          4.832,
          4.832,
          4.832,
          4.832,
          4.832,
          4.832,
          4.832,
          4.832,
          4.832,
          4.832,
          4.832,
          4.832,
          4.832,
          4.832,
          4.832,
          4.832,
          4.832,
          4.832,
          4.832,
          4.832,
          4.832,
          4.832,
          4.832,
          6.3286,
          6.3286,
          6.3286,
          6.3286,
          6.3286,
          6.3286,
          6.3286,
          6.3286,
          6.3286,
          6.3286,
          6.3286,
          6.3286,
          6.3286,
          6.3286,
          6.3286,
          6.3286,
          6.3286,
          6.3286,
          6.3286,
          6.3286,
          6.3286,
          6.3286,
          6.3286,
          7.7507,
          7.7507,
          6.3286,
          7.7507,
          7.7507,
          7.7507,
          7.7507,
          7.7507,
          7.7507,
          7.7507,
          7.7507,
          7.7507,
          7.7507,
          7.7507,
          7.7507,
          7.7507,
          7.7507,
          7.7507,
          7.7507,
          7.7507,
          7.7507,
          7.7507,
          7.7507,
          7.7507,
          7.7507,
          5.7358,
          5.7358,
          5.7358,
          5.7358,
          5.7358,
          5.7358,
          5.7358,
          5.7358,
          5.7358,
          5.7358,
          5.7358,
          5.7358,
          5.7358,
          5.7358,
          5.7358,
          5.7358,
          5.7358,
          5.7358,
          5.7358,
          5.7358,
          5.7358,
          5.7358,
          5.7358,
          5.7358,
          5.0415,
          5.0415,
          5.0415,
          5.0415,
          5.0415,
          5.0415,
          5.0415,
          5.0415,
          5.0415,
          5.0415,
          5.0415,
          5.0415,
          5.0415,
          5.0415,
          5.0415,
          5.0415,
          5.0415,
          5.0415,
          5.0415,
          5.0415,
          5.0415,
          5.0415,
          5.0415,
          5.0415,
          5.7358,
          7.308,
          7.308,
          7.308,
          5.0415,
          7.308,
          7.308,
          7.308,
          7.308,
          7.308,
          7.308,
          7.308,
          7.308,
          7.308,
          7.308,
          7.308,
          7.308,
          7.308,
          7.308,
          7.308,
          7.308,
          7.308,
          7.308,
          7.308,
          7.308,
          6.0244,
          7.308,
          6.0244,
          6.0244,
          6.0244,
          6.0244,
          6.0244,
          6.0244,
          6.0244,
          6.0244,
          6.0244,
          6.0244,
          6.0244,
          6.0244,
          6.0244,
          6.0244,
          6.0244,
          6.0244,
          6.0244,
          6.0244,
          6.0244,
          6.1289,
          6.0244,
          6.1289,
          6.1289,
          6.1289,
          6.1289,
          6.1289,
          6.1289,
          6.1289,
          6.1289,
          6.1289,
          6.1289,
          6.1289,
          6.1289,
          6.1289,
          6.1289,
          6.1289,
          6.1289,
          6.1289,
          6.1289,
          6.1289,
          6.1289,
          6.1289,
          6.1289,
          6.1289,
          7.3443,
          7.3443,
          7.3443,
          7.3443,
          7.3443,
          7.3443,
          7.3443,
          7.3443,
          7.3443,
          7.3443,
          7.3443,
          7.3443,
          7.3443,
          7.3443,
          7.3443,
          7.3443,
          7.3443,
          7.3443,
          7.3443,
          7.3443,
          7.3443,
          7.3443,
          7.3443,
          7.3443,
          6.1289,
          7.3443,
          7.358,
          7.358,
          7.358,
          7.358,
          7.358,
          7.358,
          7.358,
          7.358,
          7.358,
          7.358,
          7.358,
          7.358,
          7.358,
          7.358,
          7.358,
          7.358,
          7.358,
          7.358,
          7.358,
          7.358,
          7.358,
          7.358,
          7.358,
          7.358,
          7.358,
          1.094,
          1.094,
          1.094,
          1.094,
          1.094,
          1.094,
          1.094,
          1.094,
          1.094,
          1.094,
          1.094,
          1.094,
          1.094,
          1.094,
          1.094,
          1.094,
          1.094,
          1.094,
          1.094,
          0.108,
          1.094,
          1.094,
          0.108,
          1.094,
          0.108,
          0.108,
          0.108,
          0.108,
          0.108,
          0.108,
          0.108,
          0.108,
          0.108,
          0.108,
          0.108,
          0.108,
          0.108,
          0.108,
          0.108,
          0.108,
          0.108,
          0.108,
          0.108,
          0.108,
          0.108,
          0.108,
          2.32,
          2.32,
          2.32,
          2.32,
          2.32,
          2.32,
          2.32,
          2.32,
          2.32,
          2.32,
          2.32,
          2.32,
          2.32,
          2.32,
          2.32,
          2.32,
          2.32,
          2.32,
          -1.5115,
          -1.5115,
          -1.5115,
          -1.5115,
          -1.5115,
          -1.5115,
          -1.5115,
          -1.5115,
          -1.5115,
          -1.5115,
          -1.5115,
          -1.5115,
          -1.5115,
          -1.5115,
          -1.5115,
          -1.5115,
          -1.5115,
          -1.5115,
          -1.5115,
          -1.5115,
          -1.5115,
          -1.5115,
          -1.5115,
          -1.5115,
          2.32,
          0.108,
          -96.9538,
          -1.5115,
          -96.9538,
          -96.9538,
          -96.9538,
          -96.9538,
          -96.9538,
          -96.9538,
          -96.9538,
          -96.9538,
          -96.9538,
          -96.9538,
          -96.9538,
          -96.9538,
          -96.9538,
          -96.9538,
          -96.9538,
          -96.9538,
          -96.9538,
          -96.9538,
          -96.9538,
          -96.9538,
          -96.9538,
          -96.9538,
          2.2957,
          -96.9538,
          2.2957,
          2.2957,
          2.2957,
          2.2957,
          2.2957,
          2.2957,
          2.2957,
          2.2957,
          2.2957,
          2.2957,
          2.2957,
          2.2957,
          2.2957,
          2.2957,
          2.2957,
          2.2957,
          2.2957,
          2.2957,
          2.2957,
          2.2957,
          2.2957,
          2.2957,
          2.2957,
          -96.9538,
          2.2957,
          3.0635,
          3.0635,
          3.0635,
          3.0635,
          3.0635,
          3.0635,
          3.0635,
          3.0635,
          3.0635,
          3.0635,
          3.0635,
          3.0635,
          3.0635,
          3.0635,
          3.0635,
          3.0635,
          3.0635,
          3.0635,
          3.0635,
          3.0635,
          3.0635,
          3.0635,
          3.0635,
          3.0635,
          -0.7025,
          -0.7025,
          3.0635,
          -0.7025,
          -0.7025,
          -0.7025,
          -0.7025,
          -0.7025,
          -0.7025,
          -0.7025,
          -0.7025,
          -0.7025,
          -0.7025,
          -0.7025,
          -0.7025,
          -0.7025,
          -0.7025,
          -0.7025,
          -0.7025,
          -0.7025,
          -0.7025,
          -0.7025,
          -0.7025,
          -0.7025,
          -0.7025,
          -0.7025,
          6.3419,
          6.3419,
          5.5396,
          5.5396,
          5.5396,
          5.4475,
          5.4475,
          5.4475,
          4.4277,
          1.4066,
          3.0832,
          3.0832,
          4.1915,
          1.4066,
          1.4442,
          1.355,
          2.3491,
          1.355,
          1.355,
          1.355,
          1.355,
          1.355,
          1.355,
          1.355,
          1.355,
          1.355,
          1.355,
          1.355,
          1.355,
          1.355,
          1.355,
          1.355,
          1.355,
          1.355,
          1.355,
          1.355,
          1.355,
          1.355,
          1.355,
          1.355,
          -1.5527,
          1.355,
          -1.5527,
          -1.5527,
          -1.5527,
          -1.5527,
          -1.5527,
          -1.5527,
          -1.5527,
          -1.5527,
          -1.5527,
          -1.5527,
          -1.5527,
          -1.5527,
          -1.5527,
          -1.5527,
          -1.5527,
          -1.5527,
          -1.5527,
          -1.5527,
          -1.5527,
          -1.5527,
          -1.5527,
          -1.5527,
          -1.5527,
          -1.5527,
          1.4442,
          1.4442,
          1.4442,
          1.4442,
          1.4442,
          1.4442,
          1.4442,
          1.4442,
          1.4442,
          1.4442,
          1.4442,
          1.4442,
          1.4442,
          1.4442,
          1.4442,
          1.4442,
          1.4442,
          1.4442,
          1.4442,
          1.4442,
          1.4442,
          1.4442,
          1.4442,
          -1.4737,
          1.4442,
          -1.4737,
          -1.4737,
          -1.4737,
          -1.4737,
          -1.4737,
          -1.4737,
          -1.4737,
          -1.4737,
          -1.4737,
          -1.4737,
          -1.4737,
          -1.4737,
          -1.4737,
          -1.4737,
          -1.4737,
          -1.4737,
          -1.4737,
          -1.4737,
          -1.4737,
          -1.4737,
          -1.4737,
          -1.4737,
          -1.4737,
          -1.4737,
          2.3491,
          2.3491,
          2.3491,
          2.3491,
          2.3491,
          2.3491,
          2.3491,
          2.3491,
          2.3491,
          2.3491,
          2.3491,
          2.3491,
          2.3491,
          2.3491,
          2.3491,
          2.3491,
          2.3491,
          2.3491,
          2.3491,
          2.3491,
          2.3491,
          2.3491,
          2.3491,
          2.3491,
          1.4066,
          1.4066,
          1.4066,
          1.4066,
          1.4066,
          1.4066,
          1.4066,
          1.4066,
          1.4066,
          1.4066,
          1.4066,
          1.4066,
          1.4066,
          1.4066,
          1.4066,
          1.4066,
          1.4066,
          1.4066,
          1.4066,
          1.4066,
          1.4066,
          1.4066,
          1.4066,
          3.0832,
          3.0832,
          3.0832,
          3.0832,
          3.0832,
          3.0832,
          3.0832,
          3.0832,
          3.0832,
          3.0832,
          3.0832,
          3.0832,
          3.0832,
          3.0832,
          3.0832,
          3.0832,
          3.0832,
          3.0832,
          3.0832,
          3.0832,
          3.0832,
          3.0832,
          4.1915,
          3.0832,
          4.1915,
          4.1915,
          4.1915,
          4.1915,
          4.1915,
          4.1915,
          4.1915,
          4.1915,
          4.1915,
          4.1915,
          4.1915,
          4.1915,
          4.1915,
          4.1915,
          4.1915,
          4.1915,
          4.1915,
          4.1915,
          4.1915,
          4.1915,
          4.1915,
          4.1915,
          4.8059,
          4.8059,
          4.8059,
          4.8059,
          4.8059,
          4.8059,
          4.8059,
          4.8059,
          4.8059,
          4.8059,
          4.8059,
          4.8059,
          4.8059,
          4.8059,
          4.8059,
          4.8059,
          4.8059,
          4.8059,
          4.8059,
          4.8059,
          4.8059,
          4.8059,
          4.8059,
          4.8059,
          4.4277,
          4.4277,
          4.4277,
          4.4277,
          4.4277,
          4.4277,
          4.4277,
          4.4277,
          4.4277,
          4.4277,
          4.4277,
          4.4277,
          4.4277,
          4.4277,
          4.4277,
          4.4277,
          4.4277,
          4.4277,
          4.4277,
          4.4277,
          4.4277,
          4.4277,
          4.4277,
          4.1915,
          4.8059,
          4.3601,
          4.3601,
          4.3601,
          4.3601,
          4.3601,
          4.3601,
          4.3601,
          4.3601,
          4.3601,
          4.3601,
          4.3601,
          4.3601,
          4.3601,
          4.3601,
          4.3601,
          4.3601,
          4.3601,
          4.3601,
          4.3601,
          4.3601,
          4.3601,
          4.3601,
          4.3601,
          4.4277,
          4.3601,
          5.4475,
          4.3601,
          5.4475,
          5.4475,
          5.4475,
          5.4475,
          5.4475,
          5.4475,
          5.4475,
          5.4475,
          5.4475,
          5.4475,
          5.4475,
          5.4475,
          5.4475,
          5.4475,
          5.4475,
          5.4475,
          5.4475,
          5.4475,
          5.4475,
          5.4475,
          5.37,
          5.37,
          5.37,
          5.4475,
          5.37,
          5.37,
          5.37,
          5.37,
          5.37,
          5.37,
          5.37,
          5.37,
          5.37,
          5.37,
          5.37,
          5.37,
          5.37,
          5.37,
          5.37,
          5.37,
          5.37,
          5.37,
          5.37,
          5.37,
          5.37,
          5.37,
          4.4197,
          4.4197,
          4.4197,
          4.4197,
          4.4197,
          4.4197,
          4.4197,
          4.4197,
          4.4197,
          4.4197,
          4.4197,
          4.4197,
          4.4197,
          4.4197,
          4.4197,
          4.4197,
          4.4197,
          4.4197,
          4.4197,
          4.4197,
          4.4197,
          4.4197,
          4.4197,
          4.4197,
          4.4197,
          5.5396,
          5.5396,
          5.5396,
          5.5396,
          5.5396,
          5.5396,
          5.5396,
          5.5396,
          5.5396,
          5.5396,
          5.5396,
          5.5396,
          5.5396,
          5.5396,
          5.5396,
          5.5396,
          5.5396,
          5.5396,
          5.5396,
          5.5396,
          5.5396,
          5.5396,
          6.3419,
          6.3419,
          6.3419,
          6.3419,
          6.3419,
          6.3419,
          6.3419,
          6.3419,
          6.3419,
          6.3419,
          6.3419,
          6.3419,
          6.3419,
          6.3419,
          6.3419,
          6.3419,
          6.3419,
          6.3419,
          6.3419,
          6.3419,
          6.3419,
          6.3419,
          6.3419,
          -1.152,
          -1.152,
          -1.152,
          -1.152,
          -1.152,
          -1.152,
          -1.152,
          -1.152,
          -1.152,
          -1.152,
          -1.152,
          -1.152,
          -1.152,
          -1.152,
          -1.152,
          -1.152,
          -1.152,
          -1.152,
          -1.152,
          -1.152,
          -1.152,
          -1.152,
          -1.152,
          -1.152,
          -1.152
         ],
         "marker": {
          "color": [
           0,
           0,
           0,
           0,
           0,
           0,
           0,
           0,
           0,
           0,
           0.2,
           0,
           0,
           0,
           0.2,
           0,
           0,
           0,
           0,
           0,
           0,
           0,
           0,
           0,
           0,
           0,
           0,
           0,
           0,
           0,
           0,
           0,
           0,
           0,
           0,
           0,
           0,
           0,
           0,
           0,
           0,
           0,
           0,
           0,
           0,
           0,
           0,
           0,
           0,
           0,
           0,
           0,
           0,
           0,
           0,
           0,
           0,
           0,
           0,
           0,
           0,
           0,
           0,
           0,
           0.2,
           0.2,
           0,
           0.2,
           0.2,
           0.2,
           0.2,
           0.2,
           0.2,
           0.2,
           0.2,
           0.2,
           0.2,
           0.2,
           0.2,
           0.2,
           0.2,
           0.2,
           0.2,
           0.2,
           0.2,
           0.2,
           0.2,
           0.2,
           0.2,
           0,
           0,
           0,
           0,
           0,
           0,
           0,
           0,
           0,
           0,
           0,
           0,
           0,
           0,
           0,
           0,
           0,
           0,
           0,
           0,
           0,
           0,
           0,
           0,
           0,
           0,
           0,
           0,
           0,
           0,
           0,
           0,
           0,
           0,
           0,
           0,
           0,
           0,
           0,
           0,
           0,
           0,
           0,
           0,
           0,
           0,
           0,
           0,
           0,
           0.2,
           0.2,
           0.2,
           0,
           0.2,
           0.2,
           0.2,
           0.2,
           0.2,
           0.2,
           0.2,
           0.2,
           0.2,
           0.2,
           0.2,
           0.2,
           0.2,
           0.2,
           0.2,
           0.2,
           0.2,
           0.2,
           0.2,
           0.2,
           0,
           0.2,
           0,
           0,
           0,
           0,
           0,
           0,
           0,
           0,
           0,
           0,
           0,
           0,
           0,
           0,
           0,
           0,
           0,
           0,
           0,
           0,
           0,
           0,
           0,
           0,
           0,
           0,
           0,
           0,
           0,
           0,
           0,
           0,
           0,
           0,
           0,
           0,
           0,
           0,
           0,
           0,
           0,
           0,
           0,
           0,
           0.2,
           0.2,
           0.2,
           0.2,
           0.2,
           0.2,
           0.2,
           0.2,
           0.2,
           0.2,
           0.2,
           0.2,
           0.2,
           0.2,
           0.2,
           0.2,
           0.2,
           0.2,
           0.2,
           0.2,
           0.2,
           0.2,
           0.2,
           0.2,
           0,
           0.2,
           0.2,
           0.2,
           0.2,
           0.2,
           0.2,
           0.2,
           0.2,
           0.2,
           0.2,
           0.2,
           0.2,
           0.2,
           0.2,
           0.2,
           0.2,
           0.2,
           0.2,
           0.2,
           0.2,
           0.2,
           0.2,
           0.2,
           0.2,
           0.2,
           0.2,
           0,
           0,
           0,
           0,
           0,
           0,
           0,
           0,
           0,
           0,
           0,
           0,
           0,
           0,
           0,
           0,
           0,
           0,
           0,
           0,
           0,
           0,
           0,
           0,
           0,
           0,
           0,
           0,
           0,
           0,
           0,
           0,
           0,
           0,
           0,
           0,
           0,
           0,
           0,
           0,
           0,
           0,
           0,
           0,
           0,
           0,
           0,
           0,
           0,
           0,
           0,
           0,
           0,
           0,
           0,
           0,
           0,
           0,
           0,
           0,
           0,
           0,
           0,
           0,
           0,
           0,
           0,
           0,
           0,
           0,
           0,
           0,
           0,
           0,
           0,
           0,
           0,
           0,
           0,
           0,
           0,
           0,
           0,
           0,
           0,
           0,
           0,
           0,
           0,
           0,
           0,
           0,
           0,
           0,
           0,
           0,
           0,
           0,
           0,
           0,
           0,
           0,
           0,
           0,
           0,
           0,
           0,
           0,
           0,
           0,
           0,
           0,
           0,
           0,
           0.2,
           0,
           0.2,
           0.2,
           0.2,
           0.2,
           0.2,
           0.2,
           0.2,
           0.2,
           0.2,
           0.2,
           0.2,
           0.2,
           0.2,
           0.2,
           0.2,
           0.2,
           0.2,
           0.2,
           0.2,
           0.2,
           0.2,
           0.2,
           0.2,
           0,
           0.2,
           1,
           1,
           1,
           1,
           1,
           1,
           1,
           1,
           1,
           1,
           1,
           1,
           1,
           1,
           1,
           1,
           1,
           1,
           1,
           1,
           1,
           1,
           1,
           1,
           0,
           0,
           1,
           0,
           0,
           0,
           0,
           0,
           0,
           0,
           0,
           0,
           0,
           0,
           0,
           0,
           0,
           0,
           0,
           0,
           0,
           0,
           0,
           0,
           0,
           0,
           0,
           0,
           0,
           0,
           0,
           0,
           0,
           0,
           0,
           0,
           0,
           0,
           0,
           0,
           0,
           0,
           0,
           0,
           0,
           0,
           0,
           0,
           0,
           0,
           0,
           0,
           0,
           0,
           0,
           0,
           0,
           0,
           0,
           0,
           0,
           0,
           0,
           0,
           0,
           0,
           0,
           0,
           0,
           0,
           0,
           0,
           0,
           0,
           0,
           0,
           0,
           0,
           0,
           0,
           0,
           0,
           0,
           0,
           0,
           0,
           0,
           0,
           0,
           0,
           0,
           0,
           0,
           0,
           0,
           0,
           0,
           0,
           0,
           0,
           0,
           0,
           0,
           0,
           0,
           0,
           0,
           0,
           0,
           0,
           0,
           0,
           0,
           0,
           0,
           0,
           0,
           0,
           0,
           0,
           0,
           0,
           0,
           0,
           0,
           0,
           0,
           0,
           0,
           0,
           0,
           0,
           0,
           0,
           0,
           0,
           0,
           0,
           0,
           0,
           0,
           0,
           0,
           0,
           0,
           0,
           0,
           0,
           0,
           0,
           0,
           0,
           0,
           0,
           0,
           0,
           0,
           0,
           0,
           0,
           0,
           0,
           0,
           0,
           0,
           0,
           0,
           0,
           0,
           0,
           0,
           0,
           0,
           0,
           0,
           0,
           0,
           0,
           0,
           0,
           0,
           0,
           0,
           0,
           0,
           0,
           0,
           0,
           0,
           0,
           0,
           0,
           0,
           0,
           0,
           0,
           0,
           0,
           0,
           0,
           0,
           0,
           0,
           0,
           0,
           0,
           0,
           0,
           0,
           0,
           0,
           0,
           0,
           0,
           0,
           0,
           0,
           0,
           0,
           0,
           0,
           0,
           0,
           0,
           0,
           0,
           0,
           0,
           0,
           0,
           0,
           0,
           0,
           0,
           0,
           0,
           0,
           0,
           0,
           0,
           0,
           0,
           0,
           0,
           0,
           0,
           0,
           0,
           0,
           0,
           0,
           0,
           0,
           0,
           0,
           0,
           0,
           0,
           0,
           0,
           0,
           0,
           0,
           0,
           0,
           0,
           0,
           0,
           0,
           0,
           0,
           0,
           0,
           0,
           0,
           0,
           0,
           0,
           0,
           0,
           0,
           0,
           0,
           0,
           0,
           0,
           0,
           0,
           0,
           0,
           0,
           0,
           0,
           0,
           0,
           0,
           0,
           0,
           0,
           0,
           0,
           0,
           0,
           0,
           0,
           0,
           0,
           0,
           0,
           0,
           0,
           0,
           0,
           0,
           0,
           0,
           0,
           0,
           0,
           0,
           0,
           0,
           0,
           0,
           0,
           0,
           0,
           0,
           0,
           0,
           0,
           0,
           0,
           0,
           0,
           0,
           0,
           0,
           0,
           0,
           0,
           0,
           0,
           0,
           0,
           0,
           0,
           0,
           0,
           0,
           0,
           0,
           0,
           0,
           0,
           0,
           0,
           0,
           0,
           0,
           0,
           0,
           0,
           0,
           0,
           0,
           0,
           0,
           0,
           0,
           0,
           0,
           0,
           0,
           0,
           0,
           0,
           0,
           0,
           0,
           0,
           0,
           0,
           0,
           0,
           0,
           0,
           0,
           0,
           0,
           0,
           0,
           0,
           0,
           0,
           0,
           0,
           0,
           0,
           0,
           0,
           0,
           0,
           0,
           0,
           0,
           0,
           0,
           0,
           0,
           0,
           0,
           0,
           0,
           0,
           0,
           0,
           0,
           0,
           0,
           0,
           0,
           0,
           0,
           0,
           0,
           0,
           0,
           0,
           0,
           0,
           0,
           0,
           0,
           0,
           0,
           0,
           0,
           0,
           0,
           0,
           0,
           0,
           0,
           0,
           0,
           0,
           0,
           0,
           0,
           0
          ],
          "coloraxis": "coloraxis"
         },
         "mode": "markers",
         "name": "",
         "showlegend": false,
         "subplot": "mapbox",
         "type": "scattermapbox"
        }
       ],
       "layout": {
        "coloraxis": {
         "colorbar": {
          "title": {
           "text": "POP_1"
          }
         },
         "colorscale": [
          [
           0,
           "#0d0887"
          ],
          [
           0.1111111111111111,
           "#46039f"
          ],
          [
           0.2222222222222222,
           "#7201a8"
          ],
          [
           0.3333333333333333,
           "#9c179e"
          ],
          [
           0.4444444444444444,
           "#bd3786"
          ],
          [
           0.5555555555555556,
           "#d8576b"
          ],
          [
           0.6666666666666666,
           "#ed7953"
          ],
          [
           0.7777777777777778,
           "#fb9f3a"
          ],
          [
           0.8888888888888888,
           "#fdca26"
          ],
          [
           1,
           "#f0f921"
          ]
         ]
        },
        "height": 500,
        "legend": {
         "tracegroupgap": 0
        },
        "mapbox": {
         "center": {
          "lat": 45.85998,
          "lon": 0.6836914285714286
         },
         "domain": {
          "x": [
           0,
           1
          ],
          "y": [
           0,
           1
          ]
         },
         "style": "carto-positron",
         "zoom": 4
        },
        "template": {
         "data": {
          "bar": [
           {
            "error_x": {
             "color": "#2a3f5f"
            },
            "error_y": {
             "color": "#2a3f5f"
            },
            "marker": {
             "line": {
              "color": "#E5ECF6",
              "width": 0.5
             },
             "pattern": {
              "fillmode": "overlay",
              "size": 10,
              "solidity": 0.2
             }
            },
            "type": "bar"
           }
          ],
          "barpolar": [
           {
            "marker": {
             "line": {
              "color": "#E5ECF6",
              "width": 0.5
             },
             "pattern": {
              "fillmode": "overlay",
              "size": 10,
              "solidity": 0.2
             }
            },
            "type": "barpolar"
           }
          ],
          "carpet": [
           {
            "aaxis": {
             "endlinecolor": "#2a3f5f",
             "gridcolor": "white",
             "linecolor": "white",
             "minorgridcolor": "white",
             "startlinecolor": "#2a3f5f"
            },
            "baxis": {
             "endlinecolor": "#2a3f5f",
             "gridcolor": "white",
             "linecolor": "white",
             "minorgridcolor": "white",
             "startlinecolor": "#2a3f5f"
            },
            "type": "carpet"
           }
          ],
          "choropleth": [
           {
            "colorbar": {
             "outlinewidth": 0,
             "ticks": ""
            },
            "type": "choropleth"
           }
          ],
          "contour": [
           {
            "colorbar": {
             "outlinewidth": 0,
             "ticks": ""
            },
            "colorscale": [
             [
              0,
              "#0d0887"
             ],
             [
              0.1111111111111111,
              "#46039f"
             ],
             [
              0.2222222222222222,
              "#7201a8"
             ],
             [
              0.3333333333333333,
              "#9c179e"
             ],
             [
              0.4444444444444444,
              "#bd3786"
             ],
             [
              0.5555555555555556,
              "#d8576b"
             ],
             [
              0.6666666666666666,
              "#ed7953"
             ],
             [
              0.7777777777777778,
              "#fb9f3a"
             ],
             [
              0.8888888888888888,
              "#fdca26"
             ],
             [
              1,
              "#f0f921"
             ]
            ],
            "type": "contour"
           }
          ],
          "contourcarpet": [
           {
            "colorbar": {
             "outlinewidth": 0,
             "ticks": ""
            },
            "type": "contourcarpet"
           }
          ],
          "heatmap": [
           {
            "colorbar": {
             "outlinewidth": 0,
             "ticks": ""
            },
            "colorscale": [
             [
              0,
              "#0d0887"
             ],
             [
              0.1111111111111111,
              "#46039f"
             ],
             [
              0.2222222222222222,
              "#7201a8"
             ],
             [
              0.3333333333333333,
              "#9c179e"
             ],
             [
              0.4444444444444444,
              "#bd3786"
             ],
             [
              0.5555555555555556,
              "#d8576b"
             ],
             [
              0.6666666666666666,
              "#ed7953"
             ],
             [
              0.7777777777777778,
              "#fb9f3a"
             ],
             [
              0.8888888888888888,
              "#fdca26"
             ],
             [
              1,
              "#f0f921"
             ]
            ],
            "type": "heatmap"
           }
          ],
          "heatmapgl": [
           {
            "colorbar": {
             "outlinewidth": 0,
             "ticks": ""
            },
            "colorscale": [
             [
              0,
              "#0d0887"
             ],
             [
              0.1111111111111111,
              "#46039f"
             ],
             [
              0.2222222222222222,
              "#7201a8"
             ],
             [
              0.3333333333333333,
              "#9c179e"
             ],
             [
              0.4444444444444444,
              "#bd3786"
             ],
             [
              0.5555555555555556,
              "#d8576b"
             ],
             [
              0.6666666666666666,
              "#ed7953"
             ],
             [
              0.7777777777777778,
              "#fb9f3a"
             ],
             [
              0.8888888888888888,
              "#fdca26"
             ],
             [
              1,
              "#f0f921"
             ]
            ],
            "type": "heatmapgl"
           }
          ],
          "histogram": [
           {
            "marker": {
             "pattern": {
              "fillmode": "overlay",
              "size": 10,
              "solidity": 0.2
             }
            },
            "type": "histogram"
           }
          ],
          "histogram2d": [
           {
            "colorbar": {
             "outlinewidth": 0,
             "ticks": ""
            },
            "colorscale": [
             [
              0,
              "#0d0887"
             ],
             [
              0.1111111111111111,
              "#46039f"
             ],
             [
              0.2222222222222222,
              "#7201a8"
             ],
             [
              0.3333333333333333,
              "#9c179e"
             ],
             [
              0.4444444444444444,
              "#bd3786"
             ],
             [
              0.5555555555555556,
              "#d8576b"
             ],
             [
              0.6666666666666666,
              "#ed7953"
             ],
             [
              0.7777777777777778,
              "#fb9f3a"
             ],
             [
              0.8888888888888888,
              "#fdca26"
             ],
             [
              1,
              "#f0f921"
             ]
            ],
            "type": "histogram2d"
           }
          ],
          "histogram2dcontour": [
           {
            "colorbar": {
             "outlinewidth": 0,
             "ticks": ""
            },
            "colorscale": [
             [
              0,
              "#0d0887"
             ],
             [
              0.1111111111111111,
              "#46039f"
             ],
             [
              0.2222222222222222,
              "#7201a8"
             ],
             [
              0.3333333333333333,
              "#9c179e"
             ],
             [
              0.4444444444444444,
              "#bd3786"
             ],
             [
              0.5555555555555556,
              "#d8576b"
             ],
             [
              0.6666666666666666,
              "#ed7953"
             ],
             [
              0.7777777777777778,
              "#fb9f3a"
             ],
             [
              0.8888888888888888,
              "#fdca26"
             ],
             [
              1,
              "#f0f921"
             ]
            ],
            "type": "histogram2dcontour"
           }
          ],
          "mesh3d": [
           {
            "colorbar": {
             "outlinewidth": 0,
             "ticks": ""
            },
            "type": "mesh3d"
           }
          ],
          "parcoords": [
           {
            "line": {
             "colorbar": {
              "outlinewidth": 0,
              "ticks": ""
             }
            },
            "type": "parcoords"
           }
          ],
          "pie": [
           {
            "automargin": true,
            "type": "pie"
           }
          ],
          "scatter": [
           {
            "fillpattern": {
             "fillmode": "overlay",
             "size": 10,
             "solidity": 0.2
            },
            "type": "scatter"
           }
          ],
          "scatter3d": [
           {
            "line": {
             "colorbar": {
              "outlinewidth": 0,
              "ticks": ""
             }
            },
            "marker": {
             "colorbar": {
              "outlinewidth": 0,
              "ticks": ""
             }
            },
            "type": "scatter3d"
           }
          ],
          "scattercarpet": [
           {
            "marker": {
             "colorbar": {
              "outlinewidth": 0,
              "ticks": ""
             }
            },
            "type": "scattercarpet"
           }
          ],
          "scattergeo": [
           {
            "marker": {
             "colorbar": {
              "outlinewidth": 0,
              "ticks": ""
             }
            },
            "type": "scattergeo"
           }
          ],
          "scattergl": [
           {
            "marker": {
             "colorbar": {
              "outlinewidth": 0,
              "ticks": ""
             }
            },
            "type": "scattergl"
           }
          ],
          "scattermapbox": [
           {
            "marker": {
             "colorbar": {
              "outlinewidth": 0,
              "ticks": ""
             }
            },
            "type": "scattermapbox"
           }
          ],
          "scatterpolar": [
           {
            "marker": {
             "colorbar": {
              "outlinewidth": 0,
              "ticks": ""
             }
            },
            "type": "scatterpolar"
           }
          ],
          "scatterpolargl": [
           {
            "marker": {
             "colorbar": {
              "outlinewidth": 0,
              "ticks": ""
             }
            },
            "type": "scatterpolargl"
           }
          ],
          "scatterternary": [
           {
            "marker": {
             "colorbar": {
              "outlinewidth": 0,
              "ticks": ""
             }
            },
            "type": "scatterternary"
           }
          ],
          "surface": [
           {
            "colorbar": {
             "outlinewidth": 0,
             "ticks": ""
            },
            "colorscale": [
             [
              0,
              "#0d0887"
             ],
             [
              0.1111111111111111,
              "#46039f"
             ],
             [
              0.2222222222222222,
              "#7201a8"
             ],
             [
              0.3333333333333333,
              "#9c179e"
             ],
             [
              0.4444444444444444,
              "#bd3786"
             ],
             [
              0.5555555555555556,
              "#d8576b"
             ],
             [
              0.6666666666666666,
              "#ed7953"
             ],
             [
              0.7777777777777778,
              "#fb9f3a"
             ],
             [
              0.8888888888888888,
              "#fdca26"
             ],
             [
              1,
              "#f0f921"
             ]
            ],
            "type": "surface"
           }
          ],
          "table": [
           {
            "cells": {
             "fill": {
              "color": "#EBF0F8"
             },
             "line": {
              "color": "white"
             }
            },
            "header": {
             "fill": {
              "color": "#C8D4E3"
             },
             "line": {
              "color": "white"
             }
            },
            "type": "table"
           }
          ]
         },
         "layout": {
          "annotationdefaults": {
           "arrowcolor": "#2a3f5f",
           "arrowhead": 0,
           "arrowwidth": 1
          },
          "autotypenumbers": "strict",
          "coloraxis": {
           "colorbar": {
            "outlinewidth": 0,
            "ticks": ""
           }
          },
          "colorscale": {
           "diverging": [
            [
             0,
             "#8e0152"
            ],
            [
             0.1,
             "#c51b7d"
            ],
            [
             0.2,
             "#de77ae"
            ],
            [
             0.3,
             "#f1b6da"
            ],
            [
             0.4,
             "#fde0ef"
            ],
            [
             0.5,
             "#f7f7f7"
            ],
            [
             0.6,
             "#e6f5d0"
            ],
            [
             0.7,
             "#b8e186"
            ],
            [
             0.8,
             "#7fbc41"
            ],
            [
             0.9,
             "#4d9221"
            ],
            [
             1,
             "#276419"
            ]
           ],
           "sequential": [
            [
             0,
             "#0d0887"
            ],
            [
             0.1111111111111111,
             "#46039f"
            ],
            [
             0.2222222222222222,
             "#7201a8"
            ],
            [
             0.3333333333333333,
             "#9c179e"
            ],
            [
             0.4444444444444444,
             "#bd3786"
            ],
            [
             0.5555555555555556,
             "#d8576b"
            ],
            [
             0.6666666666666666,
             "#ed7953"
            ],
            [
             0.7777777777777778,
             "#fb9f3a"
            ],
            [
             0.8888888888888888,
             "#fdca26"
            ],
            [
             1,
             "#f0f921"
            ]
           ],
           "sequentialminus": [
            [
             0,
             "#0d0887"
            ],
            [
             0.1111111111111111,
             "#46039f"
            ],
            [
             0.2222222222222222,
             "#7201a8"
            ],
            [
             0.3333333333333333,
             "#9c179e"
            ],
            [
             0.4444444444444444,
             "#bd3786"
            ],
            [
             0.5555555555555556,
             "#d8576b"
            ],
            [
             0.6666666666666666,
             "#ed7953"
            ],
            [
             0.7777777777777778,
             "#fb9f3a"
            ],
            [
             0.8888888888888888,
             "#fdca26"
            ],
            [
             1,
             "#f0f921"
            ]
           ]
          },
          "colorway": [
           "#636efa",
           "#EF553B",
           "#00cc96",
           "#ab63fa",
           "#FFA15A",
           "#19d3f3",
           "#FF6692",
           "#B6E880",
           "#FF97FF",
           "#FECB52"
          ],
          "font": {
           "color": "#2a3f5f"
          },
          "geo": {
           "bgcolor": "white",
           "lakecolor": "white",
           "landcolor": "#E5ECF6",
           "showlakes": true,
           "showland": true,
           "subunitcolor": "white"
          },
          "hoverlabel": {
           "align": "left"
          },
          "hovermode": "closest",
          "mapbox": {
           "style": "light"
          },
          "paper_bgcolor": "white",
          "plot_bgcolor": "#E5ECF6",
          "polar": {
           "angularaxis": {
            "gridcolor": "white",
            "linecolor": "white",
            "ticks": ""
           },
           "bgcolor": "#E5ECF6",
           "radialaxis": {
            "gridcolor": "white",
            "linecolor": "white",
            "ticks": ""
           }
          },
          "scene": {
           "xaxis": {
            "backgroundcolor": "#E5ECF6",
            "gridcolor": "white",
            "gridwidth": 2,
            "linecolor": "white",
            "showbackground": true,
            "ticks": "",
            "zerolinecolor": "white"
           },
           "yaxis": {
            "backgroundcolor": "#E5ECF6",
            "gridcolor": "white",
            "gridwidth": 2,
            "linecolor": "white",
            "showbackground": true,
            "ticks": "",
            "zerolinecolor": "white"
           },
           "zaxis": {
            "backgroundcolor": "#E5ECF6",
            "gridcolor": "white",
            "gridwidth": 2,
            "linecolor": "white",
            "showbackground": true,
            "ticks": "",
            "zerolinecolor": "white"
           }
          },
          "shapedefaults": {
           "line": {
            "color": "#2a3f5f"
           }
          },
          "ternary": {
           "aaxis": {
            "gridcolor": "white",
            "linecolor": "white",
            "ticks": ""
           },
           "baxis": {
            "gridcolor": "white",
            "linecolor": "white",
            "ticks": ""
           },
           "bgcolor": "#E5ECF6",
           "caxis": {
            "gridcolor": "white",
            "linecolor": "white",
            "ticks": ""
           }
          },
          "title": {
           "x": 0.05
          },
          "xaxis": {
           "automargin": true,
           "gridcolor": "white",
           "linecolor": "white",
           "ticks": "",
           "title": {
            "standoff": 15
           },
           "zerolinecolor": "white",
           "zerolinewidth": 2
          },
          "yaxis": {
           "automargin": true,
           "gridcolor": "white",
           "linecolor": "white",
           "ticks": "",
           "title": {
            "standoff": 15
           },
           "zerolinecolor": "white",
           "zerolinewidth": 2
          }
         }
        },
        "title": {
         "text": "Precipitation probability from 0 to 1 in France"
        },
        "width": 700
       }
      }
     },
     "metadata": {},
     "output_type": "display_data"
    }
   ],
   "source": [
    "fig = px.scatter_mapbox(df, lat=\"city_lat\", lon=\"city_lon\", color=\"POP_1\",\n",
    "                        zoom=4, mapbox_style=\"carto-positron\",title='Precipitation probability from 0 to 1 in France', color_discrete_sequence=True)\n",
    "\n",
    "fig.update_layout(width=700, height=500)\n",
    "fig.show()"
   ]
  },
  {
   "cell_type": "markdown",
   "metadata": {},
   "source": [
    "### Only cities in the nord and east of France are expected to be under raining weather conditions.\n",
    "\n",
    "### The five top warmest cities at the moment are expected also to have no precipitation. They are the top 5 destionations: Aigues-Mortes, Saintes-Maries-de-la-Mer, Collioure, Nîmes and Gorges du Verdon."
   ]
  },
  {
   "cell_type": "markdown",
   "metadata": {},
   "source": [
    "## 2. Top 20 hotels in the top 5 cities\n",
    "\n",
    "We use the data in the same df created from our dataset stored in s3\n",
    "\n",
    "We create a mask to keep the hotel data about the top 5 destinations by filtering the top 5 cities we have just found\n"
   ]
  },
  {
   "cell_type": "code",
   "execution_count": 18,
   "metadata": {},
   "outputs": [],
   "source": [
    "#cities to filter\n",
    "top_city_names\n",
    "\n",
    "#mask\n",
    "top_cities_hotels = df[df['city'].isin(top_city_names)]\n"
   ]
  },
  {
   "cell_type": "markdown",
   "metadata": {},
   "source": [
    "We create another mask to keep the 20 best rated hotels within the top 5 destinations"
   ]
  },
  {
   "cell_type": "code",
   "execution_count": 19,
   "metadata": {},
   "outputs": [
    {
     "data": {
      "text/html": [
       "<div>\n",
       "<style scoped>\n",
       "    .dataframe tbody tr th:only-of-type {\n",
       "        vertical-align: middle;\n",
       "    }\n",
       "\n",
       "    .dataframe tbody tr th {\n",
       "        vertical-align: top;\n",
       "    }\n",
       "\n",
       "    .dataframe thead th {\n",
       "        text-align: right;\n",
       "    }\n",
       "</style>\n",
       "<table border=\"1\" class=\"dataframe\">\n",
       "  <thead>\n",
       "    <tr style=\"text-align: right;\">\n",
       "      <th></th>\n",
       "      <th>Unnamed: 0</th>\n",
       "      <th>city</th>\n",
       "      <th>hotel</th>\n",
       "      <th>url</th>\n",
       "      <th>note</th>\n",
       "      <th>coordinates</th>\n",
       "      <th>description</th>\n",
       "      <th>hotel_latitude</th>\n",
       "      <th>hotel_longitude</th>\n",
       "      <th>city_id</th>\n",
       "      <th>city_lat</th>\n",
       "      <th>city_lon</th>\n",
       "      <th>temperature</th>\n",
       "      <th>POP_1</th>\n",
       "      <th>POP_2</th>\n",
       "      <th>POP_3</th>\n",
       "      <th>POP_4</th>\n",
       "      <th>POP_5</th>\n",
       "    </tr>\n",
       "  </thead>\n",
       "  <tbody>\n",
       "    <tr>\n",
       "      <th>649</th>\n",
       "      <td>649</td>\n",
       "      <td>Aigues-Mortes</td>\n",
       "      <td>Au Cœur des Remparts</td>\n",
       "      <td>https://www.booking.com/hotel/fr/au-coeur-des-...</td>\n",
       "      <td>9,9</td>\n",
       "      <td>43.56540100,4.19297300</td>\n",
       "      <td>Situé à Aigues-Mortes, à 24 km du parc des exp...</td>\n",
       "      <td>43.565401</td>\n",
       "      <td>4.192973</td>\n",
       "      <td>26</td>\n",
       "      <td>43.5662</td>\n",
       "      <td>4.1915</td>\n",
       "      <td>27.95</td>\n",
       "      <td>0.0</td>\n",
       "      <td>0.0</td>\n",
       "      <td>0.0</td>\n",
       "      <td>0.0</td>\n",
       "      <td>0.0</td>\n",
       "    </tr>\n",
       "    <tr>\n",
       "      <th>695</th>\n",
       "      <td>695</td>\n",
       "      <td>Les Saintes-Maries-de-la-Mer</td>\n",
       "      <td>Appartement \"La Rose des Vents\"</td>\n",
       "      <td>https://www.booking.com/hotel/fr/appartement-a...</td>\n",
       "      <td>9,7</td>\n",
       "      <td>43.45489471,4.42973589</td>\n",
       "      <td>Situé aux Saintes-Maries-de-la-Mer, à 700 mètr...</td>\n",
       "      <td>43.454895</td>\n",
       "      <td>4.429736</td>\n",
       "      <td>27</td>\n",
       "      <td>43.4516</td>\n",
       "      <td>4.4277</td>\n",
       "      <td>27.59</td>\n",
       "      <td>0.0</td>\n",
       "      <td>0.0</td>\n",
       "      <td>0.0</td>\n",
       "      <td>0.0</td>\n",
       "      <td>0.0</td>\n",
       "    </tr>\n",
       "    <tr>\n",
       "      <th>652</th>\n",
       "      <td>652</td>\n",
       "      <td>Aigues-Mortes</td>\n",
       "      <td>Lou Mirèio</td>\n",
       "      <td>https://www.booking.com/hotel/fr/42-rue-pasteu...</td>\n",
       "      <td>9,5</td>\n",
       "      <td>43.56607498,4.19257857</td>\n",
       "      <td>Situé à Aigues-Mortes, à 24 km de la salle omn...</td>\n",
       "      <td>43.566075</td>\n",
       "      <td>4.192579</td>\n",
       "      <td>26</td>\n",
       "      <td>43.5662</td>\n",
       "      <td>4.1915</td>\n",
       "      <td>27.95</td>\n",
       "      <td>0.0</td>\n",
       "      <td>0.0</td>\n",
       "      <td>0.0</td>\n",
       "      <td>0.0</td>\n",
       "      <td>0.0</td>\n",
       "    </tr>\n",
       "    <tr>\n",
       "      <th>59</th>\n",
       "      <td>59</td>\n",
       "      <td>Gorges du Verdon</td>\n",
       "      <td>La casa Elisa Gîte T2 indépendant</td>\n",
       "      <td>https://www.booking.com/hotel/fr/gite-t2-indep...</td>\n",
       "      <td>9,4</td>\n",
       "      <td>43.75159251,5.87857326</td>\n",
       "      <td>Situé à Gréoux-les-Bains, à moins de 23 km du ...</td>\n",
       "      <td>43.751593</td>\n",
       "      <td>5.878573</td>\n",
       "      <td>18</td>\n",
       "      <td>43.7497</td>\n",
       "      <td>6.3286</td>\n",
       "      <td>26.65</td>\n",
       "      <td>0.0</td>\n",
       "      <td>0.0</td>\n",
       "      <td>0.0</td>\n",
       "      <td>0.0</td>\n",
       "      <td>0.0</td>\n",
       "    </tr>\n",
       "    <tr>\n",
       "      <th>637</th>\n",
       "      <td>637</td>\n",
       "      <td>Aigues-Mortes</td>\n",
       "      <td>La Villa Mazarin</td>\n",
       "      <td>https://www.booking.com/hotel/fr/la-villa-maza...</td>\n",
       "      <td>9,2</td>\n",
       "      <td>43.56498662,4.19175196</td>\n",
       "      <td>Set in a building dating from the 15th century...</td>\n",
       "      <td>43.564987</td>\n",
       "      <td>4.191752</td>\n",
       "      <td>26</td>\n",
       "      <td>43.5662</td>\n",
       "      <td>4.1915</td>\n",
       "      <td>27.95</td>\n",
       "      <td>0.0</td>\n",
       "      <td>0.0</td>\n",
       "      <td>0.0</td>\n",
       "      <td>0.0</td>\n",
       "      <td>0.0</td>\n",
       "    </tr>\n",
       "  </tbody>\n",
       "</table>\n",
       "</div>"
      ],
      "text/plain": [
       "     Unnamed: 0                          city  \\\n",
       "649         649                 Aigues-Mortes   \n",
       "695         695  Les Saintes-Maries-de-la-Mer   \n",
       "652         652                 Aigues-Mortes   \n",
       "59           59              Gorges du Verdon   \n",
       "637         637                 Aigues-Mortes   \n",
       "\n",
       "                                 hotel  \\\n",
       "649               Au Cœur des Remparts   \n",
       "695    Appartement \"La Rose des Vents\"   \n",
       "652                         Lou Mirèio   \n",
       "59   La casa Elisa Gîte T2 indépendant   \n",
       "637                   La Villa Mazarin   \n",
       "\n",
       "                                                   url note  \\\n",
       "649  https://www.booking.com/hotel/fr/au-coeur-des-...  9,9   \n",
       "695  https://www.booking.com/hotel/fr/appartement-a...  9,7   \n",
       "652  https://www.booking.com/hotel/fr/42-rue-pasteu...  9,5   \n",
       "59   https://www.booking.com/hotel/fr/gite-t2-indep...  9,4   \n",
       "637  https://www.booking.com/hotel/fr/la-villa-maza...  9,2   \n",
       "\n",
       "                coordinates  \\\n",
       "649  43.56540100,4.19297300   \n",
       "695  43.45489471,4.42973589   \n",
       "652  43.56607498,4.19257857   \n",
       "59   43.75159251,5.87857326   \n",
       "637  43.56498662,4.19175196   \n",
       "\n",
       "                                           description  hotel_latitude  \\\n",
       "649  Situé à Aigues-Mortes, à 24 km du parc des exp...       43.565401   \n",
       "695  Situé aux Saintes-Maries-de-la-Mer, à 700 mètr...       43.454895   \n",
       "652  Situé à Aigues-Mortes, à 24 km de la salle omn...       43.566075   \n",
       "59   Situé à Gréoux-les-Bains, à moins de 23 km du ...       43.751593   \n",
       "637  Set in a building dating from the 15th century...       43.564987   \n",
       "\n",
       "     hotel_longitude  city_id  city_lat  city_lon  temperature  POP_1  POP_2  \\\n",
       "649         4.192973       26   43.5662    4.1915        27.95    0.0    0.0   \n",
       "695         4.429736       27   43.4516    4.4277        27.59    0.0    0.0   \n",
       "652         4.192579       26   43.5662    4.1915        27.95    0.0    0.0   \n",
       "59          5.878573       18   43.7497    6.3286        26.65    0.0    0.0   \n",
       "637         4.191752       26   43.5662    4.1915        27.95    0.0    0.0   \n",
       "\n",
       "     POP_3  POP_4  POP_5  \n",
       "649    0.0    0.0    0.0  \n",
       "695    0.0    0.0    0.0  \n",
       "652    0.0    0.0    0.0  \n",
       "59     0.0    0.0    0.0  \n",
       "637    0.0    0.0    0.0  "
      ]
     },
     "execution_count": 19,
     "metadata": {},
     "output_type": "execute_result"
    }
   ],
   "source": [
    "top_20_hotels = top_cities_hotels.sort_values(by='note', ascending=False).head(20)\n",
    "top_20_hotels.head()"
   ]
  },
  {
   "cell_type": "markdown",
   "metadata": {},
   "source": [
    "### Visualisation: maps top 20 hotels within the top five cities destinations"
   ]
  },
  {
   "cell_type": "code",
   "execution_count": 85,
   "metadata": {},
   "outputs": [
    {
     "data": {
      "application/vnd.plotly.v1+json": {
       "config": {
        "plotlyServerURL": "https://plot.ly"
       },
       "data": [
        {
         "hovertemplate": "hotel=Au Cœur des Remparts<br>city=%{text}<br>hotel_latitude=%{lat}<br>hotel_longitude=%{lon}<extra></extra>",
         "lat": [
          43.565401
         ],
         "legendgroup": "Au Cœur des Remparts",
         "lon": [
          4.192973
         ],
         "marker": {
          "color": "#636efa",
          "size": 12
         },
         "mode": "markers+text",
         "name": "Au Cœur des Remparts",
         "showlegend": true,
         "subplot": "mapbox",
         "text": [
          "Aigues-Mortes"
         ],
         "textfont": {
          "size": 8
         },
         "textposition": "top center",
         "type": "scattermapbox"
        },
        {
         "hovertemplate": "hotel=Appartement \"La Rose des Vents\"<br>city=%{text}<br>hotel_latitude=%{lat}<br>hotel_longitude=%{lon}<extra></extra>",
         "lat": [
          43.45489471
         ],
         "legendgroup": "Appartement \"La Rose des Vents\"",
         "lon": [
          4.42973589
         ],
         "marker": {
          "color": "#EF553B",
          "size": 12
         },
         "mode": "markers+text",
         "name": "Appartement \"La Rose des Vents\"",
         "showlegend": true,
         "subplot": "mapbox",
         "text": [
          "Les Saintes-Maries-de-la-Mer"
         ],
         "textfont": {
          "size": 8
         },
         "textposition": "top center",
         "type": "scattermapbox"
        },
        {
         "hovertemplate": "hotel=Lou Mirèio<br>city=%{text}<br>hotel_latitude=%{lat}<br>hotel_longitude=%{lon}<extra></extra>",
         "lat": [
          43.56607498
         ],
         "legendgroup": "Lou Mirèio",
         "lon": [
          4.19257857
         ],
         "marker": {
          "color": "#00cc96",
          "size": 12
         },
         "mode": "markers+text",
         "name": "Lou Mirèio",
         "showlegend": true,
         "subplot": "mapbox",
         "text": [
          "Aigues-Mortes"
         ],
         "textfont": {
          "size": 8
         },
         "textposition": "top center",
         "type": "scattermapbox"
        },
        {
         "hovertemplate": "hotel=La casa Elisa Gîte T2 indépendant<br>city=%{text}<br>hotel_latitude=%{lat}<br>hotel_longitude=%{lon}<extra></extra>",
         "lat": [
          43.75159251
         ],
         "legendgroup": "La casa Elisa Gîte T2 indépendant",
         "lon": [
          5.87857326
         ],
         "marker": {
          "color": "#ab63fa",
          "size": 12
         },
         "mode": "markers+text",
         "name": "La casa Elisa Gîte T2 indépendant",
         "showlegend": true,
         "subplot": "mapbox",
         "text": [
          "Gorges du Verdon"
         ],
         "textfont": {
          "size": 8
         },
         "textposition": "top center",
         "type": "scattermapbox"
        },
        {
         "hovertemplate": "hotel=La Villa Mazarin<br>city=%{text}<br>hotel_latitude=%{lat}<br>hotel_longitude=%{lon}<extra></extra>",
         "lat": [
          43.56498662
         ],
         "legendgroup": "La Villa Mazarin",
         "lon": [
          4.19175196
         ],
         "marker": {
          "color": "#FFA15A",
          "size": 12
         },
         "mode": "markers+text",
         "name": "La Villa Mazarin",
         "showlegend": true,
         "subplot": "mapbox",
         "text": [
          "Aigues-Mortes"
         ],
         "textfont": {
          "size": 8
         },
         "textposition": "top center",
         "type": "scattermapbox"
        },
        {
         "hovertemplate": "hotel=Au coeur de Collioure<br>city=%{text}<br>hotel_latitude=%{lat}<br>hotel_longitude=%{lon}<extra></extra>",
         "lat": [
          42.5273935
         ],
         "legendgroup": "Au coeur de Collioure",
         "lon": [
          3.0847579
         ],
         "marker": {
          "color": "#19d3f3",
          "size": 12
         },
         "mode": "markers+text",
         "name": "Au coeur de Collioure",
         "showlegend": true,
         "subplot": "mapbox",
         "text": [
          "Collioure"
         ],
         "textfont": {
          "size": 8
         },
         "textposition": "top center",
         "type": "scattermapbox"
        },
        {
         "hovertemplate": "hotel=Chambre d'hôte Farniente<br>city=%{text}<br>hotel_latitude=%{lat}<br>hotel_longitude=%{lon}<extra></extra>",
         "lat": [
          43.56761513
         ],
         "legendgroup": "Chambre d'hôte Farniente",
         "lon": [
          4.19335402
         ],
         "marker": {
          "color": "#FF6692",
          "size": 12
         },
         "mode": "markers+text",
         "name": "Chambre d'hôte Farniente",
         "showlegend": true,
         "subplot": "mapbox",
         "text": [
          "Aigues-Mortes"
         ],
         "textfont": {
          "size": 8
         },
         "textposition": "top center",
         "type": "scattermapbox"
        },
        {
         "hovertemplate": "hotel=Studio des Saintes<br>city=%{text}<br>hotel_latitude=%{lat}<br>hotel_longitude=%{lon}<extra></extra>",
         "lat": [
          43.45582205
         ],
         "legendgroup": "Studio des Saintes",
         "lon": [
          4.4296603
         ],
         "marker": {
          "color": "#B6E880",
          "size": 12
         },
         "mode": "markers+text",
         "name": "Studio des Saintes",
         "showlegend": true,
         "subplot": "mapbox",
         "text": [
          "Les Saintes-Maries-de-la-Mer"
         ],
         "textfont": {
          "size": 8
         },
         "textposition": "top center",
         "type": "scattermapbox"
        },
        {
         "hovertemplate": "hotel=Le gite du grand cèdre - proche des gorges du Verdon<br>city=%{text}<br>hotel_latitude=%{lat}<br>hotel_longitude=%{lon}<extra></extra>",
         "lat": [
          43.77929309
         ],
         "legendgroup": "Le gite du grand cèdre - proche des gorges du Verdon",
         "lon": [
          6.00733668
         ],
         "marker": {
          "color": "#FF97FF",
          "size": 12
         },
         "mode": "markers+text",
         "name": "Le gite du grand cèdre - proche des gorges du Verdon",
         "showlegend": true,
         "subplot": "mapbox",
         "text": [
          "Gorges du Verdon"
         ],
         "textfont": {
          "size": 8
         },
         "textposition": "top center",
         "type": "scattermapbox"
        },
        {
         "hovertemplate": "hotel=Les Roches Brunes<br>city=%{text}<br>hotel_latitude=%{lat}<br>hotel_longitude=%{lon}<extra></extra>",
         "lat": [
          42.52534777
         ],
         "legendgroup": "Les Roches Brunes",
         "lon": [
          3.09032446
         ],
         "marker": {
          "color": "#FECB52",
          "size": 12
         },
         "mode": "markers+text",
         "name": "Les Roches Brunes",
         "showlegend": true,
         "subplot": "mapbox",
         "text": [
          "Collioure"
         ],
         "textfont": {
          "size": 8
         },
         "textposition": "top center",
         "type": "scattermapbox"
        },
        {
         "hovertemplate": "hotel=Ô 36 Rempart Sud B&B<br>city=%{text}<br>hotel_latitude=%{lat}<br>hotel_longitude=%{lon}<extra></extra>",
         "lat": [
          43.565764
         ],
         "legendgroup": "Ô 36 Rempart Sud B&B",
         "lon": [
          4.188757
         ],
         "marker": {
          "color": "#636efa",
          "size": 12
         },
         "mode": "markers+text",
         "name": "Ô 36 Rempart Sud B&B",
         "showlegend": true,
         "subplot": "mapbox",
         "text": [
          "Aigues-Mortes"
         ],
         "textfont": {
          "size": 8
         },
         "textposition": "top center",
         "type": "scattermapbox"
        },
        {
         "hovertemplate": "hotel=Appartement nimes centre<br>city=%{text}<br>hotel_latitude=%{lat}<br>hotel_longitude=%{lon}<extra></extra>",
         "lat": [
          43.8390948
         ],
         "legendgroup": "Appartement nimes centre",
         "lon": [
          4.3592829
         ],
         "marker": {
          "color": "#EF553B",
          "size": 12
         },
         "mode": "markers+text",
         "name": "Appartement nimes centre",
         "showlegend": true,
         "subplot": "mapbox",
         "text": [
          "Nîmes"
         ],
         "textfont": {
          "size": 8
         },
         "textposition": "top center",
         "type": "scattermapbox"
        },
        {
         "hovertemplate": "hotel=Appartement de l'olivier<br>city=%{text}<br>hotel_latitude=%{lat}<br>hotel_longitude=%{lon}<extra></extra>",
         "lat": [
          43.45384869
         ],
         "legendgroup": "Appartement de l'olivier",
         "lon": [
          4.42492882
         ],
         "marker": {
          "color": "#00cc96",
          "size": 12
         },
         "mode": "markers+text",
         "name": "Appartement de l'olivier",
         "showlegend": true,
         "subplot": "mapbox",
         "text": [
          "Les Saintes-Maries-de-la-Mer"
         ],
         "textfont": {
          "size": 8
         },
         "textposition": "top center",
         "type": "scattermapbox"
        },
        {
         "hovertemplate": "hotel=La Ferme Rose-Hôtel de Charme<br>city=%{text}<br>hotel_latitude=%{lat}<br>hotel_longitude=%{lon}<extra></extra>",
         "lat": [
          43.83838463
         ],
         "legendgroup": "La Ferme Rose-Hôtel de Charme",
         "lon": [
          6.21520936
         ],
         "marker": {
          "color": "#ab63fa",
          "size": 12
         },
         "mode": "markers+text",
         "name": "La Ferme Rose-Hôtel de Charme",
         "showlegend": true,
         "subplot": "mapbox",
         "text": [
          "Gorges du Verdon"
         ],
         "textfont": {
          "size": 8
         },
         "textposition": "top center",
         "type": "scattermapbox"
        },
        {
         "hovertemplate": "hotel=Studio Centre Plage parking gratuit<br>city=%{text}<br>hotel_latitude=%{lat}<br>hotel_longitude=%{lon}<extra></extra>",
         "lat": [
          42.52298768
         ],
         "legendgroup": "Studio Centre Plage parking gratuit",
         "lon": [
          3.08732966
         ],
         "marker": {
          "color": "#FFA15A",
          "size": 12
         },
         "mode": "markers+text",
         "name": "Studio Centre Plage parking gratuit",
         "showlegend": true,
         "subplot": "mapbox",
         "text": [
          "Collioure"
         ],
         "textfont": {
          "size": 8
         },
         "textposition": "top center",
         "type": "scattermapbox"
        },
        {
         "hovertemplate": "hotel=La Maison de Lyna<br>city=%{text}<br>hotel_latitude=%{lat}<br>hotel_longitude=%{lon}<extra></extra>",
         "lat": [
          43.5660175
         ],
         "legendgroup": "La Maison de Lyna",
         "lon": [
          4.1923532
         ],
         "marker": {
          "color": "#19d3f3",
          "size": 12
         },
         "mode": "markers+text",
         "name": "La Maison de Lyna",
         "showlegend": true,
         "subplot": "mapbox",
         "text": [
          "Aigues-Mortes"
         ],
         "textfont": {
          "size": 8
         },
         "textposition": "top center",
         "type": "scattermapbox"
        },
        {
         "hovertemplate": "hotel=La Clorinde<br>city=%{text}<br>hotel_latitude=%{lat}<br>hotel_longitude=%{lon}<extra></extra>",
         "lat": [
          43.83828039
         ],
         "legendgroup": "La Clorinde",
         "lon": [
          6.22067034
         ],
         "marker": {
          "color": "#FF6692",
          "size": 12
         },
         "mode": "markers+text",
         "name": "La Clorinde",
         "showlegend": true,
         "subplot": "mapbox",
         "text": [
          "Gorges du Verdon"
         ],
         "textfont": {
          "size": 8
         },
         "textposition": "top center",
         "type": "scattermapbox"
        },
        {
         "hovertemplate": "hotel=Les suites du 17<br>city=%{text}<br>hotel_latitude=%{lat}<br>hotel_longitude=%{lon}<extra></extra>",
         "lat": [
          43.566227
         ],
         "legendgroup": "Les suites du 17",
         "lon": [
          4.191121
         ],
         "marker": {
          "color": "#B6E880",
          "size": 12
         },
         "mode": "markers+text",
         "name": "Les suites du 17",
         "showlegend": true,
         "subplot": "mapbox",
         "text": [
          "Aigues-Mortes"
         ],
         "textfont": {
          "size": 8
         },
         "textposition": "top center",
         "type": "scattermapbox"
        },
        {
         "hovertemplate": "hotel=Camping La Ferme de Castellane<br>city=%{text}<br>hotel_latitude=%{lat}<br>hotel_longitude=%{lon}<extra></extra>",
         "lat": [
          43.83862066
         ],
         "legendgroup": "Camping La Ferme de Castellane",
         "lon": [
          6.54142499
         ],
         "marker": {
          "color": "#FF97FF",
          "size": 12
         },
         "mode": "markers+text",
         "name": "Camping La Ferme de Castellane",
         "showlegend": true,
         "subplot": "mapbox",
         "text": [
          "Gorges du Verdon"
         ],
         "textfont": {
          "size": 8
         },
         "textposition": "top center",
         "type": "scattermapbox"
        },
        {
         "hovertemplate": "hotel=Mas Des Salicornes<br>city=%{text}<br>hotel_latitude=%{lat}<br>hotel_longitude=%{lon}<extra></extra>",
         "lat": [
          43.45687142
         ],
         "legendgroup": "Mas Des Salicornes",
         "lon": [
          4.42617595
         ],
         "marker": {
          "color": "#FECB52",
          "size": 12
         },
         "mode": "markers+text",
         "name": "Mas Des Salicornes",
         "showlegend": true,
         "subplot": "mapbox",
         "text": [
          "Les Saintes-Maries-de-la-Mer"
         ],
         "textfont": {
          "size": 8
         },
         "textposition": "top center",
         "type": "scattermapbox"
        }
       ],
       "layout": {
        "legend": {
         "title": {
          "text": "hotel"
         },
         "tracegroupgap": 0
        },
        "mapbox": {
         "center": {
          "lat": 43.462225906499995,
          "lon": 4.576914962999999
         },
         "domain": {
          "x": [
           0,
           1
          ],
          "y": [
           0,
           1
          ]
         },
         "style": "carto-positron",
         "zoom": 6
        },
        "template": {
         "data": {
          "bar": [
           {
            "error_x": {
             "color": "#2a3f5f"
            },
            "error_y": {
             "color": "#2a3f5f"
            },
            "marker": {
             "line": {
              "color": "#E5ECF6",
              "width": 0.5
             },
             "pattern": {
              "fillmode": "overlay",
              "size": 10,
              "solidity": 0.2
             }
            },
            "type": "bar"
           }
          ],
          "barpolar": [
           {
            "marker": {
             "line": {
              "color": "#E5ECF6",
              "width": 0.5
             },
             "pattern": {
              "fillmode": "overlay",
              "size": 10,
              "solidity": 0.2
             }
            },
            "type": "barpolar"
           }
          ],
          "carpet": [
           {
            "aaxis": {
             "endlinecolor": "#2a3f5f",
             "gridcolor": "white",
             "linecolor": "white",
             "minorgridcolor": "white",
             "startlinecolor": "#2a3f5f"
            },
            "baxis": {
             "endlinecolor": "#2a3f5f",
             "gridcolor": "white",
             "linecolor": "white",
             "minorgridcolor": "white",
             "startlinecolor": "#2a3f5f"
            },
            "type": "carpet"
           }
          ],
          "choropleth": [
           {
            "colorbar": {
             "outlinewidth": 0,
             "ticks": ""
            },
            "type": "choropleth"
           }
          ],
          "contour": [
           {
            "colorbar": {
             "outlinewidth": 0,
             "ticks": ""
            },
            "colorscale": [
             [
              0,
              "#0d0887"
             ],
             [
              0.1111111111111111,
              "#46039f"
             ],
             [
              0.2222222222222222,
              "#7201a8"
             ],
             [
              0.3333333333333333,
              "#9c179e"
             ],
             [
              0.4444444444444444,
              "#bd3786"
             ],
             [
              0.5555555555555556,
              "#d8576b"
             ],
             [
              0.6666666666666666,
              "#ed7953"
             ],
             [
              0.7777777777777778,
              "#fb9f3a"
             ],
             [
              0.8888888888888888,
              "#fdca26"
             ],
             [
              1,
              "#f0f921"
             ]
            ],
            "type": "contour"
           }
          ],
          "contourcarpet": [
           {
            "colorbar": {
             "outlinewidth": 0,
             "ticks": ""
            },
            "type": "contourcarpet"
           }
          ],
          "heatmap": [
           {
            "colorbar": {
             "outlinewidth": 0,
             "ticks": ""
            },
            "colorscale": [
             [
              0,
              "#0d0887"
             ],
             [
              0.1111111111111111,
              "#46039f"
             ],
             [
              0.2222222222222222,
              "#7201a8"
             ],
             [
              0.3333333333333333,
              "#9c179e"
             ],
             [
              0.4444444444444444,
              "#bd3786"
             ],
             [
              0.5555555555555556,
              "#d8576b"
             ],
             [
              0.6666666666666666,
              "#ed7953"
             ],
             [
              0.7777777777777778,
              "#fb9f3a"
             ],
             [
              0.8888888888888888,
              "#fdca26"
             ],
             [
              1,
              "#f0f921"
             ]
            ],
            "type": "heatmap"
           }
          ],
          "heatmapgl": [
           {
            "colorbar": {
             "outlinewidth": 0,
             "ticks": ""
            },
            "colorscale": [
             [
              0,
              "#0d0887"
             ],
             [
              0.1111111111111111,
              "#46039f"
             ],
             [
              0.2222222222222222,
              "#7201a8"
             ],
             [
              0.3333333333333333,
              "#9c179e"
             ],
             [
              0.4444444444444444,
              "#bd3786"
             ],
             [
              0.5555555555555556,
              "#d8576b"
             ],
             [
              0.6666666666666666,
              "#ed7953"
             ],
             [
              0.7777777777777778,
              "#fb9f3a"
             ],
             [
              0.8888888888888888,
              "#fdca26"
             ],
             [
              1,
              "#f0f921"
             ]
            ],
            "type": "heatmapgl"
           }
          ],
          "histogram": [
           {
            "marker": {
             "pattern": {
              "fillmode": "overlay",
              "size": 10,
              "solidity": 0.2
             }
            },
            "type": "histogram"
           }
          ],
          "histogram2d": [
           {
            "colorbar": {
             "outlinewidth": 0,
             "ticks": ""
            },
            "colorscale": [
             [
              0,
              "#0d0887"
             ],
             [
              0.1111111111111111,
              "#46039f"
             ],
             [
              0.2222222222222222,
              "#7201a8"
             ],
             [
              0.3333333333333333,
              "#9c179e"
             ],
             [
              0.4444444444444444,
              "#bd3786"
             ],
             [
              0.5555555555555556,
              "#d8576b"
             ],
             [
              0.6666666666666666,
              "#ed7953"
             ],
             [
              0.7777777777777778,
              "#fb9f3a"
             ],
             [
              0.8888888888888888,
              "#fdca26"
             ],
             [
              1,
              "#f0f921"
             ]
            ],
            "type": "histogram2d"
           }
          ],
          "histogram2dcontour": [
           {
            "colorbar": {
             "outlinewidth": 0,
             "ticks": ""
            },
            "colorscale": [
             [
              0,
              "#0d0887"
             ],
             [
              0.1111111111111111,
              "#46039f"
             ],
             [
              0.2222222222222222,
              "#7201a8"
             ],
             [
              0.3333333333333333,
              "#9c179e"
             ],
             [
              0.4444444444444444,
              "#bd3786"
             ],
             [
              0.5555555555555556,
              "#d8576b"
             ],
             [
              0.6666666666666666,
              "#ed7953"
             ],
             [
              0.7777777777777778,
              "#fb9f3a"
             ],
             [
              0.8888888888888888,
              "#fdca26"
             ],
             [
              1,
              "#f0f921"
             ]
            ],
            "type": "histogram2dcontour"
           }
          ],
          "mesh3d": [
           {
            "colorbar": {
             "outlinewidth": 0,
             "ticks": ""
            },
            "type": "mesh3d"
           }
          ],
          "parcoords": [
           {
            "line": {
             "colorbar": {
              "outlinewidth": 0,
              "ticks": ""
             }
            },
            "type": "parcoords"
           }
          ],
          "pie": [
           {
            "automargin": true,
            "type": "pie"
           }
          ],
          "scatter": [
           {
            "fillpattern": {
             "fillmode": "overlay",
             "size": 10,
             "solidity": 0.2
            },
            "type": "scatter"
           }
          ],
          "scatter3d": [
           {
            "line": {
             "colorbar": {
              "outlinewidth": 0,
              "ticks": ""
             }
            },
            "marker": {
             "colorbar": {
              "outlinewidth": 0,
              "ticks": ""
             }
            },
            "type": "scatter3d"
           }
          ],
          "scattercarpet": [
           {
            "marker": {
             "colorbar": {
              "outlinewidth": 0,
              "ticks": ""
             }
            },
            "type": "scattercarpet"
           }
          ],
          "scattergeo": [
           {
            "marker": {
             "colorbar": {
              "outlinewidth": 0,
              "ticks": ""
             }
            },
            "type": "scattergeo"
           }
          ],
          "scattergl": [
           {
            "marker": {
             "colorbar": {
              "outlinewidth": 0,
              "ticks": ""
             }
            },
            "type": "scattergl"
           }
          ],
          "scattermapbox": [
           {
            "marker": {
             "colorbar": {
              "outlinewidth": 0,
              "ticks": ""
             }
            },
            "type": "scattermapbox"
           }
          ],
          "scatterpolar": [
           {
            "marker": {
             "colorbar": {
              "outlinewidth": 0,
              "ticks": ""
             }
            },
            "type": "scatterpolar"
           }
          ],
          "scatterpolargl": [
           {
            "marker": {
             "colorbar": {
              "outlinewidth": 0,
              "ticks": ""
             }
            },
            "type": "scatterpolargl"
           }
          ],
          "scatterternary": [
           {
            "marker": {
             "colorbar": {
              "outlinewidth": 0,
              "ticks": ""
             }
            },
            "type": "scatterternary"
           }
          ],
          "surface": [
           {
            "colorbar": {
             "outlinewidth": 0,
             "ticks": ""
            },
            "colorscale": [
             [
              0,
              "#0d0887"
             ],
             [
              0.1111111111111111,
              "#46039f"
             ],
             [
              0.2222222222222222,
              "#7201a8"
             ],
             [
              0.3333333333333333,
              "#9c179e"
             ],
             [
              0.4444444444444444,
              "#bd3786"
             ],
             [
              0.5555555555555556,
              "#d8576b"
             ],
             [
              0.6666666666666666,
              "#ed7953"
             ],
             [
              0.7777777777777778,
              "#fb9f3a"
             ],
             [
              0.8888888888888888,
              "#fdca26"
             ],
             [
              1,
              "#f0f921"
             ]
            ],
            "type": "surface"
           }
          ],
          "table": [
           {
            "cells": {
             "fill": {
              "color": "#EBF0F8"
             },
             "line": {
              "color": "white"
             }
            },
            "header": {
             "fill": {
              "color": "#C8D4E3"
             },
             "line": {
              "color": "white"
             }
            },
            "type": "table"
           }
          ]
         },
         "layout": {
          "annotationdefaults": {
           "arrowcolor": "#2a3f5f",
           "arrowhead": 0,
           "arrowwidth": 1
          },
          "autotypenumbers": "strict",
          "coloraxis": {
           "colorbar": {
            "outlinewidth": 0,
            "ticks": ""
           }
          },
          "colorscale": {
           "diverging": [
            [
             0,
             "#8e0152"
            ],
            [
             0.1,
             "#c51b7d"
            ],
            [
             0.2,
             "#de77ae"
            ],
            [
             0.3,
             "#f1b6da"
            ],
            [
             0.4,
             "#fde0ef"
            ],
            [
             0.5,
             "#f7f7f7"
            ],
            [
             0.6,
             "#e6f5d0"
            ],
            [
             0.7,
             "#b8e186"
            ],
            [
             0.8,
             "#7fbc41"
            ],
            [
             0.9,
             "#4d9221"
            ],
            [
             1,
             "#276419"
            ]
           ],
           "sequential": [
            [
             0,
             "#0d0887"
            ],
            [
             0.1111111111111111,
             "#46039f"
            ],
            [
             0.2222222222222222,
             "#7201a8"
            ],
            [
             0.3333333333333333,
             "#9c179e"
            ],
            [
             0.4444444444444444,
             "#bd3786"
            ],
            [
             0.5555555555555556,
             "#d8576b"
            ],
            [
             0.6666666666666666,
             "#ed7953"
            ],
            [
             0.7777777777777778,
             "#fb9f3a"
            ],
            [
             0.8888888888888888,
             "#fdca26"
            ],
            [
             1,
             "#f0f921"
            ]
           ],
           "sequentialminus": [
            [
             0,
             "#0d0887"
            ],
            [
             0.1111111111111111,
             "#46039f"
            ],
            [
             0.2222222222222222,
             "#7201a8"
            ],
            [
             0.3333333333333333,
             "#9c179e"
            ],
            [
             0.4444444444444444,
             "#bd3786"
            ],
            [
             0.5555555555555556,
             "#d8576b"
            ],
            [
             0.6666666666666666,
             "#ed7953"
            ],
            [
             0.7777777777777778,
             "#fb9f3a"
            ],
            [
             0.8888888888888888,
             "#fdca26"
            ],
            [
             1,
             "#f0f921"
            ]
           ]
          },
          "colorway": [
           "#636efa",
           "#EF553B",
           "#00cc96",
           "#ab63fa",
           "#FFA15A",
           "#19d3f3",
           "#FF6692",
           "#B6E880",
           "#FF97FF",
           "#FECB52"
          ],
          "font": {
           "color": "#2a3f5f"
          },
          "geo": {
           "bgcolor": "white",
           "lakecolor": "white",
           "landcolor": "#E5ECF6",
           "showlakes": true,
           "showland": true,
           "subunitcolor": "white"
          },
          "hoverlabel": {
           "align": "left"
          },
          "hovermode": "closest",
          "mapbox": {
           "style": "light"
          },
          "paper_bgcolor": "white",
          "plot_bgcolor": "#E5ECF6",
          "polar": {
           "angularaxis": {
            "gridcolor": "white",
            "linecolor": "white",
            "ticks": ""
           },
           "bgcolor": "#E5ECF6",
           "radialaxis": {
            "gridcolor": "white",
            "linecolor": "white",
            "ticks": ""
           }
          },
          "scene": {
           "xaxis": {
            "backgroundcolor": "#E5ECF6",
            "gridcolor": "white",
            "gridwidth": 2,
            "linecolor": "white",
            "showbackground": true,
            "ticks": "",
            "zerolinecolor": "white"
           },
           "yaxis": {
            "backgroundcolor": "#E5ECF6",
            "gridcolor": "white",
            "gridwidth": 2,
            "linecolor": "white",
            "showbackground": true,
            "ticks": "",
            "zerolinecolor": "white"
           },
           "zaxis": {
            "backgroundcolor": "#E5ECF6",
            "gridcolor": "white",
            "gridwidth": 2,
            "linecolor": "white",
            "showbackground": true,
            "ticks": "",
            "zerolinecolor": "white"
           }
          },
          "shapedefaults": {
           "line": {
            "color": "#2a3f5f"
           }
          },
          "ternary": {
           "aaxis": {
            "gridcolor": "white",
            "linecolor": "white",
            "ticks": ""
           },
           "baxis": {
            "gridcolor": "white",
            "linecolor": "white",
            "ticks": ""
           },
           "bgcolor": "#E5ECF6",
           "caxis": {
            "gridcolor": "white",
            "linecolor": "white",
            "ticks": ""
           }
          },
          "title": {
           "x": 0.05
          },
          "xaxis": {
           "automargin": true,
           "gridcolor": "white",
           "linecolor": "white",
           "ticks": "",
           "title": {
            "standoff": 15
           },
           "zerolinecolor": "white",
           "zerolinewidth": 2
          },
          "yaxis": {
           "automargin": true,
           "gridcolor": "white",
           "linecolor": "white",
           "ticks": "",
           "title": {
            "standoff": 15
           },
           "zerolinecolor": "white",
           "zerolinewidth": 2
          }
         }
        },
        "title": {
         "text": "Top 20 Rated Hotels within the Top 5 Destinations"
        }
       }
      }
     },
     "metadata": {},
     "output_type": "display_data"
    }
   ],
   "source": [
    "fig = px.scatter_mapbox(\n",
    "    top_20_hotels,\n",
    "    lat=\"hotel_latitude\",\n",
    "    lon=\"hotel_longitude\",\n",
    "    text=\"city\",\n",
    "    color=\"hotel\",  # Assign a unique color per hotel\n",
    "    zoom=6,\n",
    "    mapbox_style=\"carto-positron\",\n",
    "    title=\"Top 20 Rated Hotels within the Top 5 Destinations\"\n",
    ")\n",
    "fig.update_traces(marker=dict(size=12))  \n",
    "fig.update_traces(textposition=\"top center\", textfont=dict(size=8))\n",
    "fig.show()"
   ]
  }
 ],
 "metadata": {
  "kernelspec": {
   "display_name": "base",
   "language": "python",
   "name": "python3"
  },
  "language_info": {
   "codemirror_mode": {
    "name": "ipython",
    "version": 3
   },
   "file_extension": ".py",
   "mimetype": "text/x-python",
   "name": "python",
   "nbconvert_exporter": "python",
   "pygments_lexer": "ipython3",
   "version": "3.11.8"
  }
 },
 "nbformat": 4,
 "nbformat_minor": 2
}
